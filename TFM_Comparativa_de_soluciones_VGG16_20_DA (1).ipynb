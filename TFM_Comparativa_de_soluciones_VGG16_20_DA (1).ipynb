{
  "cells": [
    {
      "cell_type": "markdown",
      "metadata": {
        "id": "FfiByxcaEeMf"
      },
      "source": [
        "# Montar las carpetas de google drive.\n",
        "# Create environment in Google drive"
      ]
    },
    {
      "cell_type": "code",
      "execution_count": 1,
      "metadata": {
        "colab": {
          "base_uri": "https://localhost:8080/"
        },
        "id": "yJdT2r8jEWx3",
        "outputId": "90d50637-ca27-4b23-96d8-0c0b24ff038a"
      },
      "outputs": [
        {
          "output_type": "stream",
          "name": "stdout",
          "text": [
            "Drive already mounted at /content/drive; to attempt to forcibly remount, call drive.mount(\"/content/drive\", force_remount=True).\n"
          ]
        }
      ],
      "source": [
        "from google.colab import drive\n",
        "drive.mount('/content/drive')\n",
        "#drive.mount(\"/content/drive\", force_remount=True)"
      ]
    },
    {
      "cell_type": "code",
      "execution_count": 2,
      "metadata": {
        "colab": {
          "base_uri": "https://localhost:8080/"
        },
        "id": "ZtRrMQCsEhE0",
        "outputId": "0c4fa5ad-8dcd-4fab-fe7d-e8ff38dee2fe"
      },
      "outputs": [
        {
          "output_type": "stream",
          "name": "stdout",
          "text": [
            "/content/drive/MyDrive/TFM Comparativa Soluciones\n"
          ]
        }
      ],
      "source": [
        "#Move to google drive environment\n",
        "%cd /content/drive/MyDrive/TFM Comparativa Soluciones"
      ]
    },
    {
      "cell_type": "code",
      "execution_count": 3,
      "metadata": {
        "id": "7MT18vMzFq8p"
      },
      "outputs": [],
      "source": [
        "#!unzip train.zip"
      ]
    },
    {
      "cell_type": "markdown",
      "metadata": {
        "id": "uozSdycfEnXr"
      },
      "source": [
        "# Funciones para ejecutar el código"
      ]
    },
    {
      "cell_type": "code",
      "execution_count": 3,
      "metadata": {
        "id": "l4pU6DPAEn_c"
      },
      "outputs": [],
      "source": [
        "# Ignore  the warnings\n",
        "import warnings\n",
        "warnings.filterwarnings('always')\n",
        "warnings.filterwarnings('ignore')"
      ]
    },
    {
      "cell_type": "code",
      "execution_count": 4,
      "metadata": {
        "id": "_YhtLGKnEqpD"
      },
      "outputs": [],
      "source": [
        "import numpy as np # linear algebra\n",
        "import pandas as pd # data processing, CSV file I/O (e.g. pd.read_csv)\n",
        "\n",
        "import os\n",
        "from skimage import io\n",
        "\n",
        "#!pip install efficientnet_pytorch torchtoolbox\n",
        "import copy\n",
        "\n",
        "import torch\n",
        "import torch.nn as nn\n",
        "import torch.nn.functional as F\n",
        "import torch.optim as optim\n",
        "from torch.utils.data import Dataset, DataLoader, random_split\n",
        "#import torchtoolbox.transform as transforms\n",
        "\n",
        "import torchvision\n",
        "from torchvision import datasets, models, transforms\n",
        "\n",
        "from sklearn.metrics import accuracy_score, roc_auc_score\n",
        "from sklearn.model_selection import StratifiedKFold, GroupKFold\n",
        "import gc\n",
        "import cv2\n",
        "import time\n",
        "import datetime\n",
        "import warnings\n",
        "import random\n",
        "import matplotlib.pyplot as plt\n",
        "import seaborn as sns\n",
        "from tqdm import tqdm\n",
        "%matplotlib inline\n",
        "\n",
        "from PIL import Image\n",
        "from IPython.display import FileLink \n",
        "\n",
        "from sklearn.metrics import accuracy_score\n",
        "from sklearn.metrics import precision_score\n",
        "from sklearn.metrics import recall_score\n",
        "from sklearn.metrics import confusion_matrix\n",
        "from sklearn.metrics import f1_score\n",
        "\n",
        "import seaborn as sns\n",
        "import matplotlib.pyplot as pl\n",
        "\n",
        "device = torch.device(\"cuda:0\" if torch.cuda.is_available() else \"cpu\")"
      ]
    },
    {
      "cell_type": "code",
      "execution_count": 5,
      "metadata": {
        "id": "Rh4MZFZMEsGD"
      },
      "outputs": [],
      "source": [
        "def make_CNN(model_name, num_classes):\n",
        "    # Initialize these variables which will be set in this if statement. Each of these\n",
        "    # variables is model specific.\n",
        "    # The model (nn.Module) to return\n",
        "    model_ft = None\n",
        "    # The input image is expected to be (input_size, input_size)\n",
        "    input_size = 0\n",
        "    \n",
        "    # You may NOT use pretrained models!! \n",
        "    use_pretrained = False\n",
        "    \n",
        "    # By default, all parameters will be trained (useful when you're starting from scratch)\n",
        "    # Within this function you can set .requires_grad = False for various parameters, if you don't want to learn them\n",
        "\n",
        "    if model_name == \"resnet\":\n",
        "        \"\"\" Resnet18\n",
        "        \"\"\"\n",
        "        model_ft = models.resnet18(pretrained=use_pretrained)\n",
        "        num_ftrs = model_ft.fc.in_features\n",
        "        model_ft.fc = nn.Linear(num_ftrs, 1)\n",
        "        input_size = 224\n",
        "        \n",
        "    elif model_name == \"vgg16\":\n",
        "        \"\"\" VGG16_bn\n",
        "        \"\"\"\n",
        "        model_ft = models.vgg16_bn(pretrained=use_pretrained)\n",
        "        num_ftrs = model_ft.classifier[6].in_features\n",
        "        model_ft.classifier[6] = nn.Linear(num_ftrs, 1)\n",
        "        input_size = 224\n",
        "\n",
        "    elif model_name == \"squeezenet\":\n",
        "        \"\"\" Squeezenet\n",
        "        \"\"\"\n",
        "        model_ft = models.squeezenet1_0(pretrained=use_pretrained)\n",
        "        model_ft.classifier[1] = nn.Conv2d(512, 1, kernel_size=(1,1), stride=(1,1))\n",
        "        model_ft.num_classes = num_classes\n",
        "        input_size = 224\n",
        "\n",
        "    elif model_name == \"densenet\":\n",
        "        \"\"\" Densenet\n",
        "        \"\"\"\n",
        "        model_ft = models.densenet121(pretrained=use_pretrained)\n",
        "        num_ftrs = model_ft.classifier.in_features\n",
        "        model_ft.classifier = nn.Linear(num_ftrs, 1)\n",
        "        input_size = 224\n",
        "        \n",
        "    else:\n",
        "        raise Exception(\"Invalid model name!\")\n",
        "    \n",
        "    return model_ft, input_size"
      ]
    },
    {
      "cell_type": "code",
      "execution_count": 6,
      "metadata": {
        "id": "UqXeziOvEt1z"
      },
      "outputs": [],
      "source": [
        "class Melanoma_Net(nn.Module):\n",
        "    \"\"\"\n",
        "    fc1: number of neurons in the hidden fully connected layer\n",
        "    \"\"\"\n",
        "    def __init__(self, cnn_model_name, num_classes, num_multimodal_features=9, fc1_out=32):\n",
        "        #num_classes = 1\n",
        "        #num_multimodal_features= 9\n",
        "        super(Melanoma_Net, self).__init__()\n",
        "        self.cnn, self.input_size = make_CNN(cnn_model_name, num_classes)#models.vgg11(pretrained=False, progress = True)\n",
        "        #define output layers\n",
        "        self.fc1 = nn.Linear(num_classes + num_multimodal_features, fc1_out) #takes in input of CNN and multimodal input\n",
        "        self.fc2 = nn.Linear(fc1_out, num_classes)\n",
        "        \n",
        "    def forward(self, image, data):\n",
        "        x1 = self.cnn(image)\n",
        "        #print(\"x1\", x1.shape)\n",
        "        x2 = data\n",
        "        #print(\"x2\", x2.shape)\n",
        "        #print(\"x1: \", x1, type(x1))\n",
        "        #print(\"x2: \", x2, type(x2))\n",
        "        #x = torch.cat((x1, x2), dim=1)  \n",
        "        x = torch.cat((x1.float(), x2.float()), dim=1) ### ???\n",
        "\n",
        "        #print(\"concat\", x.shape)\n",
        "        x = F.relu(self.fc1(x))\n",
        "        #print(\"relu\", x.shape)\n",
        "        x = self.fc2(x)\n",
        "        #print('forward output: ', x)\n",
        "        #print(\"fc2\", x.shape)\n",
        "        return x.double() ### ???"
      ]
    },
    {
      "cell_type": "code",
      "execution_count": 7,
      "metadata": {
        "id": "wHSqrhAwEvmy"
      },
      "outputs": [],
      "source": [
        "class AdvancedHairAugmentation:\n",
        "    \"\"\"\n",
        "    Impose an image of a hair to the target image\n",
        "\n",
        "    Args:\n",
        "        hairs (int): maximum number of hairs to impose\n",
        "        hairs_folder (str): path to the folder with hairs images\n",
        "    \"\"\"\n",
        "\n",
        "    def __init__(self, hairs: int = 5, hairs_folder: str = \"\"):\n",
        "        self.hairs = hairs\n",
        "        self.hairs_folder = hairs_folder\n",
        "\n",
        "    def __call__(self, img_path):\n",
        "        \"\"\"\n",
        "        Args:\n",
        "            img (PIL Image): Image to draw hairs on.\n",
        "\n",
        "        Returns:\n",
        "            PIL Image: Image with drawn hairs.\n",
        "        \"\"\"\n",
        "        img = cv2.imread(img_path)\n",
        "        n_hairs = random.randint(1, self.hairs)\n",
        "        \n",
        "        if not n_hairs:\n",
        "            return img\n",
        "        \n",
        "        height, width, _ = img.shape  # target image width and height\n",
        "        hair_images = [im for im in os.listdir(self.hairs_folder) if 'png' in im]\n",
        "        \n",
        "        for _ in range(n_hairs):\n",
        "            hair = cv2.imread(os.path.join(self.hairs_folder, random.choice(hair_images)))\n",
        "            hair = cv2.flip(hair, random.choice([-1, 0, 1]))\n",
        "            hair = cv2.rotate(hair, random.choice([0, 1, 2]))\n",
        "\n",
        "            h_height, h_width, _ = hair.shape  # hair image width and height\n",
        "            roi_ho = random.randint(0, img.shape[0] - hair.shape[0])\n",
        "            roi_wo = random.randint(0, img.shape[1] - hair.shape[1])\n",
        "            roi = img[roi_ho:roi_ho + h_height, roi_wo:roi_wo + h_width]\n",
        "\n",
        "            # Creating a mask and inverse mask\n",
        "            img2gray = cv2.cvtColor(hair, cv2.COLOR_BGR2GRAY)\n",
        "            ret, mask = cv2.threshold(img2gray, 10, 255, cv2.THRESH_BINARY)\n",
        "            mask_inv = cv2.bitwise_not(mask)\n",
        "\n",
        "            # Now black-out the area of hair in ROI\n",
        "            img_bg = cv2.bitwise_and(roi, roi, mask=mask_inv)\n",
        "\n",
        "            # Take only region of hair from hair image.\n",
        "            hair_fg = cv2.bitwise_and(hair, hair, mask=mask)\n",
        "\n",
        "            # Put hair in ROI and modify the target image\n",
        "            dst = cv2.add(img_bg, hair_fg)\n",
        "\n",
        "            img[roi_ho:roi_ho + h_height, roi_wo:roi_wo + h_width] = dst\n",
        "        img = cv2.cvtColor(img, cv2.COLOR_BGR2RGB) #converts image color back to regular color (instead of producing blue tinted image)        \n",
        "        return img\n",
        "\n",
        "    def __repr__(self):\n",
        "        return f'{self.__class__.__name__}(hairs={self.hairs}, hairs_folder=\"{self.hairs_folder}\")'"
      ]
    },
    {
      "cell_type": "code",
      "execution_count": 8,
      "metadata": {
        "id": "lzcjOsejExdM"
      },
      "outputs": [],
      "source": [
        "class MultimodalDataset(Dataset):\n",
        "    \"\"\"\n",
        "    Custom dataset definition\n",
        "    \"\"\"\n",
        "    def __init__(self, csv_path, img_path, mode='train', transform=None):\n",
        "        \"\"\"\n",
        "        \"\"\"\n",
        "        self.df = pd.read_csv(csv_path)\n",
        "        self.img_path = img_path\n",
        "        self.mode= mode\n",
        "        self.transform = transform\n",
        "        \n",
        "            \n",
        "    def __getitem__(self, index):\n",
        "        \"\"\"\n",
        "        \"\"\"\n",
        "        img_name = self.df.iloc[index][\"image_name\"] + \".jpg\"\n",
        "        img_path = os.path.join(self.img_path, img_name)\n",
        "        image = Image.open(img_path)\n",
        "\n",
        "        dtype = torch.cuda.FloatTensor if torch.cuda.is_available() else torch.FloatTensor # ???\n",
        "        \n",
        "        if self.mode == 'train':\n",
        "            #augments malignant images with hair twice\n",
        "            if self.df.iloc[index][\"augmented\"]==1:\n",
        "                image = AdvancedHairAugmentation(hairs_folder=\"melanoma_hairs\")(img_path)\n",
        "                image = Image.fromarray(image, 'RGB')\n",
        "            elif self.df.iloc[index][\"augmented\"]==2:\n",
        "                image = AdvancedHairAugmentation(hairs_folder=\"melanoma_hairs\")(img_path)\n",
        "                image = Image.fromarray(image, 'RGB')\n",
        "            else:  \n",
        "                image = image.convert(\"RGB\")\n",
        "                \n",
        "            image = np.asarray(image)\n",
        "            if self.transform is not None:\n",
        "                image = self.transform(image)\n",
        "            labels = torch.tensor(self.df.iloc[index][\"target\"], dtype = torch.float64)\n",
        "            \n",
        "            features = np.fromstring(self.df.iloc[index][\"features\"][1:-1], sep=\",\") #turns features into an array            \n",
        "            features = torch.from_numpy(features.astype(\"float\")) #turns the features array into a vector\n",
        "            return image, features, labels\n",
        "            \n",
        "        elif self.mode == 'val':\n",
        "            image = np.asarray(image)\n",
        "            if self.transform is not None:\n",
        "                image = self.transform(image)\n",
        "            labels = torch.tensor(self.df.iloc[index][\"target\"], dtype = torch.float64)\n",
        "            \n",
        "            features = np.fromstring(self.df.iloc[index][\"features\"][1:-1], sep=\",\") #turns features into an array\n",
        "            features = torch.from_numpy(features.astype(\"float\")) #turns the features array into a vector\n",
        "            return image, features, labels\n",
        "        \n",
        "        else: #when self.mode=='test'\n",
        "            image = np.asarray(image)\n",
        "            if self.transform is not None:\n",
        "                image = self.transform(image)\n",
        "            features = np.fromstring(self.df.iloc[index][\"features\"][1:-1], sep=\",\") #turns features into an array\n",
        "            features = torch.from_numpy(features.astype(\"float\")) #turns the features array into a vector\n",
        "            return image, features, self.df.iloc[index][\"image_name\"]\n",
        "\n",
        "    def __len__(self):\n",
        "        return len(self.df)"
      ]
    },
    {
      "cell_type": "code",
      "execution_count": 9,
      "metadata": {
        "id": "_yvA5Cm3EzF8"
      },
      "outputs": [],
      "source": [
        "image_path_dict = {'train': \"train\",\n",
        "                  'val': \"train\" ,\n",
        "                  'test': \"train\"}\n",
        "dataframes_path = 'melanoma_without_duplicates_separated/'"
      ]
    },
    {
      "cell_type": "code",
      "execution_count": 10,
      "metadata": {
        "id": "86cb-nEgE01M"
      },
      "outputs": [],
      "source": [
        "class FocalLoss(nn.Module):\n",
        "    def __init__(self, alpha=0.25, gamma=2.0, logits=False, reduce=True):\n",
        "        super(FocalLoss, self).__init__()\n",
        "        self.alpha = alpha\n",
        "        self.gamma = gamma\n",
        "        self.logits = logits\n",
        "        self.reduce = reduce\n",
        "\n",
        "    def forward(self, inputs, targets):\n",
        "        if self.logits:\n",
        "            BCE_loss = F.binary_cross_entropy_with_logits(inputs, targets, reduce=False)\n",
        "        else:\n",
        "            BCE_loss = F.binary_cross_entropy(inputs, targets, reduce=False)\n",
        "        pt = torch.exp(-BCE_loss)\n",
        "        F_loss = self.alpha * (1-pt)**self.gamma * BCE_loss\n",
        "\n",
        "        if self.reduce:\n",
        "            return torch.mean(F_loss)\n",
        "        else:\n",
        "            return F_loss"
      ]
    },
    {
      "cell_type": "code",
      "execution_count": 11,
      "metadata": {
        "id": "iV-wO75xE2a8"
      },
      "outputs": [],
      "source": [
        "def make_optimizer(model):\n",
        "    #Get all the parameters\n",
        "    params_to_update = model.parameters()\n",
        "    print(\"Params to learn:\")\n",
        "    for name, param in model.named_parameters():\n",
        "        if param.requires_grad == True:\n",
        "            print(\"\\t\",name)\n",
        "\n",
        "    #Use SGD\n",
        "    optimizer = optim.SGD(params_to_update, lr=0.01, momentum=0.9)\n",
        "    return optimizer\n",
        "\n",
        " \n",
        "def get_loss(num_classes,device):\n",
        "    # Create an instance of the loss function\n",
        "    # We could set weights to account for unbalanced data but we have augmented the data to be even in benign count and malignant count\n",
        "    \n",
        "    #pos_weight = torch.tensor(np.ones(num_classes))\n",
        "    #pos_weight = pos_weight.to(device)\n",
        "    criterion = nn.BCEWithLogitsLoss()\n",
        "    \n",
        "    #criterion = FocalLoss()\n",
        "    return criterion"
      ]
    },
    {
      "cell_type": "code",
      "execution_count": 12,
      "metadata": {
        "id": "r8gSW8f1E4El"
      },
      "outputs": [],
      "source": [
        "def get_dataloaders(input_size, batch_size, augment=False, shuffle = True):\n",
        "    # How to transform the image when you are loading them.\n",
        "    # you'll likely want to mess with the transforms on the training set.\n",
        "    \n",
        "    # For now, we resize/crop the image to the correct input size for our network,\n",
        "    # then convert it to a [C,H,W] tensor, then normalize it to values with a given mean/stdev. These normalization constants\n",
        "    # are derived from aggregating lots of data and happen to produce better results.\n",
        "    data_transforms = {\n",
        "        'train': transforms.Compose([\n",
        "            transforms.ToPILImage(),\n",
        "            transforms.RandomHorizontalFlip(),\n",
        "            transforms.RandomRotation(20),\n",
        "            transforms.Resize(input_size),\n",
        "            transforms.CenterCrop(input_size),\n",
        "            transforms.ToTensor(),\n",
        "            transforms.Normalize([0.5], [0.225])\n",
        "        ]),\n",
        "        'val': transforms.Compose([\n",
        "            transforms.ToPILImage(),\n",
        "            transforms.Resize(input_size),\n",
        "            transforms.CenterCrop(input_size),\n",
        "            transforms.ToTensor(),\n",
        "            transforms.Normalize([0.5], [0.225])\n",
        "        ]),\n",
        "        'test': transforms.Compose([\n",
        "            transforms.ToPILImage(),\n",
        "            transforms.Resize(input_size),\n",
        "            transforms.CenterCrop(input_size),\n",
        "            transforms.ToTensor(),\n",
        "            transforms.Normalize([0.5], [0.225])\n",
        "        ])\n",
        "    }\n",
        "    # Create training and validation datasets\n",
        "    data_subsets = {x: MultimodalDataset(csv_path=dataframes_path + x + \".csv\", \n",
        "                                         img_path = image_path_dict[x],\n",
        "                                         mode = x,\n",
        "                                         transform=data_transforms[x]) for x in data_transforms.keys()}\n",
        "    \n",
        "    # Create training and validation dataloaders\n",
        "    # Never shuffle the test set\n",
        "    dataloaders_dict = {x: DataLoader(data_subsets[x], batch_size=batch_size, shuffle=False if x != 'train' else shuffle, num_workers=4) for x in data_transforms.keys()}\n",
        "    return dataloaders_dict"
      ]
    },
    {
      "cell_type": "code",
      "execution_count": 13,
      "metadata": {
        "id": "_4wrHe9sE6NM"
      },
      "outputs": [],
      "source": [
        "val_df = pd.read_csv(dataframes_path + \"val.csv\")\n",
        "val_real = []\n",
        "for i in range(val_df.shape[0]):\n",
        "    val_real.append(val_df['target'].iloc[i])"
      ]
    },
    {
      "cell_type": "code",
      "execution_count": 14,
      "metadata": {
        "id": "gwXYP7kJE8i1"
      },
      "outputs": [],
      "source": [
        "def train_model(model, dataloaders, criterion, optimizer, \n",
        "                scheduler, model_name=str(datetime.datetime.now()), \n",
        "                save_dir = None, num_epochs=25):\n",
        "    import time\n",
        "    start_time = time.time()\n",
        "    \n",
        "    #take out if just starting to train\n",
        "    #checkpoint = torch.load(\"../input/shuffle-meta-conf-matrix/resnet_weights_12.pt\")\n",
        "    #model.load_state_dict(checkpoint['state_dict'])\n",
        "    #optimizer.load_state_dict(checkpoint['optimizer'])\n",
        "    #epoch_before = checkpoint['epoch']\n",
        "\n",
        "    train_losses = []\n",
        "    test_losses = []\n",
        "    train_auc=[]\n",
        "    val_auc=[]\n",
        "    train_pred = []\n",
        "    train_real = []\n",
        "    val_pred = []\n",
        "    val_real = []\n",
        "    for epoch in range(num_epochs):\n",
        "\n",
        "        train_preds=[]\n",
        "        train_targets=[]\n",
        "        auc_train=[]\n",
        "        loss_epoch_train=[]\n",
        "        loss_epoch_test=[]\n",
        "        # Run the training batches\n",
        "        for inputs, features, labels in tqdm(dataloaders['train']):\n",
        "            inputs = inputs.to(device)\n",
        "            features = features.to(device)\n",
        "            labels = labels.to(device)\n",
        "            \n",
        "            outputs = model(inputs, features)\n",
        "            outputs = torch.squeeze(outputs)\n",
        "            #outputs = torch.as_tensor(outputs.tolist())\n",
        "            preds = (outputs > 0).type(torch.float64)\n",
        "            train_real.extend(labels.tolist())\n",
        "            train_pred.extend(preds.tolist())\n",
        "            \n",
        "            labels = torch.squeeze(labels)\n",
        "            loss = criterion(torch.sigmoid(outputs.type(torch.FloatTensor)), labels.type(torch.FloatTensor))\n",
        "            loss_epoch_train.append(loss.item())\n",
        "                \n",
        "            optimizer.zero_grad()\n",
        "            loss.backward()\n",
        "            optimizer.step()\n",
        "\n",
        "        auc_train=roc_auc_score(labels.detach().cpu().numpy(),torch.sigmoid(outputs).detach().cpu().numpy())\n",
        "        #auc_train=roc_auc_score(y_train.detach().to(device).numpy(),torch.sigmoid(y_pred).detach().to(device).numpy())\n",
        "        \n",
        "        train_losses.append(np.mean(loss_epoch_train))\n",
        "        train_auc.append(auc_train)\n",
        "        \n",
        "        print(f'Epoch: {epoch:2} Train Loss: {np.mean(loss_epoch_train):10.8f} AUC: {auc_train:10.8f} ')\n",
        "        df_confusion = confusion_matrix(train_real, train_pred)\n",
        "        df_conf_norm = df_confusion / df_confusion.sum(axis=1, keepdims = True)\n",
        "        print(df_conf_norm)\n",
        "        \n",
        "        # Run the testing batches\n",
        "        with torch.no_grad():\n",
        "            for inputs, features, labels in tqdm(dataloaders['val']):\n",
        "                inputs = inputs.to(device)\n",
        "                features = features.to(device)\n",
        "                labels = labels.to(device)\n",
        "                \n",
        "                outputs = model(inputs, features)\n",
        "                #print('outputs1 ' + str(outputs))\n",
        "\n",
        "                outputs = torch.squeeze(outputs)\n",
        "                #print('outputs2 ' + str(outputs))\n",
        "                preds = (outputs > 0).type(torch.float64)\n",
        "                #print('labels ' + (str(labels)))\n",
        "                #print('pred ' + str(preds))\n",
        "                val_real.extend(labels.tolist())\n",
        "                val_pred.extend(preds.tolist())\n",
        "                \n",
        "                #outputs = torch.as_tensor(outputs.tolist())\n",
        "                #print('new outs', outputs)\n",
        "                labels = torch.squeeze(labels)\n",
        "                loss = criterion(torch.sigmoid(outputs.type(torch.FloatTensor)), labels.type(torch.FloatTensor))\n",
        "                loss_epoch_test.append(loss.item())\n",
        "                                          \n",
        "        auc_val=roc_auc_score(labels.detach().cpu().numpy(),torch.sigmoid(outputs).detach().cpu().numpy())\n",
        "        \n",
        "        test_losses.append(np.mean(loss_epoch_test))\n",
        "        val_auc.append(auc_val)\n",
        "        \n",
        "        print(f'Epoch: {epoch} Val Loss: {np.mean(loss_epoch_test):10.8f} AUC: {auc_val:10.8f} ')\n",
        "        df_confusion = confusion_matrix(val_real, val_pred)\n",
        "        df_conf_norm = df_confusion / df_confusion.sum(axis=1, keepdims = True)\n",
        "        print(df_conf_norm)\n",
        "        \n",
        "        if epoch % 5==0:\n",
        "        #if epoch % 5==0:\n",
        "            model_file = { 'epoch': epoch,\n",
        "                      'state_dict': model.state_dict(),\n",
        "                      'optimizer' : optimizer.state_dict()}\n",
        "            torch.save(model_file, dataframes_path + \"Pesos VGG16DA/{}_weights_{}.pt\".format(model_name, epoch))\n",
        "        #epoch if just started training\n",
        "        #epoch + epoch_before + 1 afterwards\n",
        "    print(f'\\nDuration: {time.time() - start_time:.0f} seconds') # print the time elapsed\n",
        "    return train_auc, val_auc, train_losses,test_losses"
      ]
    },
    {
      "cell_type": "code",
      "execution_count": 15,
      "metadata": {
        "id": "-Vd5aV0nFAje"
      },
      "outputs": [],
      "source": [
        "# Models to choose from [resnet, vgg16, squeezenet, densenet]\n",
        "# You can add your own, or modify these however you wish!\n",
        "model_name = 'vgg16'\n",
        "\n",
        "# Number of classes in the dataset\n",
        "num_classes = 1\n",
        "\n",
        "# Batch size for training (change depending on how much memory you have)\n",
        "# You should use a power of 2.\n",
        "batch_size = 64\n",
        "\n",
        "# Shuffle the input data?\n",
        "shuffle_datasets = True\n",
        "\n",
        "# Number of epochs to train for \n",
        "num_epochs = 200\n",
        "\n",
        "# Directory to save weights to\n",
        "#save_dir = \"weights\"\n",
        "#os.makedirs(save_dir, exist_ok=True)"
      ]
    },
    {
      "cell_type": "code",
      "execution_count": 18,
      "metadata": {
        "colab": {
          "base_uri": "https://localhost:8080/"
        },
        "id": "PvxyetSBFDZV",
        "outputId": "10f16ebf-e545-4cd2-fa9c-418438de7f76"
      },
      "outputs": [
        {
          "output_type": "stream",
          "name": "stdout",
          "text": [
            "Params to learn:\n",
            "\t cnn.features.0.weight\n",
            "\t cnn.features.0.bias\n",
            "\t cnn.features.1.weight\n",
            "\t cnn.features.1.bias\n",
            "\t cnn.features.3.weight\n",
            "\t cnn.features.3.bias\n",
            "\t cnn.features.4.weight\n",
            "\t cnn.features.4.bias\n",
            "\t cnn.features.7.weight\n",
            "\t cnn.features.7.bias\n",
            "\t cnn.features.8.weight\n",
            "\t cnn.features.8.bias\n",
            "\t cnn.features.10.weight\n",
            "\t cnn.features.10.bias\n",
            "\t cnn.features.11.weight\n",
            "\t cnn.features.11.bias\n",
            "\t cnn.features.14.weight\n",
            "\t cnn.features.14.bias\n",
            "\t cnn.features.15.weight\n",
            "\t cnn.features.15.bias\n",
            "\t cnn.features.17.weight\n",
            "\t cnn.features.17.bias\n",
            "\t cnn.features.18.weight\n",
            "\t cnn.features.18.bias\n",
            "\t cnn.features.20.weight\n",
            "\t cnn.features.20.bias\n",
            "\t cnn.features.21.weight\n",
            "\t cnn.features.21.bias\n",
            "\t cnn.features.24.weight\n",
            "\t cnn.features.24.bias\n",
            "\t cnn.features.25.weight\n",
            "\t cnn.features.25.bias\n",
            "\t cnn.features.27.weight\n",
            "\t cnn.features.27.bias\n",
            "\t cnn.features.28.weight\n",
            "\t cnn.features.28.bias\n",
            "\t cnn.features.30.weight\n",
            "\t cnn.features.30.bias\n",
            "\t cnn.features.31.weight\n",
            "\t cnn.features.31.bias\n",
            "\t cnn.features.34.weight\n",
            "\t cnn.features.34.bias\n",
            "\t cnn.features.35.weight\n",
            "\t cnn.features.35.bias\n",
            "\t cnn.features.37.weight\n",
            "\t cnn.features.37.bias\n",
            "\t cnn.features.38.weight\n",
            "\t cnn.features.38.bias\n",
            "\t cnn.features.40.weight\n",
            "\t cnn.features.40.bias\n",
            "\t cnn.features.41.weight\n",
            "\t cnn.features.41.bias\n",
            "\t cnn.classifier.0.weight\n",
            "\t cnn.classifier.0.bias\n",
            "\t cnn.classifier.3.weight\n",
            "\t cnn.classifier.3.bias\n",
            "\t cnn.classifier.6.weight\n",
            "\t cnn.classifier.6.bias\n",
            "\t fc1.weight\n",
            "\t fc1.bias\n",
            "\t fc2.weight\n",
            "\t fc2.bias\n"
          ]
        },
        {
          "output_type": "stream",
          "name": "stderr",
          "text": [
            "100%|██████████| 27/27 [01:14<00:00,  2.78s/it]\n"
          ]
        },
        {
          "output_type": "stream",
          "name": "stdout",
          "text": [
            "Epoch:  0 Train Loss: 0.71040176 AUC: 0.59211823 \n",
            "[[1. 0.]\n",
            " [1. 0.]]\n"
          ]
        },
        {
          "output_type": "stream",
          "name": "stderr",
          "text": [
            "100%|██████████| 7/7 [00:20<00:00,  2.89s/it]\n"
          ]
        },
        {
          "output_type": "stream",
          "name": "stdout",
          "text": [
            "Epoch: 0 Val Loss: 0.69925831 AUC: 0.52941176 \n",
            "[[1. 0.]\n",
            " [1. 0.]]\n"
          ]
        },
        {
          "output_type": "stream",
          "name": "stderr",
          "text": [
            "100%|██████████| 27/27 [00:28<00:00,  1.05s/it]\n"
          ]
        },
        {
          "output_type": "stream",
          "name": "stdout",
          "text": [
            "Epoch:  1 Train Loss: 0.68922176 AUC: 0.76441838 \n",
            "[[1. 0.]\n",
            " [1. 0.]]\n"
          ]
        },
        {
          "output_type": "stream",
          "name": "stderr",
          "text": [
            "100%|██████████| 7/7 [00:03<00:00,  1.89it/s]\n"
          ]
        },
        {
          "output_type": "stream",
          "name": "stdout",
          "text": [
            "Epoch: 1 Val Loss: 0.69310342 AUC: 0.64516129 \n",
            "[[1. 0.]\n",
            " [1. 0.]]\n"
          ]
        },
        {
          "output_type": "stream",
          "name": "stderr",
          "text": [
            "100%|██████████| 27/27 [00:28<00:00,  1.06s/it]\n"
          ]
        },
        {
          "output_type": "stream",
          "name": "stdout",
          "text": [
            "Epoch:  2 Train Loss: 0.67247530 AUC: 0.87109375 \n",
            "[[1. 0.]\n",
            " [1. 0.]]\n"
          ]
        },
        {
          "output_type": "stream",
          "name": "stderr",
          "text": [
            "100%|██████████| 7/7 [00:03<00:00,  1.82it/s]\n"
          ]
        },
        {
          "output_type": "stream",
          "name": "stdout",
          "text": [
            "Epoch: 2 Val Loss: 0.68325150 AUC: 0.72675522 \n",
            "[[1.        0.       ]\n",
            " [0.9984127 0.0015873]]\n"
          ]
        },
        {
          "output_type": "stream",
          "name": "stderr",
          "text": [
            "100%|██████████| 27/27 [00:28<00:00,  1.06s/it]\n"
          ]
        },
        {
          "output_type": "stream",
          "name": "stdout",
          "text": [
            "Epoch:  3 Train Loss: 0.64496848 AUC: 0.85714286 \n",
            "[[0.99520857 0.00479143]\n",
            " [0.94530321 0.05469679]]\n"
          ]
        },
        {
          "output_type": "stream",
          "name": "stderr",
          "text": [
            "100%|██████████| 7/7 [00:03<00:00,  1.87it/s]\n"
          ]
        },
        {
          "output_type": "stream",
          "name": "stdout",
          "text": [
            "Epoch: 3 Val Loss: 0.66561789 AUC: 0.77609108 \n",
            "[[0.9481982  0.0518018 ]\n",
            " [0.86904762 0.13095238]]\n"
          ]
        },
        {
          "output_type": "stream",
          "name": "stderr",
          "text": [
            "100%|██████████| 27/27 [00:28<00:00,  1.07s/it]\n"
          ]
        },
        {
          "output_type": "stream",
          "name": "stdout",
          "text": [
            "Epoch:  4 Train Loss: 0.62201340 AUC: 0.93229167 \n",
            "[[0.97632469 0.02367531]\n",
            " [0.82401902 0.17598098]]\n"
          ]
        },
        {
          "output_type": "stream",
          "name": "stderr",
          "text": [
            "100%|██████████| 7/7 [00:03<00:00,  1.83it/s]\n"
          ]
        },
        {
          "output_type": "stream",
          "name": "stdout",
          "text": [
            "Epoch: 4 Val Loss: 0.66078450 AUC: 0.76280835 \n",
            "[[0.88018018 0.11981982]\n",
            " [0.71904762 0.28095238]]\n"
          ]
        },
        {
          "output_type": "stream",
          "name": "stderr",
          "text": [
            "100%|██████████| 27/27 [00:28<00:00,  1.07s/it]\n"
          ]
        },
        {
          "output_type": "stream",
          "name": "stdout",
          "text": [
            "Epoch:  5 Train Loss: 0.60023414 AUC: 0.77450980 \n",
            "[[0.96279594 0.03720406]\n",
            " [0.73563218 0.26436782]]\n"
          ]
        },
        {
          "output_type": "stream",
          "name": "stderr",
          "text": [
            "100%|██████████| 7/7 [00:04<00:00,  1.62it/s]\n"
          ]
        },
        {
          "output_type": "stream",
          "name": "stdout",
          "text": [
            "Epoch: 5 Val Loss: 0.65608312 AUC: 0.79506641 \n",
            "[[0.84084084 0.15915916]\n",
            " [0.63174603 0.36825397]]\n"
          ]
        },
        {
          "output_type": "stream",
          "name": "stderr",
          "text": [
            "100%|██████████| 27/27 [00:29<00:00,  1.10s/it]\n"
          ]
        },
        {
          "output_type": "stream",
          "name": "stdout",
          "text": [
            "Epoch:  6 Train Loss: 0.59579632 AUC: 0.88235294 \n",
            "[[0.9518441 0.0481559]\n",
            " [0.6701206 0.3298794]]\n"
          ]
        },
        {
          "output_type": "stream",
          "name": "stderr",
          "text": [
            "100%|██████████| 7/7 [00:03<00:00,  1.91it/s]\n"
          ]
        },
        {
          "output_type": "stream",
          "name": "stdout",
          "text": [
            "Epoch: 6 Val Loss: 0.65260431 AUC: 0.74762808 \n",
            "[[0.82046332 0.17953668]\n",
            " [0.57687075 0.42312925]]\n"
          ]
        },
        {
          "output_type": "stream",
          "name": "stderr",
          "text": [
            "100%|██████████| 27/27 [00:29<00:00,  1.08s/it]\n"
          ]
        },
        {
          "output_type": "stream",
          "name": "stdout",
          "text": [
            "Epoch:  7 Train Loss: 0.60011474 AUC: 0.87254902 \n",
            "[[0.94250282 0.05749718]\n",
            " [0.62381094 0.37618906]]\n"
          ]
        },
        {
          "output_type": "stream",
          "name": "stderr",
          "text": [
            "100%|██████████| 7/7 [00:03<00:00,  1.88it/s]\n"
          ]
        },
        {
          "output_type": "stream",
          "name": "stdout",
          "text": [
            "Epoch: 7 Val Loss: 0.65980009 AUC: 0.71726755 \n",
            "[[0.80743243 0.19256757]\n",
            " [0.5452381  0.4547619 ]]\n"
          ]
        },
        {
          "output_type": "stream",
          "name": "stderr",
          "text": [
            "100%|██████████| 27/27 [00:29<00:00,  1.08s/it]\n"
          ]
        },
        {
          "output_type": "stream",
          "name": "stdout",
          "text": [
            "Epoch:  8 Train Loss: 0.59663359 AUC: 0.92063492 \n",
            "[[0.93523738 0.06476262]\n",
            " [0.58448936 0.41551064]]\n"
          ]
        },
        {
          "output_type": "stream",
          "name": "stderr",
          "text": [
            "100%|██████████| 7/7 [00:03<00:00,  1.86it/s]\n"
          ]
        },
        {
          "output_type": "stream",
          "name": "stdout",
          "text": [
            "Epoch: 8 Val Loss: 0.64385933 AUC: 0.78937381 \n",
            "[[0.7967968  0.2032032 ]\n",
            " [0.50846561 0.49153439]]\n"
          ]
        },
        {
          "output_type": "stream",
          "name": "stderr",
          "text": [
            "100%|██████████| 27/27 [00:29<00:00,  1.08s/it]\n"
          ]
        },
        {
          "output_type": "stream",
          "name": "stdout",
          "text": [
            "Epoch:  9 Train Loss: 0.58923888 AUC: 0.90935961 \n",
            "[[0.93393461 0.06606539]\n",
            " [0.55588585 0.44411415]]\n"
          ]
        },
        {
          "output_type": "stream",
          "name": "stderr",
          "text": [
            "100%|██████████| 7/7 [00:03<00:00,  1.84it/s]\n"
          ]
        },
        {
          "output_type": "stream",
          "name": "stdout",
          "text": [
            "Epoch: 9 Val Loss: 0.65927130 AUC: 0.76850095 \n",
            "[[0.77882883 0.22117117]\n",
            " [0.47095238 0.52904762]]\n"
          ]
        },
        {
          "output_type": "stream",
          "name": "stderr",
          "text": [
            "100%|██████████| 27/27 [00:29<00:00,  1.09s/it]\n"
          ]
        },
        {
          "output_type": "stream",
          "name": "stdout",
          "text": [
            "Epoch: 10 Train Loss: 0.58763794 AUC: 0.90686275 \n",
            "[[0.93245875 0.06754125]\n",
            " [0.53053724 0.46946276]]\n"
          ]
        },
        {
          "output_type": "stream",
          "name": "stderr",
          "text": [
            "100%|██████████| 7/7 [00:03<00:00,  1.89it/s]\n"
          ]
        },
        {
          "output_type": "stream",
          "name": "stdout",
          "text": [
            "Epoch: 10 Val Loss: 0.64809981 AUC: 0.72865275 \n",
            "[[0.77436527 0.22563473]\n",
            " [0.45064935 0.54935065]]\n"
          ]
        },
        {
          "output_type": "stream",
          "name": "stderr",
          "text": [
            "100%|██████████| 27/27 [00:29<00:00,  1.10s/it]\n"
          ]
        },
        {
          "output_type": "stream",
          "name": "stdout",
          "text": [
            "Epoch: 11 Train Loss: 0.59350732 AUC: 0.91568627 \n",
            "[[0.93198046 0.06801954]\n",
            " [0.51476417 0.48523583]]\n"
          ]
        },
        {
          "output_type": "stream",
          "name": "stderr",
          "text": [
            "100%|██████████| 7/7 [00:03<00:00,  1.96it/s]\n"
          ]
        },
        {
          "output_type": "stream",
          "name": "stdout",
          "text": [
            "Epoch: 11 Val Loss: 0.66424412 AUC: 0.76660342 \n",
            "[[0.75900901 0.24099099]\n",
            " [0.42579365 0.57420635]]\n"
          ]
        },
        {
          "output_type": "stream",
          "name": "stderr",
          "text": [
            "100%|██████████| 27/27 [00:29<00:00,  1.10s/it]\n"
          ]
        },
        {
          "output_type": "stream",
          "name": "stdout",
          "text": [
            "Epoch: 12 Train Loss: 0.58691865 AUC: 0.94330401 \n",
            "[[0.93096869 0.06903131]\n",
            " [0.49766761 0.50233239]]\n"
          ]
        },
        {
          "output_type": "stream",
          "name": "stderr",
          "text": [
            "100%|██████████| 7/7 [00:03<00:00,  1.97it/s]\n"
          ]
        },
        {
          "output_type": "stream",
          "name": "stdout",
          "text": [
            "Epoch: 12 Val Loss: 0.66324580 AUC: 0.78178368 \n",
            "[[0.74878725 0.25121275]\n",
            " [0.40695971 0.59304029]]\n"
          ]
        },
        {
          "output_type": "stream",
          "name": "stderr",
          "text": [
            "100%|██████████| 27/27 [00:29<00:00,  1.09s/it]\n"
          ]
        },
        {
          "output_type": "stream",
          "name": "stdout",
          "text": [
            "Epoch: 13 Train Loss: 0.58669717 AUC: 0.91170635 \n",
            "[[0.92929618 0.07070382]\n",
            " [0.4811449  0.5188551 ]]\n"
          ]
        },
        {
          "output_type": "stream",
          "name": "stderr",
          "text": [
            "100%|██████████| 7/7 [00:03<00:00,  1.87it/s]\n"
          ]
        },
        {
          "output_type": "stream",
          "name": "stdout",
          "text": [
            "Epoch: 13 Val Loss: 0.68332765 AUC: 0.69639469 \n",
            "[[0.73938224 0.26061776]\n",
            " [0.39863946 0.60136054]]\n"
          ]
        },
        {
          "output_type": "stream",
          "name": "stderr",
          "text": [
            "100%|██████████| 27/27 [00:29<00:00,  1.08s/it]\n"
          ]
        },
        {
          "output_type": "stream",
          "name": "stdout",
          "text": [
            "Epoch: 14 Train Loss: 0.58549625 AUC: 0.90541872 \n",
            "[[0.92844795 0.07155205]\n",
            " [0.46714229 0.53285771]]\n"
          ]
        },
        {
          "output_type": "stream",
          "name": "stderr",
          "text": [
            "100%|██████████| 7/7 [00:03<00:00,  1.84it/s]\n"
          ]
        },
        {
          "output_type": "stream",
          "name": "stdout",
          "text": [
            "Epoch: 14 Val Loss: 0.65644643 AUC: 0.79316888 \n",
            "[[0.73483483 0.26516517]\n",
            " [0.38730159 0.61269841]]\n"
          ]
        },
        {
          "output_type": "stream",
          "name": "stderr",
          "text": [
            "100%|██████████| 27/27 [00:29<00:00,  1.09s/it]\n"
          ]
        },
        {
          "output_type": "stream",
          "name": "stdout",
          "text": [
            "Epoch: 15 Train Loss: 0.58286237 AUC: 0.83675464 \n",
            "[[0.92939684 0.07060316]\n",
            " [0.45719382 0.54280618]]\n"
          ]
        },
        {
          "output_type": "stream",
          "name": "stderr",
          "text": [
            "100%|██████████| 7/7 [00:03<00:00,  1.92it/s]\n"
          ]
        },
        {
          "output_type": "stream",
          "name": "stdout",
          "text": [
            "Epoch: 15 Val Loss: 0.66887842 AUC: 0.83301708 \n",
            "[[0.72747748 0.27252252]\n",
            " [0.37738095 0.62261905]]\n"
          ]
        },
        {
          "output_type": "stream",
          "name": "stderr",
          "text": [
            "100%|██████████| 27/27 [00:29<00:00,  1.08s/it]\n"
          ]
        },
        {
          "output_type": "stream",
          "name": "stdout",
          "text": [
            "Epoch: 16 Train Loss: 0.58456381 AUC: 0.85885886 \n",
            "[[0.93049937 0.06950063]\n",
            " [0.44939498 0.55060502]]\n"
          ]
        },
        {
          "output_type": "stream",
          "name": "stderr",
          "text": [
            "100%|██████████| 7/7 [00:03<00:00,  1.83it/s]\n"
          ]
        },
        {
          "output_type": "stream",
          "name": "stdout",
          "text": [
            "Epoch: 16 Val Loss: 0.65129307 AUC: 0.77988615 \n",
            "[[0.72893482 0.27106518]\n",
            " [0.37478992 0.62521008]]\n"
          ]
        },
        {
          "output_type": "stream",
          "name": "stderr",
          "text": [
            "100%|██████████| 27/27 [00:29<00:00,  1.08s/it]\n"
          ]
        },
        {
          "output_type": "stream",
          "name": "stdout",
          "text": [
            "Epoch: 17 Train Loss: 0.58056772 AUC: 0.93548387 \n",
            "[[0.93122886 0.06877114]\n",
            " [0.44034879 0.55965121]]\n"
          ]
        },
        {
          "output_type": "stream",
          "name": "stderr",
          "text": [
            "100%|██████████| 7/7 [00:03<00:00,  1.83it/s]\n"
          ]
        },
        {
          "output_type": "stream",
          "name": "stdout",
          "text": [
            "Epoch: 17 Val Loss: 0.65990141 AUC: 0.72485769 \n",
            "[[0.72897898 0.27102102]\n",
            " [0.37275132 0.62724868]]\n"
          ]
        },
        {
          "output_type": "stream",
          "name": "stderr",
          "text": [
            "100%|██████████| 27/27 [00:29<00:00,  1.09s/it]\n"
          ]
        },
        {
          "output_type": "stream",
          "name": "stdout",
          "text": [
            "Epoch: 18 Train Loss: 0.57713288 AUC: 0.96089932 \n",
            "[[0.93235626 0.06764374]\n",
            " [0.43288066 0.56711934]]\n"
          ]
        },
        {
          "output_type": "stream",
          "name": "stderr",
          "text": [
            "100%|██████████| 7/7 [00:04<00:00,  1.51it/s]\n"
          ]
        },
        {
          "output_type": "stream",
          "name": "stdout",
          "text": [
            "Epoch: 18 Val Loss: 0.66584545 AUC: 0.67552182 \n",
            "[[0.72475107 0.27524893]\n",
            " [0.36466165 0.63533835]]\n"
          ]
        },
        {
          "output_type": "stream",
          "name": "stderr",
          "text": [
            "100%|██████████| 27/27 [00:30<00:00,  1.12s/it]\n"
          ]
        },
        {
          "output_type": "stream",
          "name": "stdout",
          "text": [
            "Epoch: 19 Train Loss: 0.57745666 AUC: 0.97536946 \n",
            "[[0.93286359 0.06713641]\n",
            " [0.4254459  0.5745541 ]]\n"
          ]
        },
        {
          "output_type": "stream",
          "name": "stderr",
          "text": [
            "100%|██████████| 7/7 [00:03<00:00,  1.88it/s]\n"
          ]
        },
        {
          "output_type": "stream",
          "name": "stdout",
          "text": [
            "Epoch: 19 Val Loss: 0.66719122 AUC: 0.75521822 \n",
            "[[0.72094595 0.27905405]\n",
            " [0.35880952 0.64119048]]\n"
          ]
        },
        {
          "output_type": "stream",
          "name": "stderr",
          "text": [
            "100%|██████████| 27/27 [00:29<00:00,  1.08s/it]\n"
          ]
        },
        {
          "output_type": "stream",
          "name": "stdout",
          "text": [
            "Epoch: 20 Train Loss: 0.57451644 AUC: 0.95210166 \n",
            "[[0.93385945 0.06614055]\n",
            " [0.41786988 0.58213012]]\n"
          ]
        },
        {
          "output_type": "stream",
          "name": "stderr",
          "text": [
            "100%|██████████| 7/7 [00:03<00:00,  1.91it/s]\n"
          ]
        },
        {
          "output_type": "stream",
          "name": "stdout",
          "text": [
            "Epoch: 20 Val Loss: 0.68083077 AUC: 0.69070209 \n",
            "[[0.72157872 0.27842128]\n",
            " [0.36417234 0.63582766]]\n"
          ]
        },
        {
          "output_type": "stream",
          "name": "stderr",
          "text": [
            "100%|██████████| 27/27 [00:29<00:00,  1.10s/it]\n"
          ]
        },
        {
          "output_type": "stream",
          "name": "stdout",
          "text": [
            "Epoch: 21 Train Loss: 0.57476410 AUC: 0.95588235 \n",
            "[[0.93481603 0.06518397]\n",
            " [0.41179332 0.58820668]]\n"
          ]
        },
        {
          "output_type": "stream",
          "name": "stderr",
          "text": [
            "100%|██████████| 7/7 [00:03<00:00,  1.83it/s]\n"
          ]
        },
        {
          "output_type": "stream",
          "name": "stdout",
          "text": [
            "Epoch: 21 Val Loss: 0.65996421 AUC: 0.77229602 \n",
            "[[0.72051597 0.27948403]\n",
            " [0.36103896 0.63896104]]\n"
          ]
        },
        {
          "output_type": "stream",
          "name": "stderr",
          "text": [
            "100%|██████████| 27/27 [00:29<00:00,  1.09s/it]\n"
          ]
        },
        {
          "output_type": "stream",
          "name": "stdout",
          "text": [
            "Epoch: 22 Train Loss: 0.57348366 AUC: 0.93652344 \n",
            "[[0.93495417 0.06504583]\n",
            " [0.4046942  0.5953058 ]]\n"
          ]
        },
        {
          "output_type": "stream",
          "name": "stderr",
          "text": [
            "100%|██████████| 7/7 [00:03<00:00,  1.83it/s]\n"
          ]
        },
        {
          "output_type": "stream",
          "name": "stdout",
          "text": [
            "Epoch: 22 Val Loss: 0.66819798 AUC: 0.76850095 \n",
            "[[0.71484528 0.28515472]\n",
            " [0.35217391 0.64782609]]\n"
          ]
        },
        {
          "output_type": "stream",
          "name": "stderr",
          "text": [
            "100%|██████████| 27/27 [00:30<00:00,  1.14s/it]\n"
          ]
        },
        {
          "output_type": "stream",
          "name": "stdout",
          "text": [
            "Epoch: 23 Train Loss: 0.57413371 AUC: 0.92510121 \n",
            "[[0.93550357 0.06449643]\n",
            " [0.39892985 0.60107015]]\n"
          ]
        },
        {
          "output_type": "stream",
          "name": "stderr",
          "text": [
            "100%|██████████| 7/7 [00:03<00:00,  1.90it/s]\n"
          ]
        },
        {
          "output_type": "stream",
          "name": "stdout",
          "text": [
            "Epoch: 23 Val Loss: 0.66786419 AUC: 0.74762808 \n",
            "[[0.71096096 0.28903904]\n",
            " [0.34623016 0.65376984]]\n"
          ]
        },
        {
          "output_type": "stream",
          "name": "stderr",
          "text": [
            "100%|██████████| 27/27 [00:29<00:00,  1.08s/it]\n"
          ]
        },
        {
          "output_type": "stream",
          "name": "stdout",
          "text": [
            "Epoch: 24 Train Loss: 0.57815901 AUC: 0.82404692 \n",
            "[[0.93641488 0.06358512]\n",
            " [0.39543401 0.60456599]]\n"
          ]
        },
        {
          "output_type": "stream",
          "name": "stderr",
          "text": [
            "100%|██████████| 7/7 [00:03<00:00,  1.84it/s]\n"
          ]
        },
        {
          "output_type": "stream",
          "name": "stdout",
          "text": [
            "Epoch: 24 Val Loss: 0.67248348 AUC: 0.73434535 \n",
            "[[0.71171171 0.28828829]\n",
            " [0.34971429 0.65028571]]\n"
          ]
        },
        {
          "output_type": "stream",
          "name": "stderr",
          "text": [
            "100%|██████████| 27/27 [00:29<00:00,  1.08s/it]\n"
          ]
        },
        {
          "output_type": "stream",
          "name": "stdout",
          "text": [
            "Epoch: 25 Train Loss: 0.57676682 AUC: 0.94726562 \n",
            "[[0.93703929 0.06296071]\n",
            " [0.39165828 0.60834172]]\n"
          ]
        },
        {
          "output_type": "stream",
          "name": "stderr",
          "text": [
            "100%|██████████| 7/7 [00:03<00:00,  1.85it/s]\n"
          ]
        },
        {
          "output_type": "stream",
          "name": "stdout",
          "text": [
            "Epoch: 25 Val Loss: 0.67214533 AUC: 0.71347249 \n",
            "[[0.70911296 0.29088704]\n",
            " [0.3470696  0.6529304 ]]\n"
          ]
        },
        {
          "output_type": "stream",
          "name": "stderr",
          "text": [
            "100%|██████████| 27/27 [00:29<00:00,  1.09s/it]\n"
          ]
        },
        {
          "output_type": "stream",
          "name": "stdout",
          "text": [
            "Epoch: 26 Train Loss: 0.57401759 AUC: 0.91788856 \n",
            "[[0.93874483 0.06125517]\n",
            " [0.38921918 0.61078082]]\n"
          ]
        },
        {
          "output_type": "stream",
          "name": "stderr",
          "text": [
            "100%|██████████| 7/7 [00:04<00:00,  1.44it/s]\n"
          ]
        },
        {
          "output_type": "stream",
          "name": "stdout",
          "text": [
            "Epoch: 26 Val Loss: 0.66334682 AUC: 0.70683112 \n",
            "[[0.70904238 0.29095762]\n",
            " [0.34620811 0.65379189]]\n"
          ]
        },
        {
          "output_type": "stream",
          "name": "stderr",
          "text": [
            "100%|██████████| 27/27 [00:30<00:00,  1.13s/it]\n"
          ]
        },
        {
          "output_type": "stream",
          "name": "stdout",
          "text": [
            "Epoch: 27 Train Loss: 0.57359831 AUC: 0.96457490 \n",
            "[[0.93988565 0.06011435]\n",
            " [0.38627484 0.61372516]]\n"
          ]
        },
        {
          "output_type": "stream",
          "name": "stderr",
          "text": [
            "100%|██████████| 7/7 [00:03<00:00,  1.90it/s]\n"
          ]
        },
        {
          "output_type": "stream",
          "name": "stdout",
          "text": [
            "Epoch: 27 Val Loss: 0.66785252 AUC: 0.77419355 \n",
            "[[0.70559846 0.29440154]\n",
            " [0.3414966  0.6585034 ]]\n"
          ]
        },
        {
          "output_type": "stream",
          "name": "stderr",
          "text": [
            "100%|██████████| 27/27 [00:29<00:00,  1.07s/it]\n"
          ]
        },
        {
          "output_type": "stream",
          "name": "stdout",
          "text": [
            "Epoch: 28 Train Loss: 0.57466144 AUC: 0.96354167 \n",
            "[[0.94094779 0.05905221]\n",
            " [0.38361556 0.61638444]]\n"
          ]
        },
        {
          "output_type": "stream",
          "name": "stderr",
          "text": [
            "100%|██████████| 7/7 [00:03<00:00,  1.89it/s]\n"
          ]
        },
        {
          "output_type": "stream",
          "name": "stdout",
          "text": [
            "Epoch: 28 Val Loss: 0.65937525 AUC: 0.73529412 \n",
            "[[0.70441131 0.29558869]\n",
            " [0.33760263 0.66239737]]\n"
          ]
        },
        {
          "output_type": "stream",
          "name": "stderr",
          "text": [
            "100%|██████████| 27/27 [00:29<00:00,  1.07s/it]\n"
          ]
        },
        {
          "output_type": "stream",
          "name": "stdout",
          "text": [
            "Epoch: 29 Train Loss: 0.57378159 AUC: 0.96963563 \n",
            "[[0.9408493  0.0591507 ]\n",
            " [0.37934998 0.62065002]]\n"
          ]
        },
        {
          "output_type": "stream",
          "name": "stderr",
          "text": [
            "100%|██████████| 7/7 [00:03<00:00,  1.85it/s]\n"
          ]
        },
        {
          "output_type": "stream",
          "name": "stdout",
          "text": [
            "Epoch: 29 Val Loss: 0.66205125 AUC: 0.82163188 \n",
            "[[0.70345345 0.29654655]\n",
            " [0.33571429 0.66428571]]\n"
          ]
        },
        {
          "output_type": "stream",
          "name": "stderr",
          "text": [
            "100%|██████████| 27/27 [00:29<00:00,  1.09s/it]\n"
          ]
        },
        {
          "output_type": "stream",
          "name": "stdout",
          "text": [
            "Epoch: 30 Train Loss: 0.56783390 AUC: 0.92968750 \n",
            "[[0.94133906 0.05866094]\n",
            " [0.37497603 0.62502397]]\n"
          ]
        },
        {
          "output_type": "stream",
          "name": "stderr",
          "text": [
            "100%|██████████| 7/7 [00:03<00:00,  1.85it/s]\n"
          ]
        },
        {
          "output_type": "stream",
          "name": "stdout",
          "text": [
            "Epoch: 30 Val Loss: 0.68655282 AUC: 0.73434535 \n",
            "[[0.69848881 0.30151119]\n",
            " [0.33102919 0.66897081]]\n"
          ]
        },
        {
          "output_type": "stream",
          "name": "stderr",
          "text": [
            "100%|██████████| 27/27 [00:30<00:00,  1.13s/it]\n"
          ]
        },
        {
          "output_type": "stream",
          "name": "stdout",
          "text": [
            "Epoch: 31 Train Loss: 0.56986830 AUC: 0.91691692 \n",
            "[[0.94197435 0.05802565]\n",
            " [0.37191587 0.62808413]]\n"
          ]
        },
        {
          "output_type": "stream",
          "name": "stderr",
          "text": [
            "100%|██████████| 7/7 [00:03<00:00,  1.91it/s]\n"
          ]
        },
        {
          "output_type": "stream",
          "name": "stdout",
          "text": [
            "Epoch: 31 Val Loss: 0.65740303 AUC: 0.73244782 \n",
            "[[0.69904279 0.30095721]\n",
            " [0.33035714 0.66964286]]\n"
          ]
        },
        {
          "output_type": "stream",
          "name": "stderr",
          "text": [
            "100%|██████████| 27/27 [00:29<00:00,  1.08s/it]\n"
          ]
        },
        {
          "output_type": "stream",
          "name": "stdout",
          "text": [
            "Epoch: 32 Train Loss: 0.56812453 AUC: 0.98461538 \n",
            "[[0.94291278 0.05708722]\n",
            " [0.36896912 0.63103088]]\n"
          ]
        },
        {
          "output_type": "stream",
          "name": "stderr",
          "text": [
            "100%|██████████| 7/7 [00:03<00:00,  1.84it/s]\n"
          ]
        },
        {
          "output_type": "stream",
          "name": "stdout",
          "text": [
            "Epoch: 32 Val Loss: 0.66336750 AUC: 0.73434535 \n",
            "[[0.6977887  0.3022113 ]\n",
            " [0.32799423 0.67200577]]\n"
          ]
        },
        {
          "output_type": "stream",
          "name": "stderr",
          "text": [
            "100%|██████████| 27/27 [00:29<00:00,  1.09s/it]\n"
          ]
        },
        {
          "output_type": "stream",
          "name": "stdout",
          "text": [
            "Epoch: 33 Train Loss: 0.56776947 AUC: 0.90890891 \n",
            "[[0.94326547 0.05673453]\n",
            " [0.36525145 0.63474855]]\n"
          ]
        },
        {
          "output_type": "stream",
          "name": "stderr",
          "text": [
            "100%|██████████| 7/7 [00:03<00:00,  1.84it/s]\n"
          ]
        },
        {
          "output_type": "stream",
          "name": "stdout",
          "text": [
            "Epoch: 33 Val Loss: 0.67902879 AUC: 0.75142315 \n",
            "[[0.6963434  0.3036566 ]\n",
            " [0.32787115 0.67212885]]\n"
          ]
        },
        {
          "output_type": "stream",
          "name": "stderr",
          "text": [
            "100%|██████████| 27/27 [00:29<00:00,  1.08s/it]\n"
          ]
        },
        {
          "output_type": "stream",
          "name": "stdout",
          "text": [
            "Epoch: 34 Train Loss: 0.56909876 AUC: 0.98632812 \n",
            "[[0.94398454 0.05601546]\n",
            " [0.36256158 0.63743842]]\n"
          ]
        },
        {
          "output_type": "stream",
          "name": "stderr",
          "text": [
            "100%|██████████| 7/7 [00:03<00:00,  1.89it/s]\n"
          ]
        },
        {
          "output_type": "stream",
          "name": "stdout",
          "text": [
            "Epoch: 34 Val Loss: 0.67162435 AUC: 0.72865275 \n",
            "[[0.6954955  0.3045045 ]\n",
            " [0.32870748 0.67129252]]\n"
          ]
        },
        {
          "output_type": "stream",
          "name": "stderr",
          "text": [
            "100%|██████████| 27/27 [00:29<00:00,  1.09s/it]\n"
          ]
        },
        {
          "output_type": "stream",
          "name": "stdout",
          "text": [
            "Epoch: 35 Train Loss: 0.56340773 AUC: 0.98279352 \n",
            "[[0.94463234 0.05536766]\n",
            " [0.3591954  0.6408046 ]]\n"
          ]
        },
        {
          "output_type": "stream",
          "name": "stderr",
          "text": [
            "100%|██████████| 7/7 [00:04<00:00,  1.47it/s]\n"
          ]
        },
        {
          "output_type": "stream",
          "name": "stdout",
          "text": [
            "Epoch: 35 Val Loss: 0.64854632 AUC: 0.74573055 \n",
            "[[0.69481982 0.30518018]\n",
            " [0.32486772 0.67513228]]\n"
          ]
        },
        {
          "output_type": "stream",
          "name": "stderr",
          "text": [
            "100%|██████████| 27/27 [00:29<00:00,  1.09s/it]\n"
          ]
        },
        {
          "output_type": "stream",
          "name": "stdout",
          "text": [
            "Epoch: 36 Train Loss: 0.57057204 AUC: 0.96666667 \n",
            "[[0.94542795 0.05457205]\n",
            " [0.35739306 0.64260694]]\n"
          ]
        },
        {
          "output_type": "stream",
          "name": "stderr",
          "text": [
            "100%|██████████| 7/7 [00:03<00:00,  1.84it/s]\n"
          ]
        },
        {
          "output_type": "stream",
          "name": "stdout",
          "text": [
            "Epoch: 36 Val Loss: 0.65909968 AUC: 0.85863378 \n",
            "[[0.69564159 0.30435841]\n",
            " [0.32561133 0.67438867]]\n"
          ]
        },
        {
          "output_type": "stream",
          "name": "stderr",
          "text": [
            "100%|██████████| 27/27 [00:29<00:00,  1.09s/it]\n"
          ]
        },
        {
          "output_type": "stream",
          "name": "stdout",
          "text": [
            "Epoch: 37 Train Loss: 0.57162270 AUC: 0.90283401 \n",
            "[[0.94567733 0.05432267]\n",
            " [0.35505977 0.64494023]]\n"
          ]
        },
        {
          "output_type": "stream",
          "name": "stderr",
          "text": [
            "100%|██████████| 7/7 [00:03<00:00,  1.93it/s]\n"
          ]
        },
        {
          "output_type": "stream",
          "name": "stdout",
          "text": [
            "Epoch: 37 Val Loss: 0.68121321 AUC: 0.64705882 \n",
            "[[0.69369369 0.30630631]\n",
            " [0.32368421 0.67631579]]\n"
          ]
        },
        {
          "output_type": "stream",
          "name": "stderr",
          "text": [
            "100%|██████████| 27/27 [00:29<00:00,  1.10s/it]\n"
          ]
        },
        {
          "output_type": "stream",
          "name": "stdout",
          "text": [
            "Epoch: 38 Train Loss: 0.57302380 AUC: 0.92709360 \n",
            "[[0.94588501 0.05411499]\n",
            " [0.35315101 0.64684899]]\n"
          ]
        },
        {
          "output_type": "stream",
          "name": "stderr",
          "text": [
            "100%|██████████| 7/7 [00:04<00:00,  1.55it/s]\n"
          ]
        },
        {
          "output_type": "stream",
          "name": "stdout",
          "text": [
            "Epoch: 38 Val Loss: 0.66628781 AUC: 0.84440228 \n",
            "[[0.69404019 0.30595981]\n",
            " [0.32429792 0.67570208]]\n"
          ]
        },
        {
          "output_type": "stream",
          "name": "stderr",
          "text": [
            "100%|██████████| 27/27 [00:29<00:00,  1.10s/it]\n"
          ]
        },
        {
          "output_type": "stream",
          "name": "stdout",
          "text": [
            "Epoch: 39 Train Loss: 0.56959148 AUC: 0.94194194 \n",
            "[[0.94647689 0.05352311]\n",
            " [0.35151605 0.64848395]]\n"
          ]
        },
        {
          "output_type": "stream",
          "name": "stderr",
          "text": [
            "100%|██████████| 7/7 [00:03<00:00,  1.91it/s]\n"
          ]
        },
        {
          "output_type": "stream",
          "name": "stdout",
          "text": [
            "Epoch: 39 Val Loss: 0.66361952 AUC: 0.77324478 \n",
            "[[0.69234234 0.30765766]\n",
            " [0.32047619 0.67952381]]\n"
          ]
        },
        {
          "output_type": "stream",
          "name": "stderr",
          "text": [
            "100%|██████████| 27/27 [00:29<00:00,  1.09s/it]\n"
          ]
        },
        {
          "output_type": "stream",
          "name": "stdout",
          "text": [
            "Epoch: 40 Train Loss: 0.57196208 AUC: 0.90790791 \n",
            "[[0.94585751 0.05414249]\n",
            " [0.34801775 0.65198225]]\n"
          ]
        },
        {
          "output_type": "stream",
          "name": "stderr",
          "text": [
            "100%|██████████| 7/7 [00:03<00:00,  1.83it/s]\n"
          ]
        },
        {
          "output_type": "stream",
          "name": "stdout",
          "text": [
            "Epoch: 40 Val Loss: 0.65318834 AUC: 0.87286528 \n",
            "[[0.69292463 0.30707537]\n",
            " [0.31997677 0.68002323]]\n"
          ]
        },
        {
          "output_type": "stream",
          "name": "stderr",
          "text": [
            "100%|██████████| 27/27 [00:29<00:00,  1.09s/it]\n"
          ]
        },
        {
          "output_type": "stream",
          "name": "stdout",
          "text": [
            "Epoch: 41 Train Loss: 0.56709300 AUC: 0.94803922 \n",
            "[[0.9462608  0.0537392 ]\n",
            " [0.34587509 0.65412491]]\n"
          ]
        },
        {
          "output_type": "stream",
          "name": "stderr",
          "text": [
            "100%|██████████| 7/7 [00:03<00:00,  1.83it/s]\n"
          ]
        },
        {
          "output_type": "stream",
          "name": "stdout",
          "text": [
            "Epoch: 41 Val Loss: 0.68148610 AUC: 0.75901328 \n",
            "[[0.69058344 0.30941656]\n",
            " [0.31791383 0.68208617]]\n"
          ]
        },
        {
          "output_type": "stream",
          "name": "stderr",
          "text": [
            "100%|██████████| 27/27 [00:29<00:00,  1.10s/it]\n"
          ]
        },
        {
          "output_type": "stream",
          "name": "stdout",
          "text": [
            "Epoch: 42 Train Loss: 0.57279011 AUC: 0.97265625 \n",
            "[[0.94643559 0.05356441]\n",
            " [0.34424688 0.65575312]]\n"
          ]
        },
        {
          "output_type": "stream",
          "name": "stderr",
          "text": [
            "100%|██████████| 7/7 [00:04<00:00,  1.47it/s]\n"
          ]
        },
        {
          "output_type": "stream",
          "name": "stdout",
          "text": [
            "Epoch: 42 Val Loss: 0.67396166 AUC: 0.68595825 \n",
            "[[0.6884559  0.3115441 ]\n",
            " [0.31539313 0.68460687]]\n"
          ]
        },
        {
          "output_type": "stream",
          "name": "stderr",
          "text": [
            "100%|██████████| 27/27 [00:30<00:00,  1.13s/it]\n"
          ]
        },
        {
          "output_type": "stream",
          "name": "stdout",
          "text": [
            "Epoch: 43 Train Loss: 0.56915186 AUC: 0.97123016 \n",
            "[[0.9464487  0.0535513 ]\n",
            " [0.34190898 0.65809102]]\n"
          ]
        },
        {
          "output_type": "stream",
          "name": "stderr",
          "text": [
            "100%|██████████| 7/7 [00:03<00:00,  1.83it/s]\n"
          ]
        },
        {
          "output_type": "stream",
          "name": "stdout",
          "text": [
            "Epoch: 43 Val Loss: 0.66533848 AUC: 0.76280835 \n",
            "[[0.68744881 0.31255119]\n",
            " [0.31363636 0.68636364]]\n"
          ]
        },
        {
          "output_type": "stream",
          "name": "stderr",
          "text": [
            "100%|██████████| 27/27 [00:29<00:00,  1.10s/it]\n"
          ]
        },
        {
          "output_type": "stream",
          "name": "stdout",
          "text": [
            "Epoch: 44 Train Loss: 0.56614365 AUC: 0.88669951 \n",
            "[[0.94696229 0.05303771]\n",
            " [0.34009777 0.65990223]]\n"
          ]
        },
        {
          "output_type": "stream",
          "name": "stderr",
          "text": [
            "100%|██████████| 7/7 [00:03<00:00,  1.85it/s]\n"
          ]
        },
        {
          "output_type": "stream",
          "name": "stdout",
          "text": [
            "Epoch: 44 Val Loss: 0.66659528 AUC: 0.74193548 \n",
            "[[0.68898899 0.31101101]\n",
            " [0.31693122 0.68306878]]\n"
          ]
        },
        {
          "output_type": "stream",
          "name": "stderr",
          "text": [
            "100%|██████████| 27/27 [00:29<00:00,  1.09s/it]\n"
          ]
        },
        {
          "output_type": "stream",
          "name": "stdout",
          "text": [
            "Epoch: 45 Train Loss: 0.57038109 AUC: 0.93319838 \n",
            "[[0.94745356 0.05254644]\n",
            " [0.33888228 0.66111772]]\n"
          ]
        },
        {
          "output_type": "stream",
          "name": "stderr",
          "text": [
            "100%|██████████| 7/7 [00:03<00:00,  1.81it/s]\n"
          ]
        },
        {
          "output_type": "stream",
          "name": "stdout",
          "text": [
            "Epoch: 45 Val Loss: 0.67306658 AUC: 0.76755218 \n",
            "[[0.68585977 0.31414023]\n",
            " [0.31283644 0.68716356]]\n"
          ]
        },
        {
          "output_type": "stream",
          "name": "stderr",
          "text": [
            "100%|██████████| 27/27 [00:29<00:00,  1.10s/it]\n"
          ]
        },
        {
          "output_type": "stream",
          "name": "stdout",
          "text": [
            "Epoch: 46 Train Loss: 0.56760705 AUC: 0.94642857 \n",
            "[[0.94725227 0.05274773]\n",
            " [0.33637767 0.66362233]]\n"
          ]
        },
        {
          "output_type": "stream",
          "name": "stderr",
          "text": [
            "100%|██████████| 7/7 [00:03<00:00,  1.86it/s]\n"
          ]
        },
        {
          "output_type": "stream",
          "name": "stdout",
          "text": [
            "Epoch: 46 Val Loss: 0.65918043 AUC: 0.79791271 \n",
            "[[0.68583477 0.31416523]\n",
            " [0.31236069 0.68763931]]\n"
          ]
        },
        {
          "output_type": "stream",
          "name": "stderr",
          "text": [
            "100%|██████████| 27/27 [00:29<00:00,  1.09s/it]\n"
          ]
        },
        {
          "output_type": "stream",
          "name": "stdout",
          "text": [
            "Epoch: 47 Train Loss: 0.56043523 AUC: 0.92864125 \n",
            "[[0.9473882  0.0526118 ]\n",
            " [0.33365537 0.66634463]]\n"
          ]
        },
        {
          "output_type": "stream",
          "name": "stderr",
          "text": [
            "100%|██████████| 7/7 [00:03<00:00,  1.86it/s]\n"
          ]
        },
        {
          "output_type": "stream",
          "name": "stdout",
          "text": [
            "Epoch: 47 Val Loss: 0.66111345 AUC: 0.81783681 \n",
            "[[0.68459084 0.31540916]\n",
            " [0.30962302 0.69037698]]\n"
          ]
        },
        {
          "output_type": "stream",
          "name": "stderr",
          "text": [
            "100%|██████████| 27/27 [00:29<00:00,  1.09s/it]\n"
          ]
        },
        {
          "output_type": "stream",
          "name": "stdout",
          "text": [
            "Epoch: 48 Train Loss: 0.55961329 AUC: 0.93646139 \n",
            "[[0.94744955 0.05255045]\n",
            " [0.33072872 0.66927128]]\n"
          ]
        },
        {
          "output_type": "stream",
          "name": "stderr",
          "text": [
            "100%|██████████| 7/7 [00:03<00:00,  1.86it/s]\n"
          ]
        },
        {
          "output_type": "stream",
          "name": "stdout",
          "text": [
            "Epoch: 48 Val Loss: 0.67967744 AUC: 0.74478178 \n",
            "[[0.68358154 0.31641846]\n",
            " [0.30942663 0.69057337]]\n"
          ]
        },
        {
          "output_type": "stream",
          "name": "stderr",
          "text": [
            "100%|██████████| 27/27 [00:29<00:00,  1.08s/it]\n"
          ]
        },
        {
          "output_type": "stream",
          "name": "stdout",
          "text": [
            "Epoch: 49 Train Loss: 0.56712890 AUC: 0.93137255 \n",
            "[[0.9476212  0.0523788 ]\n",
            " [0.32915577 0.67084423]]\n"
          ]
        },
        {
          "output_type": "stream",
          "name": "stderr",
          "text": [
            "100%|██████████| 7/7 [00:03<00:00,  1.85it/s]\n"
          ]
        },
        {
          "output_type": "stream",
          "name": "stdout",
          "text": [
            "Epoch: 49 Val Loss: 0.68616752 AUC: 0.60910816 \n",
            "[[0.68126126 0.31873874]\n",
            " [0.30733333 0.69266667]]\n"
          ]
        },
        {
          "output_type": "stream",
          "name": "stderr",
          "text": [
            "100%|██████████| 27/27 [00:29<00:00,  1.10s/it]\n"
          ]
        },
        {
          "output_type": "stream",
          "name": "stdout",
          "text": [
            "Epoch: 50 Train Loss: 0.56707149 AUC: 0.91527094 \n",
            "[[0.94791874 0.05208126]\n",
            " [0.32764449 0.67235551]]\n"
          ]
        },
        {
          "output_type": "stream",
          "name": "stderr",
          "text": [
            "100%|██████████| 7/7 [00:03<00:00,  1.89it/s]\n"
          ]
        },
        {
          "output_type": "stream",
          "name": "stdout",
          "text": [
            "Epoch: 50 Val Loss: 0.67371591 AUC: 0.73339658 \n",
            "[[0.68009186 0.31990814]\n",
            " [0.30634921 0.69365079]]\n"
          ]
        },
        {
          "output_type": "stream",
          "name": "stderr",
          "text": [
            "100%|██████████| 27/27 [00:29<00:00,  1.09s/it]\n"
          ]
        },
        {
          "output_type": "stream",
          "name": "stdout",
          "text": [
            "Epoch: 51 Train Loss: 0.56681257 AUC: 0.87093596 \n",
            "[[0.94839997 0.05160003]\n",
            " [0.32642001 0.67357999]]\n"
          ]
        },
        {
          "output_type": "stream",
          "name": "stderr",
          "text": [
            "100%|██████████| 7/7 [00:03<00:00,  1.95it/s]\n"
          ]
        },
        {
          "output_type": "stream",
          "name": "stdout",
          "text": [
            "Epoch: 51 Val Loss: 0.66314352 AUC: 0.75806452 \n",
            "[[0.6795738  0.3204262 ]\n",
            " [0.30512821 0.69487179]]\n"
          ]
        },
        {
          "output_type": "stream",
          "name": "stderr",
          "text": [
            "100%|██████████| 27/27 [00:29<00:00,  1.09s/it]\n"
          ]
        },
        {
          "output_type": "stream",
          "name": "stdout",
          "text": [
            "Epoch: 52 Train Loss: 0.57086411 AUC: 0.89384921 \n",
            "[[0.94867159 0.05132841]\n",
            " [0.32557826 0.67442174]]\n"
          ]
        },
        {
          "output_type": "stream",
          "name": "stderr",
          "text": [
            "100%|██████████| 7/7 [00:03<00:00,  1.84it/s]\n"
          ]
        },
        {
          "output_type": "stream",
          "name": "stdout",
          "text": [
            "Epoch: 52 Val Loss: 0.71061900 AUC: 0.66793169 \n",
            "[[0.67695054 0.32304946]\n",
            " [0.30503145 0.69496855]]\n"
          ]
        },
        {
          "output_type": "stream",
          "name": "stderr",
          "text": [
            "100%|██████████| 27/27 [00:29<00:00,  1.09s/it]\n"
          ]
        },
        {
          "output_type": "stream",
          "name": "stdout",
          "text": [
            "Epoch: 53 Train Loss: 0.57135252 AUC: 0.97044335 \n",
            "[[0.94926719 0.05073281]\n",
            " [0.32525212 0.67474788]]\n"
          ]
        },
        {
          "output_type": "stream",
          "name": "stderr",
          "text": [
            "100%|██████████| 7/7 [00:03<00:00,  1.85it/s]\n"
          ]
        },
        {
          "output_type": "stream",
          "name": "stdout",
          "text": [
            "Epoch: 53 Val Loss: 0.68777274 AUC: 0.67172676 \n",
            "[[0.67550884 0.32449116]\n",
            " [0.3042328  0.6957672 ]]\n"
          ]
        },
        {
          "output_type": "stream",
          "name": "stderr",
          "text": [
            "100%|██████████| 27/27 [00:29<00:00,  1.08s/it]\n"
          ]
        },
        {
          "output_type": "stream",
          "name": "stdout",
          "text": [
            "Epoch: 54 Train Loss: 0.56381003 AUC: 0.96285435 \n",
            "[[0.94934919 0.05065081]\n",
            " [0.32344611 0.67655389]]\n"
          ]
        },
        {
          "output_type": "stream",
          "name": "stderr",
          "text": [
            "100%|██████████| 7/7 [00:04<00:00,  1.58it/s]\n"
          ]
        },
        {
          "output_type": "stream",
          "name": "stdout",
          "text": [
            "Epoch: 54 Val Loss: 0.68953858 AUC: 0.72580645 \n",
            "[[0.67321867 0.32678133]\n",
            " [0.30277056 0.69722944]]\n"
          ]
        },
        {
          "output_type": "stream",
          "name": "stderr",
          "text": [
            "100%|██████████| 27/27 [00:29<00:00,  1.08s/it]\n"
          ]
        },
        {
          "output_type": "stream",
          "name": "stdout",
          "text": [
            "Epoch: 55 Train Loss: 0.56719223 AUC: 0.94117647 \n",
            "[[0.94985102 0.05014898]\n",
            " [0.32268133 0.67731867]]\n"
          ]
        },
        {
          "output_type": "stream",
          "name": "stderr",
          "text": [
            "100%|██████████| 7/7 [00:03<00:00,  1.85it/s]\n"
          ]
        },
        {
          "output_type": "stream",
          "name": "stdout",
          "text": [
            "Epoch: 55 Val Loss: 0.67802605 AUC: 0.71062619 \n",
            "[[0.67189511 0.32810489]\n",
            " [0.30127551 0.69872449]]\n"
          ]
        },
        {
          "output_type": "stream",
          "name": "stderr",
          "text": [
            "100%|██████████| 27/27 [00:29<00:00,  1.09s/it]\n"
          ]
        },
        {
          "output_type": "stream",
          "name": "stdout",
          "text": [
            "Epoch: 56 Train Loss: 0.56881005 AUC: 0.90384615 \n",
            "[[0.94956388 0.05043612]\n",
            " [0.32085863 0.67914137]]\n"
          ]
        },
        {
          "output_type": "stream",
          "name": "stderr",
          "text": [
            "100%|██████████| 7/7 [00:04<00:00,  1.46it/s]\n"
          ]
        },
        {
          "output_type": "stream",
          "name": "stdout",
          "text": [
            "Epoch: 56 Val Loss: 0.66863130 AUC: 0.83586338 \n",
            "[[0.67014383 0.32985617]\n",
            " [0.2984127  0.7015873 ]]\n"
          ]
        },
        {
          "output_type": "stream",
          "name": "stderr",
          "text": [
            "100%|██████████| 27/27 [00:29<00:00,  1.09s/it]\n"
          ]
        },
        {
          "output_type": "stream",
          "name": "stdout",
          "text": [
            "Epoch: 57 Train Loss: 0.56512895 AUC: 0.93841642 \n",
            "[[0.94975314 0.05024686]\n",
            " [0.3195703  0.6804297 ]]\n"
          ]
        },
        {
          "output_type": "stream",
          "name": "stderr",
          "text": [
            "100%|██████████| 7/7 [00:03<00:00,  1.83it/s]\n"
          ]
        },
        {
          "output_type": "stream",
          "name": "stdout",
          "text": [
            "Epoch: 57 Val Loss: 0.67703315 AUC: 0.70018975 \n",
            "[[0.66977322 0.33022678]\n",
            " [0.29827586 0.70172414]]\n"
          ]
        },
        {
          "output_type": "stream",
          "name": "stderr",
          "text": [
            "100%|██████████| 27/27 [00:29<00:00,  1.09s/it]\n"
          ]
        },
        {
          "output_type": "stream",
          "name": "stdout",
          "text": [
            "Epoch: 58 Train Loss: 0.56273708 AUC: 0.92460317 \n",
            "[[0.94985955 0.05014045]\n",
            " [0.31794272 0.68205728]]\n"
          ]
        },
        {
          "output_type": "stream",
          "name": "stderr",
          "text": [
            "100%|██████████| 7/7 [00:04<00:00,  1.45it/s]\n"
          ]
        },
        {
          "output_type": "stream",
          "name": "stdout",
          "text": [
            "Epoch: 58 Val Loss: 0.66193053 AUC: 0.70588235 \n",
            "[[0.67124752 0.32875248]\n",
            " [0.3        0.7       ]]\n"
          ]
        },
        {
          "output_type": "stream",
          "name": "stderr",
          "text": [
            "100%|██████████| 27/27 [00:31<00:00,  1.15s/it]\n"
          ]
        },
        {
          "output_type": "stream",
          "name": "stdout",
          "text": [
            "Epoch: 59 Train Loss: 0.56573910 AUC: 0.92492492 \n",
            "[[0.95024427 0.04975573]\n",
            " [0.31720174 0.68279826]]\n"
          ]
        },
        {
          "output_type": "stream",
          "name": "stderr",
          "text": [
            "100%|██████████| 7/7 [00:03<00:00,  1.85it/s]\n"
          ]
        },
        {
          "output_type": "stream",
          "name": "stdout",
          "text": [
            "Epoch: 59 Val Loss: 0.67200054 AUC: 0.73434535 \n",
            "[[0.67147147 0.32852853]\n",
            " [0.30071429 0.69928571]]\n"
          ]
        },
        {
          "output_type": "stream",
          "name": "stderr",
          "text": [
            "100%|██████████| 27/27 [00:29<00:00,  1.08s/it]\n"
          ]
        },
        {
          "output_type": "stream",
          "name": "stdout",
          "text": [
            "Epoch: 60 Train Loss: 0.56248177 AUC: 0.98128079 \n",
            "[[0.95057941 0.04942059]\n",
            " [0.31595875 0.68404125]]\n"
          ]
        },
        {
          "output_type": "stream",
          "name": "stderr",
          "text": [
            "100%|██████████| 7/7 [00:03<00:00,  1.79it/s]\n"
          ]
        },
        {
          "output_type": "stream",
          "name": "stdout",
          "text": [
            "Epoch: 60 Val Loss: 0.66854130 AUC: 0.74573055 \n",
            "[[0.67028504 0.32971496]\n",
            " [0.29828259 0.70171741]]\n"
          ]
        },
        {
          "output_type": "stream",
          "name": "stderr",
          "text": [
            "100%|██████████| 27/27 [00:29<00:00,  1.09s/it]\n"
          ]
        },
        {
          "output_type": "stream",
          "name": "stdout",
          "text": [
            "Epoch: 61 Train Loss: 0.56111044 AUC: 0.94871795 \n",
            "[[0.9507219  0.0492781 ]\n",
            " [0.31431476 0.68568524]]\n"
          ]
        },
        {
          "output_type": "stream",
          "name": "stderr",
          "text": [
            "100%|██████████| 7/7 [00:03<00:00,  1.83it/s]\n"
          ]
        },
        {
          "output_type": "stream",
          "name": "stdout",
          "text": [
            "Epoch: 61 Val Loss: 0.66057333 AUC: 0.81119545 \n",
            "[[0.67102586 0.32897414]\n",
            " [0.29877112 0.70122888]]\n"
          ]
        },
        {
          "output_type": "stream",
          "name": "stderr",
          "text": [
            "100%|██████████| 27/27 [00:29<00:00,  1.09s/it]\n"
          ]
        },
        {
          "output_type": "stream",
          "name": "stdout",
          "text": [
            "Epoch: 62 Train Loss: 0.56666103 AUC: 0.93218623 \n",
            "[[0.95094934 0.04905066]\n",
            " [0.31353453 0.68646547]]\n"
          ]
        },
        {
          "output_type": "stream",
          "name": "stderr",
          "text": [
            "100%|██████████| 7/7 [00:03<00:00,  1.75it/s]\n"
          ]
        },
        {
          "output_type": "stream",
          "name": "stdout",
          "text": [
            "Epoch: 62 Val Loss: 0.66884582 AUC: 0.74193548 \n",
            "[[0.67002717 0.32997283]\n",
            " [0.2973545  0.7026455 ]]\n"
          ]
        },
        {
          "output_type": "stream",
          "name": "stderr",
          "text": [
            "100%|██████████| 27/27 [00:30<00:00,  1.14s/it]\n"
          ]
        },
        {
          "output_type": "stream",
          "name": "stdout",
          "text": [
            "Epoch: 63 Train Loss: 0.56593097 AUC: 0.95895896 \n",
            "[[0.95113444 0.04886556]\n",
            " [0.31263005 0.68736995]]\n"
          ]
        },
        {
          "output_type": "stream",
          "name": "stderr",
          "text": [
            "100%|██████████| 7/7 [00:03<00:00,  1.86it/s]\n"
          ]
        },
        {
          "output_type": "stream",
          "name": "stdout",
          "text": [
            "Epoch: 63 Val Loss: 0.67595488 AUC: 0.77039848 \n",
            "[[0.66927083 0.33072917]\n",
            " [0.29657738 0.70342262]]\n"
          ]
        },
        {
          "output_type": "stream",
          "name": "stderr",
          "text": [
            "100%|██████████| 27/27 [00:29<00:00,  1.09s/it]\n"
          ]
        },
        {
          "output_type": "stream",
          "name": "stdout",
          "text": [
            "Epoch: 64 Train Loss: 0.56094448 AUC: 0.96496496 \n",
            "[[0.95134854 0.04865146]\n",
            " [0.3112412  0.6887588 ]]\n"
          ]
        },
        {
          "output_type": "stream",
          "name": "stderr",
          "text": [
            "100%|██████████| 7/7 [00:03<00:00,  1.85it/s]\n"
          ]
        },
        {
          "output_type": "stream",
          "name": "stdout",
          "text": [
            "Epoch: 64 Val Loss: 0.66099303 AUC: 0.71916509 \n",
            "[[0.66874567 0.33125433]\n",
            " [0.29479853 0.70520147]]\n"
          ]
        },
        {
          "output_type": "stream",
          "name": "stderr",
          "text": [
            "100%|██████████| 27/27 [00:29<00:00,  1.08s/it]\n"
          ]
        },
        {
          "output_type": "stream",
          "name": "stdout",
          "text": [
            "Epoch: 65 Train Loss: 0.56140658 AUC: 0.98325123 \n",
            "[[0.95159031 0.04840969]\n",
            " [0.31007459 0.68992541]]\n"
          ]
        },
        {
          "output_type": "stream",
          "name": "stderr",
          "text": [
            "100%|██████████| 7/7 [00:03<00:00,  1.87it/s]\n"
          ]
        },
        {
          "output_type": "stream",
          "name": "stdout",
          "text": [
            "Epoch: 65 Val Loss: 0.66925008 AUC: 0.65844402 \n",
            "[[0.66823642 0.33176358]\n",
            " [0.29336219 0.70663781]]\n"
          ]
        },
        {
          "output_type": "stream",
          "name": "stderr",
          "text": [
            "100%|██████████| 27/27 [00:29<00:00,  1.08s/it]\n"
          ]
        },
        {
          "output_type": "stream",
          "name": "stdout",
          "text": [
            "Epoch: 66 Train Loss: 0.55940825 AUC: 0.96320346 \n",
            "[[0.95184169 0.04815831]\n",
            " [0.30878308 0.69121692]]\n"
          ]
        },
        {
          "output_type": "stream",
          "name": "stderr",
          "text": [
            "100%|██████████| 7/7 [00:04<00:00,  1.51it/s]\n"
          ]
        },
        {
          "output_type": "stream",
          "name": "stdout",
          "text": [
            "Epoch: 66 Val Loss: 0.66191672 AUC: 0.72296015 \n",
            "[[0.66834745 0.33165255]\n",
            " [0.29331912 0.70668088]]\n"
          ]
        },
        {
          "output_type": "stream",
          "name": "stderr",
          "text": [
            "100%|██████████| 27/27 [00:30<00:00,  1.14s/it]\n"
          ]
        },
        {
          "output_type": "stream",
          "name": "stdout",
          "text": [
            "Epoch: 67 Train Loss: 0.56157434 AUC: 0.95172414 \n",
            "[[0.95190331 0.04809669]\n",
            " [0.30738966 0.69261034]]\n"
          ]
        },
        {
          "output_type": "stream",
          "name": "stderr",
          "text": [
            "100%|██████████| 7/7 [00:04<00:00,  1.55it/s]\n"
          ]
        },
        {
          "output_type": "stream",
          "name": "stdout",
          "text": [
            "Epoch: 67 Val Loss: 0.66212776 AUC: 0.74383302 \n",
            "[[0.66885268 0.33114732]\n",
            " [0.29383754 0.70616246]]\n"
          ]
        },
        {
          "output_type": "stream",
          "name": "stderr",
          "text": [
            "100%|██████████| 27/27 [00:31<00:00,  1.15s/it]\n"
          ]
        },
        {
          "output_type": "stream",
          "name": "stdout",
          "text": [
            "Epoch: 68 Train Loss: 0.55933792 AUC: 0.97949219 \n",
            "[[0.95211019 0.04788981]\n",
            " [0.3062262  0.6937738 ]]\n"
          ]
        },
        {
          "output_type": "stream",
          "name": "stderr",
          "text": [
            "100%|██████████| 7/7 [00:03<00:00,  1.83it/s]\n"
          ]
        },
        {
          "output_type": "stream",
          "name": "stdout",
          "text": [
            "Epoch: 68 Val Loss: 0.66103577 AUC: 0.76470588 \n",
            "[[0.66790704 0.33209296]\n",
            " [0.29144237 0.70855763]]\n"
          ]
        },
        {
          "output_type": "stream",
          "name": "stderr",
          "text": [
            "100%|██████████| 27/27 [00:30<00:00,  1.11s/it]\n"
          ]
        },
        {
          "output_type": "stream",
          "name": "stdout",
          "text": [
            "Epoch: 69 Train Loss: 0.56211851 AUC: 0.90490196 \n",
            "[[0.95211789 0.04788211]\n",
            " [0.30492611 0.69507389]]\n"
          ]
        },
        {
          "output_type": "stream",
          "name": "stderr",
          "text": [
            "100%|██████████| 7/7 [00:03<00:00,  1.83it/s]\n"
          ]
        },
        {
          "output_type": "stream",
          "name": "stdout",
          "text": [
            "Epoch: 69 Val Loss: 0.66490292 AUC: 0.72865275 \n",
            "[[0.66866152 0.33133848]\n",
            " [0.29244898 0.70755102]]\n"
          ]
        },
        {
          "output_type": "stream",
          "name": "stderr",
          "text": [
            "100%|██████████| 27/27 [00:29<00:00,  1.10s/it]\n"
          ]
        },
        {
          "output_type": "stream",
          "name": "stdout",
          "text": [
            "Epoch: 70 Train Loss: 0.55695245 AUC: 0.95019531 \n",
            "[[0.95231592 0.04768408]\n",
            " [0.30362915 0.69637085]]\n"
          ]
        },
        {
          "output_type": "stream",
          "name": "stderr",
          "text": [
            "100%|██████████| 7/7 [00:03<00:00,  1.86it/s]\n"
          ]
        },
        {
          "output_type": "stream",
          "name": "stdout",
          "text": [
            "Epoch: 70 Val Loss: 0.67006175 AUC: 0.66698292 \n",
            "[[0.66793554 0.33206446]\n",
            " [0.29107981 0.70892019]]\n"
          ]
        },
        {
          "output_type": "stream",
          "name": "stderr",
          "text": [
            "100%|██████████| 27/27 [00:31<00:00,  1.16s/it]\n"
          ]
        },
        {
          "output_type": "stream",
          "name": "stdout",
          "text": [
            "Epoch: 71 Train Loss: 0.56014743 AUC: 0.91921182 \n",
            "[[0.95238319 0.04761681]\n",
            " [0.30221958 0.69778042]]\n"
          ]
        },
        {
          "output_type": "stream",
          "name": "stderr",
          "text": [
            "100%|██████████| 7/7 [00:03<00:00,  1.84it/s]\n"
          ]
        },
        {
          "output_type": "stream",
          "name": "stdout",
          "text": [
            "Epoch: 71 Val Loss: 0.64775803 AUC: 0.75711575 \n",
            "[[0.66898148 0.33101852]\n",
            " [0.29113757 0.70886243]]\n"
          ]
        },
        {
          "output_type": "stream",
          "name": "stderr",
          "text": [
            "100%|██████████| 27/27 [00:29<00:00,  1.11s/it]\n"
          ]
        },
        {
          "output_type": "stream",
          "name": "stdout",
          "text": [
            "Epoch: 72 Train Loss: 0.56089040 AUC: 0.95039683 \n",
            "[[0.95255672 0.04744328]\n",
            " [0.30119069 0.69880931]]\n"
          ]
        },
        {
          "output_type": "stream",
          "name": "stderr",
          "text": [
            "100%|██████████| 7/7 [00:03<00:00,  1.82it/s]\n"
          ]
        },
        {
          "output_type": "stream",
          "name": "stdout",
          "text": [
            "Epoch: 72 Val Loss: 0.65769789 AUC: 0.72106262 \n",
            "[[0.66907318 0.33092682]\n",
            " [0.29060665 0.70939335]]\n"
          ]
        },
        {
          "output_type": "stream",
          "name": "stderr",
          "text": [
            "100%|██████████| 27/27 [00:29<00:00,  1.10s/it]\n"
          ]
        },
        {
          "output_type": "stream",
          "name": "stdout",
          "text": [
            "Epoch: 73 Train Loss: 0.55643954 AUC: 0.95686275 \n",
            "[[0.95287791 0.04712209]\n",
            " [0.30007713 0.69992287]]\n"
          ]
        },
        {
          "output_type": "stream",
          "name": "stderr",
          "text": [
            "100%|██████████| 7/7 [00:03<00:00,  1.85it/s]\n"
          ]
        },
        {
          "output_type": "stream",
          "name": "stdout",
          "text": [
            "Epoch: 73 Val Loss: 0.67461277 AUC: 0.59392789 \n",
            "[[0.66849282 0.33150718]\n",
            " [0.28996139 0.71003861]]\n"
          ]
        },
        {
          "output_type": "stream",
          "name": "stderr",
          "text": [
            "100%|██████████| 27/27 [00:30<00:00,  1.12s/it]\n"
          ]
        },
        {
          "output_type": "stream",
          "name": "stdout",
          "text": [
            "Epoch: 74 Train Loss: 0.55780724 AUC: 0.94232649 \n",
            "[[0.95307027 0.04692973]\n",
            " [0.2989457  0.7010543 ]]\n"
          ]
        },
        {
          "output_type": "stream",
          "name": "stderr",
          "text": [
            "100%|██████████| 7/7 [00:03<00:00,  1.78it/s]\n"
          ]
        },
        {
          "output_type": "stream",
          "name": "stdout",
          "text": [
            "Epoch: 74 Val Loss: 0.65344007 AUC: 0.69639469 \n",
            "[[0.66900901 0.33099099]\n",
            " [0.28965079 0.71034921]]\n"
          ]
        },
        {
          "output_type": "stream",
          "name": "stderr",
          "text": [
            "100%|██████████| 27/27 [00:30<00:00,  1.13s/it]\n"
          ]
        },
        {
          "output_type": "stream",
          "name": "stdout",
          "text": [
            "Epoch: 75 Train Loss: 0.56111821 AUC: 0.92968750 \n",
            "[[0.95318341 0.04681659]\n",
            " [0.29796921 0.70203079]]\n"
          ]
        },
        {
          "output_type": "stream",
          "name": "stderr",
          "text": [
            "100%|██████████| 7/7 [00:03<00:00,  1.79it/s]\n"
          ]
        },
        {
          "output_type": "stream",
          "name": "stdout",
          "text": [
            "Epoch: 75 Val Loss: 0.65849404 AUC: 0.78083491 \n",
            "[[0.66933381 0.33066619]\n",
            " [0.28991228 0.71008772]]\n"
          ]
        },
        {
          "output_type": "stream",
          "name": "stderr",
          "text": [
            "100%|██████████| 27/27 [00:30<00:00,  1.12s/it]\n"
          ]
        },
        {
          "output_type": "stream",
          "name": "stdout",
          "text": [
            "Epoch: 76 Train Loss: 0.56129405 AUC: 0.97254902 \n",
            "[[0.95316183 0.04683817]\n",
            " [0.29689454 0.70310546]]\n"
          ]
        },
        {
          "output_type": "stream",
          "name": "stderr",
          "text": [
            "100%|██████████| 7/7 [00:03<00:00,  1.82it/s]\n"
          ]
        },
        {
          "output_type": "stream",
          "name": "stdout",
          "text": [
            "Epoch: 76 Val Loss: 0.66956994 AUC: 0.80075901 \n",
            "[[0.66865567 0.33134433]\n",
            " [0.28855906 0.71144094]]\n"
          ]
        },
        {
          "output_type": "stream",
          "name": "stderr",
          "text": [
            "100%|██████████| 27/27 [00:30<00:00,  1.11s/it]\n"
          ]
        },
        {
          "output_type": "stream",
          "name": "stdout",
          "text": [
            "Epoch: 77 Train Loss: 0.55908093 AUC: 0.98142717 \n",
            "[[0.95319862 0.04680138]\n",
            " [0.29567975 0.70432025]]\n"
          ]
        },
        {
          "output_type": "stream",
          "name": "stderr",
          "text": [
            "100%|██████████| 7/7 [00:03<00:00,  1.78it/s]\n"
          ]
        },
        {
          "output_type": "stream",
          "name": "stdout",
          "text": [
            "Epoch: 77 Val Loss: 0.66452741 AUC: 0.66508539 \n",
            "[[0.66764842 0.33235158]\n",
            " [0.28669109 0.71330891]]\n"
          ]
        },
        {
          "output_type": "stream",
          "name": "stderr",
          "text": [
            "100%|██████████| 27/27 [00:30<00:00,  1.12s/it]\n"
          ]
        },
        {
          "output_type": "stream",
          "name": "stdout",
          "text": [
            "Epoch: 78 Train Loss: 0.55438909 AUC: 0.92941176 \n",
            "[[0.95326303 0.04673697]\n",
            " [0.29411942 0.70588058]]\n"
          ]
        },
        {
          "output_type": "stream",
          "name": "stderr",
          "text": [
            "100%|██████████| 7/7 [00:03<00:00,  1.87it/s]\n"
          ]
        },
        {
          "output_type": "stream",
          "name": "stdout",
          "text": [
            "Epoch: 78 Val Loss: 0.65039373 AUC: 0.78273245 \n",
            "[[0.6685483  0.3314517 ]\n",
            " [0.28722122 0.71277878]]\n"
          ]
        },
        {
          "output_type": "stream",
          "name": "stderr",
          "text": [
            "100%|██████████| 27/27 [00:30<00:00,  1.12s/it]\n"
          ]
        },
        {
          "output_type": "stream",
          "name": "stdout",
          "text": [
            "Epoch: 79 Train Loss: 0.56054460 AUC: 0.93650794 \n",
            "[[0.95326945 0.04673055]\n",
            " [0.29302913 0.70697087]]\n"
          ]
        },
        {
          "output_type": "stream",
          "name": "stderr",
          "text": [
            "100%|██████████| 7/7 [00:03<00:00,  1.88it/s]\n"
          ]
        },
        {
          "output_type": "stream",
          "name": "stdout",
          "text": [
            "Epoch: 79 Val Loss: 0.65644174 AUC: 0.81593928 \n",
            "[[0.66801802 0.33198198]\n",
            " [0.28565476 0.71434524]]\n"
          ]
        },
        {
          "output_type": "stream",
          "name": "stderr",
          "text": [
            "100%|██████████| 27/27 [00:30<00:00,  1.11s/it]\n"
          ]
        },
        {
          "output_type": "stream",
          "name": "stdout",
          "text": [
            "Epoch: 80 Train Loss: 0.55722369 AUC: 0.97067449 \n",
            "[[0.95351232 0.04648768]\n",
            " [0.29211256 0.70788744]]\n"
          ]
        },
        {
          "output_type": "stream",
          "name": "stderr",
          "text": [
            "100%|██████████| 7/7 [00:03<00:00,  1.83it/s]\n"
          ]
        },
        {
          "output_type": "stream",
          "name": "stdout",
          "text": [
            "Epoch: 80 Val Loss: 0.66218279 AUC: 0.81593928 \n",
            "[[0.66755645 0.33244355]\n",
            " [0.28465608 0.71534392]]\n"
          ]
        },
        {
          "output_type": "stream",
          "name": "stderr",
          "text": [
            "100%|██████████| 27/27 [00:30<00:00,  1.12s/it]\n"
          ]
        },
        {
          "output_type": "stream",
          "name": "stdout",
          "text": [
            "Epoch: 81 Train Loss: 0.55630489 AUC: 0.96356275 \n",
            "[[0.95358429 0.04641571]\n",
            " [0.29085583 0.70914417]]\n"
          ]
        },
        {
          "output_type": "stream",
          "name": "stderr",
          "text": [
            "100%|██████████| 7/7 [00:03<00:00,  1.83it/s]\n"
          ]
        },
        {
          "output_type": "stream",
          "name": "stdout",
          "text": [
            "Epoch: 81 Val Loss: 0.67142369 AUC: 0.74003795 \n",
            "[[0.66699626 0.33300374]\n",
            " [0.28397213 0.71602787]]\n"
          ]
        },
        {
          "output_type": "stream",
          "name": "stderr",
          "text": [
            "100%|██████████| 27/27 [00:29<00:00,  1.10s/it]\n"
          ]
        },
        {
          "output_type": "stream",
          "name": "stdout",
          "text": [
            "Epoch: 82 Train Loss: 0.55724214 AUC: 0.92277615 \n",
            "[[0.95365453 0.04634547]\n",
            " [0.28974399 0.71025601]]\n"
          ]
        },
        {
          "output_type": "stream",
          "name": "stderr",
          "text": [
            "100%|██████████| 7/7 [00:03<00:00,  1.79it/s]\n"
          ]
        },
        {
          "output_type": "stream",
          "name": "stdout",
          "text": [
            "Epoch: 82 Val Loss: 0.64914124 AUC: 0.71347249 \n",
            "[[0.66737219 0.33262781]\n",
            " [0.2831899  0.7168101 ]]\n"
          ]
        },
        {
          "output_type": "stream",
          "name": "stderr",
          "text": [
            "100%|██████████| 27/27 [00:30<00:00,  1.14s/it]\n"
          ]
        },
        {
          "output_type": "stream",
          "name": "stdout",
          "text": [
            "Epoch: 83 Train Loss: 0.55674917 AUC: 0.97879109 \n",
            "[[0.95365598 0.04634402]\n",
            " [0.28853123 0.71146877]]\n"
          ]
        },
        {
          "output_type": "stream",
          "name": "stderr",
          "text": [
            "100%|██████████| 7/7 [00:03<00:00,  1.88it/s]\n"
          ]
        },
        {
          "output_type": "stream",
          "name": "stdout",
          "text": [
            "Epoch: 83 Val Loss: 0.67091346 AUC: 0.67457306 \n",
            "[[0.66682754 0.33317246]\n",
            " [0.28236961 0.71763039]]\n"
          ]
        },
        {
          "output_type": "stream",
          "name": "stderr",
          "text": [
            "100%|██████████| 27/27 [00:30<00:00,  1.11s/it]\n"
          ]
        },
        {
          "output_type": "stream",
          "name": "stdout",
          "text": [
            "Epoch: 84 Train Loss: 0.55599296 AUC: 0.99895833 \n",
            "[[0.95382983 0.04617017]\n",
            " [0.28755683 0.71244317]]\n"
          ]
        },
        {
          "output_type": "stream",
          "name": "stderr",
          "text": [
            "100%|██████████| 7/7 [00:03<00:00,  1.84it/s]\n"
          ]
        },
        {
          "output_type": "stream",
          "name": "stdout",
          "text": [
            "Epoch: 84 Val Loss: 0.66941787 AUC: 0.60721063 \n",
            "[[0.66645469 0.33354531]\n",
            " [0.28162465 0.71837535]]\n"
          ]
        },
        {
          "output_type": "stream",
          "name": "stderr",
          "text": [
            "100%|██████████| 27/27 [00:29<00:00,  1.11s/it]\n"
          ]
        },
        {
          "output_type": "stream",
          "name": "stdout",
          "text": [
            "Epoch: 85 Train Loss: 0.55558058 AUC: 0.94117647 \n",
            "[[0.95407829 0.04592171]\n",
            " [0.28667423 0.71332577]]\n"
          ]
        },
        {
          "output_type": "stream",
          "name": "stderr",
          "text": [
            "100%|██████████| 7/7 [00:03<00:00,  1.81it/s]\n"
          ]
        },
        {
          "output_type": "stream",
          "name": "stdout",
          "text": [
            "Epoch: 85 Val Loss: 0.66532597 AUC: 0.74288425 \n",
            "[[0.66671904 0.33328096]\n",
            " [0.28189369 0.71810631]]\n"
          ]
        },
        {
          "output_type": "stream",
          "name": "stderr",
          "text": [
            "100%|██████████| 27/27 [00:30<00:00,  1.12s/it]\n"
          ]
        },
        {
          "output_type": "stream",
          "name": "stdout",
          "text": [
            "Epoch: 86 Train Loss: 0.55654889 AUC: 0.96457490 \n",
            "[[0.95423033 0.04576967]\n",
            " [0.28579824 0.71420176]]\n"
          ]
        },
        {
          "output_type": "stream",
          "name": "stderr",
          "text": [
            "100%|██████████| 7/7 [00:04<00:00,  1.45it/s]\n"
          ]
        },
        {
          "output_type": "stream",
          "name": "stdout",
          "text": [
            "Epoch: 86 Val Loss: 0.65700125 AUC: 0.81214421 \n",
            "[[0.66661489 0.33338511]\n",
            " [0.28117132 0.71882868]]\n"
          ]
        },
        {
          "output_type": "stream",
          "name": "stderr",
          "text": [
            "100%|██████████| 27/27 [00:31<00:00,  1.16s/it]\n"
          ]
        },
        {
          "output_type": "stream",
          "name": "stdout",
          "text": [
            "Epoch: 87 Train Loss: 0.55667933 AUC: 0.98125000 \n",
            "[[0.95444296 0.04555704]\n",
            " [0.28499622 0.71500378]]\n"
          ]
        },
        {
          "output_type": "stream",
          "name": "stderr",
          "text": [
            "100%|██████████| 7/7 [00:03<00:00,  1.81it/s]\n"
          ]
        },
        {
          "output_type": "stream",
          "name": "stdout",
          "text": [
            "Epoch: 87 Val Loss: 0.66995578 AUC: 0.76850095 \n",
            "[[0.66584767 0.33415233]\n",
            " [0.27992424 0.72007576]]\n"
          ]
        },
        {
          "output_type": "stream",
          "name": "stderr",
          "text": [
            "100%|██████████| 27/27 [00:30<00:00,  1.12s/it]\n"
          ]
        },
        {
          "output_type": "stream",
          "name": "stdout",
          "text": [
            "Epoch: 88 Train Loss: 0.55717044 AUC: 0.93627451 \n",
            "[[0.95458749 0.04541251]\n",
            " [0.28413205 0.71586795]]\n"
          ]
        },
        {
          "output_type": "stream",
          "name": "stderr",
          "text": [
            "100%|██████████| 7/7 [00:03<00:00,  1.84it/s]\n"
          ]
        },
        {
          "output_type": "stream",
          "name": "stdout",
          "text": [
            "Epoch: 88 Val Loss: 0.67602688 AUC: 0.70303605 \n",
            "[[0.6647434  0.3352566 ]\n",
            " [0.27854468 0.72145532]]\n"
          ]
        },
        {
          "output_type": "stream",
          "name": "stderr",
          "text": [
            "100%|██████████| 27/27 [00:30<00:00,  1.11s/it]\n"
          ]
        },
        {
          "output_type": "stream",
          "name": "stdout",
          "text": [
            "Epoch: 89 Train Loss: 0.55636153 AUC: 0.99804497 \n",
            "[[0.95482901 0.04517099]\n",
            " [0.28344563 0.71655437]]\n"
          ]
        },
        {
          "output_type": "stream",
          "name": "stderr",
          "text": [
            "100%|██████████| 7/7 [00:03<00:00,  1.82it/s]\n"
          ]
        },
        {
          "output_type": "stream",
          "name": "stdout",
          "text": [
            "Epoch: 89 Val Loss: 0.69681721 AUC: 0.61764706 \n",
            "[[0.66306306 0.33693694]\n",
            " [0.27756614 0.72243386]]\n"
          ]
        },
        {
          "output_type": "stream",
          "name": "stderr",
          "text": [
            "100%|██████████| 27/27 [00:30<00:00,  1.12s/it]\n"
          ]
        },
        {
          "output_type": "stream",
          "name": "stdout",
          "text": [
            "Epoch: 90 Train Loss: 0.55553947 AUC: 0.96256158 \n",
            "[[0.95487939 0.04512061]\n",
            " [0.28243457 0.71756543]]\n"
          ]
        },
        {
          "output_type": "stream",
          "name": "stderr",
          "text": [
            "100%|██████████| 7/7 [00:04<00:00,  1.53it/s]\n"
          ]
        },
        {
          "output_type": "stream",
          "name": "stdout",
          "text": [
            "Epoch: 90 Val Loss: 0.66016914 AUC: 0.80265655 \n",
            "[[0.66315216 0.33684784]\n",
            " [0.27723705 0.72276295]]\n"
          ]
        },
        {
          "output_type": "stream",
          "name": "stderr",
          "text": [
            "100%|██████████| 27/27 [00:30<00:00,  1.13s/it]\n"
          ]
        },
        {
          "output_type": "stream",
          "name": "stdout",
          "text": [
            "Epoch: 91 Train Loss: 0.55293159 AUC: 0.96676442 \n",
            "[[0.95508799 0.04491201]\n",
            " [0.28148426 0.71851574]]\n"
          ]
        },
        {
          "output_type": "stream",
          "name": "stderr",
          "text": [
            "100%|██████████| 7/7 [00:03<00:00,  1.82it/s]\n"
          ]
        },
        {
          "output_type": "stream",
          "name": "stdout",
          "text": [
            "Epoch: 91 Val Loss: 0.65482416 AUC: 0.70777989 \n",
            "[[0.66338621 0.33661379]\n",
            " [0.27665631 0.72334369]]\n"
          ]
        },
        {
          "output_type": "stream",
          "name": "stderr",
          "text": [
            "100%|██████████| 27/27 [00:30<00:00,  1.11s/it]\n"
          ]
        },
        {
          "output_type": "stream",
          "name": "stdout",
          "text": [
            "Epoch: 92 Train Loss: 0.55435413 AUC: 0.95392157 \n",
            "[[0.95527997 0.04472003]\n",
            " [0.28061831 0.71938169]]\n"
          ]
        },
        {
          "output_type": "stream",
          "name": "stderr",
          "text": [
            "100%|██████████| 7/7 [00:03<00:00,  1.81it/s]\n"
          ]
        },
        {
          "output_type": "stream",
          "name": "stdout",
          "text": [
            "Epoch: 92 Val Loss: 0.65538555 AUC: 0.78842505 \n",
            "[[0.66322774 0.33677226]\n",
            " [0.27608807 0.72391193]]\n"
          ]
        },
        {
          "output_type": "stream",
          "name": "stderr",
          "text": [
            "100%|██████████| 27/27 [00:29<00:00,  1.11s/it]\n"
          ]
        },
        {
          "output_type": "stream",
          "name": "stdout",
          "text": [
            "Epoch: 93 Train Loss: 0.55562800 AUC: 0.97222222 \n",
            "[[0.95535993 0.04464007]\n",
            " [0.27965694 0.72034306]]\n"
          ]
        },
        {
          "output_type": "stream",
          "name": "stderr",
          "text": [
            "100%|██████████| 7/7 [00:03<00:00,  1.88it/s]\n"
          ]
        },
        {
          "output_type": "stream",
          "name": "stdout",
          "text": [
            "Epoch: 93 Val Loss: 0.66822869 AUC: 0.65464896 \n",
            "[[0.66288097 0.33711903]\n",
            " [0.27527862 0.72472138]]\n"
          ]
        },
        {
          "output_type": "stream",
          "name": "stderr",
          "text": [
            "100%|██████████| 27/27 [00:30<00:00,  1.12s/it]\n"
          ]
        },
        {
          "output_type": "stream",
          "name": "stdout",
          "text": [
            "Epoch: 94 Train Loss: 0.55606162 AUC: 0.96818664 \n",
            "[[0.9554382  0.0445618 ]\n",
            " [0.27879091 0.72120909]]\n"
          ]
        },
        {
          "output_type": "stream",
          "name": "stderr",
          "text": [
            "100%|██████████| 7/7 [00:04<00:00,  1.74it/s]\n"
          ]
        },
        {
          "output_type": "stream",
          "name": "stdout",
          "text": [
            "Epoch: 94 Val Loss: 0.66093862 AUC: 0.78747628 \n",
            "[[0.66311048 0.33688952]\n",
            " [0.27518797 0.72481203]]\n"
          ]
        },
        {
          "output_type": "stream",
          "name": "stderr",
          "text": [
            "100%|██████████| 27/27 [00:31<00:00,  1.16s/it]\n"
          ]
        },
        {
          "output_type": "stream",
          "name": "stdout",
          "text": [
            "Epoch: 95 Train Loss: 0.55560181 AUC: 0.93750000 \n",
            "[[0.95546787 0.04453213]\n",
            " [0.27784384 0.72215616]]\n"
          ]
        },
        {
          "output_type": "stream",
          "name": "stderr",
          "text": [
            "100%|██████████| 7/7 [00:03<00:00,  1.78it/s]\n"
          ]
        },
        {
          "output_type": "stream",
          "name": "stdout",
          "text": [
            "Epoch: 95 Val Loss: 0.67776125 AUC: 0.68406072 \n",
            "[[0.66249062 0.33750938]\n",
            " [0.27465278 0.72534722]]\n"
          ]
        },
        {
          "output_type": "stream",
          "name": "stderr",
          "text": [
            "100%|██████████| 27/27 [00:30<00:00,  1.12s/it]\n"
          ]
        },
        {
          "output_type": "stream",
          "name": "stdout",
          "text": [
            "Epoch: 96 Train Loss: 0.55327276 AUC: 0.96578690 \n",
            "[[0.95547368 0.04452632]\n",
            " [0.27678145 0.72321855]]\n"
          ]
        },
        {
          "output_type": "stream",
          "name": "stderr",
          "text": [
            "100%|██████████| 7/7 [00:03<00:00,  1.78it/s]\n"
          ]
        },
        {
          "output_type": "stream",
          "name": "stdout",
          "text": [
            "Epoch: 96 Val Loss: 0.65491212 AUC: 0.85388994 \n",
            "[[0.66244079 0.33755921]\n",
            " [0.27383407 0.72616593]]\n"
          ]
        },
        {
          "output_type": "stream",
          "name": "stderr",
          "text": [
            "100%|██████████| 27/27 [00:30<00:00,  1.11s/it]\n"
          ]
        },
        {
          "output_type": "stream",
          "name": "stdout",
          "text": [
            "Epoch: 97 Train Loss: 0.55647362 AUC: 0.97123016 \n",
            "[[0.95561742 0.04438258]\n",
            " [0.27606833 0.72393167]]\n"
          ]
        },
        {
          "output_type": "stream",
          "name": "stderr",
          "text": [
            "100%|██████████| 7/7 [00:03<00:00,  1.82it/s]\n"
          ]
        },
        {
          "output_type": "stream",
          "name": "stdout",
          "text": [
            "Epoch: 97 Val Loss: 0.65011800 AUC: 0.83870968 \n",
            "[[0.66262181 0.33737819]\n",
            " [0.27332362 0.72667638]]\n"
          ]
        },
        {
          "output_type": "stream",
          "name": "stderr",
          "text": [
            "100%|██████████| 27/27 [00:30<00:00,  1.11s/it]\n"
          ]
        },
        {
          "output_type": "stream",
          "name": "stdout",
          "text": [
            "Epoch: 98 Train Loss: 0.55137822 AUC: 0.96896897 \n",
            "[[0.95584936 0.04415064]\n",
            " [0.27524952 0.72475048]]\n"
          ]
        },
        {
          "output_type": "stream",
          "name": "stderr",
          "text": [
            "100%|██████████| 7/7 [00:03<00:00,  1.82it/s]\n"
          ]
        },
        {
          "output_type": "stream",
          "name": "stdout",
          "text": [
            "Epoch: 98 Val Loss: 0.65396222 AUC: 0.81214421 \n",
            "[[0.66261716 0.33738284]\n",
            " [0.27267917 0.72732083]]\n"
          ]
        },
        {
          "output_type": "stream",
          "name": "stderr",
          "text": [
            "100%|██████████| 27/27 [00:39<00:00,  1.45s/it]\n"
          ]
        },
        {
          "output_type": "stream",
          "name": "stdout",
          "text": [
            "Epoch: 99 Train Loss: 0.55423739 AUC: 0.97753906 \n",
            "[[0.95600902 0.04399098]\n",
            " [0.27448276 0.72551724]]\n"
          ]
        },
        {
          "output_type": "stream",
          "name": "stderr",
          "text": [
            "100%|██████████| 7/7 [00:04<00:00,  1.43it/s]\n"
          ]
        },
        {
          "output_type": "stream",
          "name": "stdout",
          "text": [
            "Epoch: 99 Val Loss: 0.64460729 AUC: 0.82542694 \n",
            "[[0.66288288 0.33711712]\n",
            " [0.272      0.728     ]]\n"
          ]
        },
        {
          "output_type": "stream",
          "name": "stderr",
          "text": [
            "100%|██████████| 27/27 [01:04<00:00,  2.40s/it]\n"
          ]
        },
        {
          "output_type": "stream",
          "name": "stdout",
          "text": [
            "Epoch: 100 Train Loss: 0.55468596 AUC: 0.90392157 \n",
            "[[0.9561097  0.0438903 ]\n",
            " [0.27364877 0.72635123]]\n"
          ]
        },
        {
          "output_type": "stream",
          "name": "stderr",
          "text": [
            "100%|██████████| 7/7 [00:05<00:00,  1.39it/s]\n"
          ]
        },
        {
          "output_type": "stream",
          "name": "stdout",
          "text": [
            "Epoch: 100 Val Loss: 0.64503723 AUC: 0.78368121 \n",
            "[[0.66327714 0.33672286]\n",
            " [0.27147572 0.72852428]]\n"
          ]
        },
        {
          "output_type": "stream",
          "name": "stderr",
          "text": [
            "100%|██████████| 27/27 [00:29<00:00,  1.11s/it]\n"
          ]
        },
        {
          "output_type": "stream",
          "name": "stdout",
          "text": [
            "Epoch: 101 Train Loss: 0.54634620 AUC: 0.95000000 \n",
            "[[0.95636315 0.04363685]\n",
            " [0.27263295 0.72736705]]\n"
          ]
        },
        {
          "output_type": "stream",
          "name": "stderr",
          "text": [
            "100%|██████████| 7/7 [00:03<00:00,  1.87it/s]\n"
          ]
        },
        {
          "output_type": "stream",
          "name": "stdout",
          "text": [
            "Epoch: 101 Val Loss: 0.68482525 AUC: 0.75901328 \n",
            "[[0.66233881 0.33766119]\n",
            " [0.27082166 0.72917834]]\n"
          ]
        },
        {
          "output_type": "stream",
          "name": "stderr",
          "text": [
            "100%|██████████| 27/27 [00:28<00:00,  1.06s/it]\n"
          ]
        },
        {
          "output_type": "stream",
          "name": "stdout",
          "text": [
            "Epoch: 102 Train Loss: 0.55302806 AUC: 0.93333333 \n",
            "[[0.95643655 0.04356345]\n",
            " [0.27177539 0.72822461]]\n"
          ]
        },
        {
          "output_type": "stream",
          "name": "stderr",
          "text": [
            "100%|██████████| 7/7 [00:03<00:00,  1.78it/s]\n"
          ]
        },
        {
          "output_type": "stream",
          "name": "stdout",
          "text": [
            "Epoch: 102 Val Loss: 0.66062501 AUC: 0.84250474 \n",
            "[[0.66229336 0.33770664]\n",
            " [0.27022654 0.72977346]]\n"
          ]
        },
        {
          "output_type": "stream",
          "name": "stderr",
          "text": [
            "100%|██████████| 27/27 [00:28<00:00,  1.06s/it]\n"
          ]
        },
        {
          "output_type": "stream",
          "name": "stdout",
          "text": [
            "Epoch: 103 Train Loss: 0.55320351 AUC: 0.97570850 \n",
            "[[0.95648686 0.04351314]\n",
            " [0.27095719 0.72904281]]\n"
          ]
        },
        {
          "output_type": "stream",
          "name": "stderr",
          "text": [
            "100%|██████████| 7/7 [00:03<00:00,  1.81it/s]\n"
          ]
        },
        {
          "output_type": "stream",
          "name": "stdout",
          "text": [
            "Epoch: 103 Val Loss: 0.66161490 AUC: 0.77229602 \n",
            "[[0.66216216 0.33783784]\n",
            " [0.26968864 0.73031136]]\n"
          ]
        },
        {
          "output_type": "stream",
          "name": "stderr",
          "text": [
            "100%|██████████| 27/27 [00:29<00:00,  1.08s/it]\n"
          ]
        },
        {
          "output_type": "stream",
          "name": "stdout",
          "text": [
            "Epoch: 104 Train Loss: 0.55360367 AUC: 0.96480938 \n",
            "[[0.95654695 0.04345305]\n",
            " [0.27014325 0.72985675]]\n"
          ]
        },
        {
          "output_type": "stream",
          "name": "stderr",
          "text": [
            "100%|██████████| 7/7 [00:04<00:00,  1.43it/s]\n"
          ]
        },
        {
          "output_type": "stream",
          "name": "stdout",
          "text": [
            "Epoch: 104 Val Loss: 0.67659605 AUC: 0.74762808 \n",
            "[[0.66160446 0.33839554]\n",
            " [0.2692517  0.7307483 ]]\n"
          ]
        },
        {
          "output_type": "stream",
          "name": "stderr",
          "text": [
            "100%|██████████| 27/27 [00:28<00:00,  1.07s/it]\n"
          ]
        },
        {
          "output_type": "stream",
          "name": "stdout",
          "text": [
            "Epoch: 105 Train Loss: 0.54814560 AUC: 0.95410156 \n",
            "[[0.95670162 0.04329838]\n",
            " [0.26919884 0.73080116]]\n"
          ]
        },
        {
          "output_type": "stream",
          "name": "stderr",
          "text": [
            "100%|██████████| 7/7 [00:03<00:00,  1.77it/s]\n"
          ]
        },
        {
          "output_type": "stream",
          "name": "stdout",
          "text": [
            "Epoch: 105 Val Loss: 0.68895381 AUC: 0.81973435 \n",
            "[[0.66024987 0.33975013]\n",
            " [0.2680593  0.7319407 ]]\n"
          ]
        },
        {
          "output_type": "stream",
          "name": "stderr",
          "text": [
            "100%|██████████| 27/27 [00:28<00:00,  1.07s/it]\n"
          ]
        },
        {
          "output_type": "stream",
          "name": "stdout",
          "text": [
            "Epoch: 106 Train Loss: 0.55321865 AUC: 0.95179487 \n",
            "[[0.95668482 0.04331518]\n",
            " [0.26823875 0.73176125]]\n"
          ]
        },
        {
          "output_type": "stream",
          "name": "stderr",
          "text": [
            "100%|██████████| 7/7 [00:03<00:00,  1.86it/s]\n"
          ]
        },
        {
          "output_type": "stream",
          "name": "stdout",
          "text": [
            "Epoch: 106 Val Loss: 0.67057690 AUC: 0.77609108 \n",
            "[[0.65984676 0.34015324]\n",
            " [0.26737873 0.73262127]]\n"
          ]
        },
        {
          "output_type": "stream",
          "name": "stderr",
          "text": [
            "100%|██████████| 27/27 [00:29<00:00,  1.08s/it]\n"
          ]
        },
        {
          "output_type": "stream",
          "name": "stdout",
          "text": [
            "Epoch: 107 Train Loss: 0.55247445 AUC: 0.99023438 \n",
            "[[0.95677273 0.04322727]\n",
            " [0.26743956 0.73256044]]\n"
          ]
        },
        {
          "output_type": "stream",
          "name": "stderr",
          "text": [
            "100%|██████████| 7/7 [00:03<00:00,  1.81it/s]\n"
          ]
        },
        {
          "output_type": "stream",
          "name": "stdout",
          "text": [
            "Epoch: 107 Val Loss: 0.66167504 AUC: 0.75901328 \n",
            "[[0.65940941 0.34059059]\n",
            " [0.26618166 0.73381834]]\n"
          ]
        },
        {
          "output_type": "stream",
          "name": "stderr",
          "text": [
            "100%|██████████| 27/27 [00:29<00:00,  1.09s/it]\n"
          ]
        },
        {
          "output_type": "stream",
          "name": "stdout",
          "text": [
            "Epoch: 108 Train Loss: 0.54866815 AUC: 0.95015907 \n",
            "[[0.95693142 0.04306858]\n",
            " [0.26654594 0.73345406]]\n"
          ]
        },
        {
          "output_type": "stream",
          "name": "stderr",
          "text": [
            "100%|██████████| 7/7 [00:03<00:00,  1.82it/s]\n"
          ]
        },
        {
          "output_type": "stream",
          "name": "stdout",
          "text": [
            "Epoch: 108 Val Loss: 0.65727418 AUC: 0.75142315 \n",
            "[[0.65947599 0.34052401]\n",
            " [0.26570555 0.73429445]]\n"
          ]
        },
        {
          "output_type": "stream",
          "name": "stderr",
          "text": [
            "100%|██████████| 27/27 [00:30<00:00,  1.12s/it]\n"
          ]
        },
        {
          "output_type": "stream",
          "name": "stdout",
          "text": [
            "Epoch: 109 Train Loss: 0.54808709 AUC: 0.95960591 \n",
            "[[0.95700523 0.04299477]\n",
            " [0.26553886 0.73446114]]\n"
          ]
        },
        {
          "output_type": "stream",
          "name": "stderr",
          "text": [
            "100%|██████████| 7/7 [00:03<00:00,  1.81it/s]\n"
          ]
        },
        {
          "output_type": "stream",
          "name": "stdout",
          "text": [
            "Epoch: 109 Val Loss: 0.64666075 AUC: 0.78557875 \n",
            "[[0.66056511 0.33943489]\n",
            " [0.26666667 0.73333333]]\n"
          ]
        },
        {
          "output_type": "stream",
          "name": "stderr",
          "text": [
            "100%|██████████| 27/27 [00:29<00:00,  1.09s/it]\n"
          ]
        },
        {
          "output_type": "stream",
          "name": "stdout",
          "text": [
            "Epoch: 110 Train Loss: 0.55074439 AUC: 0.98611111 \n",
            "[[0.95711834 0.04288166]\n",
            " [0.26477488 0.73522512]]\n"
          ]
        },
        {
          "output_type": "stream",
          "name": "stderr",
          "text": [
            "100%|██████████| 7/7 [00:03<00:00,  1.84it/s]\n"
          ]
        },
        {
          "output_type": "stream",
          "name": "stdout",
          "text": [
            "Epoch: 110 Val Loss: 0.67685362 AUC: 0.67267552 \n",
            "[[0.65972729 0.34027271]\n",
            " [0.26563707 0.73436293]]\n"
          ]
        },
        {
          "output_type": "stream",
          "name": "stderr",
          "text": [
            "100%|██████████| 27/27 [00:29<00:00,  1.10s/it]\n"
          ]
        },
        {
          "output_type": "stream",
          "name": "stdout",
          "text": [
            "Epoch: 111 Train Loss: 0.55413170 AUC: 0.91691692 \n",
            "[[0.95716903 0.04283097]\n",
            " [0.26404578 0.73595422]]\n"
          ]
        },
        {
          "output_type": "stream",
          "name": "stderr",
          "text": [
            "100%|██████████| 7/7 [00:04<00:00,  1.74it/s]\n"
          ]
        },
        {
          "output_type": "stream",
          "name": "stdout",
          "text": [
            "Epoch: 111 Val Loss: 0.65037989 AUC: 0.84250474 \n",
            "[[0.65986969 0.34013031]\n",
            " [0.26509354 0.73490646]]\n"
          ]
        },
        {
          "output_type": "stream",
          "name": "stderr",
          "text": [
            "100%|██████████| 27/27 [00:29<00:00,  1.10s/it]\n"
          ]
        },
        {
          "output_type": "stream",
          "name": "stdout",
          "text": [
            "Epoch: 112 Train Loss: 0.55008084 AUC: 0.99804497 \n",
            "[[0.95721882 0.04278118]\n",
            " [0.26314017 0.73685983]]\n"
          ]
        },
        {
          "output_type": "stream",
          "name": "stderr",
          "text": [
            "100%|██████████| 7/7 [00:04<00:00,  1.54it/s]\n"
          ]
        },
        {
          "output_type": "stream",
          "name": "stdout",
          "text": [
            "Epoch: 112 Val Loss: 0.66878799 AUC: 0.72296015 \n",
            "[[0.65937176 0.34062824]\n",
            " [0.26430678 0.73569322]]\n"
          ]
        },
        {
          "output_type": "stream",
          "name": "stderr",
          "text": [
            "100%|██████████| 27/27 [00:30<00:00,  1.14s/it]\n"
          ]
        },
        {
          "output_type": "stream",
          "name": "stdout",
          "text": [
            "Epoch: 113 Train Loss: 0.54574879 AUC: 0.95995996 \n",
            "[[0.9573073  0.0426927 ]\n",
            " [0.26208357 0.73791643]]\n"
          ]
        },
        {
          "output_type": "stream",
          "name": "stderr",
          "text": [
            "100%|██████████| 7/7 [00:03<00:00,  1.79it/s]\n"
          ]
        },
        {
          "output_type": "stream",
          "name": "stdout",
          "text": [
            "Epoch: 113 Val Loss: 0.65722848 AUC: 0.77229602 \n",
            "[[0.65915916 0.34084084]\n",
            " [0.26357561 0.73642439]]\n"
          ]
        },
        {
          "output_type": "stream",
          "name": "stderr",
          "text": [
            "100%|██████████| 27/27 [00:29<00:00,  1.10s/it]\n"
          ]
        },
        {
          "output_type": "stream",
          "name": "stdout",
          "text": [
            "Epoch: 114 Train Loss: 0.54807342 AUC: 0.97745098 \n",
            "[[0.95737464 0.04262536]\n",
            " [0.2611384  0.7388616 ]]\n"
          ]
        },
        {
          "output_type": "stream",
          "name": "stderr",
          "text": [
            "100%|██████████| 7/7 [00:03<00:00,  1.77it/s]\n"
          ]
        },
        {
          "output_type": "stream",
          "name": "stdout",
          "text": [
            "Epoch: 114 Val Loss: 0.66290347 AUC: 0.79886148 \n",
            "[[0.65883275 0.34116725]\n",
            " [0.26281573 0.73718427]]\n"
          ]
        },
        {
          "output_type": "stream",
          "name": "stderr",
          "text": [
            "100%|██████████| 27/27 [00:29<00:00,  1.09s/it]\n"
          ]
        },
        {
          "output_type": "stream",
          "name": "stdout",
          "text": [
            "Epoch: 115 Train Loss: 0.55654057 AUC: 0.95763547 \n",
            "[[0.95759631 0.04240369]\n",
            " [0.26093731 0.73906269]]\n"
          ]
        },
        {
          "output_type": "stream",
          "name": "stderr",
          "text": [
            "100%|██████████| 7/7 [00:03<00:00,  1.80it/s]\n"
          ]
        },
        {
          "output_type": "stream",
          "name": "stdout",
          "text": [
            "Epoch: 115 Val Loss: 0.66896752 AUC: 0.79032258 \n",
            "[[0.65816247 0.34183753]\n",
            " [0.26165846 0.73834154]]\n"
          ]
        },
        {
          "output_type": "stream",
          "name": "stderr",
          "text": [
            "100%|██████████| 27/27 [00:29<00:00,  1.10s/it]\n"
          ]
        },
        {
          "output_type": "stream",
          "name": "stdout",
          "text": [
            "Epoch: 116 Train Loss: 0.54416321 AUC: 0.94841270 \n",
            "[[0.95779493 0.04220507]\n",
            " [0.26008923 0.73991077]]\n"
          ]
        },
        {
          "output_type": "stream",
          "name": "stderr",
          "text": [
            "100%|██████████| 7/7 [00:03<00:00,  1.85it/s]\n"
          ]
        },
        {
          "output_type": "stream",
          "name": "stdout",
          "text": [
            "Epoch: 116 Val Loss: 0.64867271 AUC: 0.86148008 \n",
            "[[0.65823516 0.34176484]\n",
            " [0.26096866 0.73903134]]\n"
          ]
        },
        {
          "output_type": "stream",
          "name": "stderr",
          "text": [
            "100%|██████████| 27/27 [00:29<00:00,  1.10s/it]\n"
          ]
        },
        {
          "output_type": "stream",
          "name": "stdout",
          "text": [
            "Epoch: 117 Train Loss: 0.54785293 AUC: 0.94543651 \n",
            "[[0.95784687 0.04215313]\n",
            " [0.25917491 0.74082509]]\n"
          ]
        },
        {
          "output_type": "stream",
          "name": "stderr",
          "text": [
            "100%|██████████| 7/7 [00:03<00:00,  1.76it/s]\n"
          ]
        },
        {
          "output_type": "stream",
          "name": "stdout",
          "text": [
            "Epoch: 117 Val Loss: 0.62929441 AUC: 0.85388994 \n",
            "[[0.6587647  0.3412353 ]\n",
            " [0.26016949 0.73983051]]\n"
          ]
        },
        {
          "output_type": "stream",
          "name": "stderr",
          "text": [
            "100%|██████████| 27/27 [00:29<00:00,  1.10s/it]\n"
          ]
        },
        {
          "output_type": "stream",
          "name": "stdout",
          "text": [
            "Epoch: 118 Train Loss: 0.54820439 AUC: 0.97058824 \n",
            "[[0.9579453  0.0420547 ]\n",
            " [0.25837588 0.74162412]]\n"
          ]
        },
        {
          "output_type": "stream",
          "name": "stderr",
          "text": [
            "100%|██████████| 7/7 [00:03<00:00,  1.85it/s]\n"
          ]
        },
        {
          "output_type": "stream",
          "name": "stdout",
          "text": [
            "Epoch: 118 Val Loss: 0.66546972 AUC: 0.84155598 \n",
            "[[0.65860398 0.34139602]\n",
            " [0.26006403 0.73993597]]\n"
          ]
        },
        {
          "output_type": "stream",
          "name": "stderr",
          "text": [
            "100%|██████████| 27/27 [00:29<00:00,  1.08s/it]\n"
          ]
        },
        {
          "output_type": "stream",
          "name": "stdout",
          "text": [
            "Epoch: 119 Train Loss: 0.54812334 AUC: 0.96130952 \n",
            "[[0.95794814 0.04205186]\n",
            " [0.25742172 0.74257828]]\n"
          ]
        },
        {
          "output_type": "stream",
          "name": "stderr",
          "text": [
            "100%|██████████| 7/7 [00:03<00:00,  1.77it/s]\n"
          ]
        },
        {
          "output_type": "stream",
          "name": "stdout",
          "text": [
            "Epoch: 119 Val Loss: 0.65345177 AUC: 0.83111954 \n",
            "[[0.65848348 0.34151652]\n",
            " [0.25924603 0.74075397]]\n"
          ]
        },
        {
          "output_type": "stream",
          "name": "stderr",
          "text": [
            "100%|██████████| 27/27 [00:29<00:00,  1.10s/it]\n"
          ]
        },
        {
          "output_type": "stream",
          "name": "stdout",
          "text": [
            "Epoch: 120 Train Loss: 0.54950125 AUC: 0.91765873 \n",
            "[[0.95801616 0.04198384]\n",
            " [0.25667004 0.74332996]]\n"
          ]
        },
        {
          "output_type": "stream",
          "name": "stderr",
          "text": [
            "100%|██████████| 7/7 [00:04<00:00,  1.43it/s]\n"
          ]
        },
        {
          "output_type": "stream",
          "name": "stdout",
          "text": [
            "Epoch: 120 Val Loss: 0.68021399 AUC: 0.79791271 \n",
            "[[0.65765766 0.34234234]\n",
            " [0.25844156 0.74155844]]\n"
          ]
        },
        {
          "output_type": "stream",
          "name": "stderr",
          "text": [
            "100%|██████████| 27/27 [00:31<00:00,  1.16s/it]\n"
          ]
        },
        {
          "output_type": "stream",
          "name": "stdout",
          "text": [
            "Epoch: 121 Train Loss: 0.54972391 AUC: 0.95937500 \n",
            "[[0.95803685 0.04196315]\n",
            " [0.25584297 0.74415703]]\n"
          ]
        },
        {
          "output_type": "stream",
          "name": "stderr",
          "text": [
            "100%|██████████| 7/7 [00:03<00:00,  1.82it/s]\n"
          ]
        },
        {
          "output_type": "stream",
          "name": "stdout",
          "text": [
            "Epoch: 121 Val Loss: 0.67390433 AUC: 0.75901328 \n",
            "[[0.65680845 0.34319155]\n",
            " [0.25722092 0.74277908]]\n"
          ]
        },
        {
          "output_type": "stream",
          "name": "stderr",
          "text": [
            "100%|██████████| 27/27 [00:29<00:00,  1.09s/it]\n"
          ]
        },
        {
          "output_type": "stream",
          "name": "stdout",
          "text": [
            "Epoch: 122 Train Loss: 0.54806309 AUC: 0.93694581 \n",
            "[[0.9582497  0.0417503 ]\n",
            " [0.25526135 0.74473865]]\n"
          ]
        },
        {
          "output_type": "stream",
          "name": "stderr",
          "text": [
            "100%|██████████| 7/7 [00:03<00:00,  1.81it/s]\n"
          ]
        },
        {
          "output_type": "stream",
          "name": "stdout",
          "text": [
            "Epoch: 122 Val Loss: 0.65612929 AUC: 0.73244782 \n",
            "[[0.65670549 0.34329451]\n",
            " [0.25652342 0.74347658]]\n"
          ]
        },
        {
          "output_type": "stream",
          "name": "stderr",
          "text": [
            "100%|██████████| 27/27 [00:29<00:00,  1.10s/it]\n"
          ]
        },
        {
          "output_type": "stream",
          "name": "stdout",
          "text": [
            "Epoch: 123 Train Loss: 0.55165721 AUC: 0.96527778 \n",
            "[[0.95829545 0.04170455]\n",
            " [0.25465076 0.74534924]]\n"
          ]
        },
        {
          "output_type": "stream",
          "name": "stderr",
          "text": [
            "100%|██████████| 7/7 [00:03<00:00,  1.90it/s]\n"
          ]
        },
        {
          "output_type": "stream",
          "name": "stdout",
          "text": [
            "Epoch: 123 Val Loss: 0.67012061 AUC: 0.80455408 \n",
            "[[0.65656786 0.34343214]\n",
            " [0.25637481 0.74362519]]\n"
          ]
        },
        {
          "output_type": "stream",
          "name": "stderr",
          "text": [
            "100%|██████████| 27/27 [00:29<00:00,  1.08s/it]\n"
          ]
        },
        {
          "output_type": "stream",
          "name": "stdout",
          "text": [
            "Epoch: 124 Train Loss: 0.54800507 AUC: 0.96157635 \n",
            "[[0.95843067 0.04156933]\n",
            " [0.25397384 0.74602616]]\n"
          ]
        },
        {
          "output_type": "stream",
          "name": "stderr",
          "text": [
            "100%|██████████| 7/7 [00:03<00:00,  1.85it/s]\n"
          ]
        },
        {
          "output_type": "stream",
          "name": "stdout",
          "text": [
            "Epoch: 124 Val Loss: 0.66452670 AUC: 0.77988615 \n",
            "[[0.65675676 0.34324324]\n",
            " [0.25649524 0.74350476]]\n"
          ]
        },
        {
          "output_type": "stream",
          "name": "stderr",
          "text": [
            "100%|██████████| 27/27 [00:29<00:00,  1.11s/it]\n"
          ]
        },
        {
          "output_type": "stream",
          "name": "stdout",
          "text": [
            "Epoch: 125 Train Loss: 0.54863665 AUC: 0.95566502 \n",
            "[[0.95848321 0.04151679]\n",
            " [0.25320386 0.74679614]]\n"
          ]
        },
        {
          "output_type": "stream",
          "name": "stderr",
          "text": [
            "100%|██████████| 7/7 [00:03<00:00,  1.79it/s]\n"
          ]
        },
        {
          "output_type": "stream",
          "name": "stdout",
          "text": [
            "Epoch: 125 Val Loss: 0.65353783 AUC: 0.81024668 \n",
            "[[0.65722866 0.34277134]\n",
            " [0.25665155 0.74334845]]\n"
          ]
        },
        {
          "output_type": "stream",
          "name": "stderr",
          "text": [
            "100%|██████████| 27/27 [00:29<00:00,  1.09s/it]\n"
          ]
        },
        {
          "output_type": "stream",
          "name": "stdout",
          "text": [
            "Epoch: 126 Train Loss: 0.54873798 AUC: 0.96862745 \n",
            "[[0.95858818 0.04141182]\n",
            " [0.25257708 0.74742292]]\n"
          ]
        },
        {
          "output_type": "stream",
          "name": "stderr",
          "text": [
            "100%|██████████| 7/7 [00:04<00:00,  1.75it/s]\n"
          ]
        },
        {
          "output_type": "stream",
          "name": "stdout",
          "text": [
            "Epoch: 126 Val Loss: 0.67454966 AUC: 0.76091082 \n",
            "[[0.65673548 0.34326452]\n",
            " [0.25609299 0.74390701]]\n"
          ]
        },
        {
          "output_type": "stream",
          "name": "stderr",
          "text": [
            "100%|██████████| 27/27 [00:29<00:00,  1.10s/it]\n"
          ]
        },
        {
          "output_type": "stream",
          "name": "stdout",
          "text": [
            "Epoch: 127 Train Loss: 0.54894948 AUC: 0.98137255 \n",
            "[[0.95874436 0.04125564]\n",
            " [0.2520437  0.7479563 ]]\n"
          ]
        },
        {
          "output_type": "stream",
          "name": "stderr",
          "text": [
            "100%|██████████| 7/7 [00:03<00:00,  1.85it/s]\n"
          ]
        },
        {
          "output_type": "stream",
          "name": "stdout",
          "text": [
            "Epoch: 127 Val Loss: 0.65114347 AUC: 0.78178368 \n",
            "[[0.65741132 0.34258868]\n",
            " [0.25669643 0.74330357]]\n"
          ]
        },
        {
          "output_type": "stream",
          "name": "stderr",
          "text": [
            "100%|██████████| 27/27 [00:29<00:00,  1.10s/it]\n"
          ]
        },
        {
          "output_type": "stream",
          "name": "stdout",
          "text": [
            "Epoch: 128 Train Loss: 0.55176434 AUC: 0.94803922 \n",
            "[[0.95880199 0.04119801]\n",
            " [0.25151859 0.74848141]]\n"
          ]
        },
        {
          "output_type": "stream",
          "name": "stderr",
          "text": [
            "100%|██████████| 7/7 [00:03<00:00,  1.78it/s]\n"
          ]
        },
        {
          "output_type": "stream",
          "name": "stdout",
          "text": [
            "Epoch: 128 Val Loss: 0.66456836 AUC: 0.72106262 \n",
            "[[0.65765766 0.34234234]\n",
            " [0.25710594 0.74289406]]\n"
          ]
        },
        {
          "output_type": "stream",
          "name": "stderr",
          "text": [
            "100%|██████████| 27/27 [00:29<00:00,  1.10s/it]\n"
          ]
        },
        {
          "output_type": "stream",
          "name": "stdout",
          "text": [
            "Epoch: 129 Train Loss: 0.54475081 AUC: 0.94525904 \n",
            "[[0.95891943 0.04108057]\n",
            " [0.2507546  0.7492454 ]]\n"
          ]
        },
        {
          "output_type": "stream",
          "name": "stderr",
          "text": [
            "100%|██████████| 7/7 [00:03<00:00,  1.76it/s]\n"
          ]
        },
        {
          "output_type": "stream",
          "name": "stdout",
          "text": [
            "Epoch: 129 Val Loss: 0.67127032 AUC: 0.79506641 \n",
            "[[0.65706861 0.34293139]\n",
            " [0.25622711 0.74377289]]\n"
          ]
        },
        {
          "output_type": "stream",
          "name": "stderr",
          "text": [
            "100%|██████████| 27/27 [00:29<00:00,  1.08s/it]\n"
          ]
        },
        {
          "output_type": "stream",
          "name": "stdout",
          "text": [
            "Epoch: 130 Train Loss: 0.54873746 AUC: 0.98627451 \n",
            "[[0.95895763 0.04104237]\n",
            " [0.25003858 0.74996142]]\n"
          ]
        },
        {
          "output_type": "stream",
          "name": "stderr",
          "text": [
            "100%|██████████| 7/7 [00:03<00:00,  1.77it/s]\n"
          ]
        },
        {
          "output_type": "stream",
          "name": "stdout",
          "text": [
            "Epoch: 130 Val Loss: 0.66689289 AUC: 0.64516129 \n",
            "[[0.65721065 0.34278935]\n",
            " [0.2563795  0.7436205 ]]\n"
          ]
        },
        {
          "output_type": "stream",
          "name": "stderr",
          "text": [
            "100%|██████████| 27/27 [00:29<00:00,  1.09s/it]\n"
          ]
        },
        {
          "output_type": "stream",
          "name": "stdout",
          "text": [
            "Epoch: 131 Train Loss: 0.55144028 AUC: 0.98620690 \n",
            "[[0.95897817 0.04102183]\n",
            " [0.24945952 0.75054048]]\n"
          ]
        },
        {
          "output_type": "stream",
          "name": "stderr",
          "text": [
            "100%|██████████| 7/7 [00:03<00:00,  1.77it/s]\n"
          ]
        },
        {
          "output_type": "stream",
          "name": "stdout",
          "text": [
            "Epoch: 131 Val Loss: 0.66519413 AUC: 0.74478178 \n",
            "[[0.65745291 0.34254709]\n",
            " [0.25670996 0.74329004]]\n"
          ]
        },
        {
          "output_type": "stream",
          "name": "stderr",
          "text": [
            "100%|██████████| 27/27 [00:29<00:00,  1.09s/it]\n"
          ]
        },
        {
          "output_type": "stream",
          "name": "stdout",
          "text": [
            "Epoch: 132 Train Loss: 0.54655708 AUC: 0.99190283 \n",
            "[[0.95911707 0.04088293]\n",
            " [0.2488087  0.7511913 ]]\n"
          ]
        },
        {
          "output_type": "stream",
          "name": "stderr",
          "text": [
            "100%|██████████| 7/7 [00:04<00:00,  1.72it/s]\n"
          ]
        },
        {
          "output_type": "stream",
          "name": "stdout",
          "text": [
            "Epoch: 132 Val Loss: 0.65511843 AUC: 0.77514231 \n",
            "[[0.65755605 0.34244395]\n",
            " [0.25646259 0.74353741]]\n"
          ]
        },
        {
          "output_type": "stream",
          "name": "stderr",
          "text": [
            "100%|██████████| 27/27 [00:30<00:00,  1.13s/it]\n"
          ]
        },
        {
          "output_type": "stream",
          "name": "stdout",
          "text": [
            "Epoch: 133 Train Loss: 0.54853606 AUC: 0.93921569 \n",
            "[[0.95923707 0.04076293]\n",
            " [0.24826521 0.75173479]]\n"
          ]
        },
        {
          "output_type": "stream",
          "name": "stderr",
          "text": [
            "100%|██████████| 7/7 [00:04<00:00,  1.62it/s]\n"
          ]
        },
        {
          "output_type": "stream",
          "name": "stdout",
          "text": [
            "Epoch: 133 Val Loss: 0.65400830 AUC: 0.80455408 \n",
            "[[0.65765766 0.34234234]\n",
            " [0.25614783 0.74385217]]\n"
          ]
        },
        {
          "output_type": "stream",
          "name": "stderr",
          "text": [
            "100%|██████████| 27/27 [00:29<00:00,  1.09s/it]\n"
          ]
        },
        {
          "output_type": "stream",
          "name": "stdout",
          "text": [
            "Epoch: 134 Train Loss: 0.55271436 AUC: 0.97142857 \n",
            "[[0.95919663 0.04080337]\n",
            " [0.2476417  0.7523583 ]]\n"
          ]
        },
        {
          "output_type": "stream",
          "name": "stderr",
          "text": [
            "100%|██████████| 7/7 [00:03<00:00,  1.77it/s]\n"
          ]
        },
        {
          "output_type": "stream",
          "name": "stdout",
          "text": [
            "Epoch: 134 Val Loss: 0.66249430 AUC: 0.65464896 \n",
            "[[0.65779112 0.34220888]\n",
            " [0.25611993 0.74388007]]\n"
          ]
        },
        {
          "output_type": "stream",
          "name": "stderr",
          "text": [
            "100%|██████████| 27/27 [00:29<00:00,  1.10s/it]\n"
          ]
        },
        {
          "output_type": "stream",
          "name": "stdout",
          "text": [
            "Epoch: 135 Train Loss: 0.54786893 AUC: 0.93939394 \n",
            "[[0.95913191 0.04086809]\n",
            " [0.24681751 0.75318249]]\n"
          ]
        },
        {
          "output_type": "stream",
          "name": "stderr",
          "text": [
            "100%|██████████| 7/7 [00:03<00:00,  1.81it/s]\n"
          ]
        },
        {
          "output_type": "stream",
          "name": "stdout",
          "text": [
            "Epoch: 135 Val Loss: 0.68496250 AUC: 0.65464896 \n",
            "[[0.65719396 0.34280604]\n",
            " [0.25584734 0.74415266]]\n"
          ]
        },
        {
          "output_type": "stream",
          "name": "stderr",
          "text": [
            "100%|██████████| 27/27 [00:29<00:00,  1.10s/it]\n"
          ]
        },
        {
          "output_type": "stream",
          "name": "stdout",
          "text": [
            "Epoch: 136 Train Loss: 0.54147370 AUC: 0.99902248 \n",
            "[[0.95921625 0.04078375]\n",
            " [0.24591857 0.75408143]]\n"
          ]
        },
        {
          "output_type": "stream",
          "name": "stderr",
          "text": [
            "100%|██████████| 7/7 [00:05<00:00,  1.31it/s]\n"
          ]
        },
        {
          "output_type": "stream",
          "name": "stdout",
          "text": [
            "Epoch: 136 Val Loss: 0.67165311 AUC: 0.56925996 \n",
            "[[0.65660551 0.34339449]\n",
            " [0.25498783 0.74501217]]\n"
          ]
        },
        {
          "output_type": "stream",
          "name": "stderr",
          "text": [
            "100%|██████████| 27/27 [00:32<00:00,  1.20s/it]\n"
          ]
        },
        {
          "output_type": "stream",
          "name": "stdout",
          "text": [
            "Epoch: 137 Train Loss: 0.54072032 AUC: 0.98051282 \n",
            "[[0.95935657 0.04064343]\n",
            " [0.2451102  0.7548898 ]]\n"
          ]
        },
        {
          "output_type": "stream",
          "name": "stderr",
          "text": [
            "100%|██████████| 7/7 [00:04<00:00,  1.60it/s]\n"
          ]
        },
        {
          "output_type": "stream",
          "name": "stdout",
          "text": [
            "Epoch: 137 Val Loss: 0.66558879 AUC: 0.75806452 \n",
            "[[0.65680898 0.34319102]\n",
            " [0.25521049 0.74478951]]\n"
          ]
        },
        {
          "output_type": "stream",
          "name": "stderr",
          "text": [
            "100%|██████████| 27/27 [00:30<00:00,  1.12s/it]\n"
          ]
        },
        {
          "output_type": "stream",
          "name": "stdout",
          "text": [
            "Epoch: 138 Train Loss: 0.54021485 AUC: 0.98725490 \n",
            "[[0.95950297 0.04049703]\n",
            " [0.24435624 0.75564376]]\n"
          ]
        },
        {
          "output_type": "stream",
          "name": "stderr",
          "text": [
            "100%|██████████| 7/7 [00:04<00:00,  1.60it/s]\n"
          ]
        },
        {
          "output_type": "stream",
          "name": "stdout",
          "text": [
            "Epoch: 138 Val Loss: 0.65417073 AUC: 0.81973435 \n",
            "[[0.65658824 0.34341176]\n",
            " [0.25426516 0.74573484]]\n"
          ]
        },
        {
          "output_type": "stream",
          "name": "stderr",
          "text": [
            "100%|██████████| 27/27 [00:30<00:00,  1.13s/it]\n"
          ]
        },
        {
          "output_type": "stream",
          "name": "stdout",
          "text": [
            "Epoch: 139 Train Loss: 0.54168525 AUC: 0.95195195 \n",
            "[[0.95963118 0.04036882]\n",
            " [0.24363003 0.75636997]]\n"
          ]
        },
        {
          "output_type": "stream",
          "name": "stderr",
          "text": [
            "100%|██████████| 7/7 [00:05<00:00,  1.37it/s]\n"
          ]
        },
        {
          "output_type": "stream",
          "name": "stdout",
          "text": [
            "Epoch: 139 Val Loss: 0.65383280 AUC: 0.77609108 \n",
            "[[0.65669241 0.34330759]\n",
            " [0.25397959 0.74602041]]\n"
          ]
        },
        {
          "output_type": "stream",
          "name": "stderr",
          "text": [
            "100%|██████████| 27/27 [00:30<00:00,  1.13s/it]\n"
          ]
        },
        {
          "output_type": "stream",
          "name": "stdout",
          "text": [
            "Epoch: 140 Train Loss: 0.54366143 AUC: 0.94694695 \n",
            "[[0.95966162 0.04033838]\n",
            " [0.24282136 0.75717864]]\n"
          ]
        },
        {
          "output_type": "stream",
          "name": "stderr",
          "text": [
            "100%|██████████| 7/7 [00:12<00:00,  1.85s/it]\n"
          ]
        },
        {
          "output_type": "stream",
          "name": "stdout",
          "text": [
            "Epoch: 140 Val Loss: 0.65192509 AUC: 0.76850095 \n",
            "[[0.65701872 0.34298128]\n",
            " [0.25390071 0.74609929]]\n"
          ]
        },
        {
          "output_type": "stream",
          "name": "stderr",
          "text": [
            "100%|██████████| 27/27 [08:24<00:00, 18.70s/it]\n"
          ]
        },
        {
          "output_type": "stream",
          "name": "stdout",
          "text": [
            "Epoch: 141 Train Loss: 0.54682207 AUC: 0.98461538 \n",
            "[[0.95978691 0.04021309]\n",
            " [0.24230041 0.75769959]]\n"
          ]
        },
        {
          "output_type": "stream",
          "name": "stderr",
          "text": [
            "100%|██████████| 7/7 [00:56<00:00,  8.07s/it]\n"
          ]
        },
        {
          "output_type": "stream",
          "name": "stdout",
          "text": [
            "Epoch: 141 Val Loss: 0.67138314 AUC: 0.77229602 \n",
            "[[0.65642051 0.34357949]\n",
            " [0.25278337 0.74721663]]\n"
          ]
        },
        {
          "output_type": "stream",
          "name": "stderr",
          "text": [
            "100%|██████████| 27/27 [15:23<00:00, 34.21s/it]\n"
          ]
        },
        {
          "output_type": "stream",
          "name": "stdout",
          "text": [
            "Epoch: 142 Train Loss: 0.54557224 AUC: 1.00000000 \n",
            "[[0.9598789  0.0401211 ]\n",
            " [0.24171191 0.75828809]]\n"
          ]
        },
        {
          "output_type": "stream",
          "name": "stderr",
          "text": [
            "100%|██████████| 7/7 [01:28<00:00, 12.62s/it]\n"
          ]
        },
        {
          "output_type": "stream",
          "name": "stdout",
          "text": [
            "Epoch: 142 Val Loss: 0.64928094 AUC: 0.83681214 \n",
            "[[0.65646066 0.34353934]\n",
            " [0.25204795 0.74795205]]\n"
          ]
        },
        {
          "output_type": "stream",
          "name": "stderr",
          "text": [
            "100%|██████████| 27/27 [20:08<00:00, 44.74s/it]\n"
          ]
        },
        {
          "output_type": "stream",
          "name": "stdout",
          "text": [
            "Epoch: 143 Train Loss: 0.54100989 AUC: 0.97368421 \n",
            "[[0.95996179 0.04003821]\n",
            " [0.24089213 0.75910787]]\n"
          ]
        },
        {
          "output_type": "stream",
          "name": "stderr",
          "text": [
            "100%|██████████| 7/7 [01:53<00:00, 16.15s/it]\n"
          ]
        },
        {
          "output_type": "stream",
          "name": "stdout",
          "text": [
            "Epoch: 143 Val Loss: 0.64142839 AUC: 0.80740038 \n",
            "[[0.65703203 0.34296797]\n",
            " [0.25214947 0.74785053]]\n"
          ]
        },
        {
          "output_type": "stream",
          "name": "stderr",
          "text": [
            "100%|██████████| 27/27 [07:42<00:00, 17.11s/it]\n"
          ]
        },
        {
          "output_type": "stream",
          "name": "stdout",
          "text": [
            "Epoch: 144 Train Loss: 0.54399393 AUC: 0.95503421 \n",
            "[[0.96013684 0.03986316]\n",
            " [0.24037066 0.75962934]]\n"
          ]
        },
        {
          "output_type": "stream",
          "name": "stderr",
          "text": [
            "100%|██████████| 7/7 [00:16<00:00,  2.33s/it]\n"
          ]
        },
        {
          "output_type": "stream",
          "name": "stdout",
          "text": [
            "Epoch: 144 Val Loss: 0.64947970 AUC: 0.87381404 \n",
            "[[0.6574402  0.3425598 ]\n",
            " [0.25224959 0.74775041]]\n"
          ]
        },
        {
          "output_type": "stream",
          "name": "stderr",
          "text": [
            "100%|██████████| 27/27 [00:29<00:00,  1.10s/it]\n"
          ]
        },
        {
          "output_type": "stream",
          "name": "stdout",
          "text": [
            "Epoch: 145 Train Loss: 0.54318039 AUC: 0.98627451 \n",
            "[[0.96020911 0.03979089]\n",
            " [0.23967716 0.76032284]]\n"
          ]
        },
        {
          "output_type": "stream",
          "name": "stderr",
          "text": [
            "100%|██████████| 7/7 [00:03<00:00,  1.90it/s]\n"
          ]
        },
        {
          "output_type": "stream",
          "name": "stdout",
          "text": [
            "Epoch: 145 Val Loss: 0.66579893 AUC: 0.76091082 \n",
            "[[0.65753425 0.34246575]\n",
            " [0.25231572 0.74768428]]\n"
          ]
        },
        {
          "output_type": "stream",
          "name": "stderr",
          "text": [
            "100%|██████████| 27/27 [00:29<00:00,  1.09s/it]\n"
          ]
        },
        {
          "output_type": "stream",
          "name": "stdout",
          "text": [
            "Epoch: 146 Train Loss: 0.54610670 AUC: 0.98412698 \n",
            "[[0.96028039 0.03971961]\n",
            " [0.23911443 0.76088557]]\n"
          ]
        },
        {
          "output_type": "stream",
          "name": "stderr",
          "text": [
            "100%|██████████| 7/7 [00:04<00:00,  1.70it/s]\n"
          ]
        },
        {
          "output_type": "stream",
          "name": "stdout",
          "text": [
            "Epoch: 146 Val Loss: 0.65562430 AUC: 0.78557875 \n",
            "[[0.65799473 0.34200527]\n",
            " [0.25276968 0.74723032]]\n"
          ]
        },
        {
          "output_type": "stream",
          "name": "stderr",
          "text": [
            "100%|██████████| 27/27 [00:30<00:00,  1.14s/it]\n"
          ]
        },
        {
          "output_type": "stream",
          "name": "stdout",
          "text": [
            "Epoch: 147 Train Loss: 0.54556618 AUC: 0.98214286 \n",
            "[[0.96032786 0.03967214]\n",
            " [0.23850307 0.76149693]]\n"
          ]
        },
        {
          "output_type": "stream",
          "name": "stderr",
          "text": [
            "100%|██████████| 7/7 [00:03<00:00,  1.80it/s]\n"
          ]
        },
        {
          "output_type": "stream",
          "name": "stdout",
          "text": [
            "Epoch: 147 Val Loss: 0.67740149 AUC: 0.80075901 \n",
            "[[0.65762722 0.34237278]\n",
            " [0.25260618 0.74739382]]\n"
          ]
        },
        {
          "output_type": "stream",
          "name": "stderr",
          "text": [
            "100%|██████████| 27/27 [00:28<00:00,  1.07s/it]\n"
          ]
        },
        {
          "output_type": "stream",
          "name": "stdout",
          "text": [
            "Epoch: 148 Train Loss: 0.54138041 AUC: 0.95172414 \n",
            "[[0.96045035 0.03954965]\n",
            " [0.23786799 0.76213201]]\n"
          ]
        },
        {
          "output_type": "stream",
          "name": "stderr",
          "text": [
            "100%|██████████| 7/7 [00:03<00:00,  1.79it/s]\n"
          ]
        },
        {
          "output_type": "stream",
          "name": "stdout",
          "text": [
            "Epoch: 148 Val Loss: 0.65231686 AUC: 0.82732448 \n",
            "[[0.65783905 0.34216095]\n",
            " [0.25254075 0.74745925]]\n"
          ]
        },
        {
          "output_type": "stream",
          "name": "stderr",
          "text": [
            "100%|██████████| 27/27 [00:29<00:00,  1.09s/it]\n"
          ]
        },
        {
          "output_type": "stream",
          "name": "stdout",
          "text": [
            "Epoch: 149 Train Loss: 0.53862336 AUC: 0.97267206 \n",
            "[[0.96054115 0.03945885]\n",
            " [0.23707491 0.76292509]]\n"
          ]
        },
        {
          "output_type": "stream",
          "name": "stderr",
          "text": [
            "100%|██████████| 7/7 [00:03<00:00,  1.83it/s]\n"
          ]
        },
        {
          "output_type": "stream",
          "name": "stdout",
          "text": [
            "Epoch: 149 Val Loss: 0.64928481 AUC: 0.84060721 \n",
            "[[0.6581982  0.3418018 ]\n",
            " [0.25266667 0.74733333]]\n"
          ]
        },
        {
          "output_type": "stream",
          "name": "stderr",
          "text": [
            "100%|██████████| 27/27 [00:29<00:00,  1.09s/it]\n"
          ]
        },
        {
          "output_type": "stream",
          "name": "stdout",
          "text": [
            "Epoch: 150 Train Loss: 0.54588093 AUC: 0.97368421 \n",
            "[[0.96061581 0.03938419]\n",
            " [0.23653645 0.76346355]]\n"
          ]
        },
        {
          "output_type": "stream",
          "name": "stderr",
          "text": [
            "100%|██████████| 7/7 [00:03<00:00,  1.77it/s]\n"
          ]
        },
        {
          "output_type": "stream",
          "name": "stdout",
          "text": [
            "Epoch: 150 Val Loss: 0.65437518 AUC: 0.75426945 \n",
            "[[0.65861225 0.34138775]\n",
            " [0.25307474 0.74692526]]\n"
          ]
        },
        {
          "output_type": "stream",
          "name": "stderr",
          "text": [
            "100%|██████████| 27/27 [00:31<00:00,  1.17s/it]\n"
          ]
        },
        {
          "output_type": "stream",
          "name": "stdout",
          "text": [
            "Epoch: 151 Train Loss: 0.55660326 AUC: 0.97438424 \n",
            "[[0.96080075 0.03919925]\n",
            " [0.23659178 0.76340822]]\n"
          ]
        },
        {
          "output_type": "stream",
          "name": "stderr",
          "text": [
            "100%|██████████| 7/7 [00:03<00:00,  1.86it/s]\n"
          ]
        },
        {
          "output_type": "stream",
          "name": "stdout",
          "text": [
            "Epoch: 151 Val Loss: 0.66085316 AUC: 0.74952562 \n",
            "[[0.65887269 0.34112731]\n",
            " [0.25341479 0.74658521]]\n"
          ]
        },
        {
          "output_type": "stream",
          "name": "stderr",
          "text": [
            "100%|██████████| 27/27 [00:29<00:00,  1.09s/it]\n"
          ]
        },
        {
          "output_type": "stream",
          "name": "stdout",
          "text": [
            "Epoch: 152 Train Loss: 0.54804365 AUC: 0.96825397 \n",
            "[[0.96079905 0.03920095]\n",
            " [0.23600134 0.76399866]]\n"
          ]
        },
        {
          "output_type": "stream",
          "name": "stderr",
          "text": [
            "100%|██████████| 7/7 [00:03<00:00,  1.85it/s]\n"
          ]
        },
        {
          "output_type": "stream",
          "name": "stdout",
          "text": [
            "Epoch: 152 Val Loss: 0.65226199 AUC: 0.84535104 \n",
            "[[0.65910028 0.34089972]\n",
            " [0.2535014  0.7464986 ]]\n"
          ]
        },
        {
          "output_type": "stream",
          "name": "stderr",
          "text": [
            "100%|██████████| 27/27 [00:29<00:00,  1.08s/it]\n"
          ]
        },
        {
          "output_type": "stream",
          "name": "stdout",
          "text": [
            "Epoch: 153 Train Loss: 0.54308180 AUC: 0.98730469 \n",
            "[[0.96083398 0.03916602]\n",
            " [0.23532591 0.76467409]]\n"
          ]
        },
        {
          "output_type": "stream",
          "name": "stderr",
          "text": [
            "100%|██████████| 7/7 [00:03<00:00,  1.81it/s]\n"
          ]
        },
        {
          "output_type": "stream",
          "name": "stdout",
          "text": [
            "Epoch: 153 Val Loss: 0.65915718 AUC: 0.74383302 \n",
            "[[0.65906166 0.34093834]\n",
            " [0.25321583 0.74678417]]\n"
          ]
        },
        {
          "output_type": "stream",
          "name": "stderr",
          "text": [
            "100%|██████████| 27/27 [00:29<00:00,  1.10s/it]\n"
          ]
        },
        {
          "output_type": "stream",
          "name": "stdout",
          "text": [
            "Epoch: 154 Train Loss: 0.53885412 AUC: 0.94905869 \n",
            "[[0.96097029 0.03902971]\n",
            " [0.23467454 0.76532546]]\n"
          ]
        },
        {
          "output_type": "stream",
          "name": "stderr",
          "text": [
            "100%|██████████| 7/7 [00:03<00:00,  1.88it/s]\n"
          ]
        },
        {
          "output_type": "stream",
          "name": "stdout",
          "text": [
            "Epoch: 154 Val Loss: 0.66282932 AUC: 0.79506641 \n",
            "[[0.65887823 0.34112177]\n",
            " [0.25281106 0.74718894]]\n"
          ]
        },
        {
          "output_type": "stream",
          "name": "stderr",
          "text": [
            "100%|██████████| 27/27 [00:29<00:00,  1.09s/it]\n"
          ]
        },
        {
          "output_type": "stream",
          "name": "stdout",
          "text": [
            "Epoch: 155 Train Loss: 0.53913799 AUC: 0.99692308 \n",
            "[[0.96103981 0.03896019]\n",
            " [0.23394006 0.76605994]]\n"
          ]
        },
        {
          "output_type": "stream",
          "name": "stderr",
          "text": [
            "100%|██████████| 7/7 [00:03<00:00,  1.85it/s]\n"
          ]
        },
        {
          "output_type": "stream",
          "name": "stdout",
          "text": [
            "Epoch: 155 Val Loss: 0.65411435 AUC: 0.79791271 \n",
            "[[0.65898591 0.34101409]\n",
            " [0.25247253 0.74752747]]\n"
          ]
        },
        {
          "output_type": "stream",
          "name": "stderr",
          "text": [
            "100%|██████████| 27/27 [00:29<00:00,  1.09s/it]\n"
          ]
        },
        {
          "output_type": "stream",
          "name": "stdout",
          "text": [
            "Epoch: 156 Train Loss: 0.54414925 AUC: 0.98916256 \n",
            "[[0.96120179 0.03879821]\n",
            " [0.23353302 0.76646698]]\n"
          ]
        },
        {
          "output_type": "stream",
          "name": "stderr",
          "text": [
            "100%|██████████| 7/7 [00:03<00:00,  1.81it/s]\n"
          ]
        },
        {
          "output_type": "stream",
          "name": "stdout",
          "text": [
            "Epoch: 156 Val Loss: 0.64521908 AUC: 0.86527514 \n",
            "[[0.65906352 0.34093648]\n",
            " [0.25195632 0.74804368]]\n"
          ]
        },
        {
          "output_type": "stream",
          "name": "stderr",
          "text": [
            "100%|██████████| 27/27 [00:29<00:00,  1.10s/it]\n"
          ]
        },
        {
          "output_type": "stream",
          "name": "stdout",
          "text": [
            "Epoch: 157 Train Loss: 0.54421630 AUC: 0.94583333 \n",
            "[[0.96126183 0.03873817]\n",
            " [0.23298063 0.76701937]]\n"
          ]
        },
        {
          "output_type": "stream",
          "name": "stderr",
          "text": [
            "100%|██████████| 7/7 [00:03<00:00,  1.78it/s]\n"
          ]
        },
        {
          "output_type": "stream",
          "name": "stdout",
          "text": [
            "Epoch: 157 Val Loss: 0.65494214 AUC: 0.76470588 \n",
            "[[0.6592827  0.3407173 ]\n",
            " [0.25192887 0.74807113]]\n"
          ]
        },
        {
          "output_type": "stream",
          "name": "stderr",
          "text": [
            "100%|██████████| 27/27 [00:29<00:00,  1.11s/it]\n"
          ]
        },
        {
          "output_type": "stream",
          "name": "stdout",
          "text": [
            "Epoch: 158 Train Loss: 0.54436848 AUC: 0.93137255 \n",
            "[[0.96128566 0.03871434]\n",
            " [0.23237535 0.76762465]]\n"
          ]
        },
        {
          "output_type": "stream",
          "name": "stderr",
          "text": [
            "100%|██████████| 7/7 [00:03<00:00,  1.79it/s]\n"
          ]
        },
        {
          "output_type": "stream",
          "name": "stdout",
          "text": [
            "Epoch: 158 Val Loss: 0.65305591 AUC: 0.78368121 \n",
            "[[0.65930081 0.34069919]\n",
            " [0.25154238 0.74845762]]\n"
          ]
        },
        {
          "output_type": "stream",
          "name": "stderr",
          "text": [
            "100%|██████████| 27/27 [00:29<00:00,  1.10s/it]\n"
          ]
        },
        {
          "output_type": "stream",
          "name": "stdout",
          "text": [
            "Epoch: 159 Train Loss: 0.53981979 AUC: 0.95405670 \n",
            "[[0.96135851 0.03864149]\n",
            " [0.2316959  0.7683041 ]]\n"
          ]
        },
        {
          "output_type": "stream",
          "name": "stderr",
          "text": [
            "100%|██████████| 7/7 [00:04<00:00,  1.45it/s]\n"
          ]
        },
        {
          "output_type": "stream",
          "name": "stdout",
          "text": [
            "Epoch: 159 Val Loss: 0.64491969 AUC: 0.82163188 \n",
            "[[0.65960023 0.34039977]\n",
            " [0.2514881  0.7485119 ]]\n"
          ]
        },
        {
          "output_type": "stream",
          "name": "stderr",
          "text": [
            "100%|██████████| 27/27 [00:29<00:00,  1.10s/it]\n"
          ]
        },
        {
          "output_type": "stream",
          "name": "stdout",
          "text": [
            "Epoch: 160 Train Loss: 0.54288265 AUC: 0.99014778 \n",
            "[[0.96141646 0.03858354]\n",
            " [0.23112089 0.76887911]]\n"
          ]
        },
        {
          "output_type": "stream",
          "name": "stderr",
          "text": [
            "100%|██████████| 7/7 [00:03<00:00,  1.79it/s]\n"
          ]
        },
        {
          "output_type": "stream",
          "name": "stdout",
          "text": [
            "Epoch: 160 Val Loss: 0.64340475 AUC: 0.81783681 \n",
            "[[0.65997986 0.34002014]\n",
            " [0.25149364 0.74850636]]\n"
          ]
        },
        {
          "output_type": "stream",
          "name": "stderr",
          "text": [
            "100%|██████████| 27/27 [00:30<00:00,  1.11s/it]\n"
          ]
        },
        {
          "output_type": "stream",
          "name": "stdout",
          "text": [
            "Epoch: 161 Train Loss: 0.54015816 AUC: 0.96818664 \n",
            "[[0.96151544 0.03848456]\n",
            " [0.23051629 0.76948371]]\n"
          ]
        },
        {
          "output_type": "stream",
          "name": "stderr",
          "text": [
            "100%|██████████| 7/7 [00:04<00:00,  1.74it/s]\n"
          ]
        },
        {
          "output_type": "stream",
          "name": "stdout",
          "text": [
            "Epoch: 161 Val Loss: 0.64436166 AUC: 0.83491461 \n",
            "[[0.6603548  0.3396452 ]\n",
            " [0.25144033 0.74855967]]\n"
          ]
        },
        {
          "output_type": "stream",
          "name": "stderr",
          "text": [
            "100%|██████████| 27/27 [00:29<00:00,  1.10s/it]\n"
          ]
        },
        {
          "output_type": "stream",
          "name": "stdout",
          "text": [
            "Epoch: 162 Train Loss: 0.53911689 AUC: 0.98529412 \n",
            "[[0.96162705 0.03837295]\n",
            " [0.22989722 0.77010278]]\n"
          ]
        },
        {
          "output_type": "stream",
          "name": "stderr",
          "text": [
            "100%|██████████| 7/7 [00:03<00:00,  1.84it/s]\n"
          ]
        },
        {
          "output_type": "stream",
          "name": "stdout",
          "text": [
            "Epoch: 162 Val Loss: 0.65580361 AUC: 0.81783681 \n",
            "[[0.66047643 0.33952357]\n",
            " [0.2512416  0.7487584 ]]\n"
          ]
        },
        {
          "output_type": "stream",
          "name": "stderr",
          "text": [
            "100%|██████████| 27/27 [00:29<00:00,  1.10s/it]\n"
          ]
        },
        {
          "output_type": "stream",
          "name": "stdout",
          "text": [
            "Epoch: 163 Train Loss: 0.54032343 AUC: 0.94916911 \n",
            "[[0.96167542 0.03832458]\n",
            " [0.22922769 0.77077231]]\n"
          ]
        },
        {
          "output_type": "stream",
          "name": "stderr",
          "text": [
            "100%|██████████| 7/7 [00:05<00:00,  1.28it/s]\n"
          ]
        },
        {
          "output_type": "stream",
          "name": "stdout",
          "text": [
            "Epoch: 163 Val Loss: 0.66096405 AUC: 0.81688805 \n",
            "[[0.66023951 0.33976049]\n",
            " [0.25075494 0.74924506]]\n"
          ]
        },
        {
          "output_type": "stream",
          "name": "stderr",
          "text": [
            "100%|██████████| 27/27 [00:30<00:00,  1.14s/it]\n"
          ]
        },
        {
          "output_type": "stream",
          "name": "stdout",
          "text": [
            "Epoch: 164 Train Loss: 0.53741711 AUC: 0.99414062 \n",
            "[[0.9618052  0.0381948 ]\n",
            " [0.22859511 0.77140489]]\n"
          ]
        },
        {
          "output_type": "stream",
          "name": "stderr",
          "text": [
            "100%|██████████| 7/7 [00:03<00:00,  1.78it/s]\n"
          ]
        },
        {
          "output_type": "stream",
          "name": "stdout",
          "text": [
            "Epoch: 164 Val Loss: 0.64745076 AUC: 0.76565465 \n",
            "[[0.66082446 0.33917554]\n",
            " [0.25116883 0.74883117]]\n"
          ]
        },
        {
          "output_type": "stream",
          "name": "stderr",
          "text": [
            "100%|██████████| 27/27 [00:29<00:00,  1.09s/it]\n"
          ]
        },
        {
          "output_type": "stream",
          "name": "stdout",
          "text": [
            "Epoch: 165 Train Loss: 0.54022080 AUC: 1.00000000 \n",
            "[[0.96187908 0.03812092]\n",
            " [0.2279988  0.7720012 ]]\n"
          ]
        },
        {
          "output_type": "stream",
          "name": "stderr",
          "text": [
            "100%|██████████| 7/7 [00:03<00:00,  1.86it/s]\n"
          ]
        },
        {
          "output_type": "stream",
          "name": "stdout",
          "text": [
            "Epoch: 165 Val Loss: 0.64640127 AUC: 0.81119545 \n",
            "[[0.66094106 0.33905894]\n",
            " [0.25071715 0.74928285]]\n"
          ]
        },
        {
          "output_type": "stream",
          "name": "stderr",
          "text": [
            "100%|██████████| 27/27 [00:29<00:00,  1.11s/it]\n"
          ]
        },
        {
          "output_type": "stream",
          "name": "stdout",
          "text": [
            "Epoch: 166 Train Loss: 0.53705666 AUC: 0.94428152 \n",
            "[[0.96199934 0.03800066]\n",
            " [0.22737403 0.77262597]]\n"
          ]
        },
        {
          "output_type": "stream",
          "name": "stderr",
          "text": [
            "100%|██████████| 7/7 [00:03<00:00,  1.76it/s]\n"
          ]
        },
        {
          "output_type": "stream",
          "name": "stdout",
          "text": [
            "Epoch: 166 Val Loss: 0.63743855 AUC: 0.82637571 \n",
            "[[0.66173059 0.33826941]\n",
            " [0.25124038 0.74875962]]\n"
          ]
        },
        {
          "output_type": "stream",
          "name": "stderr",
          "text": [
            "100%|██████████| 27/27 [00:29<00:00,  1.09s/it]\n"
          ]
        },
        {
          "output_type": "stream",
          "name": "stdout",
          "text": [
            "Epoch: 167 Train Loss: 0.54257419 AUC: 0.93319838 \n",
            "[[0.96212487 0.03787513]\n",
            " [0.22692656 0.77307344]]\n"
          ]
        },
        {
          "output_type": "stream",
          "name": "stderr",
          "text": [
            "100%|██████████| 7/7 [00:03<00:00,  1.81it/s]\n"
          ]
        },
        {
          "output_type": "stream",
          "name": "stdout",
          "text": [
            "Epoch: 167 Val Loss: 0.65525521 AUC: 0.84629981 \n",
            "[[0.66178679 0.33821321]\n",
            " [0.25113379 0.74886621]]\n"
          ]
        },
        {
          "output_type": "stream",
          "name": "stderr",
          "text": [
            "100%|██████████| 27/27 [00:30<00:00,  1.15s/it]\n"
          ]
        },
        {
          "output_type": "stream",
          "name": "stdout",
          "text": [
            "Epoch: 168 Train Loss: 0.53820884 AUC: 0.98461538 \n",
            "[[0.96220222 0.03779778]\n",
            " [0.22628739 0.77371261]]\n"
          ]
        },
        {
          "output_type": "stream",
          "name": "stderr",
          "text": [
            "100%|██████████| 7/7 [00:03<00:00,  1.80it/s]\n"
          ]
        },
        {
          "output_type": "stream",
          "name": "stdout",
          "text": [
            "Epoch: 168 Val Loss: 0.67480981 AUC: 0.74573055 \n",
            "[[0.66141585 0.33858415]\n",
            " [0.25077487 0.74922513]]\n"
          ]
        },
        {
          "output_type": "stream",
          "name": "stderr",
          "text": [
            "100%|██████████| 27/27 [00:29<00:00,  1.10s/it]\n"
          ]
        },
        {
          "output_type": "stream",
          "name": "stdout",
          "text": [
            "Epoch: 169 Train Loss: 0.54407996 AUC: 0.95436508 \n",
            "[[0.96214603 0.03785397]\n",
            " [0.22558579 0.77441421]]\n"
          ]
        },
        {
          "output_type": "stream",
          "name": "stderr",
          "text": [
            "100%|██████████| 7/7 [00:03<00:00,  1.80it/s]\n"
          ]
        },
        {
          "output_type": "stream",
          "name": "stdout",
          "text": [
            "Epoch: 169 Val Loss: 0.67729867 AUC: 0.83206831 \n",
            "[[0.66120827 0.33879173]\n",
            " [0.25089636 0.74910364]]\n"
          ]
        },
        {
          "output_type": "stream",
          "name": "stderr",
          "text": [
            "100%|██████████| 27/27 [00:29<00:00,  1.10s/it]\n"
          ]
        },
        {
          "output_type": "stream",
          "name": "stdout",
          "text": [
            "Epoch: 170 Train Loss: 0.53922015 AUC: 0.98828125 \n",
            "[[0.9622685  0.0377315 ]\n",
            " [0.22507319 0.77492681]]\n"
          ]
        },
        {
          "output_type": "stream",
          "name": "stderr",
          "text": [
            "100%|██████████| 7/7 [00:03<00:00,  1.83it/s]\n"
          ]
        },
        {
          "output_type": "stream",
          "name": "stdout",
          "text": [
            "Epoch: 170 Val Loss: 0.67210284 AUC: 0.82258065 \n",
            "[[0.66097677 0.33902323]\n",
            " [0.25084935 0.74915065]]\n"
          ]
        },
        {
          "output_type": "stream",
          "name": "stderr",
          "text": [
            "100%|██████████| 27/27 [00:29<00:00,  1.11s/it]\n"
          ]
        },
        {
          "output_type": "stream",
          "name": "stdout",
          "text": [
            "Epoch: 171 Train Loss: 0.54179451 AUC: 0.96354167 \n",
            "[[0.96230434 0.03769566]\n",
            " [0.22451815 0.77548185]]\n"
          ]
        },
        {
          "output_type": "stream",
          "name": "stderr",
          "text": [
            "100%|██████████| 7/7 [00:05<00:00,  1.30it/s]\n"
          ]
        },
        {
          "output_type": "stream",
          "name": "stdout",
          "text": [
            "Epoch: 171 Val Loss: 0.65802876 AUC: 0.86622391 \n",
            "[[0.66106223 0.33893777]\n",
            " [0.25088594 0.74911406]]\n"
          ]
        },
        {
          "output_type": "stream",
          "name": "stderr",
          "text": [
            "100%|██████████| 27/27 [00:33<00:00,  1.23s/it]\n"
          ]
        },
        {
          "output_type": "stream",
          "name": "stdout",
          "text": [
            "Epoch: 172 Train Loss: 0.53968841 AUC: 0.98044966 \n",
            "[[0.96245707 0.03754293]\n",
            " [0.22407264 0.77592736]]\n"
          ]
        },
        {
          "output_type": "stream",
          "name": "stderr",
          "text": [
            "100%|██████████| 7/7 [00:03<00:00,  1.76it/s]\n"
          ]
        },
        {
          "output_type": "stream",
          "name": "stdout",
          "text": [
            "Epoch: 172 Val Loss: 0.66457817 AUC: 0.79127135 \n",
            "[[0.66112066 0.33887934]\n",
            " [0.2509221  0.7490779 ]]\n"
          ]
        },
        {
          "output_type": "stream",
          "name": "stderr",
          "text": [
            "100%|██████████| 27/27 [00:29<00:00,  1.08s/it]\n"
          ]
        },
        {
          "output_type": "stream",
          "name": "stdout",
          "text": [
            "Epoch: 173 Train Loss: 0.53778243 AUC: 0.99117647 \n",
            "[[0.96251733 0.03748267]\n",
            " [0.2234409  0.7765591 ]]\n"
          ]
        },
        {
          "output_type": "stream",
          "name": "stderr",
          "text": [
            "100%|██████████| 7/7 [00:03<00:00,  1.83it/s]\n"
          ]
        },
        {
          "output_type": "stream",
          "name": "stdout",
          "text": [
            "Epoch: 173 Val Loss: 0.65041124 AUC: 0.83206831 \n",
            "[[0.66141141 0.33858859]\n",
            " [0.25109469 0.74890531]]\n"
          ]
        },
        {
          "output_type": "stream",
          "name": "stderr",
          "text": [
            "100%|██████████| 27/27 [00:29<00:00,  1.09s/it]\n"
          ]
        },
        {
          "output_type": "stream",
          "name": "stdout",
          "text": [
            "Epoch: 174 Train Loss: 0.53710490 AUC: 0.97321429 \n",
            "[[0.96264133 0.03735867]\n",
            " [0.22286394 0.77713606]]\n"
          ]
        },
        {
          "output_type": "stream",
          "name": "stderr",
          "text": [
            "100%|██████████| 7/7 [00:03<00:00,  1.87it/s]\n"
          ]
        },
        {
          "output_type": "stream",
          "name": "stdout",
          "text": [
            "Epoch: 174 Val Loss: 0.65047558 AUC: 0.77798861 \n",
            "[[0.66164736 0.33835264]\n",
            " [0.25112925 0.74887075]]\n"
          ]
        },
        {
          "output_type": "stream",
          "name": "stderr",
          "text": [
            "100%|██████████| 27/27 [00:29<00:00,  1.10s/it]\n"
          ]
        },
        {
          "output_type": "stream",
          "name": "stdout",
          "text": [
            "Epoch: 175 Train Loss: 0.54722941 AUC: 0.93452381 \n",
            "[[0.96272548 0.03727452]\n",
            " [0.22258404 0.77741596]]\n"
          ]
        },
        {
          "output_type": "stream",
          "name": "stderr",
          "text": [
            "100%|██████████| 7/7 [00:03<00:00,  1.81it/s]\n"
          ]
        },
        {
          "output_type": "stream",
          "name": "stdout",
          "text": [
            "Epoch: 175 Val Loss: 0.65734380 AUC: 0.72865275 \n",
            "[[0.66195741 0.33804259]\n",
            " [0.25151515 0.74848485]]\n"
          ]
        },
        {
          "output_type": "stream",
          "name": "stderr",
          "text": [
            "100%|██████████| 27/27 [00:30<00:00,  1.15s/it]\n"
          ]
        },
        {
          "output_type": "stream",
          "name": "stdout",
          "text": [
            "Epoch: 176 Train Loss: 0.54131375 AUC: 0.96078431 \n",
            "[[0.96279594 0.03720406]\n",
            " [0.2221125  0.7778875 ]]\n"
          ]
        },
        {
          "output_type": "stream",
          "name": "stderr",
          "text": [
            "100%|██████████| 7/7 [00:04<00:00,  1.74it/s]\n"
          ]
        },
        {
          "output_type": "stream",
          "name": "stdout",
          "text": [
            "Epoch: 176 Val Loss: 0.68210805 AUC: 0.70303605 \n",
            "[[0.66155138 0.33844862]\n",
            " [0.25135862 0.74864138]]\n"
          ]
        },
        {
          "output_type": "stream",
          "name": "stderr",
          "text": [
            "100%|██████████| 27/27 [00:29<00:00,  1.09s/it]\n"
          ]
        },
        {
          "output_type": "stream",
          "name": "stdout",
          "text": [
            "Epoch: 177 Train Loss: 0.53760747 AUC: 0.98333333 \n",
            "[[0.96285928 0.03714072]\n",
            " [0.22151265 0.77848735]]\n"
          ]
        },
        {
          "output_type": "stream",
          "name": "stderr",
          "text": [
            "100%|██████████| 7/7 [00:03<00:00,  1.78it/s]\n"
          ]
        },
        {
          "output_type": "stream",
          "name": "stdout",
          "text": [
            "Epoch: 177 Val Loss: 0.68151419 AUC: 0.68690702 \n",
            "[[0.66102338 0.33897662]\n",
            " [0.25098983 0.74901017]]\n"
          ]
        },
        {
          "output_type": "stream",
          "name": "stderr",
          "text": [
            "100%|██████████| 27/27 [00:29<00:00,  1.09s/it]\n"
          ]
        },
        {
          "output_type": "stream",
          "name": "stdout",
          "text": [
            "Epoch: 178 Train Loss: 0.53855389 AUC: 0.95503421 \n",
            "[[0.962966   0.037034  ]\n",
            " [0.22100585 0.77899415]]\n"
          ]
        },
        {
          "output_type": "stream",
          "name": "stderr",
          "text": [
            "100%|██████████| 7/7 [00:03<00:00,  1.79it/s]\n"
          ]
        },
        {
          "output_type": "stream",
          "name": "stdout",
          "text": [
            "Epoch: 178 Val Loss: 0.67353265 AUC: 0.68026565 \n",
            "[[0.66090392 0.33909608]\n",
            " [0.250971   0.749029  ]]\n"
          ]
        },
        {
          "output_type": "stream",
          "name": "stderr",
          "text": [
            "100%|██████████| 27/27 [00:29<00:00,  1.10s/it]\n"
          ]
        },
        {
          "output_type": "stream",
          "name": "stdout",
          "text": [
            "Epoch: 179 Train Loss: 0.53932322 AUC: 0.98339844 \n",
            "[[0.96304021 0.03695979]\n",
            " [0.22047827 0.77952173]]\n"
          ]
        },
        {
          "output_type": "stream",
          "name": "stderr",
          "text": [
            "100%|██████████| 7/7 [00:03<00:00,  1.76it/s]\n"
          ]
        },
        {
          "output_type": "stream",
          "name": "stdout",
          "text": [
            "Epoch: 179 Val Loss: 0.67225827 AUC: 0.76565465 \n",
            "[[0.66071071 0.33928929]\n",
            " [0.25084656 0.74915344]]\n"
          ]
        },
        {
          "output_type": "stream",
          "name": "stderr",
          "text": [
            "100%|██████████| 27/27 [00:29<00:00,  1.10s/it]\n"
          ]
        },
        {
          "output_type": "stream",
          "name": "stdout",
          "text": [
            "Epoch: 180 Train Loss: 0.53924943 AUC: 0.98178138 \n",
            "[[0.96310738 0.03689262]\n",
            " [0.21996965 0.78003035]]\n"
          ]
        },
        {
          "output_type": "stream",
          "name": "stderr",
          "text": [
            "100%|██████████| 7/7 [00:03<00:00,  1.82it/s]\n"
          ]
        },
        {
          "output_type": "stream",
          "name": "stdout",
          "text": [
            "Epoch: 180 Val Loss: 0.67611662 AUC: 0.72106262 \n",
            "[[0.66034543 0.33965457]\n",
            " [0.25059195 0.74940805]]\n"
          ]
        },
        {
          "output_type": "stream",
          "name": "stderr",
          "text": [
            "100%|██████████| 27/27 [00:29<00:00,  1.09s/it]\n"
          ]
        },
        {
          "output_type": "stream",
          "name": "stdout",
          "text": [
            "Epoch: 181 Train Loss: 0.54067000 AUC: 0.98098098 \n",
            "[[0.96313044 0.03686956]\n",
            " [0.21942089 0.78057911]]\n"
          ]
        },
        {
          "output_type": "stream",
          "name": "stderr",
          "text": [
            "100%|██████████| 7/7 [00:03<00:00,  1.82it/s]\n"
          ]
        },
        {
          "output_type": "stream",
          "name": "stdout",
          "text": [
            "Epoch: 181 Val Loss: 0.66671153 AUC: 0.69259962 \n",
            "[[0.66033066 0.33966934]\n",
            " [0.25065411 0.74934589]]\n"
          ]
        },
        {
          "output_type": "stream",
          "name": "stderr",
          "text": [
            "100%|██████████| 27/27 [00:29<00:00,  1.09s/it]\n"
          ]
        },
        {
          "output_type": "stream",
          "name": "stdout",
          "text": [
            "Epoch: 182 Train Loss: 0.54001151 AUC: 0.97851562 \n",
            "[[0.96320254 0.03679746]\n",
            " [0.2189431  0.7810569 ]]\n"
          ]
        },
        {
          "output_type": "stream",
          "name": "stderr",
          "text": [
            "100%|██████████| 7/7 [00:03<00:00,  1.82it/s]\n"
          ]
        },
        {
          "output_type": "stream",
          "name": "stdout",
          "text": [
            "Epoch: 182 Val Loss: 0.65580768 AUC: 0.82542694 \n",
            "[[0.66051297 0.33948703]\n",
            " [0.25074161 0.74925839]]\n"
          ]
        },
        {
          "output_type": "stream",
          "name": "stderr",
          "text": [
            "100%|██████████| 27/27 [00:29<00:00,  1.09s/it]\n"
          ]
        },
        {
          "output_type": "stream",
          "name": "stdout",
          "text": [
            "Epoch: 183 Train Loss: 0.54104084 AUC: 0.97510823 \n",
            "[[0.96330449 0.03669551]\n",
            " [0.21854805 0.78145195]]\n"
          ]
        },
        {
          "output_type": "stream",
          "name": "stderr",
          "text": [
            "100%|██████████| 7/7 [00:04<00:00,  1.72it/s]\n"
          ]
        },
        {
          "output_type": "stream",
          "name": "stdout",
          "text": [
            "Epoch: 183 Val Loss: 0.65593014 AUC: 0.86527514 \n",
            "[[0.66049745 0.33950255]\n",
            " [0.25046584 0.74953416]]\n"
          ]
        },
        {
          "output_type": "stream",
          "name": "stderr",
          "text": [
            "100%|██████████| 27/27 [00:29<00:00,  1.10s/it]\n"
          ]
        },
        {
          "output_type": "stream",
          "name": "stdout",
          "text": [
            "Epoch: 184 Train Loss: 0.54147249 AUC: 0.96372549 \n",
            "[[0.96333831 0.03666169]\n",
            " [0.21806729 0.78193271]]\n"
          ]
        },
        {
          "output_type": "stream",
          "name": "stderr",
          "text": [
            "100%|██████████| 7/7 [00:04<00:00,  1.51it/s]\n"
          ]
        },
        {
          "output_type": "stream",
          "name": "stdout",
          "text": [
            "Epoch: 184 Val Loss: 0.64902038 AUC: 0.80645161 \n",
            "[[0.66045776 0.33954224]\n",
            " [0.24993565 0.75006435]]\n"
          ]
        },
        {
          "output_type": "stream",
          "name": "stderr",
          "text": [
            "100%|██████████| 27/27 [00:30<00:00,  1.12s/it]\n"
          ]
        },
        {
          "output_type": "stream",
          "name": "stdout",
          "text": [
            "Epoch: 185 Train Loss: 0.54597666 AUC: 0.94482759 \n",
            "[[0.96323235 0.03676765]\n",
            " [0.21748942 0.78251058]]\n"
          ]
        },
        {
          "output_type": "stream",
          "name": "stderr",
          "text": [
            "100%|██████████| 7/7 [00:03<00:00,  1.77it/s]\n"
          ]
        },
        {
          "output_type": "stream",
          "name": "stdout",
          "text": [
            "Epoch: 185 Val Loss: 0.67405647 AUC: 0.77419355 \n",
            "[[0.66034583 0.33965417]\n",
            " [0.2499744  0.7500256 ]]\n"
          ]
        },
        {
          "output_type": "stream",
          "name": "stderr",
          "text": [
            "100%|██████████| 27/27 [00:29<00:00,  1.09s/it]\n"
          ]
        },
        {
          "output_type": "stream",
          "name": "stdout",
          "text": [
            "Epoch: 186 Train Loss: 0.54122286 AUC: 0.97941176 \n",
            "[[0.96317576 0.03682424]\n",
            " [0.21686686 0.78313314]]\n"
          ]
        },
        {
          "output_type": "stream",
          "name": "stderr",
          "text": [
            "100%|██████████| 7/7 [00:03<00:00,  1.84it/s]\n"
          ]
        },
        {
          "output_type": "stream",
          "name": "stdout",
          "text": [
            "Epoch: 186 Val Loss: 0.66444821 AUC: 0.85578748 \n",
            "[[0.6600424  0.3399576 ]\n",
            " [0.24950344 0.75049656]]\n"
          ]
        },
        {
          "output_type": "stream",
          "name": "stderr",
          "text": [
            "100%|██████████| 27/27 [00:29<00:00,  1.09s/it]\n"
          ]
        },
        {
          "output_type": "stream",
          "name": "stdout",
          "text": [
            "Epoch: 187 Train Loss: 0.53679802 AUC: 0.98325123 \n",
            "[[0.9632397  0.0367603 ]\n",
            " [0.21632681 0.78367319]]\n"
          ]
        },
        {
          "output_type": "stream",
          "name": "stderr",
          "text": [
            "100%|██████████| 7/7 [00:03<00:00,  1.76it/s]\n"
          ]
        },
        {
          "output_type": "stream",
          "name": "stdout",
          "text": [
            "Epoch: 187 Val Loss: 0.65662346 AUC: 0.85578748 \n",
            "[[0.66000575 0.33999425]\n",
            " [0.24926545 0.75073455]]\n"
          ]
        },
        {
          "output_type": "stream",
          "name": "stderr",
          "text": [
            "100%|██████████| 27/27 [00:30<00:00,  1.15s/it]\n"
          ]
        },
        {
          "output_type": "stream",
          "name": "stdout",
          "text": [
            "Epoch: 188 Train Loss: 0.53166231 AUC: 0.95665025 \n",
            "[[0.96332683 0.03667317]\n",
            " [0.21568553 0.78431447]]\n"
          ]
        },
        {
          "output_type": "stream",
          "name": "stderr",
          "text": [
            "100%|██████████| 7/7 [00:03<00:00,  1.79it/s]\n"
          ]
        },
        {
          "output_type": "stream",
          "name": "stdout",
          "text": [
            "Epoch: 188 Val Loss: 0.65955315 AUC: 0.83491461 \n",
            "[[0.65975499 0.34024501]\n",
            " [0.24867725 0.75132275]]\n"
          ]
        },
        {
          "output_type": "stream",
          "name": "stderr",
          "text": [
            "100%|██████████| 27/27 [00:29<00:00,  1.10s/it]\n"
          ]
        },
        {
          "output_type": "stream",
          "name": "stdout",
          "text": [
            "Epoch: 189 Train Loss: 0.53790381 AUC: 0.99487179 \n",
            "[[0.96338337 0.03661663]\n",
            " [0.21515114 0.78484886]]\n"
          ]
        },
        {
          "output_type": "stream",
          "name": "stderr",
          "text": [
            "100%|██████████| 7/7 [00:04<00:00,  1.73it/s]\n"
          ]
        },
        {
          "output_type": "stream",
          "name": "stdout",
          "text": [
            "Epoch: 189 Val Loss: 0.66100366 AUC: 0.81119545 \n",
            "[[0.65986249 0.34013751]\n",
            " [0.24882206 0.75117794]]\n"
          ]
        },
        {
          "output_type": "stream",
          "name": "stderr",
          "text": [
            "100%|██████████| 27/27 [00:29<00:00,  1.10s/it]\n"
          ]
        },
        {
          "output_type": "stream",
          "name": "stdout",
          "text": [
            "Epoch: 190 Train Loss: 0.53653624 AUC: 0.96187683 \n",
            "[[0.96349245 0.03650755]\n",
            " [0.21466591 0.78533409]]\n"
          ]
        },
        {
          "output_type": "stream",
          "name": "stderr",
          "text": [
            "100%|██████████| 7/7 [00:03<00:00,  1.80it/s]\n"
          ]
        },
        {
          "output_type": "stream",
          "name": "stdout",
          "text": [
            "Epoch: 190 Val Loss: 0.66819503 AUC: 0.74383302 \n",
            "[[0.6596387  0.3403613 ]\n",
            " [0.24854151 0.75145849]]\n"
          ]
        },
        {
          "output_type": "stream",
          "name": "stderr",
          "text": [
            "100%|██████████| 27/27 [00:29<00:00,  1.09s/it]\n"
          ]
        },
        {
          "output_type": "stream",
          "name": "stdout",
          "text": [
            "Epoch: 191 Train Loss: 0.53813517 AUC: 0.91960784 \n",
            "[[0.96358277 0.03641723]\n",
            " [0.21421051 0.78578949]]\n"
          ]
        },
        {
          "output_type": "stream",
          "name": "stderr",
          "text": [
            "100%|██████████| 7/7 [00:06<00:00,  1.04it/s]\n"
          ]
        },
        {
          "output_type": "stream",
          "name": "stdout",
          "text": [
            "Epoch: 191 Val Loss: 0.66763152 AUC: 0.79411765 \n",
            "[[0.6596753  0.3403247 ]\n",
            " [0.24868552 0.75131448]]\n"
          ]
        },
        {
          "output_type": "stream",
          "name": "stderr",
          "text": [
            "100%|██████████| 27/27 [00:30<00:00,  1.13s/it]\n"
          ]
        },
        {
          "output_type": "stream",
          "name": "stdout",
          "text": [
            "Epoch: 192 Train Loss: 0.54332228 AUC: 0.95932540 \n",
            "[[0.96367216 0.03632784]\n",
            " [0.21393234 0.78606766]]\n"
          ]
        },
        {
          "output_type": "stream",
          "name": "stderr",
          "text": [
            "100%|██████████| 7/7 [00:03<00:00,  1.77it/s]\n"
          ]
        },
        {
          "output_type": "stream",
          "name": "stdout",
          "text": [
            "Epoch: 192 Val Loss: 0.67932282 AUC: 0.75142315 \n",
            "[[0.65947813 0.34052187]\n",
            " [0.24880336 0.75119664]]\n"
          ]
        },
        {
          "output_type": "stream",
          "name": "stderr",
          "text": [
            "100%|██████████| 27/27 [00:29<00:00,  1.10s/it]\n"
          ]
        },
        {
          "output_type": "stream",
          "name": "stdout",
          "text": [
            "Epoch: 193 Train Loss: 0.54505319 AUC: 0.98044966 \n",
            "[[0.96369088 0.03630912]\n",
            " [0.21357736 0.78642264]]\n"
          ]
        },
        {
          "output_type": "stream",
          "name": "stderr",
          "text": [
            "100%|██████████| 7/7 [00:03<00:00,  1.79it/s]\n"
          ]
        },
        {
          "output_type": "stream",
          "name": "stdout",
          "text": [
            "Epoch: 193 Val Loss: 0.68699627 AUC: 0.75521822 \n",
            "[[0.65914368 0.34085632]\n",
            " [0.24887089 0.75112911]]\n"
          ]
        },
        {
          "output_type": "stream",
          "name": "stderr",
          "text": [
            "100%|██████████| 27/27 [00:29<00:00,  1.10s/it]\n"
          ]
        },
        {
          "output_type": "stream",
          "name": "stdout",
          "text": [
            "Epoch: 194 Train Loss: 0.53981146 AUC: 0.98279352 \n",
            "[[0.96368629 0.03631371]\n",
            " [0.2130004  0.7869996 ]]\n"
          ]
        },
        {
          "output_type": "stream",
          "name": "stderr",
          "text": [
            "100%|██████████| 7/7 [00:04<00:00,  1.69it/s]\n"
          ]
        },
        {
          "output_type": "stream",
          "name": "stdout",
          "text": [
            "Epoch: 194 Val Loss: 0.67333704 AUC: 0.69259962 \n",
            "[[0.65904366 0.34095634]\n",
            " [0.24893773 0.75106227]]\n"
          ]
        },
        {
          "output_type": "stream",
          "name": "stderr",
          "text": [
            "100%|██████████| 27/27 [00:30<00:00,  1.12s/it]\n"
          ]
        },
        {
          "output_type": "stream",
          "name": "stdout",
          "text": [
            "Epoch: 195 Train Loss: 0.53745871 AUC: 0.99802956 \n",
            "[[0.96376803 0.03623197]\n",
            " [0.21253246 0.78746754]]\n"
          ]
        },
        {
          "output_type": "stream",
          "name": "stderr",
          "text": [
            "100%|██████████| 7/7 [00:04<00:00,  1.41it/s]\n"
          ]
        },
        {
          "output_type": "stream",
          "name": "stdout",
          "text": [
            "Epoch: 195 Val Loss: 0.67596734 AUC: 0.70018975 \n",
            "[[0.65880677 0.34119323]\n",
            " [0.24880952 0.75119048]]\n"
          ]
        },
        {
          "output_type": "stream",
          "name": "stderr",
          "text": [
            "100%|██████████| 27/27 [00:29<00:00,  1.10s/it]\n"
          ]
        },
        {
          "output_type": "stream",
          "name": "stdout",
          "text": [
            "Epoch: 196 Train Loss: 0.53945484 AUC: 0.99107143 \n",
            "[[0.96380316 0.03619684]\n",
            " [0.21206323 0.78793677]]\n"
          ]
        },
        {
          "output_type": "stream",
          "name": "stderr",
          "text": [
            "100%|██████████| 7/7 [00:04<00:00,  1.69it/s]\n"
          ]
        },
        {
          "output_type": "stream",
          "name": "stdout",
          "text": [
            "Epoch: 196 Val Loss: 0.65835960 AUC: 0.83301708 \n",
            "[[0.65866374 0.34133626]\n",
            " [0.24839255 0.75160745]]\n"
          ]
        },
        {
          "output_type": "stream",
          "name": "stderr",
          "text": [
            "100%|██████████| 27/27 [00:29<00:00,  1.09s/it]\n"
          ]
        },
        {
          "output_type": "stream",
          "name": "stdout",
          "text": [
            "Epoch: 197 Train Loss: 0.53936700 AUC: 0.95882353 \n",
            "[[0.96381515 0.03618485]\n",
            " [0.21156872 0.78843128]]\n"
          ]
        },
        {
          "output_type": "stream",
          "name": "stderr",
          "text": [
            "100%|██████████| 7/7 [00:03<00:00,  1.76it/s]\n"
          ]
        },
        {
          "output_type": "stream",
          "name": "stdout",
          "text": [
            "Epoch: 197 Val Loss: 0.65891539 AUC: 0.78557875 \n",
            "[[0.65861316 0.34138684]\n",
            " [0.2481241  0.7518759 ]]\n"
          ]
        },
        {
          "output_type": "stream",
          "name": "stderr",
          "text": [
            "100%|██████████| 27/27 [00:29<00:00,  1.10s/it]\n"
          ]
        },
        {
          "output_type": "stream",
          "name": "stdout",
          "text": [
            "Epoch: 198 Train Loss: 0.53501205 AUC: 0.97339901 \n",
            "[[0.96388368 0.03611632]\n",
            " [0.2110493  0.7889507 ]]\n"
          ]
        },
        {
          "output_type": "stream",
          "name": "stderr",
          "text": [
            "100%|██████████| 7/7 [00:04<00:00,  1.72it/s]\n"
          ]
        },
        {
          "output_type": "stream",
          "name": "stdout",
          "text": [
            "Epoch: 198 Val Loss: 0.66417216 AUC: 0.78368121 \n",
            "[[0.65854045 0.34145955]\n",
            " [0.24795406 0.75204594]]\n"
          ]
        },
        {
          "output_type": "stream",
          "name": "stderr",
          "text": [
            "100%|██████████| 27/27 [00:30<00:00,  1.11s/it]\n"
          ]
        },
        {
          "output_type": "stream",
          "name": "stdout",
          "text": [
            "Epoch: 199 Train Loss: 0.53587202 AUC: 0.91822660 \n",
            "[[0.96394025 0.03605975]\n",
            " [0.21053508 0.78946492]]\n"
          ]
        },
        {
          "output_type": "stream",
          "name": "stderr",
          "text": [
            "100%|██████████| 7/7 [00:04<00:00,  1.63it/s]\n"
          ]
        },
        {
          "output_type": "stream",
          "name": "stdout",
          "text": [
            "Epoch: 199 Val Loss: 0.67607516 AUC: 0.74193548 \n",
            "[[0.65842342 0.34157658]\n",
            " [0.24814286 0.75185714]]\n",
            "\n",
            "Duration: 10928 seconds\n"
          ]
        }
      ],
      "source": [
        "# Initialize the model for this run\n",
        "model = Melanoma_Net(cnn_model_name = model_name, num_classes = num_classes)\n",
        "input_size = model.input_size\n",
        "    \n",
        "dataloaders = get_dataloaders(input_size, batch_size, shuffle = shuffle_datasets)\n",
        "criterion = get_loss(num_classes=num_classes,device=device)\n",
        "\n",
        "# Move the model to the gpu if needed\n",
        "model = model.to(device)\n",
        "\n",
        "optimizer = make_optimizer(model)\n",
        "scheduler = torch.optim.lr_scheduler.StepLR(optimizer, step_size=30, gamma=0.1)\n",
        "#scheduler = torch.optim.lr_scheduler.MultiStepLR(optimizer, milestones=[5,10],gamma=0.1)\n",
        "\n",
        "# Train the model!\n",
        "train_auc, val_auc,train_losses,test_losses  = train_model(model=model,\n",
        "            dataloaders=dataloaders, criterion=criterion, optimizer=optimizer,\n",
        "            scheduler=scheduler, model_name=model_name, num_epochs=num_epochs)"
      ]
    },
    {
      "cell_type": "code",
      "execution_count": 19,
      "metadata": {
        "id": "MhFLMJesFE6s",
        "colab": {
          "base_uri": "https://localhost:8080/",
          "height": 330
        },
        "outputId": "50fd288b-14b0-4bf8-8c7f-80ba07da0ed0"
      },
      "outputs": [
        {
          "output_type": "execute_result",
          "data": {
            "text/plain": [
              "<Figure size 432x288 with 0 Axes>"
            ]
          },
          "metadata": {},
          "execution_count": 19
        },
        {
          "output_type": "display_data",
          "data": {
            "text/plain": [
              "<Figure size 432x288 with 1 Axes>"
            ],
            "image/png": "[encoded data removed]"
          },
          "metadata": {
            "needs_background": "light"
          }
        },
        {
          "output_type": "display_data",
          "data": {
            "text/plain": [
              "<Figure size 432x288 with 0 Axes>"
            ]
          },
          "metadata": {}
        }
      ],
      "source": [
        "acc = train_auc\n",
        "val_acc = val_auc\n",
        "\n",
        "epochs   = range(1,len(acc)+1,1)\n",
        "\n",
        "plt.plot ( epochs,     acc, 'r--', label='Training acc'  )\n",
        "plt.plot ( epochs, val_acc,  'b', label='Validation acc')\n",
        "plt.title ('Training and validation accuracy')\n",
        "plt.ylabel('acc')\n",
        "plt.xlabel('epochs')\n",
        "\n",
        "plt.legend()\n",
        "plt.figure()"
      ]
    },
    {
      "cell_type": "code",
      "execution_count": 20,
      "metadata": {
        "id": "LGb0Zp3EFHFG",
        "colab": {
          "base_uri": "https://localhost:8080/",
          "height": 330
        },
        "outputId": "041047a3-0fea-4f4b-d8b4-f9d58ae1cb7f"
      },
      "outputs": [
        {
          "output_type": "execute_result",
          "data": {
            "text/plain": [
              "<Figure size 432x288 with 0 Axes>"
            ]
          },
          "metadata": {},
          "execution_count": 20
        },
        {
          "output_type": "display_data",
          "data": {
            "text/plain": [
              "<Figure size 432x288 with 1 Axes>"
            ],
            "image/png": "[encoded data removed]"
          },
          "metadata": {
            "needs_background": "light"
          }
        },
        {
          "output_type": "display_data",
          "data": {
            "text/plain": [
              "<Figure size 432x288 with 0 Axes>"
            ]
          },
          "metadata": {}
        }
      ],
      "source": [
        "acc = train_losses\n",
        "val_acc = test_losses\n",
        "\n",
        "epochs   = range(1,len(acc)+1,1)\n",
        "\n",
        "plt.plot ( epochs,     acc, 'r--', label='Training loss'  )\n",
        "plt.plot ( epochs, val_acc,  'b', label='Validation loss')\n",
        "plt.title ('Training and validation losses')\n",
        "plt.ylabel('loss')\n",
        "plt.xlabel('epochs')\n",
        "\n",
        "plt.legend()\n",
        "plt.figure()"
      ]
    },
    {
      "cell_type": "code",
      "execution_count": 21,
      "metadata": {
        "id": "9CSfg8RVFIuG"
      },
      "outputs": [],
      "source": [
        "accuracy_dataframe = pd.DataFrame({\"train_auc\":train_auc, \"val_auc\":val_auc})\n",
        "accuracy_dataframe.to_csv(dataframes_path + \"Pesos VGG16DA/AccuracyDataframe.csv\", index=False)\n",
        "losses_dataframe = pd.DataFrame({\"train_auc\":train_losses, \"val_auc\":test_losses})\n",
        "losses_dataframe.to_csv(dataframes_path +\"Pesos VGG16DA/LossesDataFrame.csv\", index=False)"
      ]
    },
    {
      "cell_type": "code",
      "execution_count": 22,
      "metadata": {
        "id": "WB6Nh5y-FOYm",
        "colab": {
          "base_uri": "https://localhost:8080/",
          "height": 424
        },
        "outputId": "25c63936-e859-4a46-87f6-926f722265e1"
      },
      "outputs": [
        {
          "output_type": "execute_result",
          "data": {
            "text/plain": [
              "     train_auc   val_auc\n",
              "144   0.955034  0.873814\n",
              "40    0.907908  0.872865\n",
              "171   0.963542  0.866224\n",
              "156   0.989163  0.865275\n",
              "183   0.975108  0.865275\n",
              "..         ...       ...\n",
              "49    0.931373  0.609108\n",
              "84    0.998958  0.607211\n",
              "73    0.956863  0.593928\n",
              "136   0.999022  0.569260\n",
              "0     0.592118  0.529412\n",
              "\n",
              "[200 rows x 2 columns]"
            ],
            "text/html": [
              "\n",
              "  <div id=\"df-6225a7f7-9609-4686-ba67-541c66e9b926\">\n",
              "    <div class=\"colab-df-container\">\n",
              "      <div>\n",
              "<style scoped>\n",
              "    .dataframe tbody tr th:only-of-type {\n",
              "        vertical-align: middle;\n",
              "    }\n",
              "\n",
              "    .dataframe tbody tr th {\n",
              "        vertical-align: top;\n",
              "    }\n",
              "\n",
              "    .dataframe thead th {\n",
              "        text-align: right;\n",
              "    }\n",
              "</style>\n",
              "<table border=\"1\" class=\"dataframe\">\n",
              "  <thead>\n",
              "    <tr style=\"text-align: right;\">\n",
              "      <th></th>\n",
              "      <th>train_auc</th>\n",
              "      <th>val_auc</th>\n",
              "    </tr>\n",
              "  </thead>\n",
              "  <tbody>\n",
              "    <tr>\n",
              "      <th>144</th>\n",
              "      <td>0.955034</td>\n",
              "      <td>0.873814</td>\n",
              "    </tr>\n",
              "    <tr>\n",
              "      <th>40</th>\n",
              "      <td>0.907908</td>\n",
              "      <td>0.872865</td>\n",
              "    </tr>\n",
              "    <tr>\n",
              "      <th>171</th>\n",
              "      <td>0.963542</td>\n",
              "      <td>0.866224</td>\n",
              "    </tr>\n",
              "    <tr>\n",
              "      <th>156</th>\n",
              "      <td>0.989163</td>\n",
              "      <td>0.865275</td>\n",
              "    </tr>\n",
              "    <tr>\n",
              "      <th>183</th>\n",
              "      <td>0.975108</td>\n",
              "      <td>0.865275</td>\n",
              "    </tr>\n",
              "    <tr>\n",
              "      <th>...</th>\n",
              "      <td>...</td>\n",
              "      <td>...</td>\n",
              "    </tr>\n",
              "    <tr>\n",
              "      <th>49</th>\n",
              "      <td>0.931373</td>\n",
              "      <td>0.609108</td>\n",
              "    </tr>\n",
              "    <tr>\n",
              "      <th>84</th>\n",
              "      <td>0.998958</td>\n",
              "      <td>0.607211</td>\n",
              "    </tr>\n",
              "    <tr>\n",
              "      <th>73</th>\n",
              "      <td>0.956863</td>\n",
              "      <td>0.593928</td>\n",
              "    </tr>\n",
              "    <tr>\n",
              "      <th>136</th>\n",
              "      <td>0.999022</td>\n",
              "      <td>0.569260</td>\n",
              "    </tr>\n",
              "    <tr>\n",
              "      <th>0</th>\n",
              "      <td>0.592118</td>\n",
              "      <td>0.529412</td>\n",
              "    </tr>\n",
              "  </tbody>\n",
              "</table>\n",
              "<p>200 rows × 2 columns</p>\n",
              "</div>\n",
              "      <button class=\"colab-df-convert\" onclick=\"convertToInteractive('df-6225a7f7-9609-4686-ba67-541c66e9b926')\"\n",
              "              title=\"Convert this dataframe to an interactive table.\"\n",
              "              style=\"display:none;\">\n",
              "        \n",
              "  <svg xmlns=\"http://www.w3.org/2000/svg\" height=\"24px\"viewBox=\"0 0 24 24\"\n",
              "       width=\"24px\">\n",
              "    <path d=\"M0 0h24v24H0V0z\" fill=\"none\"/>\n",
              "    <path d=\"M18.56 5.44l.94 2.06.94-2.06 2.06-.94-2.06-.94-.94-2.06-.94 2.06-2.06.94zm-11 1L8.5 8.5l.94-2.06 2.06-.94-2.06-.94L8.5 2.5l-.94 2.06-2.06.94zm10 10l.94 2.06.94-2.06 2.06-.94-2.06-.94-.94-2.06-.94 2.06-2.06.94z\"/><path d=\"M17.41 7.96l-1.37-1.37c-.4-.4-.92-.59-1.43-.59-.52 0-1.04.2-1.43.59L10.3 9.45l-7.72 7.72c-.78.78-.78 2.05 0 2.83L4 21.41c.39.39.9.59 1.41.59.51 0 1.02-.2 1.41-.59l7.78-7.78 2.81-2.81c.8-.78.8-2.07 0-2.86zM5.41 20L4 18.59l7.72-7.72 1.47 1.35L5.41 20z\"/>\n",
              "  </svg>\n",
              "      </button>\n",
              "      \n",
              "  <style>\n",
              "    .colab-df-container {\n",
              "      display:flex;\n",
              "      flex-wrap:wrap;\n",
              "      gap: 12px;\n",
              "    }\n",
              "\n",
              "    .colab-df-convert {\n",
              "      background-color: #E8F0FE;\n",
              "      border: none;\n",
              "      border-radius: 50%;\n",
              "      cursor: pointer;\n",
              "      display: none;\n",
              "      fill: #1967D2;\n",
              "      height: 32px;\n",
              "      padding: 0 0 0 0;\n",
              "      width: 32px;\n",
              "    }\n",
              "\n",
              "    .colab-df-convert:hover {\n",
              "      background-color: #E2EBFA;\n",
              "      box-shadow: 0px 1px 2px rgba(60, 64, 67, 0.3), 0px 1px 3px 1px rgba(60, 64, 67, 0.15);\n",
              "      fill: #174EA6;\n",
              "    }\n",
              "\n",
              "    [theme=dark] .colab-df-convert {\n",
              "      background-color: #3B4455;\n",
              "      fill: #D2E3FC;\n",
              "    }\n",
              "\n",
              "    [theme=dark] .colab-df-convert:hover {\n",
              "      background-color: #434B5C;\n",
              "      box-shadow: 0px 1px 3px 1px rgba(0, 0, 0, 0.15);\n",
              "      filter: drop-shadow(0px 1px 2px rgba(0, 0, 0, 0.3));\n",
              "      fill: #FFFFFF;\n",
              "    }\n",
              "  </style>\n",
              "\n",
              "      <script>\n",
              "        const buttonEl =\n",
              "          document.querySelector('#df-6225a7f7-9609-4686-ba67-541c66e9b926 button.colab-df-convert');\n",
              "        buttonEl.style.display =\n",
              "          google.colab.kernel.accessAllowed ? 'block' : 'none';\n",
              "\n",
              "        async function convertToInteractive(key) {\n",
              "          const element = document.querySelector('#df-6225a7f7-9609-4686-ba67-541c66e9b926');\n",
              "          const dataTable =\n",
              "            await google.colab.kernel.invokeFunction('convertToInteractive',\n",
              "                                                     [key], {});\n",
              "          if (!dataTable) return;\n",
              "\n",
              "          const docLinkHtml = 'Like what you see? Visit the ' +\n",
              "            '<a target=\"_blank\" href=https://colab.research.google.com/notebooks/data_table.ipynb>data table notebook</a>'\n",
              "            + ' to learn more about interactive tables.';\n",
              "          element.innerHTML = '';\n",
              "          dataTable['output_type'] = 'display_data';\n",
              "          await google.colab.output.renderOutput(dataTable, element);\n",
              "          const docLink = document.createElement('div');\n",
              "          docLink.innerHTML = docLinkHtml;\n",
              "          element.appendChild(docLink);\n",
              "        }\n",
              "      </script>\n",
              "    </div>\n",
              "  </div>\n",
              "  "
            ]
          },
          "metadata": {},
          "execution_count": 22
        }
      ],
      "source": [
        "accuracy_dataframe.sort_values(by=['val_auc'], ascending=False)"
      ]
    },
    {
      "cell_type": "code",
      "source": [
        "batch_size = 16"
      ],
      "metadata": {
        "id": "t95D-rxCvLq7"
      },
      "execution_count": 16,
      "outputs": []
    },
    {
      "cell_type": "code",
      "execution_count": 26,
      "metadata": {
        "id": "K3r2iroBFRcn"
      },
      "outputs": [],
      "source": [
        "model = Melanoma_Net(cnn_model_name = model_name, num_classes = num_classes) \n",
        "checkpoint = torch.load(dataframes_path + 'Pesos VGG16DA/vgg16_weights_140.pt')\n",
        "# checkpoint = torch.load(dataframes_path + 'Pesos Vgg16/vgg16_weights_195.pt',map_location ='cpu')\n",
        "\n",
        "model.load_state_dict(checkpoint['state_dict'])\n",
        "\n",
        "device = torch.device(\"cuda:0\" if torch.cuda.is_available() else \"cpu\")\n",
        "#device = (\"cpu\")\n",
        "\n",
        "input_size = model.input_size \n",
        "dataloaders = get_dataloaders(input_size, batch_size, shuffle = shuffle_datasets) \n",
        "test_loader = dataloaders['test']\n",
        "\n",
        "if torch.cuda.is_available(): model.cuda()\n",
        "    \n",
        "model.eval()\n",
        "\n",
        "fn_list = [] \n",
        "pred_list = []\n",
        "\n",
        "for inputs, features, fn in test_loader: \n",
        "    inputs = inputs.to(device) \n",
        "    features = features.to(device) \n",
        "    output = model(inputs, features) \n",
        "    pred = (output > 0).type(torch.float64) \n",
        "    #print(pred)\n",
        "    fn_list += fn \n",
        "    pred_list += [p.item() for p in pred]"
      ]
    },
    {
      "cell_type": "code",
      "execution_count": 27,
      "metadata": {
        "id": "uqEHI1QmFUyU"
      },
      "outputs": [],
      "source": [
        "submission = pd.DataFrame({\"image_name\":fn_list, \"target\":pred_list})\n",
        "submission.to_csv(dataframes_path + \"Pesos VGG16DA/Submission.csv\", index=False)"
      ]
    },
    {
      "cell_type": "code",
      "execution_count": 28,
      "metadata": {
        "id": "ZhoqF8FLFWsT",
        "colab": {
          "base_uri": "https://localhost:8080/"
        },
        "outputId": "883c4c2f-92c0-48a3-f8ec-7cbcab963981"
      },
      "outputs": [
        {
          "output_type": "stream",
          "name": "stdout",
          "text": [
            "------------Matriz de confusión-------------------\n",
            "[[236  42]\n",
            " [115 148]]\n",
            "------------Exactitud-------------------\n",
            "0.7097966728280961\n",
            "------------Precision-------------------\n",
            "0.724178441427201\n",
            "[0.67236467 0.77894737]\n",
            "------------Sensibilidad-------------------\n",
            "0.7097966728280961\n",
            "[0.84892086 0.56273764]\n",
            "------------F1 score-------------------\n",
            "0.7032539417199835\n",
            "[0.75039746 0.65342163]\n"
          ]
        }
      ],
      "source": [
        "df_test = pd.read_csv(dataframes_path + \"test.csv\")\n",
        "df_merge = pd.merge(df_test, submission, left_index=True, right_index=True)\n",
        "\n",
        "print(\"------------Matriz de confusión-------------------\")\n",
        "print(confusion_matrix(df_merge['target_x'], df_merge['target_y']))\n",
        "\n",
        "print(\"------------Exactitud-------------------\")\n",
        "print(accuracy_score(df_merge['target_x'], df_merge['target_y']))\n",
        "\n",
        "print(\"------------Precision-------------------\")\n",
        "print(precision_score(df_merge['target_x'], df_merge['target_y'], average='weighted'))\n",
        "print(precision_score(df_merge['target_x'], df_merge['target_y'], average=None))\n",
        "\n",
        "print(\"------------Sensibilidad-------------------\")\n",
        "print(recall_score(df_merge['target_x'], df_merge['target_y'], average='weighted'))\n",
        "print(recall_score(df_merge['target_x'], df_merge['target_y'], average=None))\n",
        "\n",
        "print(\"------------F1 score-------------------\")\n",
        "print(f1_score(df_merge['target_x'], df_merge['target_y'], average='weighted'))\n",
        "print(f1_score(df_merge['target_x'], df_merge['target_y'], average=None))"
      ]
    }
  ],
  "metadata": {
    "accelerator": "GPU",
    "colab": {
      "name": "TFM_Comparativa_de_soluciones_VGG16_20_DA.ipynb",
      "provenance": [],
      "collapsed_sections": []
    },
    "kernelspec": {
      "display_name": "Python 3",
      "name": "python3"
    },
    "language_info": {
      "name": "python"
    },
    "gpuClass": "standard"
  },
  "nbformat": 4,
  "nbformat_minor": 0
}