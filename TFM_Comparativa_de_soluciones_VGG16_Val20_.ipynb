{
  "nbformat": 4,
  "nbformat_minor": 0,
  "metadata": {
    "colab": {
      "name": "TFM_Comparativa_de_soluciones_VGG16_Val20_.ipynb",
      "provenance": [],
      "collapsed_sections": []
    },
    "kernelspec": {
      "name": "python3",
      "display_name": "Python 3"
    },
    "language_info": {
      "name": "python"
    },
    "accelerator": "GPU"
  },
  "cells": [
    {
      "cell_type": "markdown",
      "source": [
        "# Montar las carpetas de google drive.\n",
        "# Create environment in Google drive"
      ],
      "metadata": {
        "id": "4J7xzNToatO9"
      }
    },
    {
      "cell_type": "code",
      "source": [
        "from google.colab import drive\n",
        "drive.mount('/content/drive')"
      ],
      "metadata": {
        "colab": {
          "base_uri": "https://localhost:8080/"
        },
        "id": "_vqtwMSuavE5",
        "outputId": "1737c1e3-7d59-4db7-f807-e5daf9867611"
      },
      "execution_count": null,
      "outputs": [
        {
          "output_type": "stream",
          "name": "stdout",
          "text": [
            "Mounted at /content/drive\n"
          ]
        }
      ]
    },
    {
      "cell_type": "code",
      "source": [
        "#Move to google drive environment\n",
        "%cd /content/drive/MyDrive/TFM Comparativa Soluciones"
      ],
      "metadata": {
        "colab": {
          "base_uri": "https://localhost:8080/"
        },
        "id": "ko_IyZhSaxUW",
        "outputId": "8164d00c-3c25-4baa-c63d-5de821bee88f"
      },
      "execution_count": null,
      "outputs": [
        {
          "output_type": "stream",
          "name": "stdout",
          "text": [
            "/content/drive/MyDrive/TFM Comparativa Soluciones\n"
          ]
        }
      ]
    },
    {
      "cell_type": "code",
      "source": [
        "! unzip train.zip"
      ],
      "metadata": {
        "colab": {
          "base_uri": "https://localhost:8080/"
        },
        "id": "WT-GhnqsYIu2",
        "outputId": "5aa66604-e3c3-4cd7-edf6-867fcd99b4f4"
      },
      "execution_count": null,
      "outputs": [
        {
          "output_type": "stream",
          "name": "stdout",
          "text": [
            "\u001b[1;30;43mSe han truncado las últimas 5000 líneas del flujo de salida.\u001b[0m\n",
            "  inflating: train/ISIC_6961482.jpg  \n",
            "  inflating: __MACOSX/train/._ISIC_6961482.jpg  \n",
            "  inflating: train/ISIC_0528791.jpg  \n",
            "  inflating: __MACOSX/train/._ISIC_0528791.jpg  \n",
            "  inflating: train/ISIC_6900068.jpg  \n",
            "  inflating: __MACOSX/train/._ISIC_6900068.jpg  \n",
            "  inflating: train/ISIC_5611010.jpg  \n",
            "  inflating: __MACOSX/train/._ISIC_5611010.jpg  \n",
            "  inflating: train/ISIC_2776986.jpg  \n",
            "  inflating: __MACOSX/train/._ISIC_2776986.jpg  \n",
            "  inflating: train/ISIC_1860049.jpg  \n",
            "  inflating: __MACOSX/train/._ISIC_1860049.jpg  \n",
            "  inflating: train/ISIC_8214363.jpg  \n",
            "  inflating: __MACOSX/train/._ISIC_8214363.jpg  \n",
            "  inflating: train/ISIC_3632547.jpg  \n",
            "  inflating: __MACOSX/train/._ISIC_3632547.jpg  \n",
            "  inflating: train/ISIC_1877535.jpg  \n",
            "  inflating: __MACOSX/train/._ISIC_1877535.jpg  \n",
            "  inflating: train/ISIC_9358532.jpg  \n",
            "  inflating: __MACOSX/train/._ISIC_9358532.jpg  \n",
            "  inflating: train/ISIC_9660528.jpg  \n",
            "  inflating: __MACOSX/train/._ISIC_9660528.jpg  \n",
            "  inflating: train/ISIC_7418193.jpg  \n",
            "  inflating: __MACOSX/train/._ISIC_7418193.jpg  \n",
            "  inflating: train/ISIC_1239088.jpg  \n",
            "  inflating: __MACOSX/train/._ISIC_1239088.jpg  \n",
            "  inflating: train/ISIC_4659355.jpg  \n",
            "  inflating: __MACOSX/train/._ISIC_4659355.jpg  \n",
            "  inflating: train/ISIC_4478337.jpg  \n",
            "  inflating: __MACOSX/train/._ISIC_4478337.jpg  \n",
            "  inflating: train/ISIC_4957985.jpg  \n",
            "  inflating: __MACOSX/train/._ISIC_4957985.jpg  \n",
            "  inflating: train/ISIC_4501838.jpg  \n",
            "  inflating: __MACOSX/train/._ISIC_4501838.jpg  \n",
            "  inflating: train/ISIC_8381608.jpg  \n",
            "  inflating: __MACOSX/train/._ISIC_8381608.jpg  \n",
            "  inflating: train/ISIC_7719553.jpg  \n",
            "  inflating: __MACOSX/train/._ISIC_7719553.jpg  \n",
            "  inflating: train/ISIC_4238548.jpg  \n",
            "  inflating: __MACOSX/train/._ISIC_4238548.jpg  \n",
            "  inflating: train/ISIC_6186467.jpg  \n",
            "  inflating: __MACOSX/train/._ISIC_6186467.jpg  \n",
            "  inflating: train/ISIC_8374497.jpg  \n",
            "  inflating: __MACOSX/train/._ISIC_8374497.jpg  \n",
            "  inflating: train/ISIC_0253178.jpg  \n",
            "  inflating: __MACOSX/train/._ISIC_0253178.jpg  \n",
            "  inflating: train/ISIC_8632147.jpg  \n",
            "  inflating: __MACOSX/train/._ISIC_8632147.jpg  \n",
            "  inflating: train/ISIC_6841752.jpg  \n",
            "  inflating: __MACOSX/train/._ISIC_6841752.jpg  \n",
            "  inflating: train/ISIC_5673859.jpg  \n",
            "  inflating: __MACOSX/train/._ISIC_5673859.jpg  \n",
            "  inflating: train/ISIC_6529073.jpg  \n",
            "  inflating: __MACOSX/train/._ISIC_6529073.jpg  \n",
            "  inflating: train/ISIC_2159294.jpg  \n",
            "  inflating: __MACOSX/train/._ISIC_2159294.jpg  \n",
            "  inflating: train/ISIC_7710577.jpg  \n",
            "  inflating: __MACOSX/train/._ISIC_7710577.jpg  \n",
            "  inflating: train/ISIC_0163765.jpg  \n",
            "  inflating: __MACOSX/train/._ISIC_0163765.jpg  \n",
            "  inflating: train/ISIC_9351516.jpg  \n",
            "  inflating: __MACOSX/train/._ISIC_9351516.jpg  \n",
            "  inflating: train/ISIC_6522126.jpg  \n",
            "  inflating: __MACOSX/train/._ISIC_6522126.jpg  \n",
            "  inflating: train/ISIC_1452314.jpg  \n",
            "  inflating: __MACOSX/train/._ISIC_1452314.jpg  \n",
            "  inflating: train/ISIC_6167855.jpg  \n",
            "  inflating: __MACOSX/train/._ISIC_6167855.jpg  \n",
            "  inflating: train/ISIC_9035982.jpg  \n",
            "  inflating: __MACOSX/train/._ISIC_9035982.jpg  \n",
            "  inflating: train/ISIC_8015990.jpg  \n",
            "  inflating: __MACOSX/train/._ISIC_8015990.jpg  \n",
            "  inflating: train/ISIC_2583592.jpg  \n",
            "  inflating: __MACOSX/train/._ISIC_2583592.jpg  \n",
            "  inflating: train/ISIC_6813799.jpg  \n",
            "  inflating: __MACOSX/train/._ISIC_6813799.jpg  \n",
            "  inflating: train/ISIC_5178216.jpg  \n",
            "  inflating: __MACOSX/train/._ISIC_5178216.jpg  \n",
            "  inflating: train/ISIC_8630963.jpg  \n",
            "  inflating: __MACOSX/train/._ISIC_8630963.jpg  \n",
            "  inflating: train/ISIC_1095325.jpg  \n",
            "  inflating: __MACOSX/train/._ISIC_1095325.jpg  \n",
            "  inflating: train/ISIC_0642269.jpg  \n",
            "  inflating: __MACOSX/train/._ISIC_0642269.jpg  \n",
            "  inflating: train/ISIC_4678416.jpg  \n",
            "  inflating: __MACOSX/train/._ISIC_4678416.jpg  \n",
            "  inflating: train/ISIC_2068908.jpg  \n",
            "  inflating: __MACOSX/train/._ISIC_2068908.jpg  \n",
            "  inflating: train/ISIC_4092294.jpg  \n",
            "  inflating: __MACOSX/train/._ISIC_4092294.jpg  \n",
            "  inflating: train/ISIC_9173096.jpg  \n",
            "  inflating: __MACOSX/train/._ISIC_9173096.jpg  \n",
            "  inflating: train/ISIC_5934104.jpg  \n",
            "  inflating: __MACOSX/train/._ISIC_5934104.jpg  \n",
            "  inflating: train/ISIC_9672879.jpg  \n",
            "  inflating: __MACOSX/train/._ISIC_9672879.jpg  \n",
            "  inflating: train/ISIC_3745724.jpg  \n",
            "  inflating: __MACOSX/train/._ISIC_3745724.jpg  \n",
            "  inflating: train/ISIC_4391043.jpg  \n",
            "  inflating: __MACOSX/train/._ISIC_4391043.jpg  \n",
            "  inflating: train/ISIC_5173343.jpg  \n",
            "  inflating: __MACOSX/train/._ISIC_5173343.jpg  \n",
            "  inflating: train/ISIC_3957077.jpg  \n",
            "  inflating: __MACOSX/train/._ISIC_3957077.jpg  \n",
            "  inflating: train/ISIC_9942347.jpg  \n",
            "  inflating: __MACOSX/train/._ISIC_9942347.jpg  \n",
            "  inflating: train/ISIC_9519906.jpg  \n",
            "  inflating: __MACOSX/train/._ISIC_9519906.jpg  \n",
            "  inflating: train/ISIC_2097704.jpg  \n",
            "  inflating: __MACOSX/train/._ISIC_2097704.jpg  \n",
            "  inflating: train/ISIC_0476606.jpg  \n",
            "  inflating: __MACOSX/train/._ISIC_0476606.jpg  \n",
            "  inflating: train/ISIC_7933774.jpg  \n",
            "  inflating: __MACOSX/train/._ISIC_7933774.jpg  \n",
            "  inflating: train/ISIC_9549857.jpg  \n",
            "  inflating: __MACOSX/train/._ISIC_9549857.jpg  \n",
            "  inflating: train/ISIC_1456827.jpg  \n",
            "  inflating: __MACOSX/train/._ISIC_1456827.jpg  \n",
            "  inflating: train/ISIC_5072049.jpg  \n",
            "  inflating: __MACOSX/train/._ISIC_5072049.jpg  \n",
            "  inflating: train/ISIC_5764302.jpg  \n",
            "  inflating: __MACOSX/train/._ISIC_5764302.jpg  \n",
            "  inflating: train/ISIC_1453787.jpg  \n",
            "  inflating: __MACOSX/train/._ISIC_1453787.jpg  \n",
            "  inflating: train/ISIC_0988623.jpg  \n",
            "  inflating: __MACOSX/train/._ISIC_0988623.jpg  \n",
            "  inflating: train/ISIC_8715507.jpg  \n",
            "  inflating: __MACOSX/train/._ISIC_8715507.jpg  \n",
            "  inflating: train/ISIC_6137737.jpg  \n",
            "  inflating: __MACOSX/train/._ISIC_6137737.jpg  \n",
            "  inflating: train/ISIC_1270305.jpg  \n",
            "  inflating: __MACOSX/train/._ISIC_1270305.jpg  \n",
            "  inflating: train/ISIC_8286826.jpg  \n",
            "  inflating: __MACOSX/train/._ISIC_8286826.jpg  \n",
            "  inflating: train/ISIC_8356805.jpg  \n",
            "  inflating: __MACOSX/train/._ISIC_8356805.jpg  \n",
            "  inflating: train/ISIC_1761799.jpg  \n",
            "  inflating: __MACOSX/train/._ISIC_1761799.jpg  \n",
            "  inflating: train/ISIC_3981425.jpg  \n",
            "  inflating: __MACOSX/train/._ISIC_3981425.jpg  \n",
            "  inflating: train/ISIC_8951006.jpg  \n",
            "  inflating: __MACOSX/train/._ISIC_8951006.jpg  \n",
            "  inflating: train/ISIC_3198078.jpg  \n",
            "  inflating: __MACOSX/train/._ISIC_3198078.jpg  \n",
            "  inflating: train/ISIC_4863375.jpg  \n",
            "  inflating: __MACOSX/train/._ISIC_4863375.jpg  \n",
            "  inflating: train/ISIC_4132022.jpg  \n",
            "  inflating: __MACOSX/train/._ISIC_4132022.jpg  \n",
            "  inflating: train/ISIC_6882080.jpg  \n",
            "  inflating: __MACOSX/train/._ISIC_6882080.jpg  \n",
            "  inflating: train/ISIC_7827067.jpg  \n",
            "  inflating: __MACOSX/train/._ISIC_7827067.jpg  \n",
            "  inflating: train/ISIC_5362590.jpg  \n",
            "  inflating: __MACOSX/train/._ISIC_5362590.jpg  \n",
            "  inflating: train/ISIC_4018813.jpg  \n",
            "  inflating: __MACOSX/train/._ISIC_4018813.jpg  \n",
            "  inflating: train/ISIC_7793859.jpg  \n",
            "  inflating: __MACOSX/train/._ISIC_7793859.jpg  \n",
            "  inflating: train/ISIC_2503386.jpg  \n",
            "  inflating: __MACOSX/train/._ISIC_2503386.jpg  \n",
            "  inflating: train/ISIC_4933230.jpg  \n",
            "  inflating: __MACOSX/train/._ISIC_4933230.jpg  \n",
            "  inflating: train/ISIC_7031709.jpg  \n",
            "  inflating: __MACOSX/train/._ISIC_7031709.jpg  \n",
            "  inflating: train/ISIC_0337401.jpg  \n",
            "  inflating: __MACOSX/train/._ISIC_0337401.jpg  \n",
            "  inflating: train/ISIC_3192233.jpg  \n",
            "  inflating: __MACOSX/train/._ISIC_3192233.jpg  \n",
            "  inflating: train/ISIC_1985984.jpg  \n",
            "  inflating: __MACOSX/train/._ISIC_1985984.jpg  \n",
            "  inflating: train/ISIC_1984442.jpg  \n",
            "  inflating: __MACOSX/train/._ISIC_1984442.jpg  \n",
            "  inflating: train/ISIC_4060016.jpg  \n",
            "  inflating: __MACOSX/train/._ISIC_4060016.jpg  \n",
            "  inflating: train/ISIC_8652894.jpg  \n",
            "  inflating: __MACOSX/train/._ISIC_8652894.jpg  \n",
            "  inflating: train/ISIC_5634535.jpg  \n",
            "  inflating: __MACOSX/train/._ISIC_5634535.jpg  \n",
            "  inflating: train/ISIC_0658225.jpg  \n",
            "  inflating: __MACOSX/train/._ISIC_0658225.jpg  \n",
            "  inflating: train/ISIC_0917117.jpg  \n",
            "  inflating: __MACOSX/train/._ISIC_0917117.jpg  \n",
            "  inflating: train/ISIC_4509525.jpg  \n",
            "  inflating: __MACOSX/train/._ISIC_4509525.jpg  \n",
            "  inflating: train/ISIC_1627900.jpg  \n",
            "  inflating: __MACOSX/train/._ISIC_1627900.jpg  \n",
            "  inflating: train/ISIC_1684067.jpg  \n",
            "  inflating: __MACOSX/train/._ISIC_1684067.jpg  \n",
            "  inflating: train/ISIC_1956504.jpg  \n",
            "  inflating: __MACOSX/train/._ISIC_1956504.jpg  \n",
            "  inflating: train/ISIC_1874969.jpg  \n",
            "  inflating: __MACOSX/train/._ISIC_1874969.jpg  \n",
            "  inflating: train/ISIC_5174438.jpg  \n",
            "  inflating: __MACOSX/train/._ISIC_5174438.jpg  \n",
            "  inflating: train/ISIC_5709878.jpg  \n",
            "  inflating: __MACOSX/train/._ISIC_5709878.jpg  \n",
            "  inflating: train/ISIC_8995044.jpg  \n",
            "  inflating: __MACOSX/train/._ISIC_8995044.jpg  \n",
            "  inflating: train/ISIC_8034792.jpg  \n",
            "  inflating: __MACOSX/train/._ISIC_8034792.jpg  \n",
            "  inflating: train/ISIC_2593795.jpg  \n",
            "  inflating: __MACOSX/train/._ISIC_2593795.jpg  \n",
            "  inflating: train/ISIC_7255551.jpg  \n",
            "  inflating: __MACOSX/train/._ISIC_7255551.jpg  \n",
            "  inflating: train/ISIC_8588488.jpg  \n",
            "  inflating: __MACOSX/train/._ISIC_8588488.jpg  \n",
            "  inflating: train/ISIC_9458782.jpg  \n",
            "  inflating: __MACOSX/train/._ISIC_9458782.jpg  \n",
            "  inflating: train/ISIC_3046710.jpg  \n",
            "  inflating: __MACOSX/train/._ISIC_3046710.jpg  \n",
            "  inflating: train/ISIC_9330103.jpg  \n",
            "  inflating: __MACOSX/train/._ISIC_9330103.jpg  \n",
            "  inflating: train/ISIC_3740648.jpg  \n",
            "  inflating: __MACOSX/train/._ISIC_3740648.jpg  \n",
            "  inflating: train/ISIC_4824758.jpg  \n",
            "  inflating: __MACOSX/train/._ISIC_4824758.jpg  \n",
            "  inflating: train/ISIC_9320310.jpg  \n",
            "  inflating: __MACOSX/train/._ISIC_9320310.jpg  \n",
            "  inflating: train/ISIC_3535253.jpg  \n",
            "  inflating: __MACOSX/train/._ISIC_3535253.jpg  \n",
            "  inflating: train/ISIC_5580000.jpg  \n",
            "  inflating: __MACOSX/train/._ISIC_5580000.jpg  \n",
            "  inflating: train/ISIC_9378153.jpg  \n",
            "  inflating: __MACOSX/train/._ISIC_9378153.jpg  \n",
            "  inflating: train/ISIC_1144024.jpg  \n",
            "  inflating: __MACOSX/train/._ISIC_1144024.jpg  \n",
            "  inflating: train/ISIC_9775680.jpg  \n",
            "  inflating: __MACOSX/train/._ISIC_9775680.jpg  \n",
            "  inflating: train/ISIC_9080650.jpg  \n",
            "  inflating: __MACOSX/train/._ISIC_9080650.jpg  \n",
            "  inflating: train/ISIC_8796632.jpg  \n",
            "  inflating: __MACOSX/train/._ISIC_8796632.jpg  \n",
            "  inflating: train/ISIC_5097947.jpg  \n",
            "  inflating: __MACOSX/train/._ISIC_5097947.jpg  \n",
            "  inflating: train/ISIC_1323775.jpg  \n",
            "  inflating: __MACOSX/train/._ISIC_1323775.jpg  \n",
            "  inflating: train/ISIC_6587559.jpg  \n",
            "  inflating: __MACOSX/train/._ISIC_6587559.jpg  \n",
            "  inflating: train/ISIC_8338138.jpg  \n",
            "  inflating: __MACOSX/train/._ISIC_8338138.jpg  \n",
            "  inflating: train/ISIC_5446127.jpg  \n",
            "  inflating: __MACOSX/train/._ISIC_5446127.jpg  \n",
            "  inflating: train/ISIC_1270339.jpg  \n",
            "  inflating: __MACOSX/train/._ISIC_1270339.jpg  \n",
            "  inflating: train/ISIC_3230164.jpg  \n",
            "  inflating: __MACOSX/train/._ISIC_3230164.jpg  \n",
            "  inflating: train/ISIC_6773312.jpg  \n",
            "  inflating: __MACOSX/train/._ISIC_6773312.jpg  \n",
            "  inflating: train/ISIC_6175538.jpg  \n",
            "  inflating: __MACOSX/train/._ISIC_6175538.jpg  \n",
            "  inflating: train/ISIC_2159525.jpg  \n",
            "  inflating: __MACOSX/train/._ISIC_2159525.jpg  \n",
            "  inflating: train/ISIC_9206499.jpg  \n",
            "  inflating: __MACOSX/train/._ISIC_9206499.jpg  \n",
            "  inflating: train/ISIC_8165293.jpg  \n",
            "  inflating: __MACOSX/train/._ISIC_8165293.jpg  \n",
            "  inflating: train/ISIC_1683052.jpg  \n",
            "  inflating: __MACOSX/train/._ISIC_1683052.jpg  \n",
            "  inflating: train/ISIC_5924459.jpg  \n",
            "  inflating: __MACOSX/train/._ISIC_5924459.jpg  \n",
            "  inflating: train/ISIC_8997109.jpg  \n",
            "  inflating: __MACOSX/train/._ISIC_8997109.jpg  \n",
            "  inflating: train/ISIC_6313605.jpg  \n",
            "  inflating: __MACOSX/train/._ISIC_6313605.jpg  \n",
            "  inflating: train/ISIC_8710457.jpg  \n",
            "  inflating: __MACOSX/train/._ISIC_8710457.jpg  \n",
            "  inflating: train/ISIC_2803733.jpg  \n",
            "  inflating: __MACOSX/train/._ISIC_2803733.jpg  \n",
            "  inflating: train/ISIC_1707420.jpg  \n",
            "  inflating: __MACOSX/train/._ISIC_1707420.jpg  \n",
            "  inflating: train/ISIC_3935802.jpg  \n",
            "  inflating: __MACOSX/train/._ISIC_3935802.jpg  \n",
            "  inflating: train/ISIC_6543269.jpg  \n",
            "  inflating: __MACOSX/train/._ISIC_6543269.jpg  \n",
            "  inflating: train/ISIC_5136151.jpg  \n",
            "  inflating: __MACOSX/train/._ISIC_5136151.jpg  \n",
            "  inflating: train/ISIC_6297277.jpg  \n",
            "  inflating: __MACOSX/train/._ISIC_6297277.jpg  \n",
            "  inflating: train/ISIC_4109088.jpg  \n",
            "  inflating: __MACOSX/train/._ISIC_4109088.jpg  \n",
            "  inflating: train/ISIC_3435535.jpg  \n",
            "  inflating: __MACOSX/train/._ISIC_3435535.jpg  \n",
            "  inflating: train/ISIC_4025576.jpg  \n",
            "  inflating: __MACOSX/train/._ISIC_4025576.jpg  \n",
            "  inflating: train/ISIC_9898107.jpg  \n",
            "  inflating: __MACOSX/train/._ISIC_9898107.jpg  \n",
            "  inflating: train/ISIC_0425276.jpg  \n",
            "  inflating: __MACOSX/train/._ISIC_0425276.jpg  \n",
            "  inflating: train/ISIC_0809467.jpg  \n",
            "  inflating: __MACOSX/train/._ISIC_0809467.jpg  \n",
            "  inflating: train/ISIC_1962845.jpg  \n",
            "  inflating: __MACOSX/train/._ISIC_1962845.jpg  \n",
            "  inflating: train/ISIC_8600650.jpg  \n",
            "  inflating: __MACOSX/train/._ISIC_8600650.jpg  \n",
            "  inflating: train/ISIC_5435863.jpg  \n",
            "  inflating: __MACOSX/train/._ISIC_5435863.jpg  \n",
            "  inflating: train/ISIC_5721110.jpg  \n",
            "  inflating: __MACOSX/train/._ISIC_5721110.jpg  \n",
            "  inflating: train/ISIC_2658460.jpg  \n",
            "  inflating: __MACOSX/train/._ISIC_2658460.jpg  \n",
            "  inflating: train/ISIC_9655236.jpg  \n",
            "  inflating: __MACOSX/train/._ISIC_9655236.jpg  \n",
            "  inflating: train/ISIC_1253292.jpg  \n",
            "  inflating: __MACOSX/train/._ISIC_1253292.jpg  \n",
            "  inflating: train/ISIC_5816399.jpg  \n",
            "  inflating: __MACOSX/train/._ISIC_5816399.jpg  \n",
            "  inflating: train/ISIC_9325254.jpg  \n",
            "  inflating: __MACOSX/train/._ISIC_9325254.jpg  \n",
            "  inflating: train/ISIC_8632184.jpg  \n",
            "  inflating: __MACOSX/train/._ISIC_8632184.jpg  \n",
            "  inflating: train/ISIC_0565120.jpg  \n",
            "  inflating: __MACOSX/train/._ISIC_0565120.jpg  \n",
            "  inflating: train/ISIC_2887355.jpg  \n",
            "  inflating: __MACOSX/train/._ISIC_2887355.jpg  \n",
            "  inflating: train/ISIC_5103854.jpg  \n",
            "  inflating: __MACOSX/train/._ISIC_5103854.jpg  \n",
            "  inflating: train/ISIC_7653664.jpg  \n",
            "  inflating: __MACOSX/train/._ISIC_7653664.jpg  \n",
            "  inflating: train/ISIC_6364664.jpg  \n",
            "  inflating: __MACOSX/train/._ISIC_6364664.jpg  \n",
            "  inflating: train/ISIC_9711851.jpg  \n",
            "  inflating: __MACOSX/train/._ISIC_9711851.jpg  \n",
            "  inflating: train/ISIC_4556592.jpg  \n",
            "  inflating: __MACOSX/train/._ISIC_4556592.jpg  \n",
            "  inflating: train/ISIC_0852852.jpg  \n",
            "  inflating: __MACOSX/train/._ISIC_0852852.jpg  \n",
            "  inflating: train/ISIC_4056017.jpg  \n",
            "  inflating: __MACOSX/train/._ISIC_4056017.jpg  \n",
            "  inflating: train/ISIC_9353895.jpg  \n",
            "  inflating: __MACOSX/train/._ISIC_9353895.jpg  \n",
            "  inflating: train/ISIC_2612780.jpg  \n",
            "  inflating: __MACOSX/train/._ISIC_2612780.jpg  \n",
            "  inflating: train/ISIC_7630499.jpg  \n",
            "  inflating: __MACOSX/train/._ISIC_7630499.jpg  \n",
            "  inflating: train/ISIC_0295507.jpg  \n",
            "  inflating: __MACOSX/train/._ISIC_0295507.jpg  \n",
            "  inflating: train/ISIC_7182702.jpg  \n",
            "  inflating: __MACOSX/train/._ISIC_7182702.jpg  \n",
            "  inflating: train/ISIC_5478234.jpg  \n",
            "  inflating: __MACOSX/train/._ISIC_5478234.jpg  \n",
            "  inflating: train/ISIC_1810790.jpg  \n",
            "  inflating: __MACOSX/train/._ISIC_1810790.jpg  \n",
            "  inflating: train/ISIC_3251773.jpg  \n",
            "  inflating: __MACOSX/train/._ISIC_3251773.jpg  \n",
            "  inflating: train/ISIC_3355267.jpg  \n",
            "  inflating: __MACOSX/train/._ISIC_3355267.jpg  \n",
            "  inflating: train/ISIC_7339138.jpg  \n",
            "  inflating: __MACOSX/train/._ISIC_7339138.jpg  \n",
            "  inflating: train/ISIC_3665147.jpg  \n",
            "  inflating: __MACOSX/train/._ISIC_3665147.jpg  \n",
            "  inflating: train/ISIC_9254136.jpg  \n",
            "  inflating: __MACOSX/train/._ISIC_9254136.jpg  \n",
            "  inflating: train/ISIC_3220834.jpg  \n",
            "  inflating: __MACOSX/train/._ISIC_3220834.jpg  \n",
            "  inflating: train/ISIC_5565517.jpg  \n",
            "  inflating: __MACOSX/train/._ISIC_5565517.jpg  \n",
            "  inflating: train/ISIC_1259230.jpg  \n",
            "  inflating: __MACOSX/train/._ISIC_1259230.jpg  \n",
            "  inflating: train/ISIC_4024481.jpg  \n",
            "  inflating: __MACOSX/train/._ISIC_4024481.jpg  \n",
            "  inflating: train/ISIC_5650272.jpg  \n",
            "  inflating: __MACOSX/train/._ISIC_5650272.jpg  \n",
            "  inflating: train/ISIC_1242176.jpg  \n",
            "  inflating: __MACOSX/train/._ISIC_1242176.jpg  \n",
            "  inflating: train/ISIC_7696538.jpg  \n",
            "  inflating: __MACOSX/train/._ISIC_7696538.jpg  \n",
            "  inflating: train/ISIC_4747355.jpg  \n",
            "  inflating: __MACOSX/train/._ISIC_4747355.jpg  \n",
            "  inflating: train/ISIC_8334299.jpg  \n",
            "  inflating: __MACOSX/train/._ISIC_8334299.jpg  \n",
            "  inflating: train/ISIC_8996798.jpg  \n",
            "  inflating: __MACOSX/train/._ISIC_8996798.jpg  \n",
            "  inflating: train/ISIC_2587535.jpg  \n",
            "  inflating: __MACOSX/train/._ISIC_2587535.jpg  \n",
            "  inflating: train/ISIC_1128317.jpg  \n",
            "  inflating: __MACOSX/train/._ISIC_1128317.jpg  \n",
            "  inflating: train/ISIC_4312835.jpg  \n",
            "  inflating: __MACOSX/train/._ISIC_4312835.jpg  \n",
            "  inflating: train/ISIC_2337907.jpg  \n",
            "  inflating: __MACOSX/train/._ISIC_2337907.jpg  \n",
            "  inflating: train/ISIC_6249090.jpg  \n",
            "  inflating: __MACOSX/train/._ISIC_6249090.jpg  \n",
            "  inflating: train/ISIC_0512155.jpg  \n",
            "  inflating: __MACOSX/train/._ISIC_0512155.jpg  \n",
            "  inflating: train/ISIC_4332529.jpg  \n",
            "  inflating: __MACOSX/train/._ISIC_4332529.jpg  \n",
            "  inflating: train/ISIC_9261199.jpg  \n",
            "  inflating: __MACOSX/train/._ISIC_9261199.jpg  \n",
            "  inflating: train/ISIC_8164416.jpg  \n",
            "  inflating: __MACOSX/train/._ISIC_8164416.jpg  \n",
            "  inflating: train/ISIC_5123979.jpg  \n",
            "  inflating: __MACOSX/train/._ISIC_5123979.jpg  \n",
            "  inflating: train/ISIC_6571026.jpg  \n",
            "  inflating: __MACOSX/train/._ISIC_6571026.jpg  \n",
            "  inflating: train/ISIC_7466101.jpg  \n",
            "  inflating: __MACOSX/train/._ISIC_7466101.jpg  \n",
            "  inflating: train/ISIC_6044518.jpg  \n",
            "  inflating: __MACOSX/train/._ISIC_6044518.jpg  \n",
            "  inflating: train/ISIC_6938905.jpg  \n",
            "  inflating: __MACOSX/train/._ISIC_6938905.jpg  \n",
            "  inflating: train/ISIC_4158984.jpg  \n",
            "  inflating: __MACOSX/train/._ISIC_4158984.jpg  \n",
            "  inflating: train/ISIC_7361421.jpg  \n",
            "  inflating: __MACOSX/train/._ISIC_7361421.jpg  \n",
            "  inflating: train/ISIC_3304982.jpg  \n",
            "  inflating: __MACOSX/train/._ISIC_3304982.jpg  \n",
            "  inflating: train/ISIC_7316871.jpg  \n",
            "  inflating: __MACOSX/train/._ISIC_7316871.jpg  \n",
            "  inflating: train/ISIC_2826766.jpg  \n",
            "  inflating: __MACOSX/train/._ISIC_2826766.jpg  \n",
            "  inflating: train/ISIC_9023460.jpg  \n",
            "  inflating: __MACOSX/train/._ISIC_9023460.jpg  \n",
            "  inflating: train/ISIC_5600337.jpg  \n",
            "  inflating: __MACOSX/train/._ISIC_5600337.jpg  \n",
            "  inflating: train/ISIC_1175776.jpg  \n",
            "  inflating: __MACOSX/train/._ISIC_1175776.jpg  \n",
            "  inflating: train/ISIC_8663136.jpg  \n",
            "  inflating: __MACOSX/train/._ISIC_8663136.jpg  \n",
            "  inflating: train/ISIC_2950182.jpg  \n",
            "  inflating: __MACOSX/train/._ISIC_2950182.jpg  \n",
            "  inflating: train/ISIC_5622828.jpg  \n",
            "  inflating: __MACOSX/train/._ISIC_5622828.jpg  \n",
            "  inflating: train/ISIC_2159914.jpg  \n",
            "  inflating: __MACOSX/train/._ISIC_2159914.jpg  \n",
            "  inflating: train/ISIC_7050122.jpg  \n",
            "  inflating: __MACOSX/train/._ISIC_7050122.jpg  \n",
            "  inflating: train/ISIC_9135570.jpg  \n",
            "  inflating: __MACOSX/train/._ISIC_9135570.jpg  \n",
            "  inflating: train/ISIC_5561003.jpg  \n",
            "  inflating: __MACOSX/train/._ISIC_5561003.jpg  \n",
            "  inflating: train/ISIC_0894785.jpg  \n",
            "  inflating: __MACOSX/train/._ISIC_0894785.jpg  \n",
            "  inflating: train/ISIC_6789719.jpg  \n",
            "  inflating: __MACOSX/train/._ISIC_6789719.jpg  \n",
            "  inflating: train/ISIC_1850388.jpg  \n",
            "  inflating: __MACOSX/train/._ISIC_1850388.jpg  \n",
            "  inflating: train/ISIC_6459796.jpg  \n",
            "  inflating: __MACOSX/train/._ISIC_6459796.jpg  \n",
            "  inflating: train/ISIC_7195242.jpg  \n",
            "  inflating: __MACOSX/train/._ISIC_7195242.jpg  \n",
            "  inflating: train/ISIC_7264203.jpg  \n",
            "  inflating: __MACOSX/train/._ISIC_7264203.jpg  \n",
            "  inflating: train/ISIC_8127275.jpg  \n",
            "  inflating: __MACOSX/train/._ISIC_8127275.jpg  \n",
            "  inflating: train/ISIC_2516204.jpg  \n",
            "  inflating: __MACOSX/train/._ISIC_2516204.jpg  \n",
            "  inflating: train/ISIC_8862157.jpg  \n",
            "  inflating: __MACOSX/train/._ISIC_8862157.jpg  \n",
            "  inflating: train/ISIC_8038427.jpg  \n",
            "  inflating: __MACOSX/train/._ISIC_8038427.jpg  \n",
            "  inflating: train/ISIC_0394157.jpg  \n",
            "  inflating: __MACOSX/train/._ISIC_0394157.jpg  \n",
            "  inflating: train/ISIC_6953154.jpg  \n",
            "  inflating: __MACOSX/train/._ISIC_6953154.jpg  \n",
            "  inflating: train/ISIC_6746168.jpg  \n",
            "  inflating: __MACOSX/train/._ISIC_6746168.jpg  \n",
            "  inflating: train/ISIC_5800048.jpg  \n",
            "  inflating: __MACOSX/train/._ISIC_5800048.jpg  \n",
            "  inflating: train/ISIC_4251930.jpg  \n",
            "  inflating: __MACOSX/train/._ISIC_4251930.jpg  \n",
            "  inflating: train/ISIC_6848560.jpg  \n",
            "  inflating: __MACOSX/train/._ISIC_6848560.jpg  \n",
            "  inflating: train/ISIC_1126306.jpg  \n",
            "  inflating: __MACOSX/train/._ISIC_1126306.jpg  \n",
            "  inflating: train/ISIC_3089388.jpg  \n",
            "  inflating: __MACOSX/train/._ISIC_3089388.jpg  \n",
            "  inflating: train/ISIC_5783764.jpg  \n",
            "  inflating: __MACOSX/train/._ISIC_5783764.jpg  \n",
            "  inflating: train/ISIC_6413847.jpg  \n",
            "  inflating: __MACOSX/train/._ISIC_6413847.jpg  \n",
            "  inflating: train/ISIC_4374554.jpg  \n",
            "  inflating: __MACOSX/train/._ISIC_4374554.jpg  \n",
            "  inflating: train/ISIC_7486963.jpg  \n",
            "  inflating: __MACOSX/train/._ISIC_7486963.jpg  \n",
            "  inflating: train/ISIC_8135117.jpg  \n",
            "  inflating: __MACOSX/train/._ISIC_8135117.jpg  \n",
            "  inflating: train/ISIC_5323725.jpg  \n",
            "  inflating: __MACOSX/train/._ISIC_5323725.jpg  \n",
            "  inflating: train/ISIC_3659682.jpg  \n",
            "  inflating: __MACOSX/train/._ISIC_3659682.jpg  \n",
            "  inflating: train/ISIC_7260703.jpg  \n",
            "  inflating: __MACOSX/train/._ISIC_7260703.jpg  \n",
            "  inflating: train/ISIC_8872422.jpg  \n",
            "  inflating: __MACOSX/train/._ISIC_8872422.jpg  \n",
            "  inflating: train/ISIC_9694867.jpg  \n",
            "  inflating: __MACOSX/train/._ISIC_9694867.jpg  \n",
            "  inflating: train/ISIC_9111388.jpg  \n",
            "  inflating: __MACOSX/train/._ISIC_9111388.jpg  \n",
            "  inflating: train/ISIC_3578186.jpg  \n",
            "  inflating: __MACOSX/train/._ISIC_3578186.jpg  \n",
            "  inflating: train/ISIC_6430052.jpg  \n",
            "  inflating: __MACOSX/train/._ISIC_6430052.jpg  \n",
            "  inflating: train/ISIC_7107052.jpg  \n",
            "  inflating: __MACOSX/train/._ISIC_7107052.jpg  \n",
            "  inflating: train/ISIC_9891484.jpg  \n",
            "  inflating: __MACOSX/train/._ISIC_9891484.jpg  \n",
            "  inflating: train/ISIC_5657535.jpg  \n",
            "  inflating: __MACOSX/train/._ISIC_5657535.jpg  \n",
            "  inflating: train/ISIC_6532137.jpg  \n",
            "  inflating: __MACOSX/train/._ISIC_6532137.jpg  \n",
            "  inflating: train/ISIC_5096132.jpg  \n",
            "  inflating: __MACOSX/train/._ISIC_5096132.jpg  \n",
            "  inflating: train/ISIC_7303298.jpg  \n",
            "  inflating: __MACOSX/train/._ISIC_7303298.jpg  \n",
            "  inflating: train/ISIC_9103798.jpg  \n",
            "  inflating: __MACOSX/train/._ISIC_9103798.jpg  \n",
            "  inflating: train/ISIC_5295497.jpg  \n",
            "  inflating: __MACOSX/train/._ISIC_5295497.jpg  \n",
            "  inflating: train/ISIC_7259828.jpg  \n",
            "  inflating: __MACOSX/train/._ISIC_7259828.jpg  \n",
            "  inflating: train/ISIC_0959085.jpg  \n",
            "  inflating: __MACOSX/train/._ISIC_0959085.jpg  \n",
            "  inflating: train/ISIC_1951928.jpg  \n",
            "  inflating: __MACOSX/train/._ISIC_1951928.jpg  \n",
            "  inflating: train/ISIC_2244719.jpg  \n",
            "  inflating: __MACOSX/train/._ISIC_2244719.jpg  \n",
            "  inflating: train/ISIC_3069268.jpg  \n",
            "  inflating: __MACOSX/train/._ISIC_3069268.jpg  \n",
            "  inflating: train/ISIC_6565709.jpg  \n",
            "  inflating: __MACOSX/train/._ISIC_6565709.jpg  \n",
            "  inflating: train/ISIC_1211506.jpg  \n",
            "  inflating: __MACOSX/train/._ISIC_1211506.jpg  \n",
            "  inflating: train/ISIC_9971202.jpg  \n",
            "  inflating: __MACOSX/train/._ISIC_9971202.jpg  \n",
            "  inflating: train/ISIC_8340256.jpg  \n",
            "  inflating: __MACOSX/train/._ISIC_8340256.jpg  \n",
            "  inflating: train/ISIC_0284422.jpg  \n",
            "  inflating: __MACOSX/train/._ISIC_0284422.jpg  \n",
            "  inflating: train/ISIC_5502229.jpg  \n",
            "  inflating: __MACOSX/train/._ISIC_5502229.jpg  \n",
            "  inflating: train/ISIC_3444680.jpg  \n",
            "  inflating: __MACOSX/train/._ISIC_3444680.jpg  \n",
            "  inflating: train/ISIC_3801027.jpg  \n",
            "  inflating: __MACOSX/train/._ISIC_3801027.jpg  \n",
            "  inflating: train/ISIC_5587237.jpg  \n",
            "  inflating: __MACOSX/train/._ISIC_5587237.jpg  \n",
            "  inflating: train/ISIC_5659295.jpg  \n",
            "  inflating: __MACOSX/train/._ISIC_5659295.jpg  \n",
            "  inflating: train/ISIC_1771944.jpg  \n",
            "  inflating: __MACOSX/train/._ISIC_1771944.jpg  \n",
            "  inflating: train/ISIC_2539218.jpg  \n",
            "  inflating: __MACOSX/train/._ISIC_2539218.jpg  \n",
            "  inflating: train/ISIC_8715705.jpg  \n",
            "  inflating: __MACOSX/train/._ISIC_8715705.jpg  \n",
            "  inflating: train/ISIC_8429722.jpg  \n",
            "  inflating: __MACOSX/train/._ISIC_8429722.jpg  \n",
            "  inflating: train/ISIC_3114532.jpg  \n",
            "  inflating: __MACOSX/train/._ISIC_3114532.jpg  \n",
            "  inflating: train/ISIC_4358727.jpg  \n",
            "  inflating: __MACOSX/train/._ISIC_4358727.jpg  \n",
            "  inflating: train/ISIC_3673080.jpg  \n",
            "  inflating: __MACOSX/train/._ISIC_3673080.jpg  \n",
            "  inflating: train/ISIC_5239796.jpg  \n",
            "  inflating: __MACOSX/train/._ISIC_5239796.jpg  \n",
            "  inflating: train/ISIC_3286956.jpg  \n",
            "  inflating: __MACOSX/train/._ISIC_3286956.jpg  \n",
            "  inflating: train/ISIC_3493866.jpg  \n",
            "  inflating: __MACOSX/train/._ISIC_3493866.jpg  \n",
            "  inflating: train/ISIC_4567954.jpg  \n",
            "  inflating: __MACOSX/train/._ISIC_4567954.jpg  \n",
            "  inflating: train/ISIC_7452515.jpg  \n",
            "  inflating: __MACOSX/train/._ISIC_7452515.jpg  \n",
            "  inflating: train/ISIC_6770425.jpg  \n",
            "  inflating: __MACOSX/train/._ISIC_6770425.jpg  \n",
            "  inflating: train/ISIC_2791338.jpg  \n",
            "  inflating: __MACOSX/train/._ISIC_2791338.jpg  \n",
            "  inflating: train/ISIC_0482585.jpg  \n",
            "  inflating: __MACOSX/train/._ISIC_0482585.jpg  \n",
            "  inflating: train/ISIC_7373794.jpg  \n",
            "  inflating: __MACOSX/train/._ISIC_7373794.jpg  \n",
            "  inflating: train/ISIC_4882389.jpg  \n",
            "  inflating: __MACOSX/train/._ISIC_4882389.jpg  \n",
            "  inflating: train/ISIC_5879574.jpg  \n",
            "  inflating: __MACOSX/train/._ISIC_5879574.jpg  \n",
            "  inflating: train/ISIC_9147131.jpg  \n",
            "  inflating: __MACOSX/train/._ISIC_9147131.jpg  \n",
            "  inflating: train/ISIC_4347161.jpg  \n",
            "  inflating: __MACOSX/train/._ISIC_4347161.jpg  \n",
            "  inflating: train/ISIC_6618799.jpg  \n",
            "  inflating: __MACOSX/train/._ISIC_6618799.jpg  \n",
            "  inflating: train/ISIC_8564636.jpg  \n",
            "  inflating: __MACOSX/train/._ISIC_8564636.jpg  \n",
            "  inflating: train/ISIC_6854808.jpg  \n",
            "  inflating: __MACOSX/train/._ISIC_6854808.jpg  \n",
            "  inflating: train/ISIC_3613012.jpg  \n",
            "  inflating: __MACOSX/train/._ISIC_3613012.jpg  \n",
            "  inflating: train/ISIC_4072610.jpg  \n",
            "  inflating: __MACOSX/train/._ISIC_4072610.jpg  \n",
            "  inflating: train/ISIC_1819763.jpg  \n",
            "  inflating: __MACOSX/train/._ISIC_1819763.jpg  \n",
            "  inflating: train/ISIC_8109605.jpg  \n",
            "  inflating: __MACOSX/train/._ISIC_8109605.jpg  \n",
            "  inflating: train/ISIC_2442872.jpg  \n",
            "  inflating: __MACOSX/train/._ISIC_2442872.jpg  \n",
            "  inflating: train/ISIC_5359062.jpg  \n",
            "  inflating: __MACOSX/train/._ISIC_5359062.jpg  \n",
            "  inflating: train/ISIC_2850155.jpg  \n",
            "  inflating: __MACOSX/train/._ISIC_2850155.jpg  \n",
            "  inflating: train/ISIC_9322705.jpg  \n",
            "  inflating: __MACOSX/train/._ISIC_9322705.jpg  \n",
            "  inflating: train/ISIC_2158377.jpg  \n",
            "  inflating: __MACOSX/train/._ISIC_2158377.jpg  \n",
            "  inflating: train/ISIC_4077768.jpg  \n",
            "  inflating: __MACOSX/train/._ISIC_4077768.jpg  \n",
            "  inflating: train/ISIC_1523062.jpg  \n",
            "  inflating: __MACOSX/train/._ISIC_1523062.jpg  \n",
            "  inflating: train/ISIC_7373780.jpg  \n",
            "  inflating: __MACOSX/train/._ISIC_7373780.jpg  \n",
            "  inflating: train/ISIC_6363862.jpg  \n",
            "  inflating: __MACOSX/train/._ISIC_6363862.jpg  \n",
            "  inflating: train/ISIC_1366765.jpg  \n",
            "  inflating: __MACOSX/train/._ISIC_1366765.jpg  \n",
            "  inflating: train/ISIC_5219334.jpg  \n",
            "  inflating: __MACOSX/train/._ISIC_5219334.jpg  \n",
            "  inflating: train/ISIC_4196596.jpg  \n",
            "  inflating: __MACOSX/train/._ISIC_4196596.jpg  \n",
            "  inflating: train/ISIC_8122480.jpg  \n",
            "  inflating: __MACOSX/train/._ISIC_8122480.jpg  \n",
            "  inflating: train/ISIC_9153636.jpg  \n",
            "  inflating: __MACOSX/train/._ISIC_9153636.jpg  \n",
            "  inflating: train/ISIC_2319387.jpg  \n",
            "  inflating: __MACOSX/train/._ISIC_2319387.jpg  \n",
            "  inflating: train/ISIC_7143189.jpg  \n",
            "  inflating: __MACOSX/train/._ISIC_7143189.jpg  \n",
            "  inflating: train/ISIC_5508076.jpg  \n",
            "  inflating: __MACOSX/train/._ISIC_5508076.jpg  \n",
            "  inflating: train/ISIC_4472381.jpg  \n",
            "  inflating: __MACOSX/train/._ISIC_4472381.jpg  \n",
            "  inflating: train/ISIC_4634378.jpg  \n",
            "  inflating: __MACOSX/train/._ISIC_4634378.jpg  \n",
            "  inflating: train/ISIC_9882407.jpg  \n",
            "  inflating: __MACOSX/train/._ISIC_9882407.jpg  \n",
            "  inflating: train/ISIC_7496225.jpg  \n",
            "  inflating: __MACOSX/train/._ISIC_7496225.jpg  \n",
            "  inflating: train/ISIC_0616348.jpg  \n",
            "  inflating: __MACOSX/train/._ISIC_0616348.jpg  \n",
            "  inflating: train/ISIC_3333135.jpg  \n",
            "  inflating: __MACOSX/train/._ISIC_3333135.jpg  \n",
            "  inflating: train/ISIC_4667046.jpg  \n",
            "  inflating: __MACOSX/train/._ISIC_4667046.jpg  \n",
            "  inflating: train/ISIC_1362265.jpg  \n",
            "  inflating: __MACOSX/train/._ISIC_1362265.jpg  \n",
            "  inflating: train/ISIC_0801563.jpg  \n",
            "  inflating: __MACOSX/train/._ISIC_0801563.jpg  \n",
            "  inflating: train/ISIC_2693507.jpg  \n",
            "  inflating: __MACOSX/train/._ISIC_2693507.jpg  \n",
            "  inflating: train/ISIC_1233016.jpg  \n",
            "  inflating: __MACOSX/train/._ISIC_1233016.jpg  \n",
            "  inflating: train/ISIC_4247149.jpg  \n",
            "  inflating: __MACOSX/train/._ISIC_4247149.jpg  \n",
            "  inflating: train/ISIC_4238945.jpg  \n",
            "  inflating: __MACOSX/train/._ISIC_4238945.jpg  \n",
            "  inflating: train/ISIC_7594368.jpg  \n",
            "  inflating: __MACOSX/train/._ISIC_7594368.jpg  \n",
            "  inflating: train/ISIC_5654955.jpg  \n",
            "  inflating: __MACOSX/train/._ISIC_5654955.jpg  \n",
            "  inflating: train/ISIC_8413496.jpg  \n",
            "  inflating: __MACOSX/train/._ISIC_8413496.jpg  \n",
            "  inflating: train/ISIC_6718969.jpg  \n",
            "  inflating: __MACOSX/train/._ISIC_6718969.jpg  \n",
            "  inflating: train/ISIC_3272155.jpg  \n",
            "  inflating: __MACOSX/train/._ISIC_3272155.jpg  \n",
            "  inflating: train/ISIC_1636399.jpg  \n",
            "  inflating: __MACOSX/train/._ISIC_1636399.jpg  \n",
            "  inflating: train/ISIC_9163905.jpg  \n",
            "  inflating: __MACOSX/train/._ISIC_9163905.jpg  \n",
            "  inflating: train/ISIC_5973717.jpg  \n",
            "  inflating: __MACOSX/train/._ISIC_5973717.jpg  \n",
            "  inflating: train/ISIC_7371801.jpg  \n",
            "  inflating: __MACOSX/train/._ISIC_7371801.jpg  \n",
            "  inflating: train/ISIC_9466320.jpg  \n",
            "  inflating: __MACOSX/train/._ISIC_9466320.jpg  \n",
            "  inflating: train/ISIC_2279329.jpg  \n",
            "  inflating: __MACOSX/train/._ISIC_2279329.jpg  \n",
            "  inflating: train/ISIC_4286715.jpg  \n",
            "  inflating: __MACOSX/train/._ISIC_4286715.jpg  \n",
            "  inflating: train/ISIC_5317325.jpg  \n",
            "  inflating: __MACOSX/train/._ISIC_5317325.jpg  \n",
            "  inflating: train/ISIC_2857174.jpg  \n",
            "  inflating: __MACOSX/train/._ISIC_2857174.jpg  \n",
            "  inflating: train/ISIC_1541817.jpg  \n",
            "  inflating: __MACOSX/train/._ISIC_1541817.jpg  \n",
            "  inflating: train/ISIC_2558816.jpg  \n",
            "  inflating: __MACOSX/train/._ISIC_2558816.jpg  \n",
            "  inflating: train/ISIC_3270742.jpg  \n",
            "  inflating: __MACOSX/train/._ISIC_3270742.jpg  \n",
            "  inflating: train/ISIC_8147542.jpg  \n",
            "  inflating: __MACOSX/train/._ISIC_8147542.jpg  \n",
            "  inflating: train/ISIC_9054603.jpg  \n",
            "  inflating: __MACOSX/train/._ISIC_9054603.jpg  \n",
            "  inflating: train/ISIC_5357067.jpg  \n",
            "  inflating: __MACOSX/train/._ISIC_5357067.jpg  \n",
            "  inflating: train/ISIC_8503849.jpg  \n",
            "  inflating: __MACOSX/train/._ISIC_8503849.jpg  \n",
            "  inflating: train/ISIC_5938500.jpg  \n",
            "  inflating: __MACOSX/train/._ISIC_5938500.jpg  \n",
            "  inflating: train/ISIC_3537646.jpg  \n",
            "  inflating: __MACOSX/train/._ISIC_3537646.jpg  \n",
            "  inflating: train/ISIC_3433352.jpg  \n",
            "  inflating: __MACOSX/train/._ISIC_3433352.jpg  \n",
            "  inflating: train/ISIC_5492174.jpg  \n",
            "  inflating: __MACOSX/train/._ISIC_5492174.jpg  \n",
            "  inflating: train/ISIC_4533487.jpg  \n",
            "  inflating: __MACOSX/train/._ISIC_4533487.jpg  \n",
            "  inflating: train/ISIC_6931712.jpg  \n",
            "  inflating: __MACOSX/train/._ISIC_6931712.jpg  \n",
            "  inflating: train/ISIC_3749320.jpg  \n",
            "  inflating: __MACOSX/train/._ISIC_3749320.jpg  \n",
            "  inflating: train/ISIC_5074160.jpg  \n",
            "  inflating: __MACOSX/train/._ISIC_5074160.jpg  \n",
            "  inflating: train/ISIC_1434244.jpg  \n",
            "  inflating: __MACOSX/train/._ISIC_1434244.jpg  \n",
            "  inflating: train/ISIC_9420413.jpg  \n",
            "  inflating: __MACOSX/train/._ISIC_9420413.jpg  \n",
            "  inflating: train/ISIC_0956407.jpg  \n",
            "  inflating: __MACOSX/train/._ISIC_0956407.jpg  \n",
            "  inflating: train/ISIC_3383806.jpg  \n",
            "  inflating: __MACOSX/train/._ISIC_3383806.jpg  \n",
            "  inflating: train/ISIC_5859840.jpg  \n",
            "  inflating: __MACOSX/train/._ISIC_5859840.jpg  \n",
            "  inflating: train/ISIC_4986879.jpg  \n",
            "  inflating: __MACOSX/train/._ISIC_4986879.jpg  \n",
            "  inflating: train/ISIC_5353201.jpg  \n",
            "  inflating: __MACOSX/train/._ISIC_5353201.jpg  \n",
            "  inflating: train/ISIC_1626834.jpg  \n",
            "  inflating: __MACOSX/train/._ISIC_1626834.jpg  \n",
            "  inflating: train/ISIC_5699099.jpg  \n",
            "  inflating: __MACOSX/train/._ISIC_5699099.jpg  \n",
            "  inflating: train/ISIC_2762298.jpg  \n",
            "  inflating: __MACOSX/train/._ISIC_2762298.jpg  \n",
            "  inflating: train/ISIC_1886719.jpg  \n",
            "  inflating: __MACOSX/train/._ISIC_1886719.jpg  \n",
            "  inflating: train/ISIC_5821737.jpg  \n",
            "  inflating: __MACOSX/train/._ISIC_5821737.jpg  \n",
            "  inflating: train/ISIC_5207136.jpg  \n",
            "  inflating: __MACOSX/train/._ISIC_5207136.jpg  \n",
            "  inflating: train/ISIC_8155634.jpg  \n",
            "  inflating: __MACOSX/train/._ISIC_8155634.jpg  \n",
            "  inflating: train/ISIC_3744610.jpg  \n",
            "  inflating: __MACOSX/train/._ISIC_3744610.jpg  \n",
            "  inflating: train/ISIC_6413890.jpg  \n",
            "  inflating: __MACOSX/train/._ISIC_6413890.jpg  \n",
            "  inflating: train/ISIC_7105686.jpg  \n",
            "  inflating: __MACOSX/train/._ISIC_7105686.jpg  \n",
            "  inflating: train/ISIC_9338761.jpg  \n",
            "  inflating: __MACOSX/train/._ISIC_9338761.jpg  \n",
            "  inflating: train/ISIC_9052500.jpg  \n",
            "  inflating: __MACOSX/train/._ISIC_9052500.jpg  \n",
            "  inflating: train/ISIC_3840053.jpg  \n",
            "  inflating: __MACOSX/train/._ISIC_3840053.jpg  \n",
            "  inflating: train/ISIC_5628322.jpg  \n",
            "  inflating: __MACOSX/train/._ISIC_5628322.jpg  \n",
            "  inflating: train/ISIC_2801440.jpg  \n",
            "  inflating: __MACOSX/train/._ISIC_2801440.jpg  \n",
            "  inflating: train/ISIC_4936610.jpg  \n",
            "  inflating: __MACOSX/train/._ISIC_4936610.jpg  \n",
            "  inflating: train/ISIC_9918277.jpg  \n",
            "  inflating: __MACOSX/train/._ISIC_9918277.jpg  \n",
            "  inflating: train/ISIC_8722181.jpg  \n",
            "  inflating: __MACOSX/train/._ISIC_8722181.jpg  \n",
            "  inflating: train/ISIC_9753451.jpg  \n",
            "  inflating: __MACOSX/train/._ISIC_9753451.jpg  \n",
            "  inflating: train/ISIC_3559835.jpg  \n",
            "  inflating: __MACOSX/train/._ISIC_3559835.jpg  \n",
            "  inflating: train/ISIC_8535451.jpg  \n",
            "  inflating: __MACOSX/train/._ISIC_8535451.jpg  \n",
            "  inflating: train/ISIC_8451869.jpg  \n",
            "  inflating: __MACOSX/train/._ISIC_8451869.jpg  \n",
            "  inflating: train/ISIC_9844508.jpg  \n",
            "  inflating: __MACOSX/train/._ISIC_9844508.jpg  \n",
            "  inflating: train/ISIC_1796649.jpg  \n",
            "  inflating: __MACOSX/train/._ISIC_1796649.jpg  \n",
            "  inflating: train/ISIC_7189864.jpg  \n",
            "  inflating: __MACOSX/train/._ISIC_7189864.jpg  \n",
            "  inflating: train/ISIC_2045468.jpg  \n",
            "  inflating: __MACOSX/train/._ISIC_2045468.jpg  \n",
            "  inflating: train/ISIC_5914940.jpg  \n",
            "  inflating: __MACOSX/train/._ISIC_5914940.jpg  \n",
            "  inflating: train/ISIC_1796891.jpg  \n",
            "  inflating: __MACOSX/train/._ISIC_1796891.jpg  \n",
            "  inflating: train/ISIC_5239966.jpg  \n",
            "  inflating: __MACOSX/train/._ISIC_5239966.jpg  \n",
            "  inflating: train/ISIC_3096269.jpg  \n",
            "  inflating: __MACOSX/train/._ISIC_3096269.jpg  \n",
            "  inflating: train/ISIC_7115483.jpg  \n",
            "  inflating: __MACOSX/train/._ISIC_7115483.jpg  \n",
            "  inflating: train/ISIC_3804607.jpg  \n",
            "  inflating: __MACOSX/train/._ISIC_3804607.jpg  \n",
            "  inflating: train/ISIC_2183559.jpg  \n",
            "  inflating: __MACOSX/train/._ISIC_2183559.jpg  \n",
            "  inflating: train/ISIC_0896635.jpg  \n",
            "  inflating: __MACOSX/train/._ISIC_0896635.jpg  \n",
            "  inflating: train/ISIC_2888272.jpg  \n",
            "  inflating: __MACOSX/train/._ISIC_2888272.jpg  \n",
            "  inflating: train/ISIC_4125010.jpg  \n",
            "  inflating: __MACOSX/train/._ISIC_4125010.jpg  \n",
            "  inflating: train/ISIC_7764021.jpg  \n",
            "  inflating: __MACOSX/train/._ISIC_7764021.jpg  \n",
            "  inflating: train/ISIC_0892453.jpg  \n",
            "  inflating: __MACOSX/train/._ISIC_0892453.jpg  \n",
            "  inflating: train/ISIC_5223096.jpg  \n",
            "  inflating: __MACOSX/train/._ISIC_5223096.jpg  \n",
            "  inflating: train/ISIC_2006235.jpg  \n",
            "  inflating: __MACOSX/train/._ISIC_2006235.jpg  \n",
            "  inflating: train/ISIC_2605567.jpg  \n",
            "  inflating: __MACOSX/train/._ISIC_2605567.jpg  \n",
            "  inflating: train/ISIC_1655600.jpg  \n",
            "  inflating: __MACOSX/train/._ISIC_1655600.jpg  \n",
            "  inflating: train/ISIC_7096946.jpg  \n",
            "  inflating: __MACOSX/train/._ISIC_7096946.jpg  \n",
            "  inflating: train/ISIC_0210282.jpg  \n",
            "  inflating: __MACOSX/train/._ISIC_0210282.jpg  \n",
            "  inflating: train/ISIC_9119715.jpg  \n",
            "  inflating: __MACOSX/train/._ISIC_9119715.jpg  \n",
            "  inflating: train/ISIC_2556187.jpg  \n",
            "  inflating: __MACOSX/train/._ISIC_2556187.jpg  \n",
            "  inflating: train/ISIC_4958861.jpg  \n",
            "  inflating: __MACOSX/train/._ISIC_4958861.jpg  \n",
            "  inflating: train/ISIC_7647834.jpg  \n",
            "  inflating: __MACOSX/train/._ISIC_7647834.jpg  \n",
            "  inflating: train/ISIC_5459207.jpg  \n",
            "  inflating: __MACOSX/train/._ISIC_5459207.jpg  \n",
            "  inflating: train/ISIC_4176448.jpg  \n",
            "  inflating: __MACOSX/train/._ISIC_4176448.jpg  \n",
            "  inflating: train/ISIC_5621310.jpg  \n",
            "  inflating: __MACOSX/train/._ISIC_5621310.jpg  \n",
            "  inflating: train/ISIC_7032028.jpg  \n",
            "  inflating: __MACOSX/train/._ISIC_7032028.jpg  \n",
            "  inflating: train/ISIC_8901419.jpg  \n",
            "  inflating: __MACOSX/train/._ISIC_8901419.jpg  \n",
            "  inflating: train/ISIC_6062536.jpg  \n",
            "  inflating: __MACOSX/train/._ISIC_6062536.jpg  \n",
            "  inflating: train/ISIC_1398485.jpg  \n",
            "  inflating: __MACOSX/train/._ISIC_1398485.jpg  \n",
            "  inflating: train/ISIC_7961568.jpg  \n",
            "  inflating: __MACOSX/train/._ISIC_7961568.jpg  \n",
            "  inflating: train/ISIC_1077822.jpg  \n",
            "  inflating: __MACOSX/train/._ISIC_1077822.jpg  \n",
            "  inflating: train/ISIC_9657153.jpg  \n",
            "  inflating: __MACOSX/train/._ISIC_9657153.jpg  \n",
            "  inflating: train/ISIC_0561634.jpg  \n",
            "  inflating: __MACOSX/train/._ISIC_0561634.jpg  \n",
            "  inflating: train/ISIC_1891515.jpg  \n",
            "  inflating: __MACOSX/train/._ISIC_1891515.jpg  \n",
            "  inflating: train/ISIC_1420555.jpg  \n",
            "  inflating: __MACOSX/train/._ISIC_1420555.jpg  \n",
            "  inflating: train/ISIC_8849313.jpg  \n",
            "  inflating: __MACOSX/train/._ISIC_8849313.jpg  \n",
            "  inflating: train/ISIC_9267267.jpg  \n",
            "  inflating: __MACOSX/train/._ISIC_9267267.jpg  \n",
            "  inflating: train/ISIC_3087402.jpg  \n",
            "  inflating: __MACOSX/train/._ISIC_3087402.jpg  \n",
            "  inflating: train/ISIC_1695424.jpg  \n",
            "  inflating: __MACOSX/train/._ISIC_1695424.jpg  \n",
            "  inflating: train/ISIC_1146341.jpg  \n",
            "  inflating: __MACOSX/train/._ISIC_1146341.jpg  \n",
            "  inflating: train/ISIC_1321376.jpg  \n",
            "  inflating: __MACOSX/train/._ISIC_1321376.jpg  \n",
            "  inflating: train/ISIC_4355229.jpg  \n",
            "  inflating: __MACOSX/train/._ISIC_4355229.jpg  \n",
            "  inflating: train/ISIC_9498942.jpg  \n",
            "  inflating: __MACOSX/train/._ISIC_9498942.jpg  \n",
            "  inflating: train/ISIC_8026814.jpg  \n",
            "  inflating: __MACOSX/train/._ISIC_8026814.jpg  \n",
            "  inflating: train/ISIC_9991451.jpg  \n",
            "  inflating: __MACOSX/train/._ISIC_9991451.jpg  \n",
            "  inflating: train/ISIC_4808930.jpg  \n",
            "  inflating: __MACOSX/train/._ISIC_4808930.jpg  \n",
            "  inflating: train/ISIC_9643132.jpg  \n",
            "  inflating: __MACOSX/train/._ISIC_9643132.jpg  \n",
            "  inflating: train/ISIC_3580824.jpg  \n",
            "  inflating: __MACOSX/train/._ISIC_3580824.jpg  \n",
            "  inflating: train/ISIC_3575305.jpg  \n",
            "  inflating: __MACOSX/train/._ISIC_3575305.jpg  \n",
            "  inflating: train/ISIC_6151842.jpg  \n",
            "  inflating: __MACOSX/train/._ISIC_6151842.jpg  \n",
            "  inflating: train/ISIC_9936188.jpg  \n",
            "  inflating: __MACOSX/train/._ISIC_9936188.jpg  \n",
            "  inflating: train/ISIC_1237266.jpg  \n",
            "  inflating: __MACOSX/train/._ISIC_1237266.jpg  \n",
            "  inflating: train/ISIC_0105145.jpg  \n",
            "  inflating: __MACOSX/train/._ISIC_0105145.jpg  \n",
            "  inflating: train/ISIC_0374710.jpg  \n",
            "  inflating: __MACOSX/train/._ISIC_0374710.jpg  \n",
            "  inflating: train/ISIC_0837789.jpg  \n",
            "  inflating: __MACOSX/train/._ISIC_0837789.jpg  \n",
            "  inflating: train/ISIC_8185167.jpg  \n",
            "  inflating: __MACOSX/train/._ISIC_8185167.jpg  \n",
            "  inflating: train/ISIC_1196376.jpg  \n",
            "  inflating: __MACOSX/train/._ISIC_1196376.jpg  \n",
            "  inflating: train/ISIC_5351400.jpg  \n",
            "  inflating: __MACOSX/train/._ISIC_5351400.jpg  \n",
            "  inflating: train/ISIC_5873715.jpg  \n",
            "  inflating: __MACOSX/train/._ISIC_5873715.jpg  \n",
            "  inflating: train/ISIC_3654373.jpg  \n",
            "  inflating: __MACOSX/train/._ISIC_3654373.jpg  \n",
            "  inflating: train/ISIC_7929262.jpg  \n",
            "  inflating: __MACOSX/train/._ISIC_7929262.jpg  \n",
            "  inflating: train/ISIC_1237500.jpg  \n",
            "  inflating: __MACOSX/train/._ISIC_1237500.jpg  \n",
            "  inflating: train/ISIC_2056416.jpg  \n",
            "  inflating: __MACOSX/train/._ISIC_2056416.jpg  \n",
            "  inflating: train/ISIC_4773019.jpg  \n",
            "  inflating: __MACOSX/train/._ISIC_4773019.jpg  \n",
            "  inflating: train/ISIC_5688196.jpg  \n",
            "  inflating: __MACOSX/train/._ISIC_5688196.jpg  \n",
            "  inflating: train/ISIC_0702317.jpg  \n",
            "  inflating: __MACOSX/train/._ISIC_0702317.jpg  \n",
            "  inflating: train/ISIC_3927960.jpg  \n",
            "  inflating: __MACOSX/train/._ISIC_3927960.jpg  \n",
            "  inflating: train/ISIC_0461634.jpg  \n",
            "  inflating: __MACOSX/train/._ISIC_0461634.jpg  \n",
            "  inflating: train/ISIC_2449919.jpg  \n",
            "  inflating: __MACOSX/train/._ISIC_2449919.jpg  \n",
            "  inflating: train/ISIC_3916565.jpg  \n",
            "  inflating: __MACOSX/train/._ISIC_3916565.jpg  \n",
            "  inflating: train/ISIC_6305501.jpg  \n",
            "  inflating: __MACOSX/train/._ISIC_6305501.jpg  \n",
            "  inflating: train/ISIC_9964816.jpg  \n",
            "  inflating: __MACOSX/train/._ISIC_9964816.jpg  \n",
            "  inflating: train/ISIC_9443820.jpg  \n",
            "  inflating: __MACOSX/train/._ISIC_9443820.jpg  \n",
            "  inflating: train/ISIC_9075195.jpg  \n",
            "  inflating: __MACOSX/train/._ISIC_9075195.jpg  \n",
            "  inflating: train/ISIC_6618943.jpg  \n",
            "  inflating: __MACOSX/train/._ISIC_6618943.jpg  \n",
            "  inflating: train/ISIC_0278116.jpg  \n",
            "  inflating: __MACOSX/train/._ISIC_0278116.jpg  \n",
            "  inflating: train/ISIC_2850143.jpg  \n",
            "  inflating: __MACOSX/train/._ISIC_2850143.jpg  \n",
            "  inflating: train/ISIC_9081772.jpg  \n",
            "  inflating: __MACOSX/train/._ISIC_9081772.jpg  \n",
            "  inflating: train/ISIC_7823773.jpg  \n",
            "  inflating: __MACOSX/train/._ISIC_7823773.jpg  \n",
            "  inflating: train/ISIC_1000328.jpg  \n",
            "  inflating: __MACOSX/train/._ISIC_1000328.jpg  \n",
            "  inflating: train/ISIC_8157009.jpg  \n",
            "  inflating: __MACOSX/train/._ISIC_8157009.jpg  \n",
            "  inflating: train/ISIC_6845907.jpg  \n",
            "  inflating: __MACOSX/train/._ISIC_6845907.jpg  \n",
            "  inflating: train/ISIC_3831858.jpg  \n",
            "  inflating: __MACOSX/train/._ISIC_3831858.jpg  \n",
            "  inflating: train/ISIC_0250842.jpg  \n",
            "  inflating: __MACOSX/train/._ISIC_0250842.jpg  \n",
            "  inflating: train/ISIC_4124332.jpg  \n",
            "  inflating: __MACOSX/train/._ISIC_4124332.jpg  \n",
            "  inflating: train/ISIC_8708756.jpg  \n",
            "  inflating: __MACOSX/train/._ISIC_8708756.jpg  \n",
            "  inflating: train/ISIC_8719883.jpg  \n",
            "  inflating: __MACOSX/train/._ISIC_8719883.jpg  \n",
            "  inflating: train/ISIC_7914875.jpg  \n",
            "  inflating: __MACOSX/train/._ISIC_7914875.jpg  \n",
            "  inflating: train/ISIC_5491443.jpg  \n",
            "  inflating: __MACOSX/train/._ISIC_5491443.jpg  \n",
            "  inflating: train/ISIC_7954289.jpg  \n",
            "  inflating: __MACOSX/train/._ISIC_7954289.jpg  \n",
            "  inflating: train/ISIC_0725958.jpg  \n",
            "  inflating: __MACOSX/train/._ISIC_0725958.jpg  \n",
            "  inflating: train/ISIC_3694619.jpg  \n",
            "  inflating: __MACOSX/train/._ISIC_3694619.jpg  \n",
            "  inflating: train/ISIC_3450191.jpg  \n",
            "  inflating: __MACOSX/train/._ISIC_3450191.jpg  \n",
            "  inflating: train/ISIC_2677873.jpg  \n",
            "  inflating: __MACOSX/train/._ISIC_2677873.jpg  \n",
            "  inflating: train/ISIC_4709945.jpg  \n",
            "  inflating: __MACOSX/train/._ISIC_4709945.jpg  \n",
            "  inflating: train/ISIC_6741822.jpg  \n",
            "  inflating: __MACOSX/train/._ISIC_6741822.jpg  \n",
            "  inflating: train/ISIC_5558657.jpg  \n",
            "  inflating: __MACOSX/train/._ISIC_5558657.jpg  \n",
            "  inflating: train/ISIC_2002709.jpg  \n",
            "  inflating: __MACOSX/train/._ISIC_2002709.jpg  \n",
            "  inflating: train/ISIC_9882411.jpg  \n",
            "  inflating: __MACOSX/train/._ISIC_9882411.jpg  \n",
            "  inflating: train/ISIC_1310183.jpg  \n",
            "  inflating: __MACOSX/train/._ISIC_1310183.jpg  \n",
            "  inflating: train/ISIC_6605912.jpg  \n",
            "  inflating: __MACOSX/train/._ISIC_6605912.jpg  \n",
            "  inflating: train/ISIC_0327406.jpg  \n",
            "  inflating: __MACOSX/train/._ISIC_0327406.jpg  \n",
            "  inflating: train/ISIC_6031634.jpg  \n",
            "  inflating: __MACOSX/train/._ISIC_6031634.jpg  \n",
            "  inflating: train/ISIC_9563514.jpg  \n",
            "  inflating: __MACOSX/train/._ISIC_9563514.jpg  \n",
            "  inflating: train/ISIC_5670605.jpg  \n",
            "  inflating: __MACOSX/train/._ISIC_5670605.jpg  \n",
            "  inflating: train/ISIC_9919143.jpg  \n",
            "  inflating: __MACOSX/train/._ISIC_9919143.jpg  \n",
            "  inflating: train/ISIC_6451337.jpg  \n",
            "  inflating: __MACOSX/train/._ISIC_6451337.jpg  \n",
            "  inflating: train/ISIC_6280523.jpg  \n",
            "  inflating: __MACOSX/train/._ISIC_6280523.jpg  \n",
            "  inflating: train/ISIC_3143468.jpg  \n",
            "  inflating: __MACOSX/train/._ISIC_3143468.jpg  \n",
            "  inflating: train/ISIC_7960892.jpg  \n",
            "  inflating: __MACOSX/train/._ISIC_7960892.jpg  \n",
            "  inflating: train/ISIC_0579047.jpg  \n",
            "  inflating: __MACOSX/train/._ISIC_0579047.jpg  \n",
            "  inflating: train/ISIC_4938165.jpg  \n",
            "  inflating: __MACOSX/train/._ISIC_4938165.jpg  \n",
            "  inflating: train/ISIC_1462996.jpg  \n",
            "  inflating: __MACOSX/train/._ISIC_1462996.jpg  \n",
            "  inflating: train/ISIC_4419522.jpg  \n",
            "  inflating: __MACOSX/train/._ISIC_4419522.jpg  \n",
            "  inflating: train/ISIC_7024662.jpg  \n",
            "  inflating: __MACOSX/train/._ISIC_7024662.jpg  \n",
            "  inflating: train/ISIC_7668627.jpg  \n",
            "  inflating: __MACOSX/train/._ISIC_7668627.jpg  \n",
            "  inflating: train/ISIC_6598889.jpg  \n",
            "  inflating: __MACOSX/train/._ISIC_6598889.jpg  \n",
            "  inflating: train/ISIC_0263522.jpg  \n",
            "  inflating: __MACOSX/train/._ISIC_0263522.jpg  \n",
            "  inflating: train/ISIC_2299591.jpg  \n",
            "  inflating: __MACOSX/train/._ISIC_2299591.jpg  \n",
            "  inflating: train/ISIC_5506059.jpg  \n",
            "  inflating: __MACOSX/train/._ISIC_5506059.jpg  \n",
            "  inflating: train/ISIC_7452503.jpg  \n",
            "  inflating: __MACOSX/train/._ISIC_7452503.jpg  \n",
            "  inflating: train/ISIC_5314606.jpg  \n",
            "  inflating: __MACOSX/train/._ISIC_5314606.jpg  \n",
            "  inflating: train/ISIC_2606720.jpg  \n",
            "  inflating: __MACOSX/train/._ISIC_2606720.jpg  \n",
            "  inflating: train/ISIC_3580818.jpg  \n",
            "  inflating: __MACOSX/train/._ISIC_3580818.jpg  \n",
            "  inflating: train/ISIC_7488019.jpg  \n",
            "  inflating: __MACOSX/train/._ISIC_7488019.jpg  \n",
            "  inflating: train/ISIC_4700975.jpg  \n",
            "  inflating: __MACOSX/train/._ISIC_4700975.jpg  \n",
            "  inflating: train/ISIC_0901213.jpg  \n",
            "  inflating: __MACOSX/train/._ISIC_0901213.jpg  \n",
            "  inflating: train/ISIC_5871658.jpg  \n",
            "  inflating: __MACOSX/train/._ISIC_5871658.jpg  \n",
            "  inflating: train/ISIC_1786464.jpg  \n",
            "  inflating: __MACOSX/train/._ISIC_1786464.jpg  \n",
            "  inflating: train/ISIC_9083617.jpg  \n",
            "  inflating: __MACOSX/train/._ISIC_9083617.jpg  \n",
            "  inflating: train/ISIC_8228671.jpg  \n",
            "  inflating: __MACOSX/train/._ISIC_8228671.jpg  \n",
            "  inflating: train/ISIC_2814715.jpg  \n",
            "  inflating: __MACOSX/train/._ISIC_2814715.jpg  \n",
            "  inflating: train/ISIC_4388706.jpg  \n",
            "  inflating: __MACOSX/train/._ISIC_4388706.jpg  \n",
            "  inflating: train/ISIC_9784337.jpg  \n",
            "  inflating: __MACOSX/train/._ISIC_9784337.jpg  \n",
            "  inflating: train/ISIC_6632614.jpg  \n",
            "  inflating: __MACOSX/train/._ISIC_6632614.jpg  \n",
            "  inflating: train/ISIC_3978280.jpg  \n",
            "  inflating: __MACOSX/train/._ISIC_3978280.jpg  \n",
            "  inflating: train/ISIC_1041406.jpg  \n",
            "  inflating: __MACOSX/train/._ISIC_1041406.jpg  \n",
            "  inflating: train/ISIC_7215375.jpg  \n",
            "  inflating: __MACOSX/train/._ISIC_7215375.jpg  \n",
            "  inflating: train/ISIC_0740118.jpg  \n",
            "  inflating: __MACOSX/train/._ISIC_0740118.jpg  \n",
            "  inflating: train/ISIC_8466745.jpg  \n",
            "  inflating: __MACOSX/train/._ISIC_8466745.jpg  \n",
            "  inflating: train/ISIC_4329876.jpg  \n",
            "  inflating: __MACOSX/train/._ISIC_4329876.jpg  \n",
            "  inflating: train/ISIC_3582969.jpg  \n",
            "  inflating: __MACOSX/train/._ISIC_3582969.jpg  \n",
            "  inflating: train/ISIC_7346739.jpg  \n",
            "  inflating: __MACOSX/train/._ISIC_7346739.jpg  \n",
            "  inflating: train/ISIC_2008230.jpg  \n",
            "  inflating: __MACOSX/train/._ISIC_2008230.jpg  \n",
            "  inflating: train/ISIC_2259986.jpg  \n",
            "  inflating: __MACOSX/train/._ISIC_2259986.jpg  \n",
            "  inflating: train/ISIC_2496374.jpg  \n",
            "  inflating: __MACOSX/train/._ISIC_2496374.jpg  \n",
            "  inflating: train/ISIC_4985369.jpg  \n",
            "  inflating: __MACOSX/train/._ISIC_4985369.jpg  \n",
            "  inflating: train/ISIC_5552385.jpg  \n",
            "  inflating: __MACOSX/train/._ISIC_5552385.jpg  \n",
            "  inflating: train/ISIC_1746873.jpg  \n",
            "  inflating: __MACOSX/train/._ISIC_1746873.jpg  \n",
            "  inflating: train/ISIC_1066052.jpg  \n",
            "  inflating: __MACOSX/train/._ISIC_1066052.jpg  \n",
            "  inflating: train/ISIC_7533116.jpg  \n",
            "  inflating: __MACOSX/train/._ISIC_7533116.jpg  \n",
            "  inflating: train/ISIC_3252522.jpg  \n",
            "  inflating: __MACOSX/train/._ISIC_3252522.jpg  \n",
            "  inflating: train/ISIC_7095254.jpg  \n",
            "  inflating: __MACOSX/train/._ISIC_7095254.jpg  \n",
            "  inflating: train/ISIC_9196583.jpg  \n",
            "  inflating: __MACOSX/train/._ISIC_9196583.jpg  \n",
            "  inflating: train/ISIC_5237020.jpg  \n",
            "  inflating: __MACOSX/train/._ISIC_5237020.jpg  \n",
            "  inflating: train/ISIC_1158816.jpg  \n",
            "  inflating: __MACOSX/train/._ISIC_1158816.jpg  \n",
            "  inflating: train/ISIC_0350117.jpg  \n",
            "  inflating: __MACOSX/train/._ISIC_0350117.jpg  \n",
            "  inflating: train/ISIC_5415964.jpg  \n",
            "  inflating: __MACOSX/train/._ISIC_5415964.jpg  \n",
            "  inflating: train/ISIC_5325356.jpg  \n",
            "  inflating: __MACOSX/train/._ISIC_5325356.jpg  \n",
            "  inflating: train/ISIC_1494033.jpg  \n",
            "  inflating: __MACOSX/train/._ISIC_1494033.jpg  \n",
            "  inflating: train/ISIC_5777181.jpg  \n",
            "  inflating: __MACOSX/train/._ISIC_5777181.jpg  \n",
            "  inflating: train/ISIC_8593525.jpg  \n",
            "  inflating: __MACOSX/train/._ISIC_8593525.jpg  \n",
            "  inflating: train/ISIC_6943345.jpg  \n",
            "  inflating: __MACOSX/train/._ISIC_6943345.jpg  \n",
            "  inflating: train/ISIC_2358454.jpg  \n",
            "  inflating: __MACOSX/train/._ISIC_2358454.jpg  \n",
            "  inflating: train/ISIC_4041555.jpg  \n",
            "  inflating: __MACOSX/train/._ISIC_4041555.jpg  \n",
            "  inflating: train/ISIC_7165819.jpg  \n",
            "  inflating: __MACOSX/train/._ISIC_7165819.jpg  \n",
            "  inflating: train/ISIC_5092424.jpg  \n",
            "  inflating: __MACOSX/train/._ISIC_5092424.jpg  \n",
            "  inflating: train/ISIC_3812918.jpg  \n",
            "  inflating: __MACOSX/train/._ISIC_3812918.jpg  \n",
            "  inflating: train/ISIC_9498995.jpg  \n",
            "  inflating: __MACOSX/train/._ISIC_9498995.jpg  \n",
            "  inflating: train/ISIC_7313923.jpg  \n",
            "  inflating: __MACOSX/train/._ISIC_7313923.jpg  \n",
            "  inflating: train/ISIC_3200264.jpg  \n",
            "  inflating: __MACOSX/train/._ISIC_3200264.jpg  \n",
            "  inflating: train/ISIC_4646061.jpg  \n",
            "  inflating: __MACOSX/train/._ISIC_4646061.jpg  \n",
            "  inflating: train/ISIC_2304459.jpg  \n",
            "  inflating: __MACOSX/train/._ISIC_2304459.jpg  \n",
            "  inflating: train/ISIC_4073281.jpg  \n",
            "  inflating: __MACOSX/train/._ISIC_4073281.jpg  \n",
            "  inflating: train/ISIC_1353051.jpg  \n",
            "  inflating: __MACOSX/train/._ISIC_1353051.jpg  \n",
            "  inflating: train/ISIC_6096306.jpg  \n",
            "  inflating: __MACOSX/train/._ISIC_6096306.jpg  \n",
            "  inflating: train/ISIC_2519121.jpg  \n",
            "  inflating: __MACOSX/train/._ISIC_2519121.jpg  \n",
            "  inflating: train/ISIC_5658162.jpg  \n",
            "  inflating: __MACOSX/train/._ISIC_5658162.jpg  \n",
            "  inflating: train/ISIC_7477754.jpg  \n",
            "  inflating: __MACOSX/train/._ISIC_7477754.jpg  \n",
            "  inflating: train/ISIC_6745477.jpg  \n",
            "  inflating: __MACOSX/train/._ISIC_6745477.jpg  \n",
            "  inflating: train/ISIC_0444339.jpg  \n",
            "  inflating: __MACOSX/train/._ISIC_0444339.jpg  \n",
            "  inflating: train/ISIC_3123377.jpg  \n",
            "  inflating: __MACOSX/train/._ISIC_3123377.jpg  \n",
            "  inflating: train/ISIC_7531073.jpg  \n",
            "  inflating: __MACOSX/train/._ISIC_7531073.jpg  \n",
            "  inflating: train/ISIC_1627241.jpg  \n",
            "  inflating: __MACOSX/train/._ISIC_1627241.jpg  \n",
            "  inflating: train/ISIC_3694194.jpg  \n",
            "  inflating: __MACOSX/train/._ISIC_3694194.jpg  \n",
            "  inflating: train/ISIC_5152600.jpg  \n",
            "  inflating: __MACOSX/train/._ISIC_5152600.jpg  \n",
            "  inflating: train/ISIC_8078015.jpg  \n",
            "  inflating: __MACOSX/train/._ISIC_8078015.jpg  \n",
            "  inflating: train/ISIC_8303379.jpg  \n",
            "  inflating: __MACOSX/train/._ISIC_8303379.jpg  \n",
            "  inflating: train/ISIC_9172605.jpg  \n",
            "  inflating: __MACOSX/train/._ISIC_9172605.jpg  \n",
            "  inflating: train/ISIC_2461930.jpg  \n",
            "  inflating: __MACOSX/train/._ISIC_2461930.jpg  \n",
            "  inflating: train/ISIC_9991492.jpg  \n",
            "  inflating: __MACOSX/train/._ISIC_9991492.jpg  \n",
            "  inflating: train/ISIC_6278273.jpg  \n",
            "  inflating: __MACOSX/train/._ISIC_6278273.jpg  \n",
            "  inflating: train/ISIC_4372133.jpg  \n",
            "  inflating: __MACOSX/train/._ISIC_4372133.jpg  \n",
            "  inflating: train/ISIC_3469923.jpg  \n",
            "  inflating: __MACOSX/train/._ISIC_3469923.jpg  \n",
            "  inflating: train/ISIC_5859895.jpg  \n",
            "  inflating: __MACOSX/train/._ISIC_5859895.jpg  \n",
            "  inflating: train/ISIC_3494886.jpg  \n",
            "  inflating: __MACOSX/train/._ISIC_3494886.jpg  \n",
            "  inflating: train/ISIC_5142375.jpg  \n",
            "  inflating: __MACOSX/train/._ISIC_5142375.jpg  \n",
            "  inflating: train/ISIC_6153728.jpg  \n",
            "  inflating: __MACOSX/train/._ISIC_6153728.jpg  \n",
            "  inflating: train/ISIC_8647900.jpg  \n",
            "  inflating: __MACOSX/train/._ISIC_8647900.jpg  \n",
            "  inflating: train/ISIC_3084862.jpg  \n",
            "  inflating: __MACOSX/train/._ISIC_3084862.jpg  \n",
            "  inflating: train/ISIC_3027105.jpg  \n",
            "  inflating: __MACOSX/train/._ISIC_3027105.jpg  \n",
            "  inflating: train/ISIC_9671143.jpg  \n",
            "  inflating: __MACOSX/train/._ISIC_9671143.jpg  \n",
            "  inflating: train/ISIC_3390111.jpg  \n",
            "  inflating: __MACOSX/train/._ISIC_3390111.jpg  \n",
            "  inflating: train/ISIC_2085855.jpg  \n",
            "  inflating: __MACOSX/train/._ISIC_2085855.jpg  \n",
            "  inflating: train/ISIC_3292074.jpg  \n",
            "  inflating: __MACOSX/train/._ISIC_3292074.jpg  \n",
            "  inflating: train/ISIC_6310871.jpg  \n",
            "  inflating: __MACOSX/train/._ISIC_6310871.jpg  \n",
            "  inflating: train/ISIC_3416107.jpg  \n",
            "  inflating: __MACOSX/train/._ISIC_3416107.jpg  \n",
            "  inflating: train/ISIC_4988671.jpg  \n",
            "  inflating: __MACOSX/train/._ISIC_4988671.jpg  \n",
            "  inflating: train/ISIC_0168418.jpg  \n",
            "  inflating: __MACOSX/train/._ISIC_0168418.jpg  \n",
            "  inflating: train/ISIC_4462621.jpg  \n",
            "  inflating: __MACOSX/train/._ISIC_4462621.jpg  \n",
            "  inflating: train/ISIC_9548034.jpg  \n",
            "  inflating: __MACOSX/train/._ISIC_9548034.jpg  \n",
            "  inflating: train/ISIC_6058127.jpg  \n",
            "  inflating: __MACOSX/train/._ISIC_6058127.jpg  \n",
            "  inflating: train/ISIC_8123993.jpg  \n",
            "  inflating: __MACOSX/train/._ISIC_8123993.jpg  \n",
            "  inflating: train/ISIC_2879512.jpg  \n",
            "  inflating: __MACOSX/train/._ISIC_2879512.jpg  \n",
            "  inflating: train/ISIC_4552090.jpg  \n",
            "  inflating: __MACOSX/train/._ISIC_4552090.jpg  \n",
            "  inflating: train/ISIC_1583201.jpg  \n",
            "  inflating: __MACOSX/train/._ISIC_1583201.jpg  \n",
            "  inflating: train/ISIC_9620442.jpg  \n",
            "  inflating: __MACOSX/train/._ISIC_9620442.jpg  \n",
            "  inflating: train/ISIC_9417242.jpg  \n",
            "  inflating: __MACOSX/train/._ISIC_9417242.jpg  \n",
            "  inflating: train/ISIC_5158305.jpg  \n",
            "  inflating: __MACOSX/train/._ISIC_5158305.jpg  \n",
            "  inflating: train/ISIC_4617212.jpg  \n",
            "  inflating: __MACOSX/train/._ISIC_4617212.jpg  \n",
            "  inflating: train/ISIC_5994171.jpg  \n",
            "  inflating: __MACOSX/train/._ISIC_5994171.jpg  \n",
            "  inflating: train/ISIC_0551708.jpg  \n",
            "  inflating: __MACOSX/train/._ISIC_0551708.jpg  \n",
            "  inflating: train/ISIC_3017950.jpg  \n",
            "  inflating: __MACOSX/train/._ISIC_3017950.jpg  \n",
            "  inflating: train/ISIC_5182179.jpg  \n",
            "  inflating: __MACOSX/train/._ISIC_5182179.jpg  \n",
            "  inflating: train/ISIC_5722194.jpg  \n",
            "  inflating: __MACOSX/train/._ISIC_5722194.jpg  \n",
            "  inflating: train/ISIC_3635014.jpg  \n",
            "  inflating: __MACOSX/train/._ISIC_3635014.jpg  \n",
            "  inflating: train/ISIC_7599869.jpg  \n",
            "  inflating: __MACOSX/train/._ISIC_7599869.jpg  \n",
            "  inflating: train/ISIC_2270496.jpg  \n",
            "  inflating: __MACOSX/train/._ISIC_2270496.jpg  \n",
            "  inflating: train/ISIC_7493388.jpg  \n",
            "  inflating: __MACOSX/train/._ISIC_7493388.jpg  \n",
            "  inflating: train/ISIC_3985494.jpg  \n",
            "  inflating: __MACOSX/train/._ISIC_3985494.jpg  \n",
            "  inflating: train/ISIC_4709038.jpg  \n",
            "  inflating: __MACOSX/train/._ISIC_4709038.jpg  \n",
            "  inflating: train/ISIC_4373563.jpg  \n",
            "  inflating: __MACOSX/train/._ISIC_4373563.jpg  \n",
            "  inflating: train/ISIC_7271156.jpg  \n",
            "  inflating: __MACOSX/train/._ISIC_7271156.jpg  \n",
            "  inflating: train/ISIC_7365889.jpg  \n",
            "  inflating: __MACOSX/train/._ISIC_7365889.jpg  \n",
            "  inflating: train/ISIC_4227640.jpg  \n",
            "  inflating: __MACOSX/train/._ISIC_4227640.jpg  \n",
            "  inflating: train/ISIC_3310739.jpg  \n",
            "  inflating: __MACOSX/train/._ISIC_3310739.jpg  \n",
            "  inflating: train/ISIC_5352684.jpg  \n",
            "  inflating: __MACOSX/train/._ISIC_5352684.jpg  \n",
            "  inflating: train/ISIC_7954538.jpg  \n",
            "  inflating: __MACOSX/train/._ISIC_7954538.jpg  \n",
            "  inflating: train/ISIC_0351547.jpg  \n",
            "  inflating: __MACOSX/train/._ISIC_0351547.jpg  \n",
            "  inflating: train/ISIC_9389341.jpg  \n",
            "  inflating: __MACOSX/train/._ISIC_9389341.jpg  \n",
            "  inflating: train/ISIC_8010381.jpg  \n",
            "  inflating: __MACOSX/train/._ISIC_8010381.jpg  \n",
            "  inflating: train/ISIC_4464522.jpg  \n",
            "  inflating: __MACOSX/train/._ISIC_4464522.jpg  \n",
            "  inflating: train/ISIC_0179267.jpg  \n",
            "  inflating: __MACOSX/train/._ISIC_0179267.jpg  \n",
            "  inflating: train/ISIC_0969178.jpg  \n",
            "  inflating: __MACOSX/train/._ISIC_0969178.jpg  \n",
            "  inflating: train/ISIC_9730889.jpg  \n",
            "  inflating: __MACOSX/train/._ISIC_9730889.jpg  \n",
            "  inflating: train/ISIC_1546149.jpg  \n",
            "  inflating: __MACOSX/train/._ISIC_1546149.jpg  \n",
            "  inflating: train/ISIC_2922270.jpg  \n",
            "  inflating: __MACOSX/train/._ISIC_2922270.jpg  \n",
            "  inflating: train/ISIC_3218403.jpg  \n",
            "  inflating: __MACOSX/train/._ISIC_3218403.jpg  \n",
            "  inflating: train/ISIC_5789263.jpg  \n",
            "  inflating: __MACOSX/train/._ISIC_5789263.jpg  \n",
            "  inflating: train/ISIC_5659240.jpg  \n",
            "  inflating: __MACOSX/train/._ISIC_5659240.jpg  \n",
            "  inflating: train/ISIC_2364385.jpg  \n",
            "  inflating: __MACOSX/train/._ISIC_2364385.jpg  \n",
            "  inflating: train/ISIC_1389563.jpg  \n",
            "  inflating: __MACOSX/train/._ISIC_1389563.jpg  \n",
            "  inflating: train/ISIC_8553729.jpg  \n",
            "  inflating: __MACOSX/train/._ISIC_8553729.jpg  \n",
            "  inflating: train/ISIC_9705832.jpg  \n",
            "  inflating: __MACOSX/train/._ISIC_9705832.jpg  \n",
            "  inflating: train/ISIC_3481509.jpg  \n",
            "  inflating: __MACOSX/train/._ISIC_3481509.jpg  \n",
            "  inflating: train/ISIC_8580217.jpg  \n",
            "  inflating: __MACOSX/train/._ISIC_8580217.jpg  \n",
            "  inflating: train/ISIC_9272859.jpg  \n",
            "  inflating: __MACOSX/train/._ISIC_9272859.jpg  \n",
            "  inflating: train/ISIC_2625884.jpg  \n",
            "  inflating: __MACOSX/train/._ISIC_2625884.jpg  \n",
            "  inflating: train/ISIC_0481059.jpg  \n",
            "  inflating: __MACOSX/train/._ISIC_0481059.jpg  \n",
            "  inflating: train/ISIC_6814221.jpg  \n",
            "  inflating: __MACOSX/train/._ISIC_6814221.jpg  \n",
            "  inflating: train/ISIC_6302291.jpg  \n",
            "  inflating: __MACOSX/train/._ISIC_6302291.jpg  \n",
            "  inflating: train/ISIC_9801917.jpg  \n",
            "  inflating: __MACOSX/train/._ISIC_9801917.jpg  \n",
            "  inflating: train/ISIC_1306050.jpg  \n",
            "  inflating: __MACOSX/train/._ISIC_1306050.jpg  \n",
            "  inflating: train/ISIC_3744835.jpg  \n",
            "  inflating: __MACOSX/train/._ISIC_3744835.jpg  \n",
            "  inflating: train/ISIC_7699392.jpg  \n",
            "  inflating: __MACOSX/train/._ISIC_7699392.jpg  \n",
            "  inflating: train/ISIC_2616719.jpg  \n",
            "  inflating: __MACOSX/train/._ISIC_2616719.jpg  \n",
            "  inflating: train/ISIC_4663008.jpg  \n",
            "  inflating: __MACOSX/train/._ISIC_4663008.jpg  \n",
            "  inflating: train/ISIC_1824812.jpg  \n",
            "  inflating: __MACOSX/train/._ISIC_1824812.jpg  \n",
            "  inflating: train/ISIC_1666976.jpg  \n",
            "  inflating: __MACOSX/train/._ISIC_1666976.jpg  \n",
            "  inflating: train/ISIC_9462346.jpg  \n",
            "  inflating: __MACOSX/train/._ISIC_9462346.jpg  \n",
            "  inflating: train/ISIC_4747814.jpg  \n",
            "  inflating: __MACOSX/train/._ISIC_4747814.jpg  \n",
            "  inflating: train/ISIC_9955163.jpg  \n",
            "  inflating: __MACOSX/train/._ISIC_9955163.jpg  \n",
            "  inflating: train/ISIC_0494865.jpg  \n",
            "  inflating: __MACOSX/train/._ISIC_0494865.jpg  \n",
            "  inflating: train/ISIC_1004416.jpg  \n",
            "  inflating: __MACOSX/train/._ISIC_1004416.jpg  \n",
            "  inflating: train/ISIC_6827364.jpg  \n",
            "  inflating: __MACOSX/train/._ISIC_6827364.jpg  \n",
            "  inflating: train/ISIC_8061791.jpg  \n",
            "  inflating: __MACOSX/train/._ISIC_8061791.jpg  \n",
            "  inflating: train/ISIC_9996128.jpg  \n",
            "  inflating: __MACOSX/train/._ISIC_9996128.jpg  \n",
            "  inflating: train/ISIC_4504995.jpg  \n",
            "  inflating: __MACOSX/train/._ISIC_4504995.jpg  \n",
            "  inflating: train/ISIC_6224915.jpg  \n",
            "  inflating: __MACOSX/train/._ISIC_6224915.jpg  \n",
            "  inflating: train/ISIC_4321966.jpg  \n",
            "  inflating: __MACOSX/train/._ISIC_4321966.jpg  \n",
            "  inflating: train/ISIC_1472777.jpg  \n",
            "  inflating: __MACOSX/train/._ISIC_1472777.jpg  \n",
            "  inflating: train/ISIC_2922099.jpg  \n",
            "  inflating: __MACOSX/train/._ISIC_2922099.jpg  \n",
            "  inflating: train/ISIC_8222610.jpg  \n",
            "  inflating: __MACOSX/train/._ISIC_8222610.jpg  \n",
            "  inflating: train/ISIC_5484270.jpg  \n",
            "  inflating: __MACOSX/train/._ISIC_5484270.jpg  \n",
            "  inflating: train/ISIC_1698302.jpg  \n",
            "  inflating: __MACOSX/train/._ISIC_1698302.jpg  \n",
            "  inflating: train/ISIC_8195604.jpg  \n",
            "  inflating: __MACOSX/train/._ISIC_8195604.jpg  \n",
            "  inflating: train/ISIC_6564818.jpg  \n",
            "  inflating: __MACOSX/train/._ISIC_6564818.jpg  \n",
            "  inflating: train/ISIC_7637109.jpg  \n",
            "  inflating: __MACOSX/train/._ISIC_7637109.jpg  \n",
            "  inflating: train/ISIC_1642618.jpg  \n",
            "  inflating: __MACOSX/train/._ISIC_1642618.jpg  \n",
            "  inflating: train/ISIC_9119271.jpg  \n",
            "  inflating: __MACOSX/train/._ISIC_9119271.jpg  \n",
            "  inflating: train/ISIC_4781927.jpg  \n",
            "  inflating: __MACOSX/train/._ISIC_4781927.jpg  \n",
            "  inflating: train/ISIC_7984080.jpg  \n",
            "  inflating: __MACOSX/train/._ISIC_7984080.jpg  \n",
            "  inflating: train/ISIC_2548805.jpg  \n",
            "  inflating: __MACOSX/train/._ISIC_2548805.jpg  \n",
            "  inflating: train/ISIC_4202615.jpg  \n",
            "  inflating: __MACOSX/train/._ISIC_4202615.jpg  \n",
            "  inflating: train/ISIC_1241680.jpg  \n",
            "  inflating: __MACOSX/train/._ISIC_1241680.jpg  \n",
            "  inflating: train/ISIC_4512891.jpg  \n",
            "  inflating: __MACOSX/train/._ISIC_4512891.jpg  \n",
            "  inflating: train/ISIC_0894220.jpg  \n",
            "  inflating: __MACOSX/train/._ISIC_0894220.jpg  \n",
            "  inflating: train/ISIC_5865361.jpg  \n",
            "  inflating: __MACOSX/train/._ISIC_5865361.jpg  \n",
            "  inflating: train/ISIC_0172865.jpg  \n",
            "  inflating: __MACOSX/train/._ISIC_0172865.jpg  \n",
            "  inflating: train/ISIC_8492388.jpg  \n",
            "  inflating: __MACOSX/train/._ISIC_8492388.jpg  \n",
            "  inflating: train/ISIC_8575507.jpg  \n",
            "  inflating: __MACOSX/train/._ISIC_8575507.jpg  \n",
            "  inflating: train/ISIC_6534791.jpg  \n",
            "  inflating: __MACOSX/train/._ISIC_6534791.jpg  \n",
            "  inflating: train/ISIC_0981639.jpg  \n",
            "  inflating: __MACOSX/train/._ISIC_0981639.jpg  \n",
            "  inflating: train/ISIC_8851038.jpg  \n",
            "  inflating: __MACOSX/train/._ISIC_8851038.jpg  \n",
            "  inflating: train/ISIC_8516922.jpg  \n",
            "  inflating: __MACOSX/train/._ISIC_8516922.jpg  \n",
            "  inflating: train/ISIC_3939790.jpg  \n",
            "  inflating: __MACOSX/train/._ISIC_3939790.jpg  \n",
            "  inflating: train/ISIC_6749926.jpg  \n",
            "  inflating: __MACOSX/train/._ISIC_6749926.jpg  \n",
            "  inflating: train/ISIC_7820044.jpg  \n",
            "  inflating: __MACOSX/train/._ISIC_7820044.jpg  \n",
            "  inflating: train/ISIC_6295310.jpg  \n",
            "  inflating: __MACOSX/train/._ISIC_6295310.jpg  \n",
            "  inflating: train/ISIC_4808298.jpg  \n",
            "  inflating: __MACOSX/train/._ISIC_4808298.jpg  \n",
            "  inflating: train/ISIC_3588908.jpg  \n",
            "  inflating: __MACOSX/train/._ISIC_3588908.jpg  \n",
            "  inflating: train/ISIC_8435651.jpg  \n",
            "  inflating: __MACOSX/train/._ISIC_8435651.jpg  \n",
            "  inflating: train/ISIC_8276527.jpg  \n",
            "  inflating: __MACOSX/train/._ISIC_8276527.jpg  \n",
            "  inflating: train/ISIC_3167092.jpg  \n",
            "  inflating: __MACOSX/train/._ISIC_3167092.jpg  \n",
            "  inflating: train/ISIC_0185547.jpg  \n",
            "  inflating: __MACOSX/train/._ISIC_0185547.jpg  \n",
            "  inflating: train/ISIC_6219458.jpg  \n",
            "  inflating: __MACOSX/train/._ISIC_6219458.jpg  \n",
            "  inflating: train/ISIC_9767292.jpg  \n",
            "  inflating: __MACOSX/train/._ISIC_9767292.jpg  \n",
            "  inflating: train/ISIC_3478437.jpg  \n",
            "  inflating: __MACOSX/train/._ISIC_3478437.jpg  \n",
            "  inflating: train/ISIC_6731651.jpg  \n",
            "  inflating: __MACOSX/train/._ISIC_6731651.jpg  \n",
            "  inflating: train/ISIC_2440281.jpg  \n",
            "  inflating: __MACOSX/train/._ISIC_2440281.jpg  \n",
            "  inflating: train/ISIC_9987757.jpg  \n",
            "  inflating: __MACOSX/train/._ISIC_9987757.jpg  \n",
            "  inflating: train/ISIC_3326704.jpg  \n",
            "  inflating: __MACOSX/train/._ISIC_3326704.jpg  \n",
            "  inflating: train/ISIC_6174156.jpg  \n",
            "  inflating: __MACOSX/train/._ISIC_6174156.jpg  \n",
            "  inflating: train/ISIC_3254386.jpg  \n",
            "  inflating: __MACOSX/train/._ISIC_3254386.jpg  \n",
            "  inflating: train/ISIC_9323627.jpg  \n",
            "  inflating: __MACOSX/train/._ISIC_9323627.jpg  \n",
            "  inflating: train/ISIC_2550938.jpg  \n",
            "  inflating: __MACOSX/train/._ISIC_2550938.jpg  \n",
            "  inflating: train/ISIC_8467665.jpg  \n",
            "  inflating: __MACOSX/train/._ISIC_8467665.jpg  \n",
            "  inflating: train/ISIC_6119386.jpg  \n",
            "  inflating: __MACOSX/train/._ISIC_6119386.jpg  \n",
            "  inflating: train/ISIC_5393557.jpg  \n",
            "  inflating: __MACOSX/train/._ISIC_5393557.jpg  \n",
            "  inflating: train/ISIC_3219286.jpg  \n",
            "  inflating: __MACOSX/train/._ISIC_3219286.jpg  \n",
            "  inflating: train/ISIC_5223280.jpg  \n",
            "  inflating: __MACOSX/train/._ISIC_5223280.jpg  \n",
            "  inflating: train/ISIC_2801126.jpg  \n",
            "  inflating: __MACOSX/train/._ISIC_2801126.jpg  \n",
            "  inflating: train/ISIC_9683672.jpg  \n",
            "  inflating: __MACOSX/train/._ISIC_9683672.jpg  \n",
            "  inflating: train/ISIC_8591681.jpg  \n",
            "  inflating: __MACOSX/train/._ISIC_8591681.jpg  \n",
            "  inflating: train/ISIC_7447456.jpg  \n",
            "  inflating: __MACOSX/train/._ISIC_7447456.jpg  \n",
            "  inflating: train/ISIC_3155020.jpg  \n",
            "  inflating: __MACOSX/train/._ISIC_3155020.jpg  \n",
            "  inflating: train/ISIC_0554499.jpg  \n",
            "  inflating: __MACOSX/train/._ISIC_0554499.jpg  \n",
            "  inflating: train/ISIC_5315726.jpg  \n",
            "  inflating: __MACOSX/train/._ISIC_5315726.jpg  \n",
            "  inflating: train/ISIC_6778251.jpg  \n",
            "  inflating: __MACOSX/train/._ISIC_6778251.jpg  \n",
            "  inflating: train/ISIC_8247088.jpg  \n",
            "  inflating: __MACOSX/train/._ISIC_8247088.jpg  \n",
            "  inflating: train/ISIC_2418954.jpg  \n",
            "  inflating: __MACOSX/train/._ISIC_2418954.jpg  \n",
            "  inflating: train/ISIC_6681838.jpg  \n",
            "  inflating: __MACOSX/train/._ISIC_6681838.jpg  \n",
            "  inflating: train/ISIC_5355302.jpg  \n",
            "  inflating: __MACOSX/train/._ISIC_5355302.jpg  \n",
            "  inflating: train/ISIC_3242282.jpg  \n",
            "  inflating: __MACOSX/train/._ISIC_3242282.jpg  \n",
            "  inflating: train/ISIC_5514893.jpg  \n",
            "  inflating: __MACOSX/train/._ISIC_5514893.jpg  \n",
            "  inflating: train/ISIC_5098492.jpg  \n",
            "  inflating: __MACOSX/train/._ISIC_5098492.jpg  \n",
            "  inflating: train/ISIC_1270307.jpg  \n",
            "  inflating: __MACOSX/train/._ISIC_1270307.jpg  \n",
            "  inflating: train/ISIC_8212937.jpg  \n",
            "  inflating: __MACOSX/train/._ISIC_8212937.jpg  \n",
            "  inflating: train/ISIC_2250587.jpg  \n",
            "  inflating: __MACOSX/train/._ISIC_2250587.jpg  \n",
            "  inflating: train/ISIC_1519698.jpg  \n",
            "  inflating: __MACOSX/train/._ISIC_1519698.jpg  \n",
            "  inflating: train/ISIC_0464200.jpg  \n",
            "  inflating: __MACOSX/train/._ISIC_0464200.jpg  \n",
            "  inflating: train/ISIC_8660830.jpg  \n",
            "  inflating: __MACOSX/train/._ISIC_8660830.jpg  \n",
            "  inflating: train/ISIC_9401187.jpg  \n",
            "  inflating: __MACOSX/train/._ISIC_9401187.jpg  \n",
            "  inflating: train/ISIC_2364150.jpg  \n",
            "  inflating: __MACOSX/train/._ISIC_2364150.jpg  \n",
            "  inflating: train/ISIC_3079290.jpg  \n",
            "  inflating: __MACOSX/train/._ISIC_3079290.jpg  \n",
            "  inflating: train/ISIC_8675583.jpg  \n",
            "  inflating: __MACOSX/train/._ISIC_8675583.jpg  \n",
            "  inflating: train/ISIC_9579996.jpg  \n",
            "  inflating: __MACOSX/train/._ISIC_9579996.jpg  \n",
            "  inflating: train/ISIC_3034390.jpg  \n",
            "  inflating: __MACOSX/train/._ISIC_3034390.jpg  \n",
            "  inflating: train/ISIC_6083284.jpg  \n",
            "  inflating: __MACOSX/train/._ISIC_6083284.jpg  \n",
            "  inflating: train/ISIC_6571597.jpg  \n",
            "  inflating: __MACOSX/train/._ISIC_6571597.jpg  \n",
            "  inflating: train/ISIC_9783128.jpg  \n",
            "  inflating: __MACOSX/train/._ISIC_9783128.jpg  \n",
            "  inflating: train/ISIC_9810417.jpg  \n",
            "  inflating: __MACOSX/train/._ISIC_9810417.jpg  \n",
            "  inflating: train/ISIC_1032826.jpg  \n",
            "  inflating: __MACOSX/train/._ISIC_1032826.jpg  \n",
            "  inflating: train/ISIC_1108204.jpg  \n",
            "  inflating: __MACOSX/train/._ISIC_1108204.jpg  \n",
            "  inflating: train/ISIC_4560585.jpg  \n",
            "  inflating: __MACOSX/train/._ISIC_4560585.jpg  \n",
            "  inflating: train/ISIC_5491641.jpg  \n",
            "  inflating: __MACOSX/train/._ISIC_5491641.jpg  \n",
            "  inflating: train/ISIC_5952283.jpg  \n",
            "  inflating: __MACOSX/train/._ISIC_5952283.jpg  \n",
            "  inflating: train/ISIC_8391394.jpg  \n",
            "  inflating: __MACOSX/train/._ISIC_8391394.jpg  \n",
            "  inflating: train/ISIC_3146074.jpg  \n",
            "  inflating: __MACOSX/train/._ISIC_3146074.jpg  \n",
            "  inflating: train/ISIC_7423852.jpg  \n",
            "  inflating: __MACOSX/train/._ISIC_7423852.jpg  \n",
            "  inflating: train/ISIC_4293124.jpg  \n",
            "  inflating: __MACOSX/train/._ISIC_4293124.jpg  \n",
            "  inflating: train/ISIC_0594695.jpg  \n",
            "  inflating: __MACOSX/train/._ISIC_0594695.jpg  \n",
            "  inflating: train/ISIC_8791163.jpg  \n",
            "  inflating: __MACOSX/train/._ISIC_8791163.jpg  \n",
            "  inflating: train/ISIC_5025675.jpg  \n",
            "  inflating: __MACOSX/train/._ISIC_5025675.jpg  \n",
            "  inflating: train/ISIC_7101810.jpg  \n",
            "  inflating: __MACOSX/train/._ISIC_7101810.jpg  \n",
            "  inflating: train/ISIC_2145640.jpg  \n",
            "  inflating: __MACOSX/train/._ISIC_2145640.jpg  \n",
            "  inflating: train/ISIC_5545410.jpg  \n",
            "  inflating: __MACOSX/train/._ISIC_5545410.jpg  \n",
            "  inflating: train/ISIC_5065245.jpg  \n",
            "  inflating: __MACOSX/train/._ISIC_5065245.jpg  \n",
            "  inflating: train/ISIC_4880952.jpg  \n",
            "  inflating: __MACOSX/train/._ISIC_4880952.jpg  \n",
            "  inflating: train/ISIC_1200192.jpg  \n",
            "  inflating: __MACOSX/train/._ISIC_1200192.jpg  \n",
            "  inflating: train/ISIC_7638574.jpg  \n",
            "  inflating: __MACOSX/train/._ISIC_7638574.jpg  \n",
            "  inflating: train/ISIC_8156101.jpg  \n",
            "  inflating: __MACOSX/train/._ISIC_8156101.jpg  \n",
            "  inflating: train/ISIC_0325761.jpg  \n",
            "  inflating: __MACOSX/train/._ISIC_0325761.jpg  \n",
            "  inflating: train/ISIC_1784717.jpg  \n",
            "  inflating: __MACOSX/train/._ISIC_1784717.jpg  \n",
            "  inflating: train/ISIC_7504553.jpg  \n",
            "  inflating: __MACOSX/train/._ISIC_7504553.jpg  \n",
            "  inflating: train/ISIC_6107184.jpg  \n",
            "  inflating: __MACOSX/train/._ISIC_6107184.jpg  \n",
            "  inflating: train/ISIC_2187515.jpg  \n",
            "  inflating: __MACOSX/train/._ISIC_2187515.jpg  \n",
            "  inflating: train/ISIC_7357436.jpg  \n",
            "  inflating: __MACOSX/train/._ISIC_7357436.jpg  \n",
            "  inflating: train/ISIC_1202785.jpg  \n",
            "  inflating: __MACOSX/train/._ISIC_1202785.jpg  \n",
            "  inflating: train/ISIC_2329722.jpg  \n",
            "  inflating: __MACOSX/train/._ISIC_2329722.jpg  \n",
            "  inflating: train/ISIC_2753279.jpg  \n",
            "  inflating: __MACOSX/train/._ISIC_2753279.jpg  \n",
            "  inflating: train/ISIC_6237799.jpg  \n",
            "  inflating: __MACOSX/train/._ISIC_6237799.jpg  \n",
            "  inflating: train/ISIC_3907656.jpg  \n",
            "  inflating: __MACOSX/train/._ISIC_3907656.jpg  \n",
            "  inflating: train/ISIC_2099059.jpg  \n",
            "  inflating: __MACOSX/train/._ISIC_2099059.jpg  \n",
            "  inflating: train/ISIC_7720449.jpg  \n",
            "  inflating: __MACOSX/train/._ISIC_7720449.jpg  \n",
            "  inflating: train/ISIC_3469260.jpg  \n",
            "  inflating: __MACOSX/train/._ISIC_3469260.jpg  \n",
            "  inflating: train/ISIC_8585810.jpg  \n",
            "  inflating: __MACOSX/train/._ISIC_8585810.jpg  \n",
            "  inflating: train/ISIC_2845758.jpg  \n",
            "  inflating: __MACOSX/train/._ISIC_2845758.jpg  \n",
            "  inflating: train/ISIC_8691163.jpg  \n",
            "  inflating: __MACOSX/train/._ISIC_8691163.jpg  \n",
            "  inflating: train/ISIC_4500503.jpg  \n",
            "  inflating: __MACOSX/train/._ISIC_4500503.jpg  \n",
            "  inflating: train/ISIC_9198021.jpg  \n",
            "  inflating: __MACOSX/train/._ISIC_9198021.jpg  \n",
            "  inflating: train/ISIC_4963405.jpg  \n",
            "  inflating: __MACOSX/train/._ISIC_4963405.jpg  \n",
            "  inflating: train/ISIC_1401969.jpg  \n",
            "  inflating: __MACOSX/train/._ISIC_1401969.jpg  \n",
            "  inflating: train/ISIC_8397097.jpg  \n",
            "  inflating: __MACOSX/train/._ISIC_8397097.jpg  \n",
            "  inflating: train/ISIC_0648752.jpg  \n",
            "  inflating: __MACOSX/train/._ISIC_0648752.jpg  \n",
            "  inflating: train/ISIC_0936865.jpg  \n",
            "  inflating: __MACOSX/train/._ISIC_0936865.jpg  \n",
            "  inflating: train/ISIC_1185134.jpg  \n",
            "  inflating: __MACOSX/train/._ISIC_1185134.jpg  \n",
            "  inflating: train/ISIC_8891234.jpg  \n",
            "  inflating: __MACOSX/train/._ISIC_8891234.jpg  \n",
            "  inflating: train/ISIC_4825322.jpg  \n",
            "  inflating: __MACOSX/train/._ISIC_4825322.jpg  \n",
            "  inflating: train/ISIC_3848155.jpg  \n",
            "  inflating: __MACOSX/train/._ISIC_3848155.jpg  \n",
            "  inflating: train/ISIC_7311305.jpg  \n",
            "  inflating: __MACOSX/train/._ISIC_7311305.jpg  \n",
            "  inflating: train/ISIC_8182350.jpg  \n",
            "  inflating: __MACOSX/train/._ISIC_8182350.jpg  \n",
            "  inflating: train/ISIC_2143557.jpg  \n",
            "  inflating: __MACOSX/train/._ISIC_2143557.jpg  \n",
            "  inflating: train/ISIC_4419720.jpg  \n",
            "  inflating: __MACOSX/train/._ISIC_4419720.jpg  \n",
            "  inflating: train/ISIC_7150493.jpg  \n",
            "  inflating: __MACOSX/train/._ISIC_7150493.jpg  \n",
            "  inflating: train/ISIC_5743740.jpg  \n",
            "  inflating: __MACOSX/train/._ISIC_5743740.jpg  \n",
            "  inflating: train/ISIC_3952694.jpg  \n",
            "  inflating: __MACOSX/train/._ISIC_3952694.jpg  \n",
            "  inflating: train/ISIC_8280272.jpg  \n",
            "  inflating: __MACOSX/train/._ISIC_8280272.jpg  \n",
            "  inflating: train/ISIC_7587869.jpg  \n",
            "  inflating: __MACOSX/train/._ISIC_7587869.jpg  \n",
            "  inflating: train/ISIC_0767028.jpg  \n",
            "  inflating: __MACOSX/train/._ISIC_0767028.jpg  \n",
            "  inflating: train/ISIC_7096239.jpg  \n",
            "  inflating: __MACOSX/train/._ISIC_7096239.jpg  \n",
            "  inflating: train/ISIC_3457365.jpg  \n",
            "  inflating: __MACOSX/train/._ISIC_3457365.jpg  \n",
            "  inflating: train/ISIC_5613605.jpg  \n",
            "  inflating: __MACOSX/train/._ISIC_5613605.jpg  \n",
            "  inflating: train/ISIC_0319715.jpg  \n",
            "  inflating: __MACOSX/train/._ISIC_0319715.jpg  \n",
            "  inflating: train/ISIC_0639140.jpg  \n",
            "  inflating: __MACOSX/train/._ISIC_0639140.jpg  \n",
            "  inflating: train/ISIC_3392276.jpg  \n",
            "  inflating: __MACOSX/train/._ISIC_3392276.jpg  \n",
            "  inflating: train/ISIC_1450273.jpg  \n",
            "  inflating: __MACOSX/train/._ISIC_1450273.jpg  \n",
            "  inflating: train/ISIC_0543132.jpg  \n",
            "  inflating: __MACOSX/train/._ISIC_0543132.jpg  \n",
            "  inflating: train/ISIC_7806040.jpg  \n",
            "  inflating: __MACOSX/train/._ISIC_7806040.jpg  \n",
            "  inflating: train/ISIC_5530702.jpg  \n",
            "  inflating: __MACOSX/train/._ISIC_5530702.jpg  \n",
            "  inflating: train/ISIC_2428698.jpg  \n",
            "  inflating: __MACOSX/train/._ISIC_2428698.jpg  \n",
            "  inflating: train/ISIC_1157099.jpg  \n",
            "  inflating: __MACOSX/train/._ISIC_1157099.jpg  \n",
            "  inflating: train/ISIC_1590725.jpg  \n",
            "  inflating: __MACOSX/train/._ISIC_1590725.jpg  \n",
            "  inflating: train/ISIC_1166522.jpg  \n",
            "  inflating: __MACOSX/train/._ISIC_1166522.jpg  \n",
            "  inflating: train/ISIC_0075663.jpg  \n",
            "  inflating: __MACOSX/train/._ISIC_0075663.jpg  \n",
            "  inflating: train/ISIC_5238111.jpg  \n",
            "  inflating: __MACOSX/train/._ISIC_5238111.jpg  \n",
            "  inflating: train/ISIC_4324163.jpg  \n",
            "  inflating: __MACOSX/train/._ISIC_4324163.jpg  \n",
            "  inflating: train/ISIC_7508382.jpg  \n",
            "  inflating: __MACOSX/train/._ISIC_7508382.jpg  \n",
            "  inflating: train/ISIC_8270195.jpg  \n",
            "  inflating: __MACOSX/train/._ISIC_8270195.jpg  \n",
            "  inflating: train/ISIC_2863774.jpg  \n",
            "  inflating: __MACOSX/train/._ISIC_2863774.jpg  \n",
            "  inflating: train/ISIC_4275338.jpg  \n",
            "  inflating: __MACOSX/train/._ISIC_4275338.jpg  \n",
            "  inflating: train/ISIC_8824464.jpg  \n",
            "  inflating: __MACOSX/train/._ISIC_8824464.jpg  \n",
            "  inflating: train/ISIC_4366350.jpg  \n",
            "  inflating: __MACOSX/train/._ISIC_4366350.jpg  \n",
            "  inflating: train/ISIC_5897134.jpg  \n",
            "  inflating: __MACOSX/train/._ISIC_5897134.jpg  \n",
            "  inflating: train/ISIC_4234402.jpg  \n",
            "  inflating: __MACOSX/train/._ISIC_4234402.jpg  \n",
            "  inflating: train/ISIC_9184385.jpg  \n",
            "  inflating: __MACOSX/train/._ISIC_9184385.jpg  \n",
            "  inflating: train/ISIC_2293255.jpg  \n",
            "  inflating: __MACOSX/train/._ISIC_2293255.jpg  \n",
            "  inflating: train/ISIC_7468304.jpg  \n",
            "  inflating: __MACOSX/train/._ISIC_7468304.jpg  \n",
            "  inflating: train/ISIC_3397468.jpg  \n",
            "  inflating: __MACOSX/train/._ISIC_3397468.jpg  \n",
            "  inflating: train/ISIC_3964454.jpg  \n",
            "  inflating: __MACOSX/train/._ISIC_3964454.jpg  \n",
            "  inflating: train/ISIC_9456752.jpg  \n",
            "  inflating: __MACOSX/train/._ISIC_9456752.jpg  \n",
            "  inflating: train/ISIC_4994072.jpg  \n",
            "  inflating: __MACOSX/train/._ISIC_4994072.jpg  \n",
            "  inflating: train/ISIC_0507002.jpg  \n",
            "  inflating: __MACOSX/train/._ISIC_0507002.jpg  \n",
            "  inflating: train/ISIC_5204824.jpg  \n",
            "  inflating: __MACOSX/train/._ISIC_5204824.jpg  \n",
            "  inflating: train/ISIC_0776657.jpg  \n",
            "  inflating: __MACOSX/train/._ISIC_0776657.jpg  \n",
            "  inflating: train/ISIC_1313105.jpg  \n",
            "  inflating: __MACOSX/train/._ISIC_1313105.jpg  \n",
            "  inflating: train/ISIC_0163767.jpg  \n",
            "  inflating: __MACOSX/train/._ISIC_0163767.jpg  \n",
            "  inflating: train/ISIC_6781637.jpg  \n",
            "  inflating: __MACOSX/train/._ISIC_6781637.jpg  \n",
            "  inflating: train/ISIC_5335353.jpg  \n",
            "  inflating: __MACOSX/train/._ISIC_5335353.jpg  \n",
            "  inflating: train/ISIC_6816608.jpg  \n",
            "  inflating: __MACOSX/train/._ISIC_6816608.jpg  \n",
            "  inflating: train/ISIC_1637536.jpg  \n",
            "  inflating: __MACOSX/train/._ISIC_1637536.jpg  \n",
            "  inflating: train/ISIC_1469380.jpg  \n",
            "  inflating: __MACOSX/train/._ISIC_1469380.jpg  \n",
            "  inflating: train/ISIC_5696169.jpg  \n",
            "  inflating: __MACOSX/train/._ISIC_5696169.jpg  \n",
            "  inflating: train/ISIC_9869659.jpg  \n",
            "  inflating: __MACOSX/train/._ISIC_9869659.jpg  \n",
            "  inflating: train/ISIC_9876779.jpg  \n",
            "  inflating: __MACOSX/train/._ISIC_9876779.jpg  \n",
            "  inflating: train/ISIC_8739762.jpg  \n",
            "  inflating: __MACOSX/train/._ISIC_8739762.jpg  \n",
            "  inflating: train/ISIC_7527413.jpg  \n",
            "  inflating: __MACOSX/train/._ISIC_7527413.jpg  \n",
            "  inflating: train/ISIC_5821292.jpg  \n",
            "  inflating: __MACOSX/train/._ISIC_5821292.jpg  \n",
            "  inflating: train/ISIC_2395624.jpg  \n",
            "  inflating: __MACOSX/train/._ISIC_2395624.jpg  \n",
            "  inflating: train/ISIC_7737874.jpg  \n",
            "  inflating: __MACOSX/train/._ISIC_7737874.jpg  \n",
            "  inflating: train/ISIC_8794796.jpg  \n",
            "  inflating: __MACOSX/train/._ISIC_8794796.jpg  \n",
            "  inflating: train/ISIC_0659878.jpg  \n",
            "  inflating: __MACOSX/train/._ISIC_0659878.jpg  \n",
            "  inflating: train/ISIC_7933945.jpg  \n",
            "  inflating: __MACOSX/train/._ISIC_7933945.jpg  \n",
            "  inflating: train/ISIC_6706980.jpg  \n",
            "  inflating: __MACOSX/train/._ISIC_6706980.jpg  \n",
            "  inflating: train/ISIC_7066874.jpg  \n",
            "  inflating: __MACOSX/train/._ISIC_7066874.jpg  \n",
            "  inflating: train/ISIC_3427696.jpg  \n",
            "  inflating: __MACOSX/train/._ISIC_3427696.jpg  \n",
            "  inflating: train/ISIC_5163807.jpg  \n",
            "  inflating: __MACOSX/train/._ISIC_5163807.jpg  \n",
            "  inflating: train/ISIC_4973831.jpg  \n",
            "  inflating: __MACOSX/train/._ISIC_4973831.jpg  \n",
            "  inflating: train/ISIC_4244697.jpg  \n",
            "  inflating: __MACOSX/train/._ISIC_4244697.jpg  \n",
            "  inflating: train/ISIC_5159557.jpg  \n",
            "  inflating: __MACOSX/train/._ISIC_5159557.jpg  \n",
            "  inflating: train/ISIC_4379502.jpg  \n",
            "  inflating: __MACOSX/train/._ISIC_4379502.jpg  \n",
            "  inflating: train/ISIC_8347739.jpg  \n",
            "  inflating: __MACOSX/train/._ISIC_8347739.jpg  \n",
            "  inflating: train/ISIC_2402717.jpg  \n",
            "  inflating: __MACOSX/train/._ISIC_2402717.jpg  \n",
            "  inflating: train/ISIC_7055266.jpg  \n",
            "  inflating: __MACOSX/train/._ISIC_7055266.jpg  \n",
            "  inflating: train/ISIC_5184722.jpg  \n",
            "  inflating: __MACOSX/train/._ISIC_5184722.jpg  \n",
            "  inflating: train/ISIC_6616239.jpg  \n",
            "  inflating: __MACOSX/train/._ISIC_6616239.jpg  \n",
            "  inflating: train/ISIC_4101415.jpg  \n",
            "  inflating: __MACOSX/train/._ISIC_4101415.jpg  \n",
            "  inflating: train/ISIC_6246809.jpg  \n",
            "  inflating: __MACOSX/train/._ISIC_6246809.jpg  \n",
            "  inflating: train/ISIC_3073018.jpg  \n",
            "  inflating: __MACOSX/train/._ISIC_3073018.jpg  \n",
            "  inflating: train/ISIC_3274903.jpg  \n",
            "  inflating: __MACOSX/train/._ISIC_3274903.jpg  \n",
            "  inflating: train/ISIC_7783447.jpg  \n",
            "  inflating: __MACOSX/train/._ISIC_7783447.jpg  \n",
            "  inflating: train/ISIC_2832507.jpg  \n",
            "  inflating: __MACOSX/train/._ISIC_2832507.jpg  \n",
            "  inflating: train/ISIC_8827637.jpg  \n",
            "  inflating: __MACOSX/train/._ISIC_8827637.jpg  \n",
            "  inflating: train/ISIC_1171704.jpg  \n",
            "  inflating: __MACOSX/train/._ISIC_1171704.jpg  \n",
            "  inflating: train/ISIC_1843876.jpg  \n",
            "  inflating: __MACOSX/train/._ISIC_1843876.jpg  \n",
            "  inflating: train/ISIC_3504715.jpg  \n",
            "  inflating: __MACOSX/train/._ISIC_3504715.jpg  \n",
            "  inflating: train/ISIC_4991644.jpg  \n",
            "  inflating: __MACOSX/train/._ISIC_4991644.jpg  \n",
            "  inflating: train/ISIC_5165286.jpg  \n",
            "  inflating: __MACOSX/train/._ISIC_5165286.jpg  \n",
            "  inflating: train/ISIC_7102464.jpg  \n",
            "  inflating: __MACOSX/train/._ISIC_7102464.jpg  \n",
            "  inflating: train/ISIC_0322967.jpg  \n",
            "  inflating: __MACOSX/train/._ISIC_0322967.jpg  \n",
            "  inflating: train/ISIC_0738510.jpg  \n",
            "  inflating: __MACOSX/train/._ISIC_0738510.jpg  \n",
            "  inflating: train/ISIC_3577923.jpg  \n",
            "  inflating: __MACOSX/train/._ISIC_3577923.jpg  \n",
            "  inflating: train/ISIC_8978441.jpg  \n",
            "  inflating: __MACOSX/train/._ISIC_8978441.jpg  \n",
            "  inflating: train/ISIC_5641619.jpg  \n",
            "  inflating: __MACOSX/train/._ISIC_5641619.jpg  \n",
            "  inflating: train/ISIC_6337982.jpg  \n",
            "  inflating: __MACOSX/train/._ISIC_6337982.jpg  \n",
            "  inflating: train/ISIC_8573837.jpg  \n",
            "  inflating: __MACOSX/train/._ISIC_8573837.jpg  \n",
            "  inflating: train/ISIC_3381550.jpg  \n",
            "  inflating: __MACOSX/train/._ISIC_3381550.jpg  \n",
            "  inflating: train/ISIC_5253954.jpg  \n",
            "  inflating: __MACOSX/train/._ISIC_5253954.jpg  \n",
            "  inflating: train/ISIC_5617339.jpg  \n",
            "  inflating: __MACOSX/train/._ISIC_5617339.jpg  \n",
            "  inflating: train/ISIC_5193510.jpg  \n",
            "  inflating: __MACOSX/train/._ISIC_5193510.jpg  \n",
            "  inflating: train/ISIC_9437390.jpg  \n",
            "  inflating: __MACOSX/train/._ISIC_9437390.jpg  \n",
            "  inflating: train/ISIC_7053159.jpg  \n",
            "  inflating: __MACOSX/train/._ISIC_7053159.jpg  \n",
            "  inflating: train/ISIC_3211631.jpg  \n",
            "  inflating: __MACOSX/train/._ISIC_3211631.jpg  \n",
            "  inflating: train/ISIC_1566931.jpg  \n",
            "  inflating: __MACOSX/train/._ISIC_1566931.jpg  \n",
            "  inflating: train/ISIC_7948461.jpg  \n",
            "  inflating: __MACOSX/train/._ISIC_7948461.jpg  \n",
            "  inflating: train/ISIC_3604975.jpg  \n",
            "  inflating: __MACOSX/train/._ISIC_3604975.jpg  \n",
            "  inflating: train/ISIC_2690597.jpg  \n",
            "  inflating: __MACOSX/train/._ISIC_2690597.jpg  \n",
            "  inflating: train/ISIC_0623642.jpg  \n",
            "  inflating: __MACOSX/train/._ISIC_0623642.jpg  \n",
            "  inflating: train/ISIC_5377148.jpg  \n",
            "  inflating: __MACOSX/train/._ISIC_5377148.jpg  \n",
            "  inflating: train/ISIC_0867357.jpg  \n",
            "  inflating: __MACOSX/train/._ISIC_0867357.jpg  \n",
            "  inflating: train/ISIC_7585924.jpg  \n",
            "  inflating: __MACOSX/train/._ISIC_7585924.jpg  \n",
            "  inflating: train/ISIC_2407121.jpg  \n",
            "  inflating: __MACOSX/train/._ISIC_2407121.jpg  \n",
            "  inflating: train/ISIC_9174738.jpg  \n",
            "  inflating: __MACOSX/train/._ISIC_9174738.jpg  \n",
            "  inflating: train/ISIC_3917492.jpg  \n",
            "  inflating: __MACOSX/train/._ISIC_3917492.jpg  \n",
            "  inflating: train/ISIC_5536429.jpg  \n",
            "  inflating: __MACOSX/train/._ISIC_5536429.jpg  \n",
            "  inflating: train/ISIC_6882733.jpg  \n",
            "  inflating: __MACOSX/train/._ISIC_6882733.jpg  \n",
            "  inflating: train/ISIC_1429954.jpg  \n",
            "  inflating: __MACOSX/train/._ISIC_1429954.jpg  \n",
            "  inflating: train/ISIC_4708642.jpg  \n",
            "  inflating: __MACOSX/train/._ISIC_4708642.jpg  \n",
            "  inflating: train/ISIC_1985789.jpg  \n",
            "  inflating: __MACOSX/train/._ISIC_1985789.jpg  \n",
            "  inflating: train/ISIC_0694188.jpg  \n",
            "  inflating: __MACOSX/train/._ISIC_0694188.jpg  \n",
            "  inflating: train/ISIC_2889385.jpg  \n",
            "  inflating: __MACOSX/train/._ISIC_2889385.jpg  \n",
            "  inflating: train/ISIC_7333167.jpg  \n",
            "  inflating: __MACOSX/train/._ISIC_7333167.jpg  \n",
            "  inflating: train/ISIC_1212555.jpg  \n",
            "  inflating: __MACOSX/train/._ISIC_1212555.jpg  \n",
            "  inflating: train/ISIC_0984972.jpg  \n",
            "  inflating: __MACOSX/train/._ISIC_0984972.jpg  \n",
            "  inflating: train/ISIC_1194944.jpg  \n",
            "  inflating: __MACOSX/train/._ISIC_1194944.jpg  \n",
            "  inflating: train/ISIC_6602516.jpg  \n",
            "  inflating: __MACOSX/train/._ISIC_6602516.jpg  \n",
            "  inflating: train/ISIC_6576549.jpg  \n",
            "  inflating: __MACOSX/train/._ISIC_6576549.jpg  \n",
            "  inflating: train/ISIC_6222431.jpg  \n",
            "  inflating: __MACOSX/train/._ISIC_6222431.jpg  \n",
            "  inflating: train/ISIC_8140978.jpg  \n",
            "  inflating: __MACOSX/train/._ISIC_8140978.jpg  \n",
            "  inflating: train/ISIC_9485536.jpg  \n",
            "  inflating: __MACOSX/train/._ISIC_9485536.jpg  \n",
            "  inflating: train/ISIC_4787403.jpg  \n",
            "  inflating: __MACOSX/train/._ISIC_4787403.jpg  \n",
            "  inflating: train/ISIC_1077375.jpg  \n",
            "  inflating: __MACOSX/train/._ISIC_1077375.jpg  \n",
            "  inflating: train/ISIC_0229832.jpg  \n",
            "  inflating: __MACOSX/train/._ISIC_0229832.jpg  \n",
            "  inflating: train/ISIC_8289518.jpg  \n",
            "  inflating: __MACOSX/train/._ISIC_8289518.jpg  \n",
            "  inflating: train/ISIC_1399572.jpg  \n",
            "  inflating: __MACOSX/train/._ISIC_1399572.jpg  \n",
            "  inflating: train/ISIC_5754214.jpg  \n",
            "  inflating: __MACOSX/train/._ISIC_5754214.jpg  \n",
            "  inflating: train/ISIC_8630008.jpg  \n",
            "  inflating: __MACOSX/train/._ISIC_8630008.jpg  \n",
            "  inflating: train/ISIC_3069054.jpg  \n",
            "  inflating: __MACOSX/train/._ISIC_3069054.jpg  \n",
            "  inflating: train/ISIC_5842053.jpg  \n",
            "  inflating: __MACOSX/train/._ISIC_5842053.jpg  \n",
            "  inflating: train/ISIC_6131393.jpg  \n",
            "  inflating: __MACOSX/train/._ISIC_6131393.jpg  \n",
            "  inflating: train/ISIC_8803795.jpg  \n",
            "  inflating: __MACOSX/train/._ISIC_8803795.jpg  \n",
            "  inflating: train/ISIC_8120732.jpg  \n",
            "  inflating: __MACOSX/train/._ISIC_8120732.jpg  \n",
            "  inflating: train/ISIC_7601450.jpg  \n",
            "  inflating: __MACOSX/train/._ISIC_7601450.jpg  \n",
            "  inflating: train/ISIC_3771332.jpg  \n",
            "  inflating: __MACOSX/train/._ISIC_3771332.jpg  \n",
            "  inflating: train/ISIC_5850457.jpg  \n",
            "  inflating: __MACOSX/train/._ISIC_5850457.jpg  \n",
            "  inflating: train/ISIC_5342681.jpg  \n",
            "  inflating: __MACOSX/train/._ISIC_5342681.jpg  \n",
            "  inflating: train/ISIC_2607827.jpg  \n",
            "  inflating: __MACOSX/train/._ISIC_2607827.jpg  \n",
            "  inflating: train/ISIC_3966519.jpg  \n",
            "  inflating: __MACOSX/train/._ISIC_3966519.jpg  \n",
            "  inflating: train/ISIC_2407914.jpg  \n",
            "  inflating: __MACOSX/train/._ISIC_2407914.jpg  \n",
            "  inflating: train/ISIC_0754555.jpg  \n",
            "  inflating: __MACOSX/train/._ISIC_0754555.jpg  \n",
            "  inflating: train/ISIC_7644093.jpg  \n",
            "  inflating: __MACOSX/train/._ISIC_7644093.jpg  \n",
            "  inflating: train/ISIC_0523771.jpg  \n",
            "  inflating: __MACOSX/train/._ISIC_0523771.jpg  \n",
            "  inflating: train/ISIC_2916248.jpg  \n",
            "  inflating: __MACOSX/train/._ISIC_2916248.jpg  \n",
            "  inflating: train/ISIC_2452083.jpg  \n",
            "  inflating: __MACOSX/train/._ISIC_2452083.jpg  \n",
            "  inflating: train/ISIC_5678113.jpg  \n",
            "  inflating: __MACOSX/train/._ISIC_5678113.jpg  \n",
            "  inflating: train/ISIC_5725572.jpg  \n",
            "  inflating: __MACOSX/train/._ISIC_5725572.jpg  \n",
            "  inflating: train/ISIC_8580834.jpg  \n",
            "  inflating: __MACOSX/train/._ISIC_8580834.jpg  \n",
            "  inflating: train/ISIC_1602348.jpg  \n",
            "  inflating: __MACOSX/train/._ISIC_1602348.jpg  \n",
            "  inflating: train/ISIC_6400232.jpg  \n",
            "  inflating: __MACOSX/train/._ISIC_6400232.jpg  \n",
            "  inflating: train/ISIC_2424673.jpg  \n",
            "  inflating: __MACOSX/train/._ISIC_2424673.jpg  \n",
            "  inflating: train/ISIC_3706743.jpg  \n",
            "  inflating: __MACOSX/train/._ISIC_3706743.jpg  \n",
            "  inflating: train/ISIC_3466769.jpg  \n",
            "  inflating: __MACOSX/train/._ISIC_3466769.jpg  \n",
            "  inflating: train/ISIC_9227253.jpg  \n",
            "  inflating: __MACOSX/train/._ISIC_9227253.jpg  \n",
            "  inflating: train/ISIC_5559165.jpg  \n",
            "  inflating: __MACOSX/train/._ISIC_5559165.jpg  \n",
            "  inflating: train/ISIC_2993530.jpg  \n",
            "  inflating: __MACOSX/train/._ISIC_2993530.jpg  \n",
            "  inflating: train/ISIC_5381033.jpg  \n",
            "  inflating: __MACOSX/train/._ISIC_5381033.jpg  \n",
            "  inflating: train/ISIC_0754233.jpg  \n",
            "  inflating: __MACOSX/train/._ISIC_0754233.jpg  \n",
            "  inflating: train/ISIC_8945887.jpg  \n",
            "  inflating: __MACOSX/train/._ISIC_8945887.jpg  \n",
            "  inflating: train/ISIC_8990076.jpg  \n",
            "  inflating: __MACOSX/train/._ISIC_8990076.jpg  \n",
            "  inflating: train/ISIC_7334783.jpg  \n",
            "  inflating: __MACOSX/train/._ISIC_7334783.jpg  \n",
            "  inflating: train/ISIC_0379624.jpg  \n",
            "  inflating: __MACOSX/train/._ISIC_0379624.jpg  \n",
            "  inflating: train/ISIC_9800980.jpg  \n",
            "  inflating: __MACOSX/train/._ISIC_9800980.jpg  \n",
            "  inflating: train/ISIC_0438437.jpg  \n",
            "  inflating: __MACOSX/train/._ISIC_0438437.jpg  \n",
            "  inflating: train/ISIC_6023608.jpg  \n",
            "  inflating: __MACOSX/train/._ISIC_6023608.jpg  \n",
            "  inflating: train/ISIC_1826803.jpg  \n",
            "  inflating: __MACOSX/train/._ISIC_1826803.jpg  \n",
            "  inflating: train/ISIC_9252800.jpg  \n",
            "  inflating: __MACOSX/train/._ISIC_9252800.jpg  \n",
            "  inflating: train/ISIC_7110699.jpg  \n",
            "  inflating: __MACOSX/train/._ISIC_7110699.jpg  \n",
            "  inflating: train/ISIC_3190208.jpg  \n",
            "  inflating: __MACOSX/train/._ISIC_3190208.jpg  \n",
            "  inflating: train/ISIC_3707449.jpg  \n",
            "  inflating: __MACOSX/train/._ISIC_3707449.jpg  \n",
            "  inflating: train/ISIC_7382357.jpg  \n",
            "  inflating: __MACOSX/train/._ISIC_7382357.jpg  \n",
            "  inflating: train/ISIC_8844233.jpg  \n",
            "  inflating: __MACOSX/train/._ISIC_8844233.jpg  \n",
            "  inflating: train/ISIC_4161256.jpg  \n",
            "  inflating: __MACOSX/train/._ISIC_4161256.jpg  \n",
            "  inflating: train/ISIC_9012536.jpg  \n",
            "  inflating: __MACOSX/train/._ISIC_9012536.jpg  \n",
            "  inflating: train/ISIC_1531048.jpg  \n",
            "  inflating: __MACOSX/train/._ISIC_1531048.jpg  \n",
            "  inflating: train/ISIC_2000240.jpg  \n",
            "  inflating: __MACOSX/train/._ISIC_2000240.jpg  \n",
            "  inflating: train/ISIC_7140910.jpg  \n",
            "  inflating: __MACOSX/train/._ISIC_7140910.jpg  \n",
            "  inflating: train/ISIC_4448341.jpg  \n",
            "  inflating: __MACOSX/train/._ISIC_4448341.jpg  \n",
            "  inflating: train/ISIC_3768930.jpg  \n",
            "  inflating: __MACOSX/train/._ISIC_3768930.jpg  \n",
            "  inflating: train/ISIC_0082348.jpg  \n",
            "  inflating: __MACOSX/train/._ISIC_0082348.jpg  \n",
            "  inflating: train/ISIC_5616806.jpg  \n",
            "  inflating: __MACOSX/train/._ISIC_5616806.jpg  \n",
            "  inflating: train/ISIC_1252944.jpg  \n",
            "  inflating: __MACOSX/train/._ISIC_1252944.jpg  \n",
            "  inflating: train/ISIC_1891677.jpg  \n",
            "  inflating: __MACOSX/train/._ISIC_1891677.jpg  \n",
            "  inflating: train/ISIC_2949980.jpg  \n",
            "  inflating: __MACOSX/train/._ISIC_2949980.jpg  \n",
            "  inflating: train/ISIC_8856151.jpg  \n",
            "  inflating: __MACOSX/train/._ISIC_8856151.jpg  \n",
            "  inflating: train/ISIC_9839867.jpg  \n",
            "  inflating: __MACOSX/train/._ISIC_9839867.jpg  \n",
            "  inflating: train/ISIC_1002107.jpg  \n",
            "  inflating: __MACOSX/train/._ISIC_1002107.jpg  \n",
            "  inflating: train/ISIC_4364382.jpg  \n",
            "  inflating: __MACOSX/train/._ISIC_4364382.jpg  \n",
            "  inflating: train/ISIC_5082596.jpg  \n",
            "  inflating: __MACOSX/train/._ISIC_5082596.jpg  \n",
            "  inflating: train/ISIC_4749959.jpg  \n",
            "  inflating: __MACOSX/train/._ISIC_4749959.jpg  \n",
            "  inflating: train/ISIC_5521974.jpg  \n",
            "  inflating: __MACOSX/train/._ISIC_5521974.jpg  \n",
            "  inflating: train/ISIC_2545299.jpg  \n",
            "  inflating: __MACOSX/train/._ISIC_2545299.jpg  \n",
            "  inflating: train/ISIC_6498269.jpg  \n",
            "  inflating: __MACOSX/train/._ISIC_6498269.jpg  \n",
            "  inflating: train/ISIC_8276321.jpg  \n",
            "  inflating: __MACOSX/train/._ISIC_8276321.jpg  \n",
            "  inflating: train/ISIC_2757619.jpg  \n",
            "  inflating: __MACOSX/train/._ISIC_2757619.jpg  \n",
            "  inflating: train/ISIC_8651541.jpg  \n",
            "  inflating: __MACOSX/train/._ISIC_8651541.jpg  \n",
            "  inflating: train/ISIC_0266738.jpg  \n",
            "  inflating: __MACOSX/train/._ISIC_0266738.jpg  \n",
            "  inflating: train/ISIC_1699154.jpg  \n",
            "  inflating: __MACOSX/train/._ISIC_1699154.jpg  \n",
            "  inflating: train/ISIC_4016784.jpg  \n",
            "  inflating: __MACOSX/train/._ISIC_4016784.jpg  \n",
            "  inflating: train/ISIC_2532039.jpg  \n",
            "  inflating: __MACOSX/train/._ISIC_2532039.jpg  \n",
            "  inflating: train/ISIC_3901421.jpg  \n",
            "  inflating: __MACOSX/train/._ISIC_3901421.jpg  \n",
            "  inflating: train/ISIC_2234161.jpg  \n",
            "  inflating: __MACOSX/train/._ISIC_2234161.jpg  \n",
            "  inflating: train/ISIC_0483289.jpg  \n",
            "  inflating: __MACOSX/train/._ISIC_0483289.jpg  \n",
            "  inflating: train/ISIC_8934930.jpg  \n",
            "  inflating: __MACOSX/train/._ISIC_8934930.jpg  \n",
            "  inflating: train/ISIC_2437633.jpg  \n",
            "  inflating: __MACOSX/train/._ISIC_2437633.jpg  \n",
            "  inflating: train/ISIC_1467232.jpg  \n",
            "  inflating: __MACOSX/train/._ISIC_1467232.jpg  \n",
            "  inflating: train/ISIC_0979974.jpg  \n",
            "  inflating: __MACOSX/train/._ISIC_0979974.jpg  \n",
            "  inflating: train/ISIC_5924261.jpg  \n",
            "  inflating: __MACOSX/train/._ISIC_5924261.jpg  \n",
            "  inflating: train/ISIC_4644299.jpg  \n",
            "  inflating: __MACOSX/train/._ISIC_4644299.jpg  \n",
            "  inflating: train/ISIC_7769897.jpg  \n",
            "  inflating: __MACOSX/train/._ISIC_7769897.jpg  \n",
            "  inflating: train/ISIC_1661837.jpg  \n",
            "  inflating: __MACOSX/train/._ISIC_1661837.jpg  \n",
            "  inflating: train/ISIC_4738636.jpg  \n",
            "  inflating: __MACOSX/train/._ISIC_4738636.jpg  \n",
            "  inflating: train/ISIC_6736062.jpg  \n",
            "  inflating: __MACOSX/train/._ISIC_6736062.jpg  \n",
            "  inflating: train/ISIC_6640686.jpg  \n",
            "  inflating: __MACOSX/train/._ISIC_6640686.jpg  \n",
            "  inflating: train/ISIC_2541969.jpg  \n",
            "  inflating: __MACOSX/train/._ISIC_2541969.jpg  \n",
            "  inflating: train/ISIC_5074228.jpg  \n",
            "  inflating: __MACOSX/train/._ISIC_5074228.jpg  \n",
            "  inflating: train/ISIC_2987579.jpg  \n",
            "  inflating: __MACOSX/train/._ISIC_2987579.jpg  \n",
            "  inflating: train/ISIC_2344492.jpg  \n",
            "  inflating: __MACOSX/train/._ISIC_2344492.jpg  \n",
            "  inflating: train/ISIC_5713942.jpg  \n",
            "  inflating: __MACOSX/train/._ISIC_5713942.jpg  \n",
            "  inflating: train/ISIC_4896088.jpg  \n",
            "  inflating: __MACOSX/train/._ISIC_4896088.jpg  \n",
            "  inflating: train/ISIC_8978290.jpg  \n",
            "  inflating: __MACOSX/train/._ISIC_8978290.jpg  \n",
            "  inflating: train/ISIC_0507189.jpg  \n",
            "  inflating: __MACOSX/train/._ISIC_0507189.jpg  \n",
            "  inflating: train/ISIC_9619162.jpg  \n",
            "  inflating: __MACOSX/train/._ISIC_9619162.jpg  \n",
            "  inflating: train/ISIC_3655327.jpg  \n",
            "  inflating: __MACOSX/train/._ISIC_3655327.jpg  \n",
            "  inflating: train/ISIC_3237033.jpg  \n",
            "  inflating: __MACOSX/train/._ISIC_3237033.jpg  \n",
            "  inflating: train/ISIC_4120236.jpg  \n",
            "  inflating: __MACOSX/train/._ISIC_4120236.jpg  \n",
            "  inflating: train/ISIC_1207789.jpg  \n",
            "  inflating: __MACOSX/train/._ISIC_1207789.jpg  \n",
            "  inflating: train/ISIC_5997901.jpg  \n",
            "  inflating: __MACOSX/train/._ISIC_5997901.jpg  \n",
            "  inflating: train/ISIC_9750576.jpg  \n",
            "  inflating: __MACOSX/train/._ISIC_9750576.jpg  \n",
            "  inflating: train/ISIC_4332846.jpg  \n",
            "  inflating: __MACOSX/train/._ISIC_4332846.jpg  \n",
            "  inflating: train/ISIC_7343537.jpg  \n",
            "  inflating: __MACOSX/train/._ISIC_7343537.jpg  \n",
            "  inflating: train/ISIC_5313579.jpg  \n",
            "  inflating: __MACOSX/train/._ISIC_5313579.jpg  \n",
            "  inflating: train/ISIC_0685898.jpg  \n",
            "  inflating: __MACOSX/train/._ISIC_0685898.jpg  \n",
            "  inflating: train/ISIC_0872821.jpg  \n",
            "  inflating: __MACOSX/train/._ISIC_0872821.jpg  \n",
            "  inflating: train/ISIC_5253149.jpg  \n",
            "  inflating: __MACOSX/train/._ISIC_5253149.jpg  \n",
            "  inflating: train/ISIC_2507096.jpg  \n",
            "  inflating: __MACOSX/train/._ISIC_2507096.jpg  \n",
            "  inflating: train/ISIC_7628175.jpg  \n",
            "  inflating: __MACOSX/train/._ISIC_7628175.jpg  \n",
            "  inflating: train/ISIC_8109217.jpg  \n",
            "  inflating: __MACOSX/train/._ISIC_8109217.jpg  \n",
            "  inflating: train/ISIC_4668001.jpg  \n",
            "  inflating: __MACOSX/train/._ISIC_4668001.jpg  \n",
            "  inflating: train/ISIC_7484555.jpg  \n",
            "  inflating: __MACOSX/train/._ISIC_7484555.jpg  \n",
            "  inflating: train/ISIC_3104441.jpg  \n",
            "  inflating: __MACOSX/train/._ISIC_3104441.jpg  \n",
            "  inflating: train/ISIC_6873669.jpg  \n",
            "  inflating: __MACOSX/train/._ISIC_6873669.jpg  \n",
            "  inflating: train/ISIC_0268701.jpg  \n",
            "  inflating: __MACOSX/train/._ISIC_0268701.jpg  \n",
            "  inflating: train/ISIC_3997331.jpg  \n",
            "  inflating: __MACOSX/train/._ISIC_3997331.jpg  \n",
            "  inflating: train/ISIC_9627932.jpg  \n",
            "  inflating: __MACOSX/train/._ISIC_9627932.jpg  \n",
            "  inflating: train/ISIC_2465834.jpg  \n",
            "  inflating: __MACOSX/train/._ISIC_2465834.jpg  \n",
            "  inflating: train/ISIC_1162156.jpg  \n",
            "  inflating: __MACOSX/train/._ISIC_1162156.jpg  \n",
            "  inflating: train/ISIC_4744272.jpg  \n",
            "  inflating: __MACOSX/train/._ISIC_4744272.jpg  \n",
            "  inflating: train/ISIC_7961805.jpg  \n",
            "  inflating: __MACOSX/train/._ISIC_7961805.jpg  \n",
            "  inflating: train/ISIC_2027628.jpg  \n",
            "  inflating: __MACOSX/train/._ISIC_2027628.jpg  \n",
            "  inflating: train/ISIC_0689091.jpg  \n",
            "  inflating: __MACOSX/train/._ISIC_0689091.jpg  \n",
            "  inflating: train/ISIC_8705845.jpg  \n",
            "  inflating: __MACOSX/train/._ISIC_8705845.jpg  \n",
            "  inflating: train/ISIC_7890630.jpg  \n",
            "  inflating: __MACOSX/train/._ISIC_7890630.jpg  \n",
            "  inflating: train/ISIC_9760338.jpg  \n",
            "  inflating: __MACOSX/train/._ISIC_9760338.jpg  \n",
            "  inflating: train/ISIC_3588101.jpg  \n",
            "  inflating: __MACOSX/train/._ISIC_3588101.jpg  \n",
            "  inflating: train/ISIC_7302580.jpg  \n",
            "  inflating: __MACOSX/train/._ISIC_7302580.jpg  \n",
            "  inflating: train/ISIC_9895582.jpg  \n",
            "  inflating: __MACOSX/train/._ISIC_9895582.jpg  \n",
            "  inflating: train/ISIC_7829869.jpg  \n",
            "  inflating: __MACOSX/train/._ISIC_7829869.jpg  \n",
            "  inflating: train/ISIC_5717503.jpg  \n",
            "  inflating: __MACOSX/train/._ISIC_5717503.jpg  \n",
            "  inflating: train/ISIC_9402263.jpg  \n",
            "  inflating: __MACOSX/train/._ISIC_9402263.jpg  \n",
            "  inflating: train/ISIC_0656395.jpg  \n",
            "  inflating: __MACOSX/train/._ISIC_0656395.jpg  \n",
            "  inflating: train/ISIC_5981150.jpg  \n",
            "  inflating: __MACOSX/train/._ISIC_5981150.jpg  \n",
            "  inflating: train/ISIC_7325881.jpg  \n",
            "  inflating: __MACOSX/train/._ISIC_7325881.jpg  \n",
            "  inflating: train/ISIC_3962145.jpg  \n",
            "  inflating: __MACOSX/train/._ISIC_3962145.jpg  \n",
            "  inflating: train/ISIC_4045323.jpg  \n",
            "  inflating: __MACOSX/train/._ISIC_4045323.jpg  \n",
            "  inflating: train/ISIC_3389722.jpg  \n",
            "  inflating: __MACOSX/train/._ISIC_3389722.jpg  \n",
            "  inflating: train/ISIC_2509736.jpg  \n",
            "  inflating: __MACOSX/train/._ISIC_2509736.jpg  \n",
            "  inflating: train/ISIC_2963172.jpg  \n",
            "  inflating: __MACOSX/train/._ISIC_2963172.jpg  \n",
            "  inflating: train/ISIC_8732757.jpg  \n",
            "  inflating: __MACOSX/train/._ISIC_8732757.jpg  \n",
            "  inflating: train/ISIC_8316416.jpg  \n",
            "  inflating: __MACOSX/train/._ISIC_8316416.jpg  \n",
            "  inflating: train/ISIC_2036043.jpg  \n",
            "  inflating: __MACOSX/train/._ISIC_2036043.jpg  \n",
            "  inflating: train/ISIC_4906470.jpg  \n",
            "  inflating: __MACOSX/train/._ISIC_4906470.jpg  \n",
            "  inflating: train/ISIC_1766619.jpg  \n",
            "  inflating: __MACOSX/train/._ISIC_1766619.jpg  \n",
            "  inflating: train/ISIC_5151719.jpg  \n",
            "  inflating: __MACOSX/train/._ISIC_5151719.jpg  \n",
            "  inflating: train/ISIC_3240244.jpg  \n",
            "  inflating: __MACOSX/train/._ISIC_3240244.jpg  \n",
            "  inflating: train/ISIC_7111544.jpg  \n",
            "  inflating: __MACOSX/train/._ISIC_7111544.jpg  \n",
            "  inflating: train/ISIC_1497880.jpg  \n",
            "  inflating: __MACOSX/train/._ISIC_1497880.jpg  \n",
            "  inflating: train/ISIC_4789566.jpg  \n",
            "  inflating: __MACOSX/train/._ISIC_4789566.jpg  \n",
            "  inflating: train/ISIC_2868741.jpg  \n",
            "  inflating: __MACOSX/train/._ISIC_2868741.jpg  \n",
            "  inflating: train/ISIC_3067657.jpg  \n",
            "  inflating: __MACOSX/train/._ISIC_3067657.jpg  \n",
            "  inflating: train/ISIC_9072567.jpg  \n",
            "  inflating: __MACOSX/train/._ISIC_9072567.jpg  \n",
            "  inflating: train/ISIC_9923630.jpg  \n",
            "  inflating: __MACOSX/train/._ISIC_9923630.jpg  \n",
            "  inflating: train/ISIC_4672918.jpg  \n",
            "  inflating: __MACOSX/train/._ISIC_4672918.jpg  \n",
            "  inflating: train/ISIC_8516659.jpg  \n",
            "  inflating: __MACOSX/train/._ISIC_8516659.jpg  \n",
            "  inflating: train/ISIC_7997639.jpg  \n",
            "  inflating: __MACOSX/train/._ISIC_7997639.jpg  \n",
            "  inflating: train/ISIC_3360180.jpg  \n",
            "  inflating: __MACOSX/train/._ISIC_3360180.jpg  \n",
            "  inflating: train/ISIC_5069292.jpg  \n",
            "  inflating: __MACOSX/train/._ISIC_5069292.jpg  \n",
            "  inflating: train/ISIC_9475941.jpg  \n",
            "  inflating: __MACOSX/train/._ISIC_9475941.jpg  \n",
            "  inflating: train/ISIC_2714907.jpg  \n",
            "  inflating: __MACOSX/train/._ISIC_2714907.jpg  \n",
            "  inflating: train/ISIC_2599331.jpg  \n",
            "  inflating: __MACOSX/train/._ISIC_2599331.jpg  \n",
            "  inflating: train/ISIC_7236143.jpg  \n",
            "  inflating: __MACOSX/train/._ISIC_7236143.jpg  \n",
            "  inflating: train/ISIC_1823006.jpg  \n",
            "  inflating: __MACOSX/train/._ISIC_1823006.jpg  \n",
            "  inflating: train/ISIC_5122091.jpg  \n",
            "  inflating: __MACOSX/train/._ISIC_5122091.jpg  \n",
            "  inflating: train/ISIC_2863172.jpg  \n",
            "  inflating: __MACOSX/train/._ISIC_2863172.jpg  \n",
            "  inflating: train/ISIC_5038963.jpg  \n",
            "  inflating: __MACOSX/train/._ISIC_5038963.jpg  \n",
            "  inflating: train/ISIC_1046786.jpg  \n",
            "  inflating: __MACOSX/train/._ISIC_1046786.jpg  \n",
            "  inflating: train/ISIC_8545201.jpg  \n",
            "  inflating: __MACOSX/train/._ISIC_8545201.jpg  \n",
            "  inflating: train/ISIC_6985114.jpg  \n",
            "  inflating: __MACOSX/train/._ISIC_6985114.jpg  \n",
            "  inflating: train/ISIC_4360127.jpg  \n",
            "  inflating: __MACOSX/train/._ISIC_4360127.jpg  \n",
            "  inflating: train/ISIC_5589185.jpg  \n",
            "  inflating: __MACOSX/train/._ISIC_5589185.jpg  \n",
            "  inflating: train/ISIC_7916441.jpg  \n",
            "  inflating: __MACOSX/train/._ISIC_7916441.jpg  \n",
            "  inflating: train/ISIC_1613292.jpg  \n",
            "  inflating: __MACOSX/train/._ISIC_1613292.jpg  \n",
            "  inflating: train/ISIC_1953293.jpg  \n",
            "  inflating: __MACOSX/train/._ISIC_1953293.jpg  \n",
            "  inflating: train/ISIC_4151356.jpg  \n",
            "  inflating: __MACOSX/train/._ISIC_4151356.jpg  \n",
            "  inflating: train/ISIC_5348582.jpg  \n",
            "  inflating: __MACOSX/train/._ISIC_5348582.jpg  \n",
            "  inflating: train/ISIC_7312977.jpg  \n",
            "  inflating: __MACOSX/train/._ISIC_7312977.jpg  \n",
            "  inflating: train/ISIC_1005683.jpg  \n",
            "  inflating: __MACOSX/train/._ISIC_1005683.jpg  \n",
            "  inflating: train/ISIC_2379908.jpg  \n",
            "  inflating: __MACOSX/train/._ISIC_2379908.jpg  \n",
            "  inflating: train/ISIC_4698457.jpg  \n",
            "  inflating: __MACOSX/train/._ISIC_4698457.jpg  \n",
            "  inflating: train/ISIC_4237725.jpg  \n",
            "  inflating: __MACOSX/train/._ISIC_4237725.jpg  \n",
            "  inflating: train/ISIC_9664610.jpg  \n",
            "  inflating: __MACOSX/train/._ISIC_9664610.jpg  \n",
            "  inflating: train/ISIC_6913638.jpg  \n",
            "  inflating: __MACOSX/train/._ISIC_6913638.jpg  \n",
            "  inflating: train/ISIC_0377184.jpg  \n",
            "  inflating: __MACOSX/train/._ISIC_0377184.jpg  \n",
            "  inflating: train/ISIC_5799312.jpg  \n",
            "  inflating: __MACOSX/train/._ISIC_5799312.jpg  \n",
            "  inflating: train/ISIC_7581388.jpg  \n",
            "  inflating: __MACOSX/train/._ISIC_7581388.jpg  \n",
            "  inflating: train/ISIC_9127214.jpg  \n",
            "  inflating: __MACOSX/train/._ISIC_9127214.jpg  \n",
            "  inflating: train/ISIC_5366657.jpg  \n",
            "  inflating: __MACOSX/train/._ISIC_5366657.jpg  \n",
            "  inflating: train/ISIC_7936961.jpg  \n",
            "  inflating: __MACOSX/train/._ISIC_7936961.jpg  \n",
            "  inflating: train/ISIC_3475932.jpg  \n",
            "  inflating: __MACOSX/train/._ISIC_3475932.jpg  \n",
            "  inflating: train/ISIC_2092911.jpg  \n",
            "  inflating: __MACOSX/train/._ISIC_2092911.jpg  \n",
            "  inflating: train/ISIC_5458290.jpg  \n",
            "  inflating: __MACOSX/train/._ISIC_5458290.jpg  \n",
            "  inflating: train/ISIC_7338634.jpg  \n",
            "  inflating: __MACOSX/train/._ISIC_7338634.jpg  \n",
            "  inflating: train/ISIC_8203033.jpg  \n",
            "  inflating: __MACOSX/train/._ISIC_8203033.jpg  \n",
            "  inflating: train/ISIC_6193134.jpg  \n",
            "  inflating: __MACOSX/train/._ISIC_6193134.jpg  \n",
            "  inflating: train/ISIC_5581297.jpg  \n",
            "  inflating: __MACOSX/train/._ISIC_5581297.jpg  \n",
            "  inflating: train/ISIC_6985882.jpg  \n",
            "  inflating: __MACOSX/train/._ISIC_6985882.jpg  \n",
            "  inflating: train/ISIC_1730477.jpg  \n",
            "  inflating: __MACOSX/train/._ISIC_1730477.jpg  \n",
            "  inflating: train/ISIC_0711790.jpg  \n",
            "  inflating: __MACOSX/train/._ISIC_0711790.jpg  \n",
            "  inflating: train/ISIC_9357039.jpg  \n",
            "  inflating: __MACOSX/train/._ISIC_9357039.jpg  \n",
            "  inflating: train/ISIC_3831535.jpg  \n",
            "  inflating: __MACOSX/train/._ISIC_3831535.jpg  \n",
            "  inflating: train/ISIC_4850178.jpg  \n",
            "  inflating: __MACOSX/train/._ISIC_4850178.jpg  \n",
            "  inflating: train/ISIC_3575926.jpg  \n",
            "  inflating: __MACOSX/train/._ISIC_3575926.jpg  \n",
            "  inflating: train/ISIC_2359366.jpg  \n",
            "  inflating: __MACOSX/train/._ISIC_2359366.jpg  \n",
            "  inflating: train/ISIC_2366196.jpg  \n",
            "  inflating: __MACOSX/train/._ISIC_2366196.jpg  \n",
            "  inflating: train/ISIC_0243235.jpg  \n",
            "  inflating: __MACOSX/train/._ISIC_0243235.jpg  \n",
            "  inflating: train/ISIC_8537867.jpg  \n",
            "  inflating: __MACOSX/train/._ISIC_8537867.jpg  \n",
            "  inflating: train/ISIC_2660062.jpg  \n",
            "  inflating: __MACOSX/train/._ISIC_2660062.jpg  \n",
            "  inflating: train/ISIC_1588022.jpg  \n",
            "  inflating: __MACOSX/train/._ISIC_1588022.jpg  \n",
            "  inflating: train/ISIC_0341350.jpg  \n",
            "  inflating: __MACOSX/train/._ISIC_0341350.jpg  \n",
            "  inflating: train/ISIC_5707738.jpg  \n",
            "  inflating: __MACOSX/train/._ISIC_5707738.jpg  \n",
            "  inflating: train/ISIC_2129639.jpg  \n",
            "  inflating: __MACOSX/train/._ISIC_2129639.jpg  \n",
            "  inflating: train/ISIC_1309015.jpg  \n",
            "  inflating: __MACOSX/train/._ISIC_1309015.jpg  \n",
            "  inflating: train/ISIC_4332885.jpg  \n",
            "  inflating: __MACOSX/train/._ISIC_4332885.jpg  \n",
            "  inflating: train/ISIC_8981184.jpg  \n",
            "  inflating: __MACOSX/train/._ISIC_8981184.jpg  \n",
            "  inflating: train/ISIC_5952320.jpg  \n",
            "  inflating: __MACOSX/train/._ISIC_5952320.jpg  \n",
            "  inflating: train/ISIC_2384107.jpg  \n",
            "  inflating: __MACOSX/train/._ISIC_2384107.jpg  \n",
            "  inflating: train/ISIC_7240957.jpg  \n",
            "  inflating: __MACOSX/train/._ISIC_7240957.jpg  \n",
            "  inflating: train/ISIC_2523685.jpg  \n",
            "  inflating: __MACOSX/train/._ISIC_2523685.jpg  \n",
            "  inflating: train/ISIC_7407847.jpg  \n",
            "  inflating: __MACOSX/train/._ISIC_7407847.jpg  \n",
            "  inflating: train/ISIC_8203027.jpg  \n",
            "  inflating: __MACOSX/train/._ISIC_8203027.jpg  \n",
            "  inflating: train/ISIC_3859689.jpg  \n",
            "  inflating: __MACOSX/train/._ISIC_3859689.jpg  \n",
            "  inflating: train/ISIC_4985037.jpg  \n",
            "  inflating: __MACOSX/train/._ISIC_4985037.jpg  \n",
            "  inflating: train/ISIC_8053864.jpg  \n",
            "  inflating: __MACOSX/train/._ISIC_8053864.jpg  \n",
            "  inflating: train/ISIC_6377578.jpg  \n",
            "  inflating: __MACOSX/train/._ISIC_6377578.jpg  \n",
            "  inflating: train/ISIC_4764834.jpg  \n",
            "  inflating: __MACOSX/train/._ISIC_4764834.jpg  \n",
            "  inflating: train/ISIC_4926788.jpg  \n",
            "  inflating: __MACOSX/train/._ISIC_4926788.jpg  \n",
            "  inflating: train/ISIC_5833906.jpg  \n",
            "  inflating: __MACOSX/train/._ISIC_5833906.jpg  \n",
            "  inflating: train/ISIC_3633707.jpg  \n",
            "  inflating: __MACOSX/train/._ISIC_3633707.jpg  \n",
            "  inflating: train/ISIC_4156405.jpg  \n",
            "  inflating: __MACOSX/train/._ISIC_4156405.jpg  \n",
            "  inflating: train/ISIC_6610700.jpg  \n",
            "  inflating: __MACOSX/train/._ISIC_6610700.jpg  \n",
            "  inflating: train/ISIC_2481230.jpg  \n",
            "  inflating: __MACOSX/train/._ISIC_2481230.jpg  \n",
            "  inflating: train/ISIC_9035176.jpg  \n",
            "  inflating: __MACOSX/train/._ISIC_9035176.jpg  \n",
            "  inflating: train/ISIC_3632419.jpg  \n",
            "  inflating: __MACOSX/train/._ISIC_3632419.jpg  \n",
            "  inflating: train/ISIC_0769159.jpg  \n",
            "  inflating: __MACOSX/train/._ISIC_0769159.jpg  \n",
            "  inflating: train/ISIC_8901784.jpg  \n",
            "  inflating: __MACOSX/train/._ISIC_8901784.jpg  \n",
            "  inflating: train/ISIC_4497904.jpg  \n",
            "  inflating: __MACOSX/train/._ISIC_4497904.jpg  \n",
            "  inflating: train/ISIC_1467583.jpg  \n",
            "  inflating: __MACOSX/train/._ISIC_1467583.jpg  \n",
            "  inflating: train/ISIC_1233389.jpg  \n",
            "  inflating: __MACOSX/train/._ISIC_1233389.jpg  \n",
            "  inflating: train/ISIC_7987416.jpg  \n",
            "  inflating: __MACOSX/train/._ISIC_7987416.jpg  \n",
            "  inflating: train/ISIC_8806941.jpg  \n",
            "  inflating: __MACOSX/train/._ISIC_8806941.jpg  \n",
            "  inflating: train/ISIC_1384331.jpg  \n",
            "  inflating: __MACOSX/train/._ISIC_1384331.jpg  \n",
            "  inflating: train/ISIC_2525592.jpg  \n",
            "  inflating: __MACOSX/train/._ISIC_2525592.jpg  \n",
            "  inflating: train/ISIC_0951791.jpg  \n",
            "  inflating: __MACOSX/train/._ISIC_0951791.jpg  \n",
            "  inflating: train/ISIC_0982046.jpg  \n",
            "  inflating: __MACOSX/train/._ISIC_0982046.jpg  \n",
            "  inflating: train/ISIC_7069158.jpg  \n",
            "  inflating: __MACOSX/train/._ISIC_7069158.jpg  \n",
            "  inflating: train/ISIC_4624753.jpg  \n",
            "  inflating: __MACOSX/train/._ISIC_4624753.jpg  \n",
            "  inflating: train/ISIC_9210825.jpg  \n",
            "  inflating: __MACOSX/train/._ISIC_9210825.jpg  \n",
            "  inflating: train/ISIC_3984167.jpg  \n",
            "  inflating: __MACOSX/train/._ISIC_3984167.jpg  \n",
            "  inflating: train/ISIC_0159996.jpg  \n",
            "  inflating: __MACOSX/train/._ISIC_0159996.jpg  \n",
            "  inflating: train/ISIC_0148643.jpg  \n",
            "  inflating: __MACOSX/train/._ISIC_0148643.jpg  \n",
            "  inflating: train/ISIC_9204688.jpg  \n",
            "  inflating: __MACOSX/train/._ISIC_9204688.jpg  \n",
            "  inflating: train/ISIC_9638386.jpg  \n",
            "  inflating: __MACOSX/train/._ISIC_9638386.jpg  \n",
            "  inflating: train/ISIC_1645567.jpg  \n",
            "  inflating: __MACOSX/train/._ISIC_1645567.jpg  \n",
            "  inflating: train/ISIC_1691050.jpg  \n",
            "  inflating: __MACOSX/train/._ISIC_1691050.jpg  \n",
            "  inflating: train/ISIC_9439034.jpg  \n",
            "  inflating: __MACOSX/train/._ISIC_9439034.jpg  \n",
            "  inflating: train/ISIC_6532096.jpg  \n",
            "  inflating: __MACOSX/train/._ISIC_6532096.jpg  \n",
            "  inflating: train/ISIC_8243832.jpg  \n",
            "  inflating: __MACOSX/train/._ISIC_8243832.jpg  \n",
            "  inflating: train/ISIC_9880428.jpg  \n",
            "  inflating: __MACOSX/train/._ISIC_9880428.jpg  \n",
            "  inflating: train/ISIC_2122585.jpg  \n",
            "  inflating: __MACOSX/train/._ISIC_2122585.jpg  \n",
            "  inflating: train/ISIC_9437019.jpg  \n",
            "  inflating: __MACOSX/train/._ISIC_9437019.jpg  \n",
            "  inflating: train/ISIC_8814612.jpg  \n",
            "  inflating: __MACOSX/train/._ISIC_8814612.jpg  \n",
            "  inflating: train/ISIC_0423201.jpg  \n",
            "  inflating: __MACOSX/train/._ISIC_0423201.jpg  \n",
            "  inflating: train/ISIC_4272084.jpg  \n",
            "  inflating: __MACOSX/train/._ISIC_4272084.jpg  \n",
            "  inflating: train/ISIC_5406677.jpg  \n",
            "  inflating: __MACOSX/train/._ISIC_5406677.jpg  \n",
            "  inflating: train/ISIC_6919856.jpg  \n",
            "  inflating: __MACOSX/train/._ISIC_6919856.jpg  \n",
            "  inflating: train/ISIC_3474609.jpg  \n",
            "  inflating: __MACOSX/train/._ISIC_3474609.jpg  \n",
            "  inflating: train/ISIC_8003504.jpg  \n",
            "  inflating: __MACOSX/train/._ISIC_8003504.jpg  \n",
            "  inflating: train/ISIC_6081901.jpg  \n",
            "  inflating: __MACOSX/train/._ISIC_6081901.jpg  \n",
            "  inflating: train/ISIC_3951028.jpg  \n",
            "  inflating: __MACOSX/train/._ISIC_3951028.jpg  \n",
            "  inflating: train/ISIC_1044344.jpg  \n",
            "  inflating: __MACOSX/train/._ISIC_1044344.jpg  \n",
            "  inflating: train/ISIC_3773860.jpg  \n",
            "  inflating: __MACOSX/train/._ISIC_3773860.jpg  \n",
            "  inflating: train/ISIC_9687776.jpg  \n",
            "  inflating: __MACOSX/train/._ISIC_9687776.jpg  \n",
            "  inflating: train/ISIC_3920809.jpg  \n",
            "  inflating: __MACOSX/train/._ISIC_3920809.jpg  \n",
            "  inflating: train/ISIC_2601107.jpg  \n",
            "  inflating: __MACOSX/train/._ISIC_2601107.jpg  \n",
            "  inflating: train/ISIC_4594982.jpg  \n",
            "  inflating: __MACOSX/train/._ISIC_4594982.jpg  \n",
            "  inflating: train/ISIC_2648261.jpg  \n",
            "  inflating: __MACOSX/train/._ISIC_2648261.jpg  \n",
            "  inflating: train/ISIC_0272567.jpg  \n",
            "  inflating: __MACOSX/train/._ISIC_0272567.jpg  \n",
            "  inflating: train/ISIC_7250007.jpg  \n",
            "  inflating: __MACOSX/train/._ISIC_7250007.jpg  \n",
            "  inflating: train/ISIC_7181396.jpg  \n",
            "  inflating: __MACOSX/train/._ISIC_7181396.jpg  \n",
            "  inflating: train/ISIC_9217838.jpg  \n",
            "  inflating: __MACOSX/train/._ISIC_9217838.jpg  \n",
            "  inflating: train/ISIC_8118124.jpg  \n",
            "  inflating: __MACOSX/train/._ISIC_8118124.jpg  \n",
            "  inflating: train/ISIC_7309600.jpg  \n",
            "  inflating: __MACOSX/train/._ISIC_7309600.jpg  \n",
            "  inflating: train/ISIC_1662872.jpg  \n",
            "  inflating: __MACOSX/train/._ISIC_1662872.jpg  \n",
            "  inflating: train/ISIC_1566312.jpg  \n",
            "  inflating: __MACOSX/train/._ISIC_1566312.jpg  \n",
            "  inflating: train/ISIC_8428562.jpg  \n",
            "  inflating: __MACOSX/train/._ISIC_8428562.jpg  \n",
            "  inflating: train/ISIC_1654318.jpg  \n",
            "  inflating: __MACOSX/train/._ISIC_1654318.jpg  \n",
            "  inflating: train/ISIC_5336289.jpg  \n",
            "  inflating: __MACOSX/train/._ISIC_5336289.jpg  \n",
            "  inflating: train/ISIC_3229755.jpg  \n",
            "  inflating: __MACOSX/train/._ISIC_3229755.jpg  \n",
            "  inflating: train/ISIC_3095600.jpg  \n",
            "  inflating: __MACOSX/train/._ISIC_3095600.jpg  \n",
            "  inflating: train/ISIC_1848300.jpg  \n",
            "  inflating: __MACOSX/train/._ISIC_1848300.jpg  \n",
            "  inflating: train/ISIC_2757355.jpg  \n",
            "  inflating: __MACOSX/train/._ISIC_2757355.jpg  \n",
            "  inflating: train/ISIC_7890383.jpg  \n",
            "  inflating: __MACOSX/train/._ISIC_7890383.jpg  \n",
            "  inflating: train/ISIC_5149397.jpg  \n",
            "  inflating: __MACOSX/train/._ISIC_5149397.jpg  \n",
            "  inflating: train/ISIC_4979071.jpg  \n",
            "  inflating: __MACOSX/train/._ISIC_4979071.jpg  \n",
            "  inflating: train/ISIC_9111229.jpg  \n",
            "  inflating: __MACOSX/train/._ISIC_9111229.jpg  \n",
            "  inflating: train/ISIC_4430946.jpg  \n",
            "  inflating: __MACOSX/train/._ISIC_4430946.jpg  \n",
            "  inflating: train/ISIC_2988460.jpg  \n",
            "  inflating: __MACOSX/train/._ISIC_2988460.jpg  \n",
            "  inflating: train/ISIC_2294843.jpg  \n",
            "  inflating: __MACOSX/train/._ISIC_2294843.jpg  \n",
            "  inflating: train/ISIC_0784774.jpg  \n",
            "  inflating: __MACOSX/train/._ISIC_0784774.jpg  \n",
            "  inflating: train/ISIC_5671321.jpg  \n",
            "  inflating: __MACOSX/train/._ISIC_5671321.jpg  \n",
            "  inflating: train/ISIC_8523423.jpg  \n",
            "  inflating: __MACOSX/train/._ISIC_8523423.jpg  \n",
            "  inflating: train/ISIC_9743052.jpg  \n",
            "  inflating: __MACOSX/train/._ISIC_9743052.jpg  \n",
            "  inflating: train/ISIC_9042665.jpg  \n",
            "  inflating: __MACOSX/train/._ISIC_9042665.jpg  \n",
            "  inflating: train/ISIC_1740379.jpg  \n",
            "  inflating: __MACOSX/train/._ISIC_1740379.jpg  \n",
            "  inflating: train/ISIC_9399967.jpg  \n",
            "  inflating: __MACOSX/train/._ISIC_9399967.jpg  \n",
            "  inflating: train/ISIC_9747234.jpg  \n",
            "  inflating: __MACOSX/train/._ISIC_9747234.jpg  \n",
            "  inflating: train/ISIC_3317877.jpg  \n",
            "  inflating: __MACOSX/train/._ISIC_3317877.jpg  \n",
            "  inflating: train/ISIC_3156139.jpg  \n",
            "  inflating: __MACOSX/train/._ISIC_3156139.jpg  \n",
            "  inflating: train/ISIC_6524810.jpg  \n",
            "  inflating: __MACOSX/train/._ISIC_6524810.jpg  \n",
            "  inflating: train/ISIC_3837385.jpg  \n",
            "  inflating: __MACOSX/train/._ISIC_3837385.jpg  \n",
            "  inflating: train/ISIC_2174927.jpg  \n",
            "  inflating: __MACOSX/train/._ISIC_2174927.jpg  \n",
            "  inflating: train/ISIC_9966185.jpg  \n",
            "  inflating: __MACOSX/train/._ISIC_9966185.jpg  \n",
            "  inflating: train/ISIC_6668308.jpg  \n",
            "  inflating: __MACOSX/train/._ISIC_6668308.jpg  \n",
            "  inflating: train/ISIC_6814382.jpg  \n",
            "  inflating: __MACOSX/train/._ISIC_6814382.jpg  \n",
            "  inflating: train/ISIC_9091415.jpg  \n",
            "  inflating: __MACOSX/train/._ISIC_9091415.jpg  \n",
            "  inflating: train/ISIC_9780031.jpg  \n",
            "  inflating: __MACOSX/train/._ISIC_9780031.jpg  \n",
            "  inflating: train/ISIC_0800079.jpg  \n",
            "  inflating: __MACOSX/train/._ISIC_0800079.jpg  \n",
            "  inflating: train/ISIC_3006054.jpg  \n",
            "  inflating: __MACOSX/train/._ISIC_3006054.jpg  \n",
            "  inflating: train/ISIC_0928087.jpg  \n",
            "  inflating: __MACOSX/train/._ISIC_0928087.jpg  \n",
            "  inflating: train/ISIC_4986933.jpg  \n",
            "  inflating: __MACOSX/train/._ISIC_4986933.jpg  \n",
            "  inflating: train/ISIC_0086462.jpg  \n",
            "  inflating: __MACOSX/train/._ISIC_0086462.jpg  \n",
            "  inflating: train/ISIC_5625980.jpg  \n",
            "  inflating: __MACOSX/train/._ISIC_5625980.jpg  \n",
            "  inflating: train/ISIC_1429439.jpg  \n",
            "  inflating: __MACOSX/train/._ISIC_1429439.jpg  \n",
            "  inflating: train/ISIC_4066707.jpg  \n",
            "  inflating: __MACOSX/train/._ISIC_4066707.jpg  \n",
            "  inflating: train/ISIC_9389584.jpg  \n",
            "  inflating: __MACOSX/train/._ISIC_9389584.jpg  \n",
            "  inflating: train/ISIC_2252958.jpg  \n",
            "  inflating: __MACOSX/train/._ISIC_2252958.jpg  \n",
            "  inflating: train/ISIC_2814675.jpg  \n",
            "  inflating: __MACOSX/train/._ISIC_2814675.jpg  \n",
            "  inflating: train/ISIC_7480243.jpg  \n",
            "  inflating: __MACOSX/train/._ISIC_7480243.jpg  \n",
            "  inflating: train/ISIC_3099012.jpg  \n",
            "  inflating: __MACOSX/train/._ISIC_3099012.jpg  \n",
            "  inflating: train/ISIC_2307965.jpg  \n",
            "  inflating: __MACOSX/train/._ISIC_2307965.jpg  \n",
            "  inflating: train/ISIC_8250872.jpg  \n",
            "  inflating: __MACOSX/train/._ISIC_8250872.jpg  \n",
            "  inflating: train/ISIC_4933150.jpg  \n",
            "  inflating: __MACOSX/train/._ISIC_4933150.jpg  \n",
            "  inflating: train/ISIC_0908431.jpg  \n",
            "  inflating: __MACOSX/train/._ISIC_0908431.jpg  \n",
            "  inflating: train/ISIC_7179363.jpg  \n",
            "  inflating: __MACOSX/train/._ISIC_7179363.jpg  \n",
            "  inflating: train/ISIC_2009728.jpg  \n",
            "  inflating: __MACOSX/train/._ISIC_2009728.jpg  \n",
            "  inflating: train/ISIC_9650774.jpg  \n",
            "  inflating: __MACOSX/train/._ISIC_9650774.jpg  \n",
            "  inflating: train/ISIC_4264802.jpg  \n",
            "  inflating: __MACOSX/train/._ISIC_4264802.jpg  \n",
            "  inflating: train/ISIC_8086526.jpg  \n",
            "  inflating: __MACOSX/train/._ISIC_8086526.jpg  \n",
            "  inflating: train/ISIC_7254249.jpg  \n",
            "  inflating: __MACOSX/train/._ISIC_7254249.jpg  \n",
            "  inflating: train/ISIC_1198561.jpg  \n",
            "  inflating: __MACOSX/train/._ISIC_1198561.jpg  \n",
            "  inflating: train/ISIC_7351443.jpg  \n",
            "  inflating: __MACOSX/train/._ISIC_7351443.jpg  \n",
            "  inflating: train/ISIC_5194874.jpg  \n",
            "  inflating: __MACOSX/train/._ISIC_5194874.jpg  \n",
            "  inflating: train/ISIC_6874310.jpg  \n",
            "  inflating: __MACOSX/train/._ISIC_6874310.jpg  \n",
            "  inflating: train/ISIC_9649225.jpg  \n",
            "  inflating: __MACOSX/train/._ISIC_9649225.jpg  \n",
            "  inflating: train/ISIC_7383511.jpg  \n",
            "  inflating: __MACOSX/train/._ISIC_7383511.jpg  \n",
            "  inflating: train/ISIC_2190479.jpg  \n",
            "  inflating: __MACOSX/train/._ISIC_2190479.jpg  \n",
            "  inflating: train/ISIC_8647135.jpg  \n",
            "  inflating: __MACOSX/train/._ISIC_8647135.jpg  \n",
            "  inflating: train/ISIC_8967818.jpg  \n",
            "  inflating: __MACOSX/train/._ISIC_8967818.jpg  \n",
            "  inflating: train/ISIC_4222843.jpg  \n",
            "  inflating: __MACOSX/train/._ISIC_4222843.jpg  \n",
            "  inflating: train/ISIC_3237557.jpg  \n",
            "  inflating: __MACOSX/train/._ISIC_3237557.jpg  \n",
            "  inflating: train/ISIC_2792035.jpg  \n",
            "  inflating: __MACOSX/train/._ISIC_2792035.jpg  \n",
            "  inflating: train/ISIC_6025721.jpg  \n",
            "  inflating: __MACOSX/train/._ISIC_6025721.jpg  \n",
            "  inflating: train/ISIC_6543121.jpg  \n",
            "  inflating: __MACOSX/train/._ISIC_6543121.jpg  \n",
            "  inflating: train/ISIC_1068686.jpg  \n",
            "  inflating: __MACOSX/train/._ISIC_1068686.jpg  \n",
            "  inflating: train/ISIC_9242193.jpg  \n",
            "  inflating: __MACOSX/train/._ISIC_9242193.jpg  \n",
            "  inflating: train/ISIC_3579477.jpg  \n",
            "  inflating: __MACOSX/train/._ISIC_3579477.jpg  \n",
            "  inflating: train/ISIC_4083947.jpg  \n",
            "  inflating: __MACOSX/train/._ISIC_4083947.jpg  \n",
            "  inflating: train/ISIC_2118143.jpg  \n",
            "  inflating: __MACOSX/train/._ISIC_2118143.jpg  \n",
            "  inflating: train/ISIC_7859801.jpg  \n",
            "  inflating: __MACOSX/train/._ISIC_7859801.jpg  \n",
            "  inflating: train/ISIC_0881573.jpg  \n",
            "  inflating: __MACOSX/train/._ISIC_0881573.jpg  \n",
            "  inflating: train/ISIC_3385497.jpg  \n",
            "  inflating: __MACOSX/train/._ISIC_3385497.jpg  \n",
            "  inflating: train/ISIC_5217509.jpg  \n",
            "  inflating: __MACOSX/train/._ISIC_5217509.jpg  \n",
            "  inflating: train/ISIC_8324895.jpg  \n",
            "  inflating: __MACOSX/train/._ISIC_8324895.jpg  \n",
            "  inflating: train/ISIC_2421521.jpg  \n",
            "  inflating: __MACOSX/train/._ISIC_2421521.jpg  \n",
            "  inflating: train/ISIC_8174968.jpg  \n",
            "  inflating: __MACOSX/train/._ISIC_8174968.jpg  \n",
            "  inflating: train/ISIC_6760032.jpg  \n",
            "  inflating: __MACOSX/train/._ISIC_6760032.jpg  \n",
            "  inflating: train/ISIC_4529581.jpg  \n",
            "  inflating: __MACOSX/train/._ISIC_4529581.jpg  \n",
            "  inflating: train/ISIC_6652094.jpg  \n",
            "  inflating: __MACOSX/train/._ISIC_6652094.jpg  \n",
            "  inflating: train/ISIC_8084443.jpg  \n",
            "  inflating: __MACOSX/train/._ISIC_8084443.jpg  \n",
            "  inflating: train/ISIC_1656255.jpg  \n",
            "  inflating: __MACOSX/train/._ISIC_1656255.jpg  \n",
            "  inflating: train/ISIC_1331993.jpg  \n",
            "  inflating: __MACOSX/train/._ISIC_1331993.jpg  \n",
            "  inflating: train/ISIC_8586909.jpg  \n",
            "  inflating: __MACOSX/train/._ISIC_8586909.jpg  \n",
            "  inflating: train/ISIC_1748719.jpg  \n",
            "  inflating: __MACOSX/train/._ISIC_1748719.jpg  \n",
            "  inflating: train/ISIC_4127968.jpg  \n",
            "  inflating: __MACOSX/train/._ISIC_4127968.jpg  \n",
            "  inflating: train/ISIC_9331182.jpg  \n",
            "  inflating: __MACOSX/train/._ISIC_9331182.jpg  \n",
            "  inflating: train/ISIC_6461419.jpg  \n",
            "  inflating: __MACOSX/train/._ISIC_6461419.jpg  \n",
            "  inflating: train/ISIC_2256519.jpg  \n",
            "  inflating: __MACOSX/train/._ISIC_2256519.jpg  \n",
            "  inflating: train/ISIC_1975042.jpg  \n",
            "  inflating: __MACOSX/train/._ISIC_1975042.jpg  \n",
            "  inflating: train/ISIC_3793957.jpg  \n",
            "  inflating: __MACOSX/train/._ISIC_3793957.jpg  \n",
            "  inflating: train/ISIC_9694911.jpg  \n",
            "  inflating: __MACOSX/train/._ISIC_9694911.jpg  \n",
            "  inflating: train/ISIC_0761049.jpg  \n",
            "  inflating: __MACOSX/train/._ISIC_0761049.jpg  \n",
            "  inflating: train/ISIC_3612285.jpg  \n",
            "  inflating: __MACOSX/train/._ISIC_3612285.jpg  \n",
            "  inflating: train/ISIC_8970431.jpg  \n",
            "  inflating: __MACOSX/train/._ISIC_8970431.jpg  \n",
            "  inflating: train/ISIC_2589452.jpg  \n",
            "  inflating: __MACOSX/train/._ISIC_2589452.jpg  \n",
            "  inflating: train/ISIC_6934907.jpg  \n",
            "  inflating: __MACOSX/train/._ISIC_6934907.jpg  \n",
            "  inflating: train/ISIC_2891694.jpg  \n",
            "  inflating: __MACOSX/train/._ISIC_2891694.jpg  \n",
            "  inflating: train/ISIC_5643422.jpg  \n",
            "  inflating: __MACOSX/train/._ISIC_5643422.jpg  \n",
            "  inflating: train/ISIC_2136533.jpg  \n",
            "  inflating: __MACOSX/train/._ISIC_2136533.jpg  \n",
            "  inflating: train/ISIC_1763577.jpg  \n",
            "  inflating: __MACOSX/train/._ISIC_1763577.jpg  \n",
            "  inflating: train/ISIC_5323653.jpg  \n",
            "  inflating: __MACOSX/train/._ISIC_5323653.jpg  \n",
            "  inflating: train/ISIC_8284404.jpg  \n",
            "  inflating: __MACOSX/train/._ISIC_8284404.jpg  \n",
            "  inflating: train/ISIC_7229513.jpg  \n",
            "  inflating: __MACOSX/train/._ISIC_7229513.jpg  \n",
            "  inflating: train/ISIC_0677159.jpg  \n",
            "  inflating: __MACOSX/train/._ISIC_0677159.jpg  \n",
            "  inflating: train/ISIC_3035461.jpg  \n",
            "  inflating: __MACOSX/train/._ISIC_3035461.jpg  \n",
            "  inflating: train/ISIC_8380676.jpg  \n",
            "  inflating: __MACOSX/train/._ISIC_8380676.jpg  \n",
            "  inflating: train/ISIC_1448992.jpg  \n",
            "  inflating: __MACOSX/train/._ISIC_1448992.jpg  \n",
            "  inflating: train/ISIC_4390968.jpg  \n",
            "  inflating: __MACOSX/train/._ISIC_4390968.jpg  \n",
            "  inflating: train/ISIC_0214635.jpg  \n",
            "  inflating: __MACOSX/train/._ISIC_0214635.jpg  \n",
            "  inflating: train/ISIC_2991680.jpg  \n",
            "  inflating: __MACOSX/train/._ISIC_2991680.jpg  \n",
            "  inflating: train/ISIC_5734866.jpg  \n",
            "  inflating: __MACOSX/train/._ISIC_5734866.jpg  \n",
            "  inflating: train/ISIC_0675028.jpg  \n",
            "  inflating: __MACOSX/train/._ISIC_0675028.jpg  \n",
            "  inflating: train/ISIC_2201327.jpg  \n",
            "  inflating: __MACOSX/train/._ISIC_2201327.jpg  \n",
            "  inflating: train/ISIC_0197584.jpg  \n",
            "  inflating: __MACOSX/train/._ISIC_0197584.jpg  \n",
            "  inflating: train/ISIC_5787312.jpg  \n",
            "  inflating: __MACOSX/train/._ISIC_5787312.jpg  \n",
            "  inflating: train/ISIC_2387142.jpg  \n",
            "  inflating: __MACOSX/train/._ISIC_2387142.jpg  \n",
            "  inflating: train/ISIC_6204970.jpg  \n",
            "  inflating: __MACOSX/train/._ISIC_6204970.jpg  \n",
            "  inflating: train/ISIC_2226940.jpg  \n",
            "  inflating: __MACOSX/train/._ISIC_2226940.jpg  \n",
            "  inflating: train/ISIC_1831600.jpg  \n",
            "  inflating: __MACOSX/train/._ISIC_1831600.jpg  \n",
            "  inflating: train/ISIC_9024245.jpg  \n",
            "  inflating: __MACOSX/train/._ISIC_9024245.jpg  \n",
            "  inflating: train/ISIC_3779424.jpg  \n",
            "  inflating: __MACOSX/train/._ISIC_3779424.jpg  \n",
            "  inflating: train/ISIC_6469737.jpg  \n",
            "  inflating: __MACOSX/train/._ISIC_6469737.jpg  \n",
            "  inflating: train/ISIC_2811080.jpg  \n",
            "  inflating: __MACOSX/train/._ISIC_2811080.jpg  \n",
            "  inflating: train/ISIC_5943775.jpg  \n",
            "  inflating: __MACOSX/train/._ISIC_5943775.jpg  \n",
            "  inflating: train/ISIC_7229261.jpg  \n",
            "  inflating: __MACOSX/train/._ISIC_7229261.jpg  \n",
            "  inflating: train/ISIC_0428383.jpg  \n",
            "  inflating: __MACOSX/train/._ISIC_0428383.jpg  \n",
            "  inflating: train/ISIC_2394894.jpg  \n",
            "  inflating: __MACOSX/train/._ISIC_2394894.jpg  \n",
            "  inflating: train/ISIC_7882022.jpg  \n",
            "  inflating: __MACOSX/train/._ISIC_7882022.jpg  \n",
            "  inflating: train/ISIC_6785041.jpg  \n",
            "  inflating: __MACOSX/train/._ISIC_6785041.jpg  \n",
            "  inflating: train/ISIC_5690108.jpg  \n",
            "  inflating: __MACOSX/train/._ISIC_5690108.jpg  \n",
            "  inflating: train/ISIC_4892761.jpg  \n",
            "  inflating: __MACOSX/train/._ISIC_4892761.jpg  \n",
            "  inflating: train/ISIC_4082318.jpg  \n",
            "  inflating: __MACOSX/train/._ISIC_4082318.jpg  \n",
            "  inflating: train/ISIC_2137639.jpg  \n",
            "  inflating: __MACOSX/train/._ISIC_2137639.jpg  \n",
            "  inflating: train/ISIC_6559838.jpg  \n",
            "  inflating: __MACOSX/train/._ISIC_6559838.jpg  \n",
            "  inflating: train/ISIC_2597678.jpg  \n",
            "  inflating: __MACOSX/train/._ISIC_2597678.jpg  \n",
            "  inflating: train/ISIC_2326940.jpg  \n",
            "  inflating: __MACOSX/train/._ISIC_2326940.jpg  \n",
            "  inflating: train/ISIC_2203242.jpg  \n",
            "  inflating: __MACOSX/train/._ISIC_2203242.jpg  \n",
            "  inflating: train/ISIC_5795064.jpg  \n",
            "  inflating: __MACOSX/train/._ISIC_5795064.jpg  \n",
            "  inflating: train/ISIC_4366032.jpg  \n",
            "  inflating: __MACOSX/train/._ISIC_4366032.jpg  \n",
            "  inflating: train/ISIC_4161929.jpg  \n",
            "  inflating: __MACOSX/train/._ISIC_4161929.jpg  \n",
            "  inflating: train/ISIC_3249704.jpg  \n",
            "  inflating: __MACOSX/train/._ISIC_3249704.jpg  \n",
            "  inflating: train/ISIC_8150821.jpg  \n",
            "  inflating: __MACOSX/train/._ISIC_8150821.jpg  \n",
            "  inflating: train/ISIC_5564757.jpg  \n",
            "  inflating: __MACOSX/train/._ISIC_5564757.jpg  \n",
            "  inflating: train/ISIC_9234944.jpg  \n",
            "  inflating: __MACOSX/train/._ISIC_9234944.jpg  \n",
            "  inflating: train/ISIC_5052760.jpg  \n",
            "  inflating: __MACOSX/train/._ISIC_5052760.jpg  \n",
            "  inflating: train/ISIC_0405211.jpg  \n",
            "  inflating: __MACOSX/train/._ISIC_0405211.jpg  \n",
            "  inflating: train/ISIC_3614838.jpg  \n",
            "  inflating: __MACOSX/train/._ISIC_3614838.jpg  \n",
            "  inflating: train/ISIC_3175723.jpg  \n",
            "  inflating: __MACOSX/train/._ISIC_3175723.jpg  \n",
            "  inflating: train/ISIC_5757319.jpg  \n",
            "  inflating: __MACOSX/train/._ISIC_5757319.jpg  \n",
            "  inflating: train/ISIC_1348539.jpg  \n",
            "  inflating: __MACOSX/train/._ISIC_1348539.jpg  \n",
            "  inflating: train/ISIC_6374267.jpg  \n",
            "  inflating: __MACOSX/train/._ISIC_6374267.jpg  \n",
            "  inflating: train/ISIC_2252743.jpg  \n",
            "  inflating: __MACOSX/train/._ISIC_2252743.jpg  \n",
            "  inflating: train/ISIC_4739931.jpg  \n",
            "  inflating: __MACOSX/train/._ISIC_4739931.jpg  \n",
            "  inflating: train/ISIC_9312767.jpg  \n",
            "  inflating: __MACOSX/train/._ISIC_9312767.jpg  \n",
            "  inflating: train/ISIC_7492684.jpg  \n",
            "  inflating: __MACOSX/train/._ISIC_7492684.jpg  \n",
            "  inflating: train/ISIC_5369000.jpg  \n",
            "  inflating: __MACOSX/train/._ISIC_5369000.jpg  \n",
            "  inflating: train/ISIC_5243831.jpg  \n",
            "  inflating: __MACOSX/train/._ISIC_5243831.jpg  \n",
            "  inflating: train/ISIC_9106966.jpg  \n",
            "  inflating: __MACOSX/train/._ISIC_9106966.jpg  \n",
            "  inflating: train/ISIC_9476904.jpg  \n",
            "  inflating: __MACOSX/train/._ISIC_9476904.jpg  \n",
            "  inflating: train/ISIC_5110209.jpg  \n",
            "  inflating: __MACOSX/train/._ISIC_5110209.jpg  \n",
            "  inflating: train/ISIC_2189699.jpg  \n",
            "  inflating: __MACOSX/train/._ISIC_2189699.jpg  \n",
            "  inflating: train/ISIC_1104953.jpg  \n",
            "  inflating: __MACOSX/train/._ISIC_1104953.jpg  \n",
            "  inflating: train/ISIC_3975607.jpg  \n",
            "  inflating: __MACOSX/train/._ISIC_3975607.jpg  \n",
            "  inflating: train/ISIC_5619062.jpg  \n",
            "  inflating: __MACOSX/train/._ISIC_5619062.jpg  \n",
            "  inflating: train/ISIC_5712645.jpg  \n",
            "  inflating: __MACOSX/train/._ISIC_5712645.jpg  \n",
            "  inflating: train/ISIC_8502406.jpg  \n",
            "  inflating: __MACOSX/train/._ISIC_8502406.jpg  \n",
            "  inflating: train/ISIC_8723302.jpg  \n",
            "  inflating: __MACOSX/train/._ISIC_8723302.jpg  \n",
            "  inflating: train/ISIC_5814177.jpg  \n",
            "  inflating: __MACOSX/train/._ISIC_5814177.jpg  \n",
            "  inflating: train/ISIC_0761713.jpg  \n",
            "  inflating: __MACOSX/train/._ISIC_0761713.jpg  \n",
            "  inflating: train/ISIC_3821242.jpg  \n",
            "  inflating: __MACOSX/train/._ISIC_3821242.jpg  \n",
            "  inflating: train/ISIC_4327046.jpg  \n",
            "  inflating: __MACOSX/train/._ISIC_4327046.jpg  \n",
            "  inflating: train/ISIC_1866770.jpg  \n",
            "  inflating: __MACOSX/train/._ISIC_1866770.jpg  \n",
            "  inflating: train/ISIC_5704741.jpg  \n",
            "  inflating: __MACOSX/train/._ISIC_5704741.jpg  \n",
            "  inflating: train/ISIC_6527464.jpg  \n",
            "  inflating: __MACOSX/train/._ISIC_6527464.jpg  \n",
            "  inflating: train/ISIC_8699846.jpg  \n",
            "  inflating: __MACOSX/train/._ISIC_8699846.jpg  \n",
            "  inflating: train/ISIC_0281404.jpg  \n",
            "  inflating: __MACOSX/train/._ISIC_0281404.jpg  \n",
            "  inflating: train/ISIC_1493172.jpg  \n",
            "  inflating: __MACOSX/train/._ISIC_1493172.jpg  \n",
            "  inflating: train/ISIC_8314759.jpg  \n",
            "  inflating: __MACOSX/train/._ISIC_8314759.jpg  \n",
            "  inflating: train/ISIC_0360822.jpg  \n",
            "  inflating: __MACOSX/train/._ISIC_0360822.jpg  \n",
            "  inflating: train/ISIC_3347715.jpg  \n",
            "  inflating: __MACOSX/train/._ISIC_3347715.jpg  \n",
            "  inflating: train/ISIC_3310895.jpg  \n",
            "  inflating: __MACOSX/train/._ISIC_3310895.jpg  \n",
            "  inflating: train/ISIC_5952650.jpg  \n",
            "  inflating: __MACOSX/train/._ISIC_5952650.jpg  \n",
            "  inflating: train/ISIC_9698871.jpg  \n",
            "  inflating: __MACOSX/train/._ISIC_9698871.jpg  \n",
            "  inflating: train/ISIC_0171983.jpg  \n",
            "  inflating: __MACOSX/train/._ISIC_0171983.jpg  \n",
            "  inflating: train/ISIC_8987085.jpg  \n",
            "  inflating: __MACOSX/train/._ISIC_8987085.jpg  \n",
            "  inflating: train/ISIC_0715086.jpg  \n",
            "  inflating: __MACOSX/train/._ISIC_0715086.jpg  \n",
            "  inflating: train/ISIC_9284063.jpg  \n",
            "  inflating: __MACOSX/train/._ISIC_9284063.jpg  \n",
            "  inflating: train/ISIC_1640392.jpg  \n",
            "  inflating: __MACOSX/train/._ISIC_1640392.jpg  \n",
            "  inflating: train/ISIC_6145764.jpg  \n",
            "  inflating: __MACOSX/train/._ISIC_6145764.jpg  \n",
            "  inflating: train/ISIC_7634945.jpg  \n",
            "  inflating: __MACOSX/train/._ISIC_7634945.jpg  \n",
            "  inflating: train/ISIC_9344253.jpg  \n",
            "  inflating: __MACOSX/train/._ISIC_9344253.jpg  \n",
            "  inflating: train/ISIC_5818981.jpg  \n",
            "  inflating: __MACOSX/train/._ISIC_5818981.jpg  \n",
            "  inflating: train/ISIC_7697022.jpg  \n",
            "  inflating: __MACOSX/train/._ISIC_7697022.jpg  \n",
            "  inflating: train/ISIC_5009980.jpg  \n",
            "  inflating: __MACOSX/train/._ISIC_5009980.jpg  \n",
            "  inflating: train/ISIC_1978228.jpg  \n",
            "  inflating: __MACOSX/train/._ISIC_1978228.jpg  \n",
            "  inflating: train/ISIC_7070384.jpg  \n",
            "  inflating: __MACOSX/train/._ISIC_7070384.jpg  \n",
            "  inflating: train/ISIC_8241770.jpg  \n",
            "  inflating: __MACOSX/train/._ISIC_8241770.jpg  \n",
            "  inflating: train/ISIC_8291021.jpg  \n",
            "  inflating: __MACOSX/train/._ISIC_8291021.jpg  \n",
            "  inflating: train/ISIC_7712996.jpg  \n",
            "  inflating: __MACOSX/train/._ISIC_7712996.jpg  \n",
            "  inflating: train/ISIC_4606519.jpg  \n",
            "  inflating: __MACOSX/train/._ISIC_4606519.jpg  \n",
            "  inflating: train/ISIC_7649986.jpg  \n",
            "  inflating: __MACOSX/train/._ISIC_7649986.jpg  \n",
            "  inflating: train/ISIC_1868991.jpg  \n",
            "  inflating: __MACOSX/train/._ISIC_1868991.jpg  \n",
            "  inflating: train/ISIC_4233755.jpg  \n",
            "  inflating: __MACOSX/train/._ISIC_4233755.jpg  \n",
            "  inflating: train/ISIC_2443367.jpg  \n",
            "  inflating: __MACOSX/train/._ISIC_2443367.jpg  \n",
            "  inflating: train/ISIC_0861322.jpg  \n",
            "  inflating: __MACOSX/train/._ISIC_0861322.jpg  \n",
            "  inflating: train/ISIC_1332281.jpg  \n",
            "  inflating: __MACOSX/train/._ISIC_1332281.jpg  \n",
            "  inflating: train/ISIC_8407218.jpg  \n",
            "  inflating: __MACOSX/train/._ISIC_8407218.jpg  \n",
            "  inflating: train/ISIC_3868656.jpg  \n",
            "  inflating: __MACOSX/train/._ISIC_3868656.jpg  \n",
            "  inflating: train/ISIC_0594534.jpg  \n",
            "  inflating: __MACOSX/train/._ISIC_0594534.jpg  \n",
            "  inflating: train/ISIC_0238491.jpg  \n",
            "  inflating: __MACOSX/train/._ISIC_0238491.jpg  \n",
            "  inflating: train/ISIC_5889054.jpg  \n",
            "  inflating: __MACOSX/train/._ISIC_5889054.jpg  \n",
            "  inflating: train/ISIC_6366677.jpg  \n",
            "  inflating: __MACOSX/train/._ISIC_6366677.jpg  \n",
            "  inflating: train/ISIC_6219909.jpg  \n",
            "  inflating: __MACOSX/train/._ISIC_6219909.jpg  \n",
            "  inflating: train/ISIC_9839324.jpg  \n",
            "  inflating: __MACOSX/train/._ISIC_9839324.jpg  \n",
            "  inflating: train/ISIC_7746479.jpg  \n",
            "  inflating: __MACOSX/train/._ISIC_7746479.jpg  \n",
            "  inflating: train/ISIC_5857728.jpg  \n",
            "  inflating: __MACOSX/train/._ISIC_5857728.jpg  \n",
            "  inflating: train/ISIC_9375930.jpg  \n",
            "  inflating: __MACOSX/train/._ISIC_9375930.jpg  \n",
            "  inflating: train/ISIC_9674173.jpg  \n",
            "  inflating: __MACOSX/train/._ISIC_9674173.jpg  \n",
            "  inflating: train/ISIC_1888865.jpg  \n",
            "  inflating: __MACOSX/train/._ISIC_1888865.jpg  \n",
            "  inflating: train/ISIC_7743266.jpg  \n",
            "  inflating: __MACOSX/train/._ISIC_7743266.jpg  \n",
            "  inflating: train/ISIC_4825096.jpg  \n",
            "  inflating: __MACOSX/train/._ISIC_4825096.jpg  \n",
            "  inflating: train/ISIC_9055481.jpg  \n",
            "  inflating: __MACOSX/train/._ISIC_9055481.jpg  \n",
            "  inflating: train/ISIC_4428649.jpg  \n",
            "  inflating: __MACOSX/train/._ISIC_4428649.jpg  \n",
            "  inflating: train/ISIC_7897374.jpg  \n",
            "  inflating: __MACOSX/train/._ISIC_7897374.jpg  \n",
            "  inflating: train/ISIC_6126598.jpg  \n",
            "  inflating: __MACOSX/train/._ISIC_6126598.jpg  \n",
            "  inflating: train/ISIC_1093390.jpg  \n",
            "  inflating: __MACOSX/train/._ISIC_1093390.jpg  \n",
            "  inflating: train/ISIC_4356872.jpg  \n",
            "  inflating: __MACOSX/train/._ISIC_4356872.jpg  \n",
            "  inflating: train/ISIC_0252649.jpg  \n",
            "  inflating: __MACOSX/train/._ISIC_0252649.jpg  \n",
            "  inflating: train/ISIC_9776771.jpg  \n",
            "  inflating: __MACOSX/train/._ISIC_9776771.jpg  \n",
            "  inflating: train/ISIC_3961101.jpg  \n",
            "  inflating: __MACOSX/train/._ISIC_3961101.jpg  \n",
            "  inflating: train/ISIC_9028442.jpg  \n",
            "  inflating: __MACOSX/train/._ISIC_9028442.jpg  \n",
            "  inflating: train/ISIC_1205438.jpg  \n",
            "  inflating: __MACOSX/train/._ISIC_1205438.jpg  \n",
            "  inflating: train/ISIC_7974945.jpg  \n",
            "  inflating: __MACOSX/train/._ISIC_7974945.jpg  \n",
            "  inflating: train/ISIC_9219633.jpg  \n",
            "  inflating: __MACOSX/train/._ISIC_9219633.jpg  \n",
            "  inflating: train/ISIC_0357043.jpg  \n",
            "  inflating: __MACOSX/train/._ISIC_0357043.jpg  \n",
            "  inflating: train/ISIC_1338975.jpg  \n",
            "  inflating: __MACOSX/train/._ISIC_1338975.jpg  \n",
            "  inflating: train/ISIC_2786082.jpg  \n",
            "  inflating: __MACOSX/train/._ISIC_2786082.jpg  \n",
            "  inflating: train/ISIC_3723065.jpg  \n",
            "  inflating: __MACOSX/train/._ISIC_3723065.jpg  \n",
            "  inflating: train/ISIC_3042818.jpg  \n",
            "  inflating: __MACOSX/train/._ISIC_3042818.jpg  \n",
            "  inflating: train/ISIC_3744940.jpg  \n",
            "  inflating: __MACOSX/train/._ISIC_3744940.jpg  \n",
            "  inflating: train/ISIC_1646084.jpg  \n",
            "  inflating: __MACOSX/train/._ISIC_1646084.jpg  \n",
            "  inflating: train/ISIC_4442490.jpg  \n",
            "  inflating: __MACOSX/train/._ISIC_4442490.jpg  \n",
            "  inflating: train/ISIC_5644364.jpg  \n",
            "  inflating: __MACOSX/train/._ISIC_5644364.jpg  \n",
            "  inflating: train/ISIC_3586461.jpg  \n",
            "  inflating: __MACOSX/train/._ISIC_3586461.jpg  \n",
            "  inflating: train/ISIC_6868089.jpg  \n",
            "  inflating: __MACOSX/train/._ISIC_6868089.jpg  \n",
            "  inflating: train/ISIC_5849517.jpg  \n",
            "  inflating: __MACOSX/train/._ISIC_5849517.jpg  \n",
            "  inflating: train/ISIC_0967746.jpg  \n",
            "  inflating: __MACOSX/train/._ISIC_0967746.jpg  \n",
            "  inflating: train/ISIC_7170391.jpg  \n",
            "  inflating: __MACOSX/train/._ISIC_7170391.jpg  \n",
            "  inflating: train/ISIC_0249269.jpg  \n",
            "  inflating: __MACOSX/train/._ISIC_0249269.jpg  \n",
            "  inflating: train/ISIC_0675767.jpg  \n",
            "  inflating: __MACOSX/train/._ISIC_0675767.jpg  \n",
            "  inflating: train/ISIC_4281858.jpg  \n",
            "  inflating: __MACOSX/train/._ISIC_4281858.jpg  \n",
            "  inflating: train/ISIC_2210565.jpg  \n",
            "  inflating: __MACOSX/train/._ISIC_2210565.jpg  \n",
            "  inflating: train/ISIC_2943089.jpg  \n",
            "  inflating: __MACOSX/train/._ISIC_2943089.jpg  \n",
            "  inflating: train/ISIC_6437676.jpg  \n",
            "  inflating: __MACOSX/train/._ISIC_6437676.jpg  \n",
            "  inflating: train/ISIC_8937753.jpg  \n",
            "  inflating: __MACOSX/train/._ISIC_8937753.jpg  \n",
            "  inflating: train/ISIC_6148533.jpg  \n",
            "  inflating: __MACOSX/train/._ISIC_6148533.jpg  \n",
            "  inflating: train/ISIC_7338351.jpg  \n",
            "  inflating: __MACOSX/train/._ISIC_7338351.jpg  \n",
            "  inflating: train/ISIC_6338078.jpg  \n",
            "  inflating: __MACOSX/train/._ISIC_6338078.jpg  \n",
            "  inflating: train/ISIC_5307900.jpg  \n",
            "  inflating: __MACOSX/train/._ISIC_5307900.jpg  \n",
            "  inflating: train/ISIC_0210308.jpg  \n",
            "  inflating: __MACOSX/train/._ISIC_0210308.jpg  \n",
            "  inflating: train/ISIC_5694421.jpg  \n",
            "  inflating: __MACOSX/train/._ISIC_5694421.jpg  \n",
            "  inflating: train/ISIC_6183124.jpg  \n",
            "  inflating: __MACOSX/train/._ISIC_6183124.jpg  \n",
            "  inflating: train/ISIC_3487019.jpg  \n",
            "  inflating: __MACOSX/train/._ISIC_3487019.jpg  \n",
            "  inflating: train/ISIC_9863995.jpg  \n",
            "  inflating: __MACOSX/train/._ISIC_9863995.jpg  \n",
            "  inflating: train/ISIC_0850854.jpg  \n",
            "  inflating: __MACOSX/train/._ISIC_0850854.jpg  \n",
            "  inflating: train/ISIC_0398140.jpg  \n",
            "  inflating: __MACOSX/train/._ISIC_0398140.jpg  \n",
            "  inflating: train/ISIC_7798310.jpg  \n",
            "  inflating: __MACOSX/train/._ISIC_7798310.jpg  \n",
            "  inflating: train/ISIC_8926892.jpg  \n",
            "  inflating: __MACOSX/train/._ISIC_8926892.jpg  \n",
            "  inflating: train/ISIC_2339849.jpg  \n",
            "  inflating: __MACOSX/train/._ISIC_2339849.jpg  \n",
            "  inflating: train/ISIC_5592956.jpg  \n",
            "  inflating: __MACOSX/train/._ISIC_5592956.jpg  \n",
            "  inflating: train/ISIC_3090792.jpg  \n",
            "  inflating: __MACOSX/train/._ISIC_3090792.jpg  \n",
            "  inflating: train/ISIC_6709052.jpg  \n",
            "  inflating: __MACOSX/train/._ISIC_6709052.jpg  \n",
            "  inflating: train/ISIC_0288421.jpg  \n",
            "  inflating: __MACOSX/train/._ISIC_0288421.jpg  \n",
            "  inflating: train/ISIC_9551410.jpg  \n",
            "  inflating: __MACOSX/train/._ISIC_9551410.jpg  \n",
            "  inflating: train/ISIC_1348538.jpg  \n",
            "  inflating: __MACOSX/train/._ISIC_1348538.jpg  \n",
            "  inflating: train/ISIC_7857144.jpg  \n",
            "  inflating: __MACOSX/train/._ISIC_7857144.jpg  \n",
            "  inflating: train/ISIC_7271745.jpg  \n",
            "  inflating: __MACOSX/train/._ISIC_7271745.jpg  \n",
            "  inflating: train/ISIC_2141786.jpg  \n",
            "  inflating: __MACOSX/train/._ISIC_2141786.jpg  \n",
            "  inflating: train/ISIC_3875612.jpg  \n",
            "  inflating: __MACOSX/train/._ISIC_3875612.jpg  \n",
            "  inflating: train/ISIC_2098959.jpg  \n",
            "  inflating: __MACOSX/train/._ISIC_2098959.jpg  \n",
            "  inflating: train/ISIC_1960472.jpg  \n",
            "  inflating: __MACOSX/train/._ISIC_1960472.jpg  \n",
            "  inflating: train/ISIC_3873263.jpg  \n",
            "  inflating: __MACOSX/train/._ISIC_3873263.jpg  \n",
            "  inflating: train/ISIC_8943978.jpg  \n",
            "  inflating: __MACOSX/train/._ISIC_8943978.jpg  \n",
            "  inflating: train/ISIC_0193907.jpg  \n",
            "  inflating: __MACOSX/train/._ISIC_0193907.jpg  \n",
            "  inflating: train/ISIC_7797745.jpg  \n",
            "  inflating: __MACOSX/train/._ISIC_7797745.jpg  \n",
            "  inflating: train/ISIC_8091098.jpg  \n",
            "  inflating: __MACOSX/train/._ISIC_8091098.jpg  \n",
            "  inflating: train/ISIC_5854552.jpg  \n",
            "  inflating: __MACOSX/train/._ISIC_5854552.jpg  \n",
            "  inflating: train/ISIC_9280210.jpg  \n",
            "  inflating: __MACOSX/train/._ISIC_9280210.jpg  \n",
            "  inflating: train/ISIC_3508258.jpg  \n",
            "  inflating: __MACOSX/train/._ISIC_3508258.jpg  \n",
            "  inflating: train/ISIC_9168700.jpg  \n",
            "  inflating: __MACOSX/train/._ISIC_9168700.jpg  \n",
            "  inflating: train/ISIC_1324390.jpg  \n",
            "  inflating: __MACOSX/train/._ISIC_1324390.jpg  \n",
            "  inflating: train/ISIC_8286548.jpg  \n",
            "  inflating: __MACOSX/train/._ISIC_8286548.jpg  \n",
            "  inflating: train/ISIC_7011753.jpg  \n",
            "  inflating: __MACOSX/train/._ISIC_7011753.jpg  \n",
            "  inflating: train/ISIC_8047390.jpg  \n",
            "  inflating: __MACOSX/train/._ISIC_8047390.jpg  \n",
            "  inflating: train/ISIC_2470790.jpg  \n",
            "  inflating: __MACOSX/train/._ISIC_2470790.jpg  \n",
            "  inflating: train/ISIC_3401240.jpg  \n",
            "  inflating: __MACOSX/train/._ISIC_3401240.jpg  \n",
            "  inflating: train/ISIC_4057256.jpg  \n",
            "  inflating: __MACOSX/train/._ISIC_4057256.jpg  \n",
            "  inflating: train/ISIC_6582783.jpg  \n",
            "  inflating: __MACOSX/train/._ISIC_6582783.jpg  \n",
            "  inflating: train/ISIC_1435944.jpg  \n",
            "  inflating: __MACOSX/train/._ISIC_1435944.jpg  \n",
            "  inflating: train/ISIC_9543982.jpg  \n",
            "  inflating: __MACOSX/train/._ISIC_9543982.jpg  \n",
            "  inflating: train/ISIC_2217550.jpg  \n",
            "  inflating: __MACOSX/train/._ISIC_2217550.jpg  \n",
            "  inflating: train/ISIC_5969837.jpg  \n",
            "  inflating: __MACOSX/train/._ISIC_5969837.jpg  \n",
            "  inflating: train/ISIC_8437480.jpg  \n",
            "  inflating: __MACOSX/train/._ISIC_8437480.jpg  \n",
            "  inflating: train/ISIC_8296773.jpg  \n",
            "  inflating: __MACOSX/train/._ISIC_8296773.jpg  \n",
            "  inflating: train/ISIC_9419454.jpg  \n",
            "  inflating: __MACOSX/train/._ISIC_9419454.jpg  \n",
            "  inflating: train/ISIC_2924748.jpg  \n",
            "  inflating: __MACOSX/train/._ISIC_2924748.jpg  \n",
            "  inflating: train/ISIC_8096907.jpg  \n",
            "  inflating: __MACOSX/train/._ISIC_8096907.jpg  \n",
            "  inflating: train/ISIC_9598638.jpg  \n",
            "  inflating: __MACOSX/train/._ISIC_9598638.jpg  \n",
            "  inflating: train/ISIC_9992950.jpg  \n",
            "  inflating: __MACOSX/train/._ISIC_9992950.jpg  \n",
            "  inflating: train/ISIC_1540317.jpg  \n",
            "  inflating: __MACOSX/train/._ISIC_1540317.jpg  \n",
            "  inflating: train/ISIC_4939497.jpg  \n",
            "  inflating: __MACOSX/train/._ISIC_4939497.jpg  \n",
            "  inflating: train/ISIC_2391053.jpg  \n",
            "  inflating: __MACOSX/train/._ISIC_2391053.jpg  \n",
            "  inflating: train/ISIC_0413472.jpg  \n",
            "  inflating: __MACOSX/train/._ISIC_0413472.jpg  \n",
            "  inflating: train/ISIC_5404908.jpg  \n",
            "  inflating: __MACOSX/train/._ISIC_5404908.jpg  \n",
            "  inflating: train/ISIC_1573905.jpg  \n",
            "  inflating: __MACOSX/train/._ISIC_1573905.jpg  \n",
            "  inflating: train/ISIC_1222905.jpg  \n",
            "  inflating: __MACOSX/train/._ISIC_1222905.jpg  \n",
            "  inflating: train/ISIC_9462958.jpg  \n",
            "  inflating: __MACOSX/train/._ISIC_9462958.jpg  \n",
            "  inflating: train/ISIC_0299504.jpg  \n",
            "  inflating: __MACOSX/train/._ISIC_0299504.jpg  \n",
            "  inflating: train/ISIC_7304480.jpg  \n",
            "  inflating: __MACOSX/train/._ISIC_7304480.jpg  \n",
            "  inflating: train/ISIC_1264950.jpg  \n",
            "  inflating: __MACOSX/train/._ISIC_1264950.jpg  \n",
            "  inflating: train/ISIC_1419510.jpg  \n",
            "  inflating: __MACOSX/train/._ISIC_1419510.jpg  \n",
            "  inflating: train/ISIC_4424729.jpg  \n",
            "  inflating: __MACOSX/train/._ISIC_4424729.jpg  \n",
            "  inflating: train/ISIC_0204355.jpg  \n",
            "  inflating: __MACOSX/train/._ISIC_0204355.jpg  \n",
            "  inflating: train/ISIC_4794052.jpg  \n",
            "  inflating: __MACOSX/train/._ISIC_4794052.jpg  \n",
            "  inflating: train/ISIC_9766238.jpg  \n",
            "  inflating: __MACOSX/train/._ISIC_9766238.jpg  \n",
            "  inflating: train/ISIC_7145302.jpg  \n",
            "  inflating: __MACOSX/train/._ISIC_7145302.jpg  \n",
            "  inflating: train/ISIC_3178212.jpg  \n",
            "  inflating: __MACOSX/train/._ISIC_3178212.jpg  \n",
            "  inflating: train/ISIC_6757674.jpg  \n",
            "  inflating: __MACOSX/train/._ISIC_6757674.jpg  \n",
            "  inflating: train/ISIC_3459981.jpg  \n",
            "  inflating: __MACOSX/train/._ISIC_3459981.jpg  \n",
            "  inflating: train/ISIC_7433711.jpg  \n",
            "  inflating: __MACOSX/train/._ISIC_7433711.jpg  \n",
            "  inflating: train/ISIC_3493050.jpg  \n",
            "  inflating: __MACOSX/train/._ISIC_3493050.jpg  \n",
            "  inflating: train/ISIC_5104241.jpg  \n",
            "  inflating: __MACOSX/train/._ISIC_5104241.jpg  \n",
            "  inflating: train/ISIC_6536232.jpg  \n",
            "  inflating: __MACOSX/train/._ISIC_6536232.jpg  \n",
            "  inflating: train/ISIC_7362711.jpg  \n",
            "  inflating: __MACOSX/train/._ISIC_7362711.jpg  \n",
            "  inflating: train/ISIC_7776593.jpg  \n",
            "  inflating: __MACOSX/train/._ISIC_7776593.jpg  \n",
            "  inflating: train/ISIC_6997061.jpg  \n",
            "  inflating: __MACOSX/train/._ISIC_6997061.jpg  \n",
            "  inflating: train/ISIC_6512384.jpg  \n",
            "  inflating: __MACOSX/train/._ISIC_6512384.jpg  \n",
            "  inflating: train/ISIC_8178160.jpg  \n",
            "  inflating: __MACOSX/train/._ISIC_8178160.jpg  \n",
            "  inflating: train/ISIC_7535412.jpg  \n",
            "  inflating: __MACOSX/train/._ISIC_7535412.jpg  \n",
            "  inflating: train/ISIC_5350864.jpg  \n",
            "  inflating: __MACOSX/train/._ISIC_5350864.jpg  \n",
            "  inflating: train/ISIC_9940802.jpg  \n",
            "  inflating: __MACOSX/train/._ISIC_9940802.jpg  \n",
            "  inflating: train/ISIC_7921944.jpg  \n",
            "  inflating: __MACOSX/train/._ISIC_7921944.jpg  \n",
            "  inflating: train/ISIC_2434878.jpg  \n",
            "  inflating: __MACOSX/train/._ISIC_2434878.jpg  \n",
            "  inflating: train/ISIC_0464836.jpg  \n",
            "  inflating: __MACOSX/train/._ISIC_0464836.jpg  \n",
            "  inflating: train/ISIC_9014393.jpg  \n",
            "  inflating: __MACOSX/train/._ISIC_9014393.jpg  \n",
            "  inflating: train/ISIC_9169422.jpg  \n",
            "  inflating: __MACOSX/train/._ISIC_9169422.jpg  \n",
            "  inflating: train/ISIC_1731230.jpg  \n",
            "  inflating: __MACOSX/train/._ISIC_1731230.jpg  \n",
            "  inflating: train/ISIC_6657660.jpg  \n",
            "  inflating: __MACOSX/train/._ISIC_6657660.jpg  \n",
            "  inflating: train/ISIC_6938682.jpg  \n",
            "  inflating: __MACOSX/train/._ISIC_6938682.jpg  \n",
            "  inflating: train/ISIC_2800198.jpg  \n",
            "  inflating: __MACOSX/train/._ISIC_2800198.jpg  \n",
            "  inflating: train/ISIC_1571860.jpg  \n",
            "  inflating: __MACOSX/train/._ISIC_1571860.jpg  \n",
            "  inflating: train/ISIC_5524400.jpg  \n",
            "  inflating: __MACOSX/train/._ISIC_5524400.jpg  \n",
            "  inflating: train/ISIC_8749680.jpg  \n",
            "  inflating: __MACOSX/train/._ISIC_8749680.jpg  \n",
            "  inflating: train/ISIC_5315486.jpg  \n",
            "  inflating: __MACOSX/train/._ISIC_5315486.jpg  \n",
            "  inflating: train/ISIC_6954994.jpg  \n",
            "  inflating: __MACOSX/train/._ISIC_6954994.jpg  \n",
            "  inflating: train/ISIC_9059293.jpg  \n",
            "  inflating: __MACOSX/train/._ISIC_9059293.jpg  \n",
            "  inflating: train/ISIC_2968542.jpg  \n",
            "  inflating: __MACOSX/train/._ISIC_2968542.jpg  \n",
            "  inflating: train/ISIC_4674818.jpg  \n",
            "  inflating: __MACOSX/train/._ISIC_4674818.jpg  \n",
            "  inflating: train/ISIC_8250654.jpg  \n",
            "  inflating: __MACOSX/train/._ISIC_8250654.jpg  \n",
            "  inflating: train/ISIC_6059416.jpg  \n",
            "  inflating: __MACOSX/train/._ISIC_6059416.jpg  \n",
            "  inflating: train/ISIC_3119175.jpg  \n",
            "  inflating: __MACOSX/train/._ISIC_3119175.jpg  \n",
            "  inflating: train/ISIC_2535541.jpg  \n",
            "  inflating: __MACOSX/train/._ISIC_2535541.jpg  \n",
            "  inflating: train/ISIC_6777229.jpg  \n",
            "  inflating: __MACOSX/train/._ISIC_6777229.jpg  \n",
            "  inflating: train/ISIC_1015644.jpg  \n",
            "  inflating: __MACOSX/train/._ISIC_1015644.jpg  \n",
            "  inflating: train/ISIC_3131821.jpg  \n",
            "  inflating: __MACOSX/train/._ISIC_3131821.jpg  \n",
            "  inflating: train/ISIC_2633836.jpg  \n",
            "  inflating: __MACOSX/train/._ISIC_2633836.jpg  \n",
            "  inflating: train/ISIC_6630610.jpg  \n",
            "  inflating: __MACOSX/train/._ISIC_6630610.jpg  \n",
            "  inflating: train/ISIC_4130540.jpg  \n",
            "  inflating: __MACOSX/train/._ISIC_4130540.jpg  \n",
            "  inflating: train/ISIC_6588537.jpg  \n",
            "  inflating: __MACOSX/train/._ISIC_6588537.jpg  \n",
            "  inflating: train/ISIC_0623284.jpg  \n",
            "  inflating: __MACOSX/train/._ISIC_0623284.jpg  \n",
            "  inflating: train/ISIC_1696070.jpg  \n",
            "  inflating: __MACOSX/train/._ISIC_1696070.jpg  \n",
            "  inflating: train/ISIC_0354589.jpg  \n",
            "  inflating: __MACOSX/train/._ISIC_0354589.jpg  \n",
            "  inflating: train/ISIC_9636382.jpg  \n",
            "  inflating: __MACOSX/train/._ISIC_9636382.jpg  \n",
            "  inflating: train/ISIC_6958823.jpg  \n",
            "  inflating: __MACOSX/train/._ISIC_6958823.jpg  \n",
            "  inflating: train/ISIC_0325416.jpg  \n",
            "  inflating: __MACOSX/train/._ISIC_0325416.jpg  \n",
            "  inflating: train/ISIC_1748718.jpg  \n",
            "  inflating: __MACOSX/train/._ISIC_1748718.jpg  \n",
            "  inflating: train/ISIC_2895418.jpg  \n",
            "  inflating: __MACOSX/train/._ISIC_2895418.jpg  \n",
            "  inflating: train/ISIC_2239134.jpg  \n",
            "  inflating: __MACOSX/train/._ISIC_2239134.jpg  \n",
            "  inflating: train/ISIC_9053755.jpg  \n",
            "  inflating: __MACOSX/train/._ISIC_9053755.jpg  \n",
            "  inflating: train/ISIC_0365032.jpg  \n",
            "  inflating: __MACOSX/train/._ISIC_0365032.jpg  \n",
            "  inflating: train/ISIC_0977596.jpg  \n",
            "  inflating: __MACOSX/train/._ISIC_0977596.jpg  \n",
            "  inflating: train/ISIC_2318850.jpg  \n",
            "  inflating: __MACOSX/train/._ISIC_2318850.jpg  \n",
            "  inflating: train/ISIC_0590790.jpg  \n",
            "  inflating: __MACOSX/train/._ISIC_0590790.jpg  \n",
            "  inflating: train/ISIC_8142203.jpg  \n",
            "  inflating: __MACOSX/train/._ISIC_8142203.jpg  \n",
            "  inflating: train/ISIC_8538758.jpg  \n",
            "  inflating: __MACOSX/train/._ISIC_8538758.jpg  \n",
            "  inflating: train/ISIC_4643939.jpg  \n",
            "  inflating: __MACOSX/train/._ISIC_4643939.jpg  \n",
            "  inflating: train/ISIC_4750951.jpg  \n",
            "  inflating: __MACOSX/train/._ISIC_4750951.jpg  \n",
            "  inflating: train/ISIC_8041078.jpg  \n",
            "  inflating: __MACOSX/train/._ISIC_8041078.jpg  \n",
            "  inflating: train/ISIC_1101631.jpg  \n",
            "  inflating: __MACOSX/train/._ISIC_1101631.jpg  \n",
            "  inflating: train/ISIC_3045178.jpg  \n",
            "  inflating: __MACOSX/train/._ISIC_3045178.jpg  \n",
            "  inflating: train/ISIC_7018944.jpg  \n",
            "  inflating: __MACOSX/train/._ISIC_7018944.jpg  \n",
            "  inflating: train/ISIC_5866523.jpg  \n",
            "  inflating: __MACOSX/train/._ISIC_5866523.jpg  \n",
            "  inflating: train/ISIC_1290184.jpg  \n",
            "  inflating: __MACOSX/train/._ISIC_1290184.jpg  \n",
            "  inflating: train/ISIC_9475217.jpg  \n",
            "  inflating: __MACOSX/train/._ISIC_9475217.jpg  \n",
            "  inflating: train/ISIC_0523228.jpg  \n",
            "  inflating: __MACOSX/train/._ISIC_0523228.jpg  \n",
            "  inflating: train/ISIC_3911357.jpg  \n",
            "  inflating: __MACOSX/train/._ISIC_3911357.jpg  \n",
            "  inflating: train/ISIC_0732389.jpg  \n",
            "  inflating: __MACOSX/train/._ISIC_0732389.jpg  \n",
            "  inflating: train/ISIC_3893354.jpg  \n",
            "  inflating: __MACOSX/train/._ISIC_3893354.jpg  \n",
            "  inflating: train/ISIC_2769292.jpg  \n",
            "  inflating: __MACOSX/train/._ISIC_2769292.jpg  \n",
            "  inflating: train/ISIC_6928308.jpg  \n",
            "  inflating: __MACOSX/train/._ISIC_6928308.jpg  \n",
            "  inflating: train/ISIC_6063007.jpg  \n",
            "  inflating: __MACOSX/train/._ISIC_6063007.jpg  \n",
            "  inflating: train/ISIC_3868858.jpg  \n",
            "  inflating: __MACOSX/train/._ISIC_3868858.jpg  \n",
            "  inflating: train/ISIC_4393521.jpg  \n",
            "  inflating: __MACOSX/train/._ISIC_4393521.jpg  \n",
            "  inflating: train/ISIC_3249936.jpg  \n",
            "  inflating: __MACOSX/train/._ISIC_3249936.jpg  \n",
            "  inflating: train/ISIC_6502168.jpg  \n",
            "  inflating: __MACOSX/train/._ISIC_6502168.jpg  \n",
            "  inflating: train/ISIC_0094701.jpg  \n",
            "  inflating: __MACOSX/train/._ISIC_0094701.jpg  \n",
            "  inflating: train/ISIC_2859012.jpg  \n",
            "  inflating: __MACOSX/train/._ISIC_2859012.jpg  \n",
            "  inflating: train/ISIC_5075453.jpg  \n",
            "  inflating: __MACOSX/train/._ISIC_5075453.jpg  \n",
            "  inflating: train/ISIC_9842026.jpg  \n",
            "  inflating: __MACOSX/train/._ISIC_9842026.jpg  \n",
            "  inflating: train/ISIC_2198030.jpg  \n",
            "  inflating: __MACOSX/train/._ISIC_2198030.jpg  \n",
            "  inflating: train/ISIC_6636275.jpg  \n",
            "  inflating: __MACOSX/train/._ISIC_6636275.jpg  \n",
            "  inflating: train/ISIC_6407004.jpg  \n",
            "  inflating: __MACOSX/train/._ISIC_6407004.jpg  \n",
            "  inflating: train/ISIC_4848291.jpg  \n",
            "  inflating: __MACOSX/train/._ISIC_4848291.jpg  \n",
            "  inflating: train/ISIC_0586680.jpg  \n",
            "  inflating: __MACOSX/train/._ISIC_0586680.jpg  \n",
            "  inflating: train/ISIC_5039895.jpg  \n",
            "  inflating: __MACOSX/train/._ISIC_5039895.jpg  \n",
            "  inflating: train/ISIC_3611014.jpg  \n",
            "  inflating: __MACOSX/train/._ISIC_3611014.jpg  \n",
            "  inflating: train/ISIC_9279110.jpg  \n",
            "  inflating: __MACOSX/train/._ISIC_9279110.jpg  \n",
            "  inflating: train/ISIC_2849229.jpg  \n",
            "  inflating: __MACOSX/train/._ISIC_2849229.jpg  \n",
            "  inflating: train/ISIC_2282946.jpg  \n",
            "  inflating: __MACOSX/train/._ISIC_2282946.jpg  \n",
            "  inflating: train/ISIC_6853786.jpg  \n",
            "  inflating: __MACOSX/train/._ISIC_6853786.jpg  \n",
            "  inflating: train/ISIC_9141379.jpg  \n",
            "  inflating: __MACOSX/train/._ISIC_9141379.jpg  \n",
            "  inflating: train/ISIC_0226137.jpg  \n",
            "  inflating: __MACOSX/train/._ISIC_0226137.jpg  \n",
            "  inflating: train/ISIC_9177813.jpg  \n",
            "  inflating: __MACOSX/train/._ISIC_9177813.jpg  \n",
            "  inflating: train/ISIC_9082440.jpg  \n",
            "  inflating: __MACOSX/train/._ISIC_9082440.jpg  \n",
            "  inflating: train/ISIC_3742470.jpg  \n",
            "  inflating: __MACOSX/train/._ISIC_3742470.jpg  \n",
            "  inflating: train/ISIC_5026745.jpg  \n",
            "  inflating: __MACOSX/train/._ISIC_5026745.jpg  \n",
            "  inflating: train/ISIC_9475559.jpg  \n",
            "  inflating: __MACOSX/train/._ISIC_9475559.jpg  \n",
            "  inflating: train/ISIC_5778476.jpg  \n",
            "  inflating: __MACOSX/train/._ISIC_5778476.jpg  \n",
            "  inflating: train/ISIC_5731710.jpg  \n",
            "  inflating: __MACOSX/train/._ISIC_5731710.jpg  \n",
            "  inflating: train/ISIC_2734817.jpg  \n",
            "  inflating: __MACOSX/train/._ISIC_2734817.jpg  \n",
            "  inflating: train/ISIC_7894682.jpg  \n",
            "  inflating: __MACOSX/train/._ISIC_7894682.jpg  \n",
            "  inflating: train/ISIC_1264993.jpg  \n",
            "  inflating: __MACOSX/train/._ISIC_1264993.jpg  \n",
            "  inflating: train/ISIC_4965459.jpg  \n",
            "  inflating: __MACOSX/train/._ISIC_4965459.jpg  \n",
            "  inflating: train/ISIC_8756011.jpg  \n",
            "  inflating: __MACOSX/train/._ISIC_8756011.jpg  \n",
            "  inflating: train/ISIC_3081674.jpg  \n",
            "  inflating: __MACOSX/train/._ISIC_3081674.jpg  \n",
            "  inflating: train/ISIC_6391567.jpg  \n",
            "  inflating: __MACOSX/train/._ISIC_6391567.jpg  \n",
            "  inflating: train/ISIC_8247499.jpg  \n",
            "  inflating: __MACOSX/train/._ISIC_8247499.jpg  \n",
            "  inflating: train/ISIC_9221435.jpg  \n",
            "  inflating: __MACOSX/train/._ISIC_9221435.jpg  \n",
            "  inflating: train/ISIC_0946777.jpg  \n",
            "  inflating: __MACOSX/train/._ISIC_0946777.jpg  \n",
            "  inflating: train/ISIC_6020102.jpg  \n",
            "  inflating: __MACOSX/train/._ISIC_6020102.jpg  \n",
            "  inflating: train/ISIC_4709818.jpg  \n",
            "  inflating: __MACOSX/train/._ISIC_4709818.jpg  \n",
            "  inflating: train/ISIC_5590172.jpg  \n",
            "  inflating: __MACOSX/train/._ISIC_5590172.jpg  \n",
            "  inflating: train/ISIC_4713698.jpg  \n",
            "  inflating: __MACOSX/train/._ISIC_4713698.jpg  \n",
            "  inflating: train/ISIC_2381283.jpg  \n",
            "  inflating: __MACOSX/train/._ISIC_2381283.jpg  \n",
            "  inflating: train/ISIC_1747417.jpg  \n",
            "  inflating: __MACOSX/train/._ISIC_1747417.jpg  \n",
            "  inflating: train/ISIC_2220459.jpg  \n",
            "  inflating: __MACOSX/train/._ISIC_2220459.jpg  \n",
            "  inflating: train/ISIC_5960608.jpg  \n",
            "  inflating: __MACOSX/train/._ISIC_5960608.jpg  \n",
            "  inflating: train/ISIC_7204331.jpg  \n",
            "  inflating: __MACOSX/train/._ISIC_7204331.jpg  \n",
            "  inflating: train/ISIC_6978517.jpg  \n",
            "  inflating: __MACOSX/train/._ISIC_6978517.jpg  \n",
            "  inflating: train/ISIC_0282681.jpg  \n",
            "  inflating: __MACOSX/train/._ISIC_0282681.jpg  \n",
            "  inflating: train/ISIC_9669876.jpg  \n",
            "  inflating: __MACOSX/train/._ISIC_9669876.jpg  \n",
            "  inflating: train/ISIC_7336383.jpg  \n",
            "  inflating: __MACOSX/train/._ISIC_7336383.jpg  \n",
            "  inflating: train/ISIC_7300631.jpg  \n",
            "  inflating: __MACOSX/train/._ISIC_7300631.jpg  \n",
            "  inflating: train/ISIC_5513509.jpg  \n",
            "  inflating: __MACOSX/train/._ISIC_5513509.jpg  \n",
            "  inflating: train/ISIC_3538402.jpg  \n",
            "  inflating: __MACOSX/train/._ISIC_3538402.jpg  \n",
            "  inflating: train/ISIC_7598343.jpg  \n",
            "  inflating: __MACOSX/train/._ISIC_7598343.jpg  \n",
            "  inflating: train/ISIC_2688050.jpg  \n",
            "  inflating: __MACOSX/train/._ISIC_2688050.jpg  \n",
            "  inflating: train/ISIC_8799674.jpg  \n",
            "  inflating: __MACOSX/train/._ISIC_8799674.jpg  \n",
            "  inflating: train/ISIC_2418389.jpg  \n",
            "  inflating: __MACOSX/train/._ISIC_2418389.jpg  \n",
            "  inflating: train/ISIC_8593493.jpg  \n",
            "  inflating: __MACOSX/train/._ISIC_8593493.jpg  \n",
            "  inflating: train/ISIC_5258551.jpg  \n",
            "  inflating: __MACOSX/train/._ISIC_5258551.jpg  \n",
            "  inflating: train/ISIC_3003111.jpg  \n",
            "  inflating: __MACOSX/train/._ISIC_3003111.jpg  \n",
            "  inflating: train/ISIC_3703438.jpg  \n",
            "  inflating: __MACOSX/train/._ISIC_3703438.jpg  \n",
            "  inflating: train/ISIC_7603865.jpg  \n",
            "  inflating: __MACOSX/train/._ISIC_7603865.jpg  \n",
            "  inflating: train/ISIC_9059250.jpg  \n",
            "  inflating: __MACOSX/train/._ISIC_9059250.jpg  \n",
            "  inflating: train/ISIC_7708924.jpg  \n",
            "  inflating: __MACOSX/train/._ISIC_7708924.jpg  \n",
            "  inflating: train/ISIC_1544818.jpg  \n",
            "  inflating: __MACOSX/train/._ISIC_1544818.jpg  \n",
            "  inflating: train/ISIC_4973549.jpg  \n",
            "  inflating: __MACOSX/train/._ISIC_4973549.jpg  \n",
            "  inflating: train/ISIC_2126084.jpg  \n",
            "  inflating: __MACOSX/train/._ISIC_2126084.jpg  \n",
            "  inflating: train/ISIC_2086540.jpg  \n",
            "  inflating: __MACOSX/train/._ISIC_2086540.jpg  \n",
            "  inflating: train/ISIC_3976496.jpg  \n",
            "  inflating: __MACOSX/train/._ISIC_3976496.jpg  \n",
            "  inflating: train/ISIC_9012721.jpg  \n",
            "  inflating: __MACOSX/train/._ISIC_9012721.jpg  \n",
            "  inflating: train/ISIC_2363574.jpg  \n",
            "  inflating: __MACOSX/train/._ISIC_2363574.jpg  \n",
            "  inflating: train/ISIC_8429669.jpg  \n",
            "  inflating: __MACOSX/train/._ISIC_8429669.jpg  \n",
            "  inflating: train/ISIC_2664946.jpg  \n",
            "  inflating: __MACOSX/train/._ISIC_2664946.jpg  \n",
            "  inflating: train/ISIC_3372750.jpg  \n",
            "  inflating: __MACOSX/train/._ISIC_3372750.jpg  \n",
            "  inflating: train/ISIC_3083711.jpg  \n",
            "  inflating: __MACOSX/train/._ISIC_3083711.jpg  \n",
            "  inflating: train/ISIC_2691267.jpg  \n",
            "  inflating: __MACOSX/train/._ISIC_2691267.jpg  \n",
            "  inflating: train/ISIC_5901590.jpg  \n",
            "  inflating: __MACOSX/train/._ISIC_5901590.jpg  \n",
            "  inflating: train/ISIC_2925481.jpg  \n",
            "  inflating: __MACOSX/train/._ISIC_2925481.jpg  \n",
            "  inflating: train/ISIC_9824610.jpg  \n",
            "  inflating: __MACOSX/train/._ISIC_9824610.jpg  \n",
            "  inflating: train/ISIC_7096402.jpg  \n",
            "  inflating: __MACOSX/train/._ISIC_7096402.jpg  \n",
            "  inflating: train/ISIC_7086611.jpg  \n",
            "  inflating: __MACOSX/train/._ISIC_7086611.jpg  \n",
            "  inflating: train/ISIC_8493108.jpg  \n",
            "  inflating: __MACOSX/train/._ISIC_8493108.jpg  \n",
            "  inflating: train/ISIC_5849715.jpg  \n",
            "  inflating: __MACOSX/train/._ISIC_5849715.jpg  \n",
            "  inflating: train/ISIC_9472975.jpg  \n",
            "  inflating: __MACOSX/train/._ISIC_9472975.jpg  \n",
            "  inflating: train/ISIC_8070064.jpg  \n",
            "  inflating: __MACOSX/train/._ISIC_8070064.jpg  \n",
            "  inflating: train/ISIC_1802793.jpg  \n",
            "  inflating: __MACOSX/train/._ISIC_1802793.jpg  \n",
            "  inflating: train/ISIC_7690228.jpg  \n",
            "  inflating: __MACOSX/train/._ISIC_7690228.jpg  \n",
            "  inflating: train/ISIC_8500006.jpg  \n",
            "  inflating: __MACOSX/train/._ISIC_8500006.jpg  \n",
            "  inflating: train/ISIC_0825763.jpg  \n",
            "  inflating: __MACOSX/train/._ISIC_0825763.jpg  \n",
            "  inflating: train/ISIC_7115079.jpg  \n",
            "  inflating: __MACOSX/train/._ISIC_7115079.jpg  \n",
            "  inflating: train/ISIC_0409172.jpg  \n",
            "  inflating: __MACOSX/train/._ISIC_0409172.jpg  \n",
            "  inflating: train/ISIC_4891057.jpg  \n",
            "  inflating: __MACOSX/train/._ISIC_4891057.jpg  \n",
            "  inflating: train/ISIC_2841488.jpg  \n",
            "  inflating: __MACOSX/train/._ISIC_2841488.jpg  \n",
            "  inflating: train/ISIC_5970180.jpg  \n",
            "  inflating: __MACOSX/train/._ISIC_5970180.jpg  \n",
            "  inflating: train/ISIC_2785789.jpg  \n",
            "  inflating: __MACOSX/train/._ISIC_2785789.jpg  \n",
            "  inflating: train/ISIC_2817816.jpg  \n",
            "  inflating: __MACOSX/train/._ISIC_2817816.jpg  \n",
            "  inflating: train/ISIC_2827719.jpg  \n",
            "  inflating: __MACOSX/train/._ISIC_2827719.jpg  \n",
            "  inflating: train/ISIC_8502163.jpg  \n",
            "  inflating: __MACOSX/train/._ISIC_8502163.jpg  \n",
            "  inflating: train/ISIC_2172628.jpg  \n",
            "  inflating: __MACOSX/train/._ISIC_2172628.jpg  \n",
            "  inflating: train/ISIC_2869310.jpg  \n",
            "  inflating: __MACOSX/train/._ISIC_2869310.jpg  \n",
            "  inflating: train/ISIC_5640472.jpg  \n",
            "  inflating: __MACOSX/train/._ISIC_5640472.jpg  \n",
            "  inflating: train/ISIC_4994891.jpg  \n",
            "  inflating: __MACOSX/train/._ISIC_4994891.jpg  \n",
            "  inflating: train/ISIC_0583539.jpg  \n",
            "  inflating: __MACOSX/train/._ISIC_0583539.jpg  \n",
            "  inflating: train/ISIC_4948722.jpg  \n",
            "  inflating: __MACOSX/train/._ISIC_4948722.jpg  \n",
            "  inflating: train/ISIC_0076545.jpg  \n",
            "  inflating: __MACOSX/train/._ISIC_0076545.jpg  \n",
            "  inflating: train/ISIC_8875762.jpg  \n",
            "  inflating: __MACOSX/train/._ISIC_8875762.jpg  \n",
            "  inflating: train/ISIC_6533612.jpg  \n",
            "  inflating: __MACOSX/train/._ISIC_6533612.jpg  \n",
            "  inflating: train/ISIC_4691314.jpg  \n",
            "  inflating: __MACOSX/train/._ISIC_4691314.jpg  \n",
            "  inflating: train/ISIC_0179104.jpg  \n",
            "  inflating: __MACOSX/train/._ISIC_0179104.jpg  \n",
            "  inflating: train/ISIC_9374187.jpg  \n",
            "  inflating: __MACOSX/train/._ISIC_9374187.jpg  \n",
            "  inflating: train/ISIC_2995801.jpg  \n",
            "  inflating: __MACOSX/train/._ISIC_2995801.jpg  \n",
            "  inflating: train/ISIC_6248789.jpg  \n",
            "  inflating: __MACOSX/train/._ISIC_6248789.jpg  \n",
            "  inflating: train/ISIC_3224099.jpg  \n",
            "  inflating: __MACOSX/train/._ISIC_3224099.jpg  \n",
            "  inflating: train/ISIC_8817681.jpg  \n",
            "  inflating: __MACOSX/train/._ISIC_8817681.jpg  \n",
            "  inflating: train/ISIC_9846081.jpg  \n",
            "  inflating: __MACOSX/train/._ISIC_9846081.jpg  \n",
            "  inflating: train/ISIC_3978646.jpg  \n",
            "  inflating: __MACOSX/train/._ISIC_3978646.jpg  \n",
            "  inflating: train/ISIC_9208528.jpg  \n",
            "  inflating: __MACOSX/train/._ISIC_9208528.jpg  \n",
            "  inflating: train/ISIC_8490373.jpg  \n",
            "  inflating: __MACOSX/train/._ISIC_8490373.jpg  \n",
            "  inflating: train/ISIC_4325452.jpg  \n",
            "  inflating: __MACOSX/train/._ISIC_4325452.jpg  \n",
            "  inflating: train/ISIC_5612452.jpg  \n",
            "  inflating: __MACOSX/train/._ISIC_5612452.jpg  \n",
            "  inflating: train/ISIC_0160455.jpg  \n",
            "  inflating: __MACOSX/train/._ISIC_0160455.jpg  \n",
            "  inflating: train/ISIC_5028581.jpg  \n",
            "  inflating: __MACOSX/train/._ISIC_5028581.jpg  \n",
            "  inflating: train/ISIC_2580891.jpg  \n",
            "  inflating: __MACOSX/train/._ISIC_2580891.jpg  \n",
            "  inflating: train/ISIC_8973461.jpg  \n",
            "  inflating: __MACOSX/train/._ISIC_8973461.jpg  \n",
            "  inflating: train/ISIC_8811596.jpg  \n",
            "  inflating: __MACOSX/train/._ISIC_8811596.jpg  \n",
            "  inflating: train/ISIC_2532945.jpg  \n",
            "  inflating: __MACOSX/train/._ISIC_2532945.jpg  \n",
            "  inflating: train/ISIC_1483604.jpg  \n",
            "  inflating: __MACOSX/train/._ISIC_1483604.jpg  \n",
            "  inflating: train/ISIC_1411366.jpg  \n",
            "  inflating: __MACOSX/train/._ISIC_1411366.jpg  \n",
            "  inflating: train/ISIC_0628662.jpg  \n",
            "  inflating: __MACOSX/train/._ISIC_0628662.jpg  \n",
            "  inflating: train/ISIC_8070070.jpg  \n",
            "  inflating: __MACOSX/train/._ISIC_8070070.jpg  \n",
            "  inflating: train/ISIC_1985824.jpg  \n",
            "  inflating: __MACOSX/train/._ISIC_1985824.jpg  \n",
            "  inflating: train/ISIC_2033106.jpg  \n",
            "  inflating: __MACOSX/train/._ISIC_2033106.jpg  \n",
            "  inflating: train/ISIC_5568346.jpg  \n",
            "  inflating: __MACOSX/train/._ISIC_5568346.jpg  \n",
            "  inflating: train/ISIC_9529971.jpg  \n",
            "  inflating: __MACOSX/train/._ISIC_9529971.jpg  \n",
            "  inflating: train/ISIC_3502577.jpg  \n",
            "  inflating: __MACOSX/train/._ISIC_3502577.jpg  \n",
            "  inflating: train/ISIC_9239093.jpg  \n",
            "  inflating: __MACOSX/train/._ISIC_9239093.jpg  \n",
            "  inflating: train/ISIC_7757763.jpg  \n",
            "  inflating: __MACOSX/train/._ISIC_7757763.jpg  \n",
            "  inflating: train/ISIC_5188723.jpg  \n",
            "  inflating: __MACOSX/train/._ISIC_5188723.jpg  \n",
            "  inflating: train/ISIC_0287510.jpg  \n",
            "  inflating: __MACOSX/train/._ISIC_0287510.jpg  \n",
            "  inflating: train/ISIC_0760168.jpg  \n",
            "  inflating: __MACOSX/train/._ISIC_0760168.jpg  \n",
            "  inflating: train/ISIC_8169253.jpg  \n",
            "  inflating: __MACOSX/train/._ISIC_8169253.jpg  \n",
            "  inflating: train/ISIC_3559215.jpg  \n",
            "  inflating: __MACOSX/train/._ISIC_3559215.jpg  \n",
            "  inflating: train/ISIC_5003062.jpg  \n",
            "  inflating: __MACOSX/train/._ISIC_5003062.jpg  \n",
            "  inflating: train/ISIC_5523637.jpg  \n",
            "  inflating: __MACOSX/train/._ISIC_5523637.jpg  \n",
            "  inflating: train/ISIC_8921327.jpg  \n",
            "  inflating: __MACOSX/train/._ISIC_8921327.jpg  \n",
            "  inflating: train/ISIC_6526237.jpg  \n",
            "  inflating: __MACOSX/train/._ISIC_6526237.jpg  \n",
            "  inflating: train/ISIC_1967651.jpg  \n",
            "  inflating: __MACOSX/train/._ISIC_1967651.jpg  \n",
            "  inflating: train/ISIC_0588322.jpg  \n",
            "  inflating: __MACOSX/train/._ISIC_0588322.jpg  \n",
            "  inflating: train/ISIC_1450474.jpg  \n",
            "  inflating: __MACOSX/train/._ISIC_1450474.jpg  \n",
            "  inflating: train/ISIC_2504207.jpg  \n",
            "  inflating: __MACOSX/train/._ISIC_2504207.jpg  \n",
            "  inflating: train/ISIC_6808543.jpg  \n",
            "  inflating: __MACOSX/train/._ISIC_6808543.jpg  \n",
            "  inflating: train/ISIC_6654619.jpg  \n",
            "  inflating: __MACOSX/train/._ISIC_6654619.jpg  \n",
            "  inflating: train/ISIC_4463660.jpg  \n",
            "  inflating: __MACOSX/train/._ISIC_4463660.jpg  \n",
            "  inflating: train/ISIC_4964586.jpg  \n",
            "  inflating: __MACOSX/train/._ISIC_4964586.jpg  \n",
            "  inflating: train/ISIC_3554719.jpg  \n",
            "  inflating: __MACOSX/train/._ISIC_3554719.jpg  \n",
            "  inflating: train/ISIC_3356355.jpg  \n",
            "  inflating: __MACOSX/train/._ISIC_3356355.jpg  \n",
            "  inflating: train/ISIC_1436929.jpg  \n",
            "  inflating: __MACOSX/train/._ISIC_1436929.jpg  \n",
            "  inflating: train/ISIC_9069620.jpg  \n",
            "  inflating: __MACOSX/train/._ISIC_9069620.jpg  \n",
            "  inflating: train/ISIC_0455625.jpg  \n",
            "  inflating: __MACOSX/train/._ISIC_0455625.jpg  \n",
            "  inflating: train/ISIC_7195645.jpg  \n",
            "  inflating: __MACOSX/train/._ISIC_7195645.jpg  \n",
            "  inflating: train/ISIC_1594422.jpg  \n",
            "  inflating: __MACOSX/train/._ISIC_1594422.jpg  \n",
            "  inflating: train/ISIC_5985323.jpg  \n",
            "  inflating: __MACOSX/train/._ISIC_5985323.jpg  \n",
            "  inflating: train/ISIC_3879564.jpg  \n",
            "  inflating: __MACOSX/train/._ISIC_3879564.jpg  \n",
            "  inflating: train/ISIC_9712963.jpg  \n",
            "  inflating: __MACOSX/train/._ISIC_9712963.jpg  \n",
            "  inflating: train/ISIC_0501506.jpg  \n",
            "  inflating: __MACOSX/train/._ISIC_0501506.jpg  \n",
            "  inflating: train/ISIC_5647453.jpg  \n",
            "  inflating: __MACOSX/train/._ISIC_5647453.jpg  \n",
            "  inflating: train/ISIC_5042770.jpg  \n",
            "  inflating: __MACOSX/train/._ISIC_5042770.jpg  \n",
            "  inflating: train/ISIC_3551661.jpg  \n",
            "  inflating: __MACOSX/train/._ISIC_3551661.jpg  \n",
            "  inflating: train/ISIC_3603821.jpg  \n",
            "  inflating: __MACOSX/train/._ISIC_3603821.jpg  \n",
            "  inflating: train/ISIC_9967715.jpg  \n",
            "  inflating: __MACOSX/train/._ISIC_9967715.jpg  \n",
            "  inflating: train/ISIC_5803620.jpg  \n",
            "  inflating: __MACOSX/train/._ISIC_5803620.jpg  \n",
            "  inflating: train/ISIC_8392065.jpg  \n",
            "  inflating: __MACOSX/train/._ISIC_8392065.jpg  \n",
            "  inflating: train/ISIC_5409790.jpg  \n",
            "  inflating: __MACOSX/train/._ISIC_5409790.jpg  \n",
            "  inflating: train/ISIC_7441191.jpg  \n",
            "  inflating: __MACOSX/train/._ISIC_7441191.jpg  \n",
            "  inflating: train/ISIC_5233643.jpg  \n",
            "  inflating: __MACOSX/train/._ISIC_5233643.jpg  \n",
            "  inflating: train/ISIC_3579853.jpg  \n",
            "  inflating: __MACOSX/train/._ISIC_3579853.jpg  \n",
            "  inflating: train/ISIC_7106987.jpg  \n",
            "  inflating: __MACOSX/train/._ISIC_7106987.jpg  \n",
            "  inflating: train/ISIC_4436649.jpg  \n",
            "  inflating: __MACOSX/train/._ISIC_4436649.jpg  \n",
            "  inflating: train/ISIC_8989283.jpg  \n",
            "  inflating: __MACOSX/train/._ISIC_8989283.jpg  \n",
            "  inflating: train/ISIC_9816846.jpg  \n",
            "  inflating: __MACOSX/train/._ISIC_9816846.jpg  \n",
            "  inflating: train/ISIC_6687327.jpg  \n",
            "  inflating: __MACOSX/train/._ISIC_6687327.jpg  \n",
            "  inflating: train/ISIC_8716192.jpg  \n",
            "  inflating: __MACOSX/train/._ISIC_8716192.jpg  \n",
            "  inflating: train/ISIC_2449313.jpg  \n",
            "  inflating: __MACOSX/train/._ISIC_2449313.jpg  \n",
            "  inflating: train/ISIC_5104731.jpg  \n",
            "  inflating: __MACOSX/train/._ISIC_5104731.jpg  \n",
            "  inflating: train/ISIC_6526551.jpg  \n",
            "  inflating: __MACOSX/train/._ISIC_6526551.jpg  \n",
            "  inflating: train/ISIC_5955314.jpg  \n",
            "  inflating: __MACOSX/train/._ISIC_5955314.jpg  \n",
            "  inflating: train/ISIC_2253110.jpg  \n",
            "  inflating: __MACOSX/train/._ISIC_2253110.jpg  \n",
            "  inflating: train/ISIC_9625117.jpg  \n",
            "  inflating: __MACOSX/train/._ISIC_9625117.jpg  \n",
            "  inflating: train/ISIC_4006569.jpg  \n",
            "  inflating: __MACOSX/train/._ISIC_4006569.jpg  \n",
            "  inflating: train/ISIC_6784148.jpg  \n",
            "  inflating: __MACOSX/train/._ISIC_6784148.jpg  \n",
            "  inflating: train/ISIC_9757595.jpg  \n",
            "  inflating: __MACOSX/train/._ISIC_9757595.jpg  \n",
            "  inflating: train/ISIC_3712092.jpg  \n",
            "  inflating: __MACOSX/train/._ISIC_3712092.jpg  \n",
            "  inflating: train/ISIC_3590997.jpg  \n",
            "  inflating: __MACOSX/train/._ISIC_3590997.jpg  \n",
            "  inflating: train/ISIC_2310983.jpg  \n",
            "  inflating: __MACOSX/train/._ISIC_2310983.jpg  \n",
            "  inflating: train/ISIC_2166661.jpg  \n",
            "  inflating: __MACOSX/train/._ISIC_2166661.jpg  \n",
            "  inflating: train/ISIC_0798837.jpg  \n",
            "  inflating: __MACOSX/train/._ISIC_0798837.jpg  \n",
            "  inflating: train/ISIC_5548914.jpg  \n",
            "  inflating: __MACOSX/train/._ISIC_5548914.jpg  \n",
            "  inflating: train/ISIC_9160162.jpg  \n",
            "  inflating: __MACOSX/train/._ISIC_9160162.jpg  \n",
            "  inflating: train/ISIC_4213876.jpg  \n",
            "  inflating: __MACOSX/train/._ISIC_4213876.jpg  \n",
            "  inflating: train/ISIC_6590191.jpg  \n",
            "  inflating: __MACOSX/train/._ISIC_6590191.jpg  \n",
            "  inflating: train/ISIC_5813427.jpg  \n",
            "  inflating: __MACOSX/train/._ISIC_5813427.jpg  \n",
            "  inflating: train/ISIC_2211337.jpg  \n",
            "  inflating: __MACOSX/train/._ISIC_2211337.jpg  \n",
            "  inflating: train/ISIC_4477167.jpg  \n",
            "  inflating: __MACOSX/train/._ISIC_4477167.jpg  \n",
            "  inflating: train/ISIC_4950151.jpg  \n",
            "  inflating: __MACOSX/train/._ISIC_4950151.jpg  \n",
            "  inflating: train/ISIC_1067985.jpg  \n",
            "  inflating: __MACOSX/train/._ISIC_1067985.jpg  \n",
            "  inflating: train/ISIC_3549984.jpg  \n",
            "  inflating: __MACOSX/train/._ISIC_3549984.jpg  \n",
            "  inflating: train/ISIC_1998849.jpg  \n",
            "  inflating: __MACOSX/train/._ISIC_1998849.jpg  \n",
            "  inflating: train/ISIC_2794874.jpg  \n",
            "  inflating: __MACOSX/train/._ISIC_2794874.jpg  \n",
            "  inflating: train/ISIC_4346693.jpg  \n",
            "  inflating: __MACOSX/train/._ISIC_4346693.jpg  \n",
            "  inflating: train/ISIC_0879020.jpg  \n",
            "  inflating: __MACOSX/train/._ISIC_0879020.jpg  \n",
            "  inflating: train/ISIC_4088344.jpg  \n",
            "  inflating: __MACOSX/train/._ISIC_4088344.jpg  \n",
            "  inflating: train/ISIC_9477825.jpg  \n",
            "  inflating: __MACOSX/train/._ISIC_9477825.jpg  \n",
            "  inflating: train/ISIC_9907793.jpg  \n",
            "  inflating: __MACOSX/train/._ISIC_9907793.jpg  \n",
            "  inflating: train/ISIC_6703027.jpg  \n",
            "  inflating: __MACOSX/train/._ISIC_6703027.jpg  \n",
            "  inflating: train/ISIC_2172172.jpg  \n",
            "  inflating: __MACOSX/train/._ISIC_2172172.jpg  \n",
            "  inflating: train/ISIC_3365953.jpg  \n",
            "  inflating: __MACOSX/train/._ISIC_3365953.jpg  \n",
            "  inflating: train/ISIC_5544848.jpg  \n",
            "  inflating: __MACOSX/train/._ISIC_5544848.jpg  \n",
            "  inflating: train/ISIC_0356611.jpg  \n",
            "  inflating: __MACOSX/train/._ISIC_0356611.jpg  \n",
            "  inflating: train/ISIC_6250844.jpg  \n",
            "  inflating: __MACOSX/train/._ISIC_6250844.jpg  \n",
            "  inflating: train/ISIC_9454024.jpg  \n",
            "  inflating: __MACOSX/train/._ISIC_9454024.jpg  \n",
            "  inflating: train/ISIC_7489925.jpg  \n",
            "  inflating: __MACOSX/train/._ISIC_7489925.jpg  \n",
            "  inflating: train/ISIC_8386762.jpg  \n",
            "  inflating: __MACOSX/train/._ISIC_8386762.jpg  \n",
            "  inflating: train/ISIC_8031776.jpg  \n",
            "  inflating: __MACOSX/train/._ISIC_8031776.jpg  \n",
            "  inflating: train/ISIC_0667149.jpg  \n",
            "  inflating: __MACOSX/train/._ISIC_0667149.jpg  \n",
            "  inflating: train/ISIC_3447765.jpg  \n",
            "  inflating: __MACOSX/train/._ISIC_3447765.jpg  \n",
            "  inflating: train/ISIC_0565080.jpg  \n",
            "  inflating: __MACOSX/train/._ISIC_0565080.jpg  \n",
            "  inflating: train/ISIC_9861364.jpg  \n",
            "  inflating: __MACOSX/train/._ISIC_9861364.jpg  \n",
            "  inflating: train/ISIC_0722367.jpg  \n",
            "  inflating: __MACOSX/train/._ISIC_0722367.jpg  \n",
            "  inflating: train/ISIC_9740764.jpg  \n",
            "  inflating: __MACOSX/train/._ISIC_9740764.jpg  \n",
            "  inflating: train/ISIC_4480504.jpg  \n",
            "  inflating: __MACOSX/train/._ISIC_4480504.jpg  \n",
            "  inflating: train/ISIC_8113528.jpg  \n",
            "  inflating: __MACOSX/train/._ISIC_8113528.jpg  \n",
            "  inflating: train/ISIC_3553089.jpg  \n",
            "  inflating: __MACOSX/train/._ISIC_3553089.jpg  \n",
            "  inflating: train/ISIC_7829883.jpg  \n",
            "  inflating: __MACOSX/train/._ISIC_7829883.jpg  \n",
            "  inflating: train/ISIC_6870407.jpg  \n",
            "  inflating: __MACOSX/train/._ISIC_6870407.jpg  \n",
            "  inflating: train/ISIC_3946019.jpg  \n",
            "  inflating: __MACOSX/train/._ISIC_3946019.jpg  \n",
            "  inflating: train/ISIC_1950002.jpg  \n",
            "  inflating: __MACOSX/train/._ISIC_1950002.jpg  \n",
            "  inflating: train/ISIC_6200040.jpg  \n",
            "  inflating: __MACOSX/train/._ISIC_6200040.jpg  \n",
            "  inflating: train/ISIC_9965843.jpg  \n",
            "  inflating: __MACOSX/train/._ISIC_9965843.jpg  \n",
            "  inflating: train/ISIC_5442578.jpg  \n",
            "  inflating: __MACOSX/train/._ISIC_5442578.jpg  \n",
            "  inflating: train/ISIC_7956925.jpg  \n",
            "  inflating: __MACOSX/train/._ISIC_7956925.jpg  \n",
            "  inflating: train/ISIC_7045841.jpg  \n",
            "  inflating: __MACOSX/train/._ISIC_7045841.jpg  \n",
            "  inflating: train/ISIC_5106867.jpg  \n",
            "  inflating: __MACOSX/train/._ISIC_5106867.jpg  \n",
            "  inflating: train/ISIC_5205468.jpg  \n",
            "  inflating: __MACOSX/train/._ISIC_5205468.jpg  \n",
            "  inflating: train/ISIC_7607829.jpg  \n",
            "  inflating: __MACOSX/train/._ISIC_7607829.jpg  \n",
            "  inflating: train/ISIC_3463638.jpg  \n",
            "  inflating: __MACOSX/train/._ISIC_3463638.jpg  \n",
            "  inflating: train/ISIC_4012291.jpg  \n",
            "  inflating: __MACOSX/train/._ISIC_4012291.jpg  \n",
            "  inflating: train/ISIC_3996990.jpg  \n",
            "  inflating: __MACOSX/train/._ISIC_3996990.jpg  \n",
            "  inflating: train/ISIC_4948093.jpg  \n",
            "  inflating: __MACOSX/train/._ISIC_4948093.jpg  \n",
            "  inflating: train/ISIC_3645653.jpg  \n",
            "  inflating: __MACOSX/train/._ISIC_3645653.jpg  \n",
            "  inflating: train/ISIC_4139000.jpg  \n",
            "  inflating: __MACOSX/train/._ISIC_4139000.jpg  \n",
            "  inflating: train/ISIC_8439888.jpg  \n",
            "  inflating: __MACOSX/train/._ISIC_8439888.jpg  \n",
            "  inflating: train/ISIC_6255069.jpg  \n",
            "  inflating: __MACOSX/train/._ISIC_6255069.jpg  \n",
            "  inflating: train/ISIC_5976532.jpg  \n",
            "  inflating: __MACOSX/train/._ISIC_5976532.jpg  \n",
            "  inflating: train/ISIC_7873541.jpg  \n",
            "  inflating: __MACOSX/train/._ISIC_7873541.jpg  \n",
            "  inflating: train/ISIC_0536433.jpg  \n",
            "  inflating: __MACOSX/train/._ISIC_0536433.jpg  \n",
            "  inflating: train/ISIC_7406225.jpg  \n",
            "  inflating: __MACOSX/train/._ISIC_7406225.jpg  \n",
            "  inflating: train/ISIC_9686643.jpg  \n",
            "  inflating: __MACOSX/train/._ISIC_9686643.jpg  \n",
            "  inflating: train/ISIC_4069145.jpg  \n",
            "  inflating: __MACOSX/train/._ISIC_4069145.jpg  \n",
            "  inflating: train/ISIC_6577087.jpg  \n",
            "  inflating: __MACOSX/train/._ISIC_6577087.jpg  \n",
            "  inflating: train/ISIC_3581871.jpg  \n",
            "  inflating: __MACOSX/train/._ISIC_3581871.jpg  \n",
            "  inflating: train/ISIC_6332780.jpg  \n",
            "  inflating: __MACOSX/train/._ISIC_6332780.jpg  \n",
            "  inflating: train/ISIC_3797073.jpg  \n",
            "  inflating: __MACOSX/train/._ISIC_3797073.jpg  \n",
            "  inflating: train/ISIC_3772941.jpg  \n",
            "  inflating: __MACOSX/train/._ISIC_3772941.jpg  \n",
            "  inflating: train/ISIC_0911363.jpg  \n",
            "  inflating: __MACOSX/train/._ISIC_0911363.jpg  \n",
            "  inflating: train/ISIC_9143744.jpg  \n",
            "  inflating: __MACOSX/train/._ISIC_9143744.jpg  \n",
            "  inflating: train/ISIC_0805464.jpg  \n",
            "  inflating: __MACOSX/train/._ISIC_0805464.jpg  \n",
            "  inflating: train/ISIC_7399986.jpg  \n",
            "  inflating: __MACOSX/train/._ISIC_7399986.jpg  \n",
            "  inflating: train/ISIC_9229525.jpg  \n",
            "  inflating: __MACOSX/train/._ISIC_9229525.jpg  \n",
            "  inflating: train/ISIC_7124273.jpg  \n",
            "  inflating: __MACOSX/train/._ISIC_7124273.jpg  \n",
            "  inflating: train/ISIC_3207683.jpg  \n",
            "  inflating: __MACOSX/train/._ISIC_3207683.jpg  \n",
            "  inflating: train/ISIC_9852037.jpg  \n",
            "  inflating: __MACOSX/train/._ISIC_9852037.jpg  \n",
            "  inflating: train/ISIC_7421856.jpg  \n",
            "  inflating: __MACOSX/train/._ISIC_7421856.jpg  \n",
            "  inflating: train/ISIC_8096536.jpg  \n",
            "  inflating: __MACOSX/train/._ISIC_8096536.jpg  \n",
            "  inflating: train/ISIC_4765242.jpg  \n",
            "  inflating: __MACOSX/train/._ISIC_4765242.jpg  \n",
            "  inflating: train/ISIC_1048741.jpg  \n",
            "  inflating: __MACOSX/train/._ISIC_1048741.jpg  \n",
            "  inflating: train/ISIC_4100695.jpg  \n",
            "  inflating: __MACOSX/train/._ISIC_4100695.jpg  \n",
            "  inflating: train/ISIC_1105133.jpg  \n",
            "  inflating: __MACOSX/train/._ISIC_1105133.jpg  \n",
            "  inflating: train/ISIC_7073459.jpg  \n",
            "  inflating: __MACOSX/train/._ISIC_7073459.jpg  \n",
            "  inflating: train/ISIC_3048886.jpg  \n",
            "  inflating: __MACOSX/train/._ISIC_3048886.jpg  \n",
            "  inflating: train/ISIC_2914304.jpg  \n",
            "  inflating: __MACOSX/train/._ISIC_2914304.jpg  \n",
            "  inflating: train/ISIC_1633816.jpg  \n",
            "  inflating: __MACOSX/train/._ISIC_1633816.jpg  \n",
            "  inflating: train/ISIC_7520584.jpg  \n",
            "  inflating: __MACOSX/train/._ISIC_7520584.jpg  \n",
            "  inflating: train/ISIC_1590877.jpg  \n",
            "  inflating: __MACOSX/train/._ISIC_1590877.jpg  \n",
            "  inflating: train/ISIC_4955968.jpg  \n",
            "  inflating: __MACOSX/train/._ISIC_4955968.jpg  \n",
            "  inflating: train/ISIC_0156642.jpg  \n",
            "  inflating: __MACOSX/train/._ISIC_0156642.jpg  \n",
            "  inflating: train/ISIC_2195070.jpg  \n",
            "  inflating: __MACOSX/train/._ISIC_2195070.jpg  \n",
            "  inflating: train/ISIC_8536563.jpg  \n",
            "  inflating: __MACOSX/train/._ISIC_8536563.jpg  \n",
            "  inflating: train/ISIC_8095981.jpg  \n",
            "  inflating: __MACOSX/train/._ISIC_8095981.jpg  \n",
            "  inflating: train/ISIC_6026759.jpg  \n",
            "  inflating: __MACOSX/train/._ISIC_6026759.jpg  \n",
            "  inflating: train/ISIC_9076933.jpg  \n",
            "  inflating: __MACOSX/train/._ISIC_9076933.jpg  \n",
            "  inflating: train/ISIC_2336763.jpg  \n",
            "  inflating: __MACOSX/train/._ISIC_2336763.jpg  \n",
            "  inflating: train/ISIC_5204992.jpg  \n",
            "  inflating: __MACOSX/train/._ISIC_5204992.jpg  \n",
            "  inflating: train/ISIC_2687175.jpg  \n",
            "  inflating: __MACOSX/train/._ISIC_2687175.jpg  \n",
            "  inflating: train/ISIC_6395503.jpg  \n",
            "  inflating: __MACOSX/train/._ISIC_6395503.jpg  \n",
            "  inflating: train/ISIC_5205454.jpg  \n",
            "  inflating: __MACOSX/train/._ISIC_5205454.jpg  \n",
            "  inflating: train/ISIC_8610534.jpg  \n",
            "  inflating: __MACOSX/train/._ISIC_8610534.jpg  \n",
            "  inflating: train/ISIC_1373747.jpg  \n",
            "  inflating: __MACOSX/train/._ISIC_1373747.jpg  \n",
            "  inflating: train/ISIC_1720856.jpg  \n",
            "  inflating: __MACOSX/train/._ISIC_1720856.jpg  \n",
            "  inflating: train/ISIC_2227134.jpg  \n",
            "  inflating: __MACOSX/train/._ISIC_2227134.jpg  \n",
            "  inflating: train/ISIC_4568084.jpg  \n",
            "  inflating: __MACOSX/train/._ISIC_4568084.jpg  \n",
            "  inflating: train/ISIC_6697691.jpg  \n",
            "  inflating: __MACOSX/train/._ISIC_6697691.jpg  \n",
            "  inflating: train/ISIC_1957989.jpg  \n",
            "  inflating: __MACOSX/train/._ISIC_1957989.jpg  \n",
            "  inflating: train/ISIC_7912183.jpg  \n",
            "  inflating: __MACOSX/train/._ISIC_7912183.jpg  \n",
            "  inflating: train/ISIC_9238366.jpg  \n",
            "  inflating: __MACOSX/train/._ISIC_9238366.jpg  \n",
            "  inflating: train/ISIC_7634207.jpg  \n",
            "  inflating: __MACOSX/train/._ISIC_7634207.jpg  \n",
            "  inflating: train/ISIC_8058717.jpg  \n",
            "  inflating: __MACOSX/train/._ISIC_8058717.jpg  \n",
            "  inflating: train/ISIC_4009855.jpg  \n",
            "  inflating: __MACOSX/train/._ISIC_4009855.jpg  \n",
            "  inflating: train/ISIC_9691303.jpg  \n",
            "  inflating: __MACOSX/train/._ISIC_9691303.jpg  \n",
            "  inflating: train/ISIC_1618305.jpg  \n",
            "  inflating: __MACOSX/train/._ISIC_1618305.jpg  \n",
            "  inflating: train/ISIC_7980387.jpg  \n",
            "  inflating: __MACOSX/train/._ISIC_7980387.jpg  \n",
            "  inflating: train/ISIC_6295517.jpg  \n",
            "  inflating: __MACOSX/train/._ISIC_6295517.jpg  \n",
            "  inflating: train/ISIC_3265748.jpg  \n",
            "  inflating: __MACOSX/train/._ISIC_3265748.jpg  \n",
            "  inflating: train/ISIC_9758671.jpg  \n",
            "  inflating: __MACOSX/train/._ISIC_9758671.jpg  \n",
            "  inflating: train/ISIC_2441954.jpg  \n",
            "  inflating: __MACOSX/train/._ISIC_2441954.jpg  \n",
            "  inflating: train/ISIC_5070701.jpg  \n",
            "  inflating: __MACOSX/train/._ISIC_5070701.jpg  \n",
            "  inflating: train/ISIC_1368367.jpg  \n",
            "  inflating: __MACOSX/train/._ISIC_1368367.jpg  \n",
            "  inflating: train/ISIC_9297585.jpg  \n",
            "  inflating: __MACOSX/train/._ISIC_9297585.jpg  \n",
            "  inflating: train/ISIC_8409977.jpg  \n",
            "  inflating: __MACOSX/train/._ISIC_8409977.jpg  \n",
            "  inflating: train/ISIC_9479161.jpg  \n",
            "  inflating: __MACOSX/train/._ISIC_9479161.jpg  \n",
            "  inflating: train/ISIC_8428761.jpg  \n",
            "  inflating: __MACOSX/train/._ISIC_8428761.jpg  \n",
            "  inflating: train/ISIC_1404780.jpg  \n",
            "  inflating: __MACOSX/train/._ISIC_1404780.jpg  \n",
            "  inflating: train/ISIC_6853584.jpg  \n",
            "  inflating: __MACOSX/train/._ISIC_6853584.jpg  \n",
            "  inflating: train/ISIC_2267276.jpg  \n",
            "  inflating: __MACOSX/train/._ISIC_2267276.jpg  \n",
            "  inflating: train/ISIC_4930672.jpg  \n",
            "  inflating: __MACOSX/train/._ISIC_4930672.jpg  \n",
            "  inflating: train/ISIC_1508810.jpg  \n",
            "  inflating: __MACOSX/train/._ISIC_1508810.jpg  \n",
            "  inflating: train/ISIC_7620514.jpg  \n",
            "  inflating: __MACOSX/train/._ISIC_7620514.jpg  \n",
            "  inflating: train/ISIC_8097600.jpg  \n",
            "  inflating: __MACOSX/train/._ISIC_8097600.jpg  \n",
            "  inflating: train/ISIC_8147623.jpg  \n",
            "  inflating: __MACOSX/train/._ISIC_8147623.jpg  \n",
            "  inflating: train/ISIC_1847556.jpg  \n",
            "  inflating: __MACOSX/train/._ISIC_1847556.jpg  \n",
            "  inflating: train/ISIC_8337368.jpg  \n",
            "  inflating: __MACOSX/train/._ISIC_8337368.jpg  \n",
            "  inflating: train/ISIC_9393085.jpg  \n",
            "  inflating: __MACOSX/train/._ISIC_9393085.jpg  \n",
            "  inflating: train/ISIC_4553760.jpg  \n",
            "  inflating: __MACOSX/train/._ISIC_4553760.jpg  \n",
            "  inflating: train/ISIC_1857989.jpg  \n",
            "  inflating: __MACOSX/train/._ISIC_1857989.jpg  \n",
            "  inflating: train/ISIC_6156296.jpg  \n",
            "  inflating: __MACOSX/train/._ISIC_6156296.jpg  \n",
            "  inflating: train/ISIC_0749263.jpg  \n",
            "  inflating: __MACOSX/train/._ISIC_0749263.jpg  \n",
            "  inflating: train/ISIC_9477158.jpg  \n",
            "  inflating: __MACOSX/train/._ISIC_9477158.jpg  \n",
            "  inflating: train/ISIC_3849316.jpg  \n",
            "  inflating: __MACOSX/train/._ISIC_3849316.jpg  \n",
            "  inflating: train/ISIC_7151808.jpg  \n",
            "  inflating: __MACOSX/train/._ISIC_7151808.jpg  \n",
            "  inflating: train/ISIC_1819358.jpg  \n",
            "  inflating: __MACOSX/train/._ISIC_1819358.jpg  \n",
            "  inflating: train/ISIC_4152689.jpg  \n",
            "  inflating: __MACOSX/train/._ISIC_4152689.jpg  \n",
            "  inflating: train/ISIC_4364397.jpg  \n",
            "  inflating: __MACOSX/train/._ISIC_4364397.jpg  \n",
            "  inflating: train/ISIC_1789408.jpg  \n",
            "  inflating: __MACOSX/train/._ISIC_1789408.jpg  \n",
            "  inflating: train/ISIC_6496251.jpg  \n",
            "  inflating: __MACOSX/train/._ISIC_6496251.jpg  \n",
            "  inflating: train/ISIC_0096328.jpg  \n",
            "  inflating: __MACOSX/train/._ISIC_0096328.jpg  \n",
            "  inflating: train/ISIC_0762958.jpg  \n",
            "  inflating: __MACOSX/train/._ISIC_0762958.jpg  \n",
            "  inflating: train/ISIC_0637965.jpg  \n",
            "  inflating: __MACOSX/train/._ISIC_0637965.jpg  \n",
            "  inflating: train/ISIC_6261482.jpg  \n",
            "  inflating: __MACOSX/train/._ISIC_6261482.jpg  \n",
            "  inflating: train/ISIC_2360519.jpg  \n",
            "  inflating: __MACOSX/train/._ISIC_2360519.jpg  \n",
            "  inflating: train/ISIC_3370423.jpg  \n",
            "  inflating: __MACOSX/train/._ISIC_3370423.jpg  \n",
            "  inflating: train/ISIC_7935528.jpg  \n",
            "  inflating: __MACOSX/train/._ISIC_7935528.jpg  \n",
            "  inflating: train/ISIC_7008969.jpg  \n",
            "  inflating: __MACOSX/train/._ISIC_7008969.jpg  \n",
            "  inflating: train/ISIC_8187413.jpg  \n",
            "  inflating: __MACOSX/train/._ISIC_8187413.jpg  \n",
            "  inflating: train/ISIC_6285076.jpg  \n",
            "  inflating: __MACOSX/train/._ISIC_6285076.jpg  \n",
            "  inflating: train/ISIC_1164283.jpg  \n",
            "  inflating: __MACOSX/train/._ISIC_1164283.jpg  \n",
            "  inflating: train/ISIC_2783475.jpg  \n",
            "  inflating: __MACOSX/train/._ISIC_2783475.jpg  \n",
            "  inflating: train/ISIC_4899386.jpg  \n",
            "  inflating: __MACOSX/train/._ISIC_4899386.jpg  \n",
            "  inflating: train/ISIC_2142072.jpg  \n",
            "  inflating: __MACOSX/train/._ISIC_2142072.jpg  \n",
            "  inflating: train/ISIC_9745634.jpg  \n",
            "  inflating: __MACOSX/train/._ISIC_9745634.jpg  \n",
            "  inflating: train/ISIC_3585381.jpg  \n",
            "  inflating: __MACOSX/train/._ISIC_3585381.jpg  \n",
            "  inflating: train/ISIC_0690264.jpg  \n",
            "  inflating: __MACOSX/train/._ISIC_0690264.jpg  \n",
            "  inflating: train/ISIC_2276409.jpg  \n",
            "  inflating: __MACOSX/train/._ISIC_2276409.jpg  \n",
            "  inflating: train/ISIC_5118536.jpg  \n",
            "  inflating: __MACOSX/train/._ISIC_5118536.jpg  \n",
            "  inflating: train/ISIC_1870517.jpg  \n",
            "  inflating: __MACOSX/train/._ISIC_1870517.jpg  \n",
            "  inflating: train/ISIC_0261693.jpg  \n",
            "  inflating: __MACOSX/train/._ISIC_0261693.jpg  \n",
            "  inflating: train/ISIC_8961663.jpg  \n",
            "  inflating: __MACOSX/train/._ISIC_8961663.jpg  \n",
            "  inflating: train/ISIC_6329217.jpg  \n",
            "  inflating: __MACOSX/train/._ISIC_6329217.jpg  \n",
            "  inflating: train/ISIC_5678933.jpg  \n",
            "  inflating: __MACOSX/train/._ISIC_5678933.jpg  \n",
            "  inflating: train/ISIC_5312909.jpg  \n",
            "  inflating: __MACOSX/train/._ISIC_5312909.jpg  \n",
            "  inflating: train/ISIC_4314089.jpg  \n",
            "  inflating: __MACOSX/train/._ISIC_4314089.jpg  \n",
            "  inflating: train/ISIC_0215112.jpg  \n",
            "  inflating: __MACOSX/train/._ISIC_0215112.jpg  \n",
            "  inflating: train/ISIC_3107940.jpg  \n",
            "  inflating: __MACOSX/train/._ISIC_3107940.jpg  \n",
            "  inflating: train/ISIC_3978040.jpg  \n",
            "  inflating: __MACOSX/train/._ISIC_3978040.jpg  \n",
            "  inflating: train/ISIC_0356995.jpg  \n",
            "  inflating: __MACOSX/train/._ISIC_0356995.jpg  \n",
            "  inflating: train/ISIC_2298329.jpg  \n",
            "  inflating: __MACOSX/train/._ISIC_2298329.jpg  \n",
            "  inflating: train/ISIC_0195972.jpg  \n",
            "  inflating: __MACOSX/train/._ISIC_0195972.jpg  \n",
            "  inflating: train/ISIC_8675233.jpg  \n",
            "  inflating: __MACOSX/train/._ISIC_8675233.jpg  \n",
            "  inflating: train/ISIC_2969502.jpg  \n",
            "  inflating: __MACOSX/train/._ISIC_2969502.jpg  \n",
            "  inflating: train/ISIC_5251830.jpg  \n",
            "  inflating: __MACOSX/train/._ISIC_5251830.jpg  \n",
            "  inflating: train/ISIC_0203016.jpg  \n",
            "  inflating: __MACOSX/train/._ISIC_0203016.jpg  \n",
            "  inflating: train/ISIC_4258283.jpg  \n",
            "  inflating: __MACOSX/train/._ISIC_4258283.jpg  \n",
            "  inflating: train/ISIC_6093041.jpg  \n",
            "  inflating: __MACOSX/train/._ISIC_6093041.jpg  \n",
            "  inflating: train/ISIC_2222879.jpg  \n",
            "  inflating: __MACOSX/train/._ISIC_2222879.jpg  \n",
            "  inflating: train/ISIC_5778927.jpg  \n",
            "  inflating: __MACOSX/train/._ISIC_5778927.jpg  \n",
            "  inflating: train/ISIC_2204100.jpg  \n",
            "  inflating: __MACOSX/train/._ISIC_2204100.jpg  \n",
            "  inflating: train/ISIC_2899829.jpg  \n",
            "  inflating: __MACOSX/train/._ISIC_2899829.jpg  \n",
            "  inflating: train/ISIC_6316781.jpg  \n",
            "  inflating: __MACOSX/train/._ISIC_6316781.jpg  \n",
            "  inflating: train/ISIC_8961105.jpg  \n",
            "  inflating: __MACOSX/train/._ISIC_8961105.jpg  \n",
            "  inflating: train/ISIC_5524986.jpg  \n",
            "  inflating: __MACOSX/train/._ISIC_5524986.jpg  \n",
            "  inflating: train/ISIC_3784812.jpg  \n",
            "  inflating: __MACOSX/train/._ISIC_3784812.jpg  \n",
            "  inflating: train/ISIC_4948642.jpg  \n",
            "  inflating: __MACOSX/train/._ISIC_4948642.jpg  \n",
            "  inflating: train/ISIC_0257447.jpg  \n",
            "  inflating: __MACOSX/train/._ISIC_0257447.jpg  \n",
            "  inflating: train/ISIC_0727425.jpg  \n",
            "  inflating: __MACOSX/train/._ISIC_0727425.jpg  \n",
            "  inflating: train/ISIC_5495397.jpg  \n",
            "  inflating: __MACOSX/train/._ISIC_5495397.jpg  \n",
            "  inflating: train/ISIC_7641075.jpg  \n",
            "  inflating: __MACOSX/train/._ISIC_7641075.jpg  \n",
            "  inflating: train/ISIC_3016859.jpg  \n",
            "  inflating: __MACOSX/train/._ISIC_3016859.jpg  \n",
            "  inflating: train/ISIC_8416704.jpg  \n",
            "  inflating: __MACOSX/train/._ISIC_8416704.jpg  \n",
            "  inflating: train/ISIC_9204272.jpg  \n",
            "  inflating: __MACOSX/train/._ISIC_9204272.jpg  \n",
            "  inflating: train/ISIC_7513953.jpg  \n",
            "  inflating: __MACOSX/train/._ISIC_7513953.jpg  \n",
            "  inflating: train/ISIC_9378805.jpg  \n",
            "  inflating: __MACOSX/train/._ISIC_9378805.jpg  \n",
            "  inflating: train/ISIC_0422283.jpg  \n",
            "  inflating: __MACOSX/train/._ISIC_0422283.jpg  \n",
            "  inflating: train/ISIC_5166956.jpg  \n",
            "  inflating: __MACOSX/train/._ISIC_5166956.jpg  \n",
            "  inflating: train/ISIC_3997293.jpg  \n",
            "  inflating: __MACOSX/train/._ISIC_3997293.jpg  \n",
            "  inflating: train/ISIC_2445475.jpg  \n",
            "  inflating: __MACOSX/train/._ISIC_2445475.jpg  \n",
            "  inflating: train/ISIC_3481078.jpg  \n",
            "  inflating: __MACOSX/train/._ISIC_3481078.jpg  \n",
            "  inflating: train/ISIC_7119723.jpg  \n",
            "  inflating: __MACOSX/train/._ISIC_7119723.jpg  \n",
            "  inflating: train/ISIC_0485996.jpg  \n",
            "  inflating: __MACOSX/train/._ISIC_0485996.jpg  \n",
            "  inflating: train/ISIC_0939558.jpg  \n",
            "  inflating: __MACOSX/train/._ISIC_0939558.jpg  \n",
            "  inflating: train/ISIC_2824364.jpg  \n",
            "  inflating: __MACOSX/train/._ISIC_2824364.jpg  \n",
            "  inflating: train/ISIC_1864210.jpg  \n",
            "  inflating: __MACOSX/train/._ISIC_1864210.jpg  \n",
            "  inflating: train/ISIC_4719028.jpg  \n",
            "  inflating: __MACOSX/train/._ISIC_4719028.jpg  \n",
            "  inflating: train/ISIC_1328804.jpg  \n",
            "  inflating: __MACOSX/train/._ISIC_1328804.jpg  \n",
            "  inflating: train/ISIC_3978732.jpg  \n",
            "  inflating: __MACOSX/train/._ISIC_3978732.jpg  \n",
            "  inflating: train/ISIC_5974286.jpg  \n",
            "  inflating: __MACOSX/train/._ISIC_5974286.jpg  \n",
            "  inflating: train/ISIC_5208789.jpg  \n",
            "  inflating: __MACOSX/train/._ISIC_5208789.jpg  \n",
            "  inflating: train/ISIC_3223682.jpg  \n",
            "  inflating: __MACOSX/train/._ISIC_3223682.jpg  \n",
            "  inflating: train/ISIC_0678121.jpg  \n",
            "  inflating: __MACOSX/train/._ISIC_0678121.jpg  \n",
            "  inflating: train/ISIC_6633906.jpg  \n",
            "  inflating: __MACOSX/train/._ISIC_6633906.jpg  \n",
            "  inflating: train/ISIC_0311412.jpg  \n",
            "  inflating: __MACOSX/train/._ISIC_0311412.jpg  \n",
            "  inflating: train/ISIC_7487840.jpg  \n",
            "  inflating: __MACOSX/train/._ISIC_7487840.jpg  \n",
            "  inflating: train/ISIC_0961055.jpg  \n",
            "  inflating: __MACOSX/train/._ISIC_0961055.jpg  \n",
            "  inflating: train/ISIC_4932844.jpg  \n",
            "  inflating: __MACOSX/train/._ISIC_4932844.jpg  \n",
            "  inflating: train/ISIC_3243610.jpg  \n",
            "  inflating: __MACOSX/train/._ISIC_3243610.jpg  \n",
            "  inflating: train/ISIC_4673583.jpg  \n",
            "  inflating: __MACOSX/train/._ISIC_4673583.jpg  \n",
            "  inflating: train/ISIC_3677742.jpg  \n",
            "  inflating: __MACOSX/train/._ISIC_3677742.jpg  \n",
            "  inflating: train/ISIC_5602053.jpg  \n",
            "  inflating: __MACOSX/train/._ISIC_5602053.jpg  \n",
            "  inflating: train/ISIC_4908514.jpg  \n",
            "  inflating: __MACOSX/train/._ISIC_4908514.jpg  \n",
            "  inflating: train/ISIC_6926090.jpg  \n",
            "  inflating: __MACOSX/train/._ISIC_6926090.jpg  \n",
            "  inflating: train/ISIC_9483152.jpg  \n",
            "  inflating: __MACOSX/train/._ISIC_9483152.jpg  \n",
            "  inflating: train/ISIC_3010582.jpg  \n",
            "  inflating: __MACOSX/train/._ISIC_3010582.jpg  \n",
            "  inflating: train/ISIC_2123513.jpg  \n",
            "  inflating: __MACOSX/train/._ISIC_2123513.jpg  \n",
            "  inflating: train/ISIC_9599678.jpg  \n",
            "  inflating: __MACOSX/train/._ISIC_9599678.jpg  \n",
            "  inflating: train/ISIC_0933075.jpg  \n",
            "  inflating: __MACOSX/train/._ISIC_0933075.jpg  \n",
            "  inflating: train/ISIC_9586758.jpg  \n",
            "  inflating: __MACOSX/train/._ISIC_9586758.jpg  \n",
            "  inflating: train/ISIC_3919496.jpg  \n",
            "  inflating: __MACOSX/train/._ISIC_3919496.jpg  \n",
            "  inflating: train/ISIC_6690049.jpg  \n",
            "  inflating: __MACOSX/train/._ISIC_6690049.jpg  \n",
            "  inflating: train/ISIC_8856781.jpg  \n",
            "  inflating: __MACOSX/train/._ISIC_8856781.jpg  \n",
            "  inflating: train/ISIC_3796594.jpg  \n",
            "  inflating: __MACOSX/train/._ISIC_3796594.jpg  \n",
            "  inflating: train/ISIC_3522923.jpg  \n",
            "  inflating: __MACOSX/train/._ISIC_3522923.jpg  \n",
            "  inflating: train/ISIC_2348336.jpg  \n",
            "  inflating: __MACOSX/train/._ISIC_2348336.jpg  \n",
            "  inflating: train/ISIC_8314360.jpg  \n",
            "  inflating: __MACOSX/train/._ISIC_8314360.jpg  \n",
            "  inflating: train/ISIC_3212311.jpg  \n",
            "  inflating: __MACOSX/train/._ISIC_3212311.jpg  \n",
            "  inflating: train/ISIC_5566237.jpg  \n",
            "  inflating: __MACOSX/train/._ISIC_5566237.jpg  \n",
            "  inflating: train/ISIC_2072760.jpg  \n",
            "  inflating: __MACOSX/train/._ISIC_2072760.jpg  \n",
            "  inflating: train/ISIC_2833156.jpg  \n",
            "  inflating: __MACOSX/train/._ISIC_2833156.jpg  \n",
            "  inflating: train/ISIC_8854196.jpg  \n",
            "  inflating: __MACOSX/train/._ISIC_8854196.jpg  \n",
            "  inflating: train/ISIC_8478787.jpg  \n",
            "  inflating: __MACOSX/train/._ISIC_8478787.jpg  \n",
            "  inflating: train/ISIC_7088774.jpg  \n",
            "  inflating: __MACOSX/train/._ISIC_7088774.jpg  \n",
            "  inflating: train/ISIC_4222275.jpg  \n",
            "  inflating: __MACOSX/train/._ISIC_4222275.jpg  \n",
            "  inflating: train/ISIC_5890896.jpg  \n",
            "  inflating: __MACOSX/train/._ISIC_5890896.jpg  \n",
            "  inflating: train/ISIC_1612947.jpg  \n",
            "  inflating: __MACOSX/train/._ISIC_1612947.jpg  \n",
            "  inflating: train/ISIC_6842258.jpg  \n",
            "  inflating: __MACOSX/train/._ISIC_6842258.jpg  \n",
            "  inflating: train/ISIC_5131198.jpg  \n",
            "  inflating: __MACOSX/train/._ISIC_5131198.jpg  \n",
            "  inflating: train/ISIC_5439041.jpg  \n",
            "  inflating: __MACOSX/train/._ISIC_5439041.jpg  \n",
            "  inflating: train/ISIC_9224820.jpg  \n",
            "  inflating: __MACOSX/train/._ISIC_9224820.jpg  \n",
            "  inflating: train/ISIC_0526973.jpg  \n",
            "  inflating: __MACOSX/train/._ISIC_0526973.jpg  \n",
            "  inflating: train/ISIC_4890201.jpg  \n",
            "  inflating: __MACOSX/train/._ISIC_4890201.jpg  \n",
            "  inflating: train/ISIC_6407399.jpg  \n",
            "  inflating: __MACOSX/train/._ISIC_6407399.jpg  \n",
            "  inflating: train/ISIC_0173213.jpg  \n",
            "  inflating: __MACOSX/train/._ISIC_0173213.jpg  \n",
            "  inflating: train/ISIC_7307599.jpg  \n",
            "  inflating: __MACOSX/train/._ISIC_7307599.jpg  \n",
            "  inflating: train/ISIC_6713432.jpg  \n",
            "  inflating: __MACOSX/train/._ISIC_6713432.jpg  \n",
            "  inflating: train/ISIC_2115937.jpg  \n",
            "  inflating: __MACOSX/train/._ISIC_2115937.jpg  \n",
            "  inflating: train/ISIC_0970616.jpg  \n",
            "  inflating: __MACOSX/train/._ISIC_0970616.jpg  \n",
            "  inflating: train/ISIC_9134453.jpg  \n",
            "  inflating: __MACOSX/train/._ISIC_9134453.jpg  \n",
            "  inflating: train/ISIC_9699830.jpg  \n",
            "  inflating: __MACOSX/train/._ISIC_9699830.jpg  \n",
            "  inflating: train/ISIC_1797795.jpg  \n",
            "  inflating: __MACOSX/train/._ISIC_1797795.jpg  \n",
            "  inflating: train/ISIC_3704790.jpg  \n",
            "  inflating: __MACOSX/train/._ISIC_3704790.jpg  \n",
            "  inflating: train/ISIC_1156392.jpg  \n",
            "  inflating: __MACOSX/train/._ISIC_1156392.jpg  \n",
            "  inflating: train/ISIC_5821293.jpg  \n",
            "  inflating: __MACOSX/train/._ISIC_5821293.jpg  \n",
            "  inflating: train/ISIC_7078487.jpg  \n",
            "  inflating: __MACOSX/train/._ISIC_7078487.jpg  \n",
            "  inflating: train/ISIC_4362889.jpg  \n",
            "  inflating: __MACOSX/train/._ISIC_4362889.jpg  \n",
            "  inflating: train/ISIC_2275909.jpg  \n",
            "  inflating: __MACOSX/train/._ISIC_2275909.jpg  \n",
            "  inflating: train/ISIC_5783203.jpg  \n",
            "  inflating: __MACOSX/train/._ISIC_5783203.jpg  \n",
            "  inflating: train/ISIC_6953355.jpg  \n",
            "  inflating: __MACOSX/train/._ISIC_6953355.jpg  \n",
            "  inflating: train/ISIC_8078202.jpg  \n",
            "  inflating: __MACOSX/train/._ISIC_8078202.jpg  \n",
            "  inflating: train/ISIC_5268041.jpg  \n",
            "  inflating: __MACOSX/train/._ISIC_5268041.jpg  \n",
            "  inflating: train/ISIC_7462628.jpg  \n",
            "  inflating: __MACOSX/train/._ISIC_7462628.jpg  \n",
            "  inflating: train/ISIC_9635270.jpg  \n",
            "  inflating: __MACOSX/train/._ISIC_9635270.jpg  \n",
            "  inflating: train/ISIC_0350472.jpg  \n",
            "  inflating: __MACOSX/train/._ISIC_0350472.jpg  \n",
            "  inflating: train/ISIC_3865993.jpg  \n",
            "  inflating: __MACOSX/train/._ISIC_3865993.jpg  \n",
            "  inflating: train/ISIC_5150200.jpg  \n",
            "  inflating: __MACOSX/train/._ISIC_5150200.jpg  \n",
            "  inflating: train/ISIC_3870420.jpg  \n",
            "  inflating: __MACOSX/train/._ISIC_3870420.jpg  \n",
            "  inflating: train/ISIC_0541724.jpg  \n",
            "  inflating: __MACOSX/train/._ISIC_0541724.jpg  \n",
            "  inflating: train/ISIC_8979762.jpg  \n",
            "  inflating: __MACOSX/train/._ISIC_8979762.jpg  \n",
            "  inflating: train/ISIC_4640613.jpg  \n",
            "  inflating: __MACOSX/train/._ISIC_4640613.jpg  \n",
            "  inflating: train/ISIC_4606646.jpg  \n",
            "  inflating: __MACOSX/train/._ISIC_4606646.jpg  \n",
            "  inflating: train/ISIC_2559074.jpg  \n",
            "  inflating: __MACOSX/train/._ISIC_2559074.jpg  \n",
            "  inflating: train/ISIC_0506309.jpg  \n",
            "  inflating: __MACOSX/train/._ISIC_0506309.jpg  \n",
            "  inflating: train/ISIC_4107717.jpg  \n",
            "  inflating: __MACOSX/train/._ISIC_4107717.jpg  \n",
            "  inflating: train/ISIC_5589782.jpg  \n",
            "  inflating: __MACOSX/train/._ISIC_5589782.jpg  \n",
            "  inflating: train/ISIC_8451301.jpg  \n",
            "  inflating: __MACOSX/train/._ISIC_8451301.jpg  \n",
            "  inflating: train/ISIC_5460120.jpg  \n",
            "  inflating: __MACOSX/train/._ISIC_5460120.jpg  \n",
            "  inflating: train/ISIC_6715731.jpg  \n",
            "  inflating: __MACOSX/train/._ISIC_6715731.jpg  \n",
            "  inflating: train/ISIC_8764464.jpg  \n",
            "  inflating: __MACOSX/train/._ISIC_8764464.jpg  \n",
            "  inflating: train/ISIC_4369062.jpg  \n",
            "  inflating: __MACOSX/train/._ISIC_4369062.jpg  \n",
            "  inflating: train/ISIC_4586940.jpg  \n",
            "  inflating: __MACOSX/train/._ISIC_4586940.jpg  \n",
            "  inflating: train/ISIC_9747194.jpg  \n",
            "  inflating: __MACOSX/train/._ISIC_9747194.jpg  \n",
            "  inflating: train/ISIC_9414574.jpg  \n",
            "  inflating: __MACOSX/train/._ISIC_9414574.jpg  \n",
            "  inflating: train/ISIC_3543305.jpg  \n",
            "  inflating: __MACOSX/train/._ISIC_3543305.jpg  \n",
            "  inflating: train/ISIC_4067791.jpg  \n",
            "  inflating: __MACOSX/train/._ISIC_4067791.jpg  \n",
            "  inflating: train/ISIC_5491867.jpg  \n",
            "  inflating: __MACOSX/train/._ISIC_5491867.jpg  \n",
            "  inflating: train/ISIC_2225680.jpg  \n",
            "  inflating: __MACOSX/train/._ISIC_2225680.jpg  \n",
            "  inflating: train/ISIC_5923484.jpg  \n",
            "  inflating: __MACOSX/train/._ISIC_5923484.jpg  \n",
            "  inflating: train/ISIC_4569239.jpg  \n",
            "  inflating: __MACOSX/train/._ISIC_4569239.jpg  \n",
            "  inflating: train/ISIC_5103658.jpg  \n",
            "  inflating: __MACOSX/train/._ISIC_5103658.jpg  \n",
            "  inflating: train/ISIC_1844671.jpg  \n",
            "  inflating: __MACOSX/train/._ISIC_1844671.jpg  \n",
            "  inflating: train/ISIC_9750403.jpg  \n",
            "  inflating: __MACOSX/train/._ISIC_9750403.jpg  \n",
            "  inflating: train/ISIC_0420331.jpg  \n",
            "  inflating: __MACOSX/train/._ISIC_0420331.jpg  \n",
            "  inflating: train/ISIC_1368549.jpg  \n",
            "  inflating: __MACOSX/train/._ISIC_1368549.jpg  \n",
            "  inflating: train/ISIC_6250703.jpg  \n",
            "  inflating: __MACOSX/train/._ISIC_6250703.jpg  \n",
            "  inflating: train/ISIC_4090494.jpg  \n",
            "  inflating: __MACOSX/train/._ISIC_4090494.jpg  \n",
            "  inflating: train/ISIC_7534491.jpg  \n",
            "  inflating: __MACOSX/train/._ISIC_7534491.jpg  \n",
            "  inflating: train/ISIC_4765444.jpg  \n",
            "  inflating: __MACOSX/train/._ISIC_4765444.jpg  \n",
            "  inflating: train/ISIC_6581665.jpg  \n",
            "  inflating: __MACOSX/train/._ISIC_6581665.jpg  \n",
            "  inflating: train/ISIC_3123835.jpg  \n",
            "  inflating: __MACOSX/train/._ISIC_3123835.jpg  \n",
            "  inflating: train/ISIC_7245999.jpg  \n",
            "  inflating: __MACOSX/train/._ISIC_7245999.jpg  \n",
            "  inflating: train/ISIC_1325449.jpg  \n",
            "  inflating: __MACOSX/train/._ISIC_1325449.jpg  \n",
            "  inflating: train/ISIC_1267108.jpg  \n",
            "  inflating: __MACOSX/train/._ISIC_1267108.jpg  \n",
            "  inflating: train/ISIC_0333102.jpg  \n",
            "  inflating: __MACOSX/train/._ISIC_0333102.jpg  \n",
            "  inflating: train/ISIC_1144769.jpg  \n",
            "  inflating: __MACOSX/train/._ISIC_1144769.jpg  \n",
            "  inflating: train/ISIC_1011754.jpg  \n",
            "  inflating: __MACOSX/train/._ISIC_1011754.jpg  \n",
            "  inflating: train/ISIC_5484259.jpg  \n",
            "  inflating: __MACOSX/train/._ISIC_5484259.jpg  \n",
            "  inflating: train/ISIC_8013448.jpg  \n",
            "  inflating: __MACOSX/train/._ISIC_8013448.jpg  \n",
            "  inflating: train/ISIC_2748880.jpg  \n",
            "  inflating: __MACOSX/train/._ISIC_2748880.jpg  \n",
            "  inflating: train/ISIC_6770630.jpg  \n",
            "  inflating: __MACOSX/train/._ISIC_6770630.jpg  \n",
            "  inflating: train/ISIC_8373462.jpg  \n",
            "  inflating: __MACOSX/train/._ISIC_8373462.jpg  \n",
            "  inflating: train/ISIC_2600152.jpg  \n",
            "  inflating: __MACOSX/train/._ISIC_2600152.jpg  \n",
            "  inflating: train/ISIC_4699833.jpg  \n",
            "  inflating: __MACOSX/train/._ISIC_4699833.jpg  \n",
            "  inflating: train/ISIC_0812078.jpg  \n",
            "  inflating: __MACOSX/train/._ISIC_0812078.jpg  \n",
            "  inflating: train/ISIC_8613613.jpg  \n",
            "  inflating: __MACOSX/train/._ISIC_8613613.jpg  \n",
            "  inflating: train/ISIC_1449910.jpg  \n",
            "  inflating: __MACOSX/train/._ISIC_1449910.jpg  \n",
            "  inflating: train/ISIC_7143388.jpg  \n",
            "  inflating: __MACOSX/train/._ISIC_7143388.jpg  \n",
            "  inflating: train/ISIC_4000087.jpg  \n",
            "  inflating: __MACOSX/train/._ISIC_4000087.jpg  \n",
            "  inflating: train/ISIC_8579466.jpg  \n",
            "  inflating: __MACOSX/train/._ISIC_8579466.jpg  \n",
            "  inflating: train/ISIC_3101458.jpg  \n",
            "  inflating: __MACOSX/train/._ISIC_3101458.jpg  \n",
            "  inflating: train/ISIC_1091626.jpg  \n",
            "  inflating: __MACOSX/train/._ISIC_1091626.jpg  \n",
            "  inflating: train/ISIC_9267058.jpg  \n",
            "  inflating: __MACOSX/train/._ISIC_9267058.jpg  \n",
            "  inflating: train/ISIC_3460537.jpg  \n",
            "  inflating: __MACOSX/train/._ISIC_3460537.jpg  \n",
            "  inflating: train/ISIC_4963410.jpg  \n",
            "  inflating: __MACOSX/train/._ISIC_4963410.jpg  \n",
            "  inflating: train/ISIC_6681811.jpg  \n",
            "  inflating: __MACOSX/train/._ISIC_6681811.jpg  \n",
            "  inflating: train/ISIC_9048017.jpg  \n",
            "  inflating: __MACOSX/train/._ISIC_9048017.jpg  \n",
            "  inflating: train/ISIC_1907984.jpg  \n",
            "  inflating: __MACOSX/train/._ISIC_1907984.jpg  \n",
            "  inflating: train/ISIC_9699603.jpg  \n",
            "  inflating: __MACOSX/train/._ISIC_9699603.jpg  \n",
            "  inflating: train/ISIC_2684246.jpg  \n",
            "  inflating: __MACOSX/train/._ISIC_2684246.jpg  \n",
            "  inflating: train/ISIC_2426893.jpg  \n",
            "  inflating: __MACOSX/train/._ISIC_2426893.jpg  \n",
            "  inflating: train/ISIC_6501071.jpg  \n",
            "  inflating: __MACOSX/train/._ISIC_6501071.jpg  \n",
            "  inflating: train/ISIC_9311864.jpg  \n",
            "  inflating: __MACOSX/train/._ISIC_9311864.jpg  \n",
            "  inflating: train/ISIC_6033220.jpg  \n",
            "  inflating: __MACOSX/train/._ISIC_6033220.jpg  \n",
            "  inflating: train/ISIC_6993830.jpg  \n",
            "  inflating: __MACOSX/train/._ISIC_6993830.jpg  \n",
            "  inflating: train/ISIC_3228072.jpg  \n",
            "  inflating: __MACOSX/train/._ISIC_3228072.jpg  \n",
            "  inflating: train/ISIC_8705071.jpg  \n",
            "  inflating: __MACOSX/train/._ISIC_8705071.jpg  \n",
            "  inflating: train/ISIC_4863404.jpg  \n",
            "  inflating: __MACOSX/train/._ISIC_4863404.jpg  \n",
            "  inflating: train/ISIC_4160773.jpg  \n",
            "  inflating: __MACOSX/train/._ISIC_4160773.jpg  \n",
            "  inflating: train/ISIC_7492530.jpg  \n",
            "  inflating: __MACOSX/train/._ISIC_7492530.jpg  \n",
            "  inflating: train/ISIC_1750235.jpg  \n",
            "  inflating: __MACOSX/train/._ISIC_1750235.jpg  \n",
            "  inflating: train/ISIC_0903175.jpg  \n",
            "  inflating: __MACOSX/train/._ISIC_0903175.jpg  \n",
            "  inflating: train/ISIC_5822017.jpg  \n",
            "  inflating: __MACOSX/train/._ISIC_5822017.jpg  \n",
            "  inflating: train/ISIC_9714255.jpg  \n",
            "  inflating: __MACOSX/train/._ISIC_9714255.jpg  \n",
            "  inflating: train/ISIC_5140952.jpg  \n",
            "  inflating: __MACOSX/train/._ISIC_5140952.jpg  \n",
            "  inflating: train/ISIC_2361997.jpg  \n",
            "  inflating: __MACOSX/train/._ISIC_2361997.jpg  \n",
            "  inflating: train/ISIC_1931588.jpg  \n",
            "  inflating: __MACOSX/train/._ISIC_1931588.jpg  \n",
            "  inflating: train/ISIC_4807196.jpg  \n",
            "  inflating: __MACOSX/train/._ISIC_4807196.jpg  \n",
            "  inflating: train/ISIC_5165522.jpg  \n",
            "  inflating: __MACOSX/train/._ISIC_5165522.jpg  \n",
            "  inflating: train/ISIC_4622069.jpg  \n",
            "  inflating: __MACOSX/train/._ISIC_4622069.jpg  \n",
            "  inflating: train/ISIC_2253931.jpg  \n",
            "  inflating: __MACOSX/train/._ISIC_2253931.jpg  \n",
            "  inflating: train/ISIC_5737759.jpg  \n",
            "  inflating: __MACOSX/train/._ISIC_5737759.jpg  \n",
            "  inflating: train/ISIC_0709041.jpg  \n",
            "  inflating: __MACOSX/train/._ISIC_0709041.jpg  \n",
            "  inflating: train/ISIC_9797612.jpg  \n",
            "  inflating: __MACOSX/train/._ISIC_9797612.jpg  \n",
            "  inflating: train/ISIC_9985141.jpg  \n",
            "  inflating: __MACOSX/train/._ISIC_9985141.jpg  \n",
            "  inflating: train/ISIC_7418635.jpg  \n",
            "  inflating: __MACOSX/train/._ISIC_7418635.jpg  \n",
            "  inflating: train/ISIC_4621548.jpg  \n",
            "  inflating: __MACOSX/train/._ISIC_4621548.jpg  \n",
            "  inflating: train/ISIC_7515463.jpg  \n",
            "  inflating: __MACOSX/train/._ISIC_7515463.jpg  \n",
            "  inflating: train/ISIC_7073263.jpg  \n",
            "  inflating: __MACOSX/train/._ISIC_7073263.jpg  \n",
            "  inflating: train/ISIC_1346688.jpg  \n",
            "  inflating: __MACOSX/train/._ISIC_1346688.jpg  \n",
            "  inflating: train/ISIC_7342760.jpg  \n",
            "  inflating: __MACOSX/train/._ISIC_7342760.jpg  \n",
            "  inflating: train/ISIC_0940070.jpg  \n",
            "  inflating: __MACOSX/train/._ISIC_0940070.jpg  \n",
            "  inflating: train/ISIC_1957625.jpg  \n",
            "  inflating: __MACOSX/train/._ISIC_1957625.jpg  \n",
            "  inflating: train/ISIC_3003273.jpg  \n",
            "  inflating: __MACOSX/train/._ISIC_3003273.jpg  \n",
            "  inflating: train/ISIC_9165807.jpg  \n",
            "  inflating: __MACOSX/train/._ISIC_9165807.jpg  \n",
            "  inflating: train/ISIC_1985763.jpg  \n",
            "  inflating: __MACOSX/train/._ISIC_1985763.jpg  \n",
            "  inflating: train/ISIC_9259820.jpg  \n",
            "  inflating: __MACOSX/train/._ISIC_9259820.jpg  \n",
            "  inflating: train/ISIC_6955095.jpg  \n",
            "  inflating: __MACOSX/train/._ISIC_6955095.jpg  \n",
            "  inflating: train/ISIC_7380353.jpg  \n",
            "  inflating: __MACOSX/train/._ISIC_7380353.jpg  \n",
            "  inflating: train/ISIC_8036804.jpg  \n",
            "  inflating: __MACOSX/train/._ISIC_8036804.jpg  \n",
            "  inflating: train/ISIC_9434115.jpg  \n",
            "  inflating: __MACOSX/train/._ISIC_9434115.jpg  \n",
            "  inflating: train/ISIC_4547675.jpg  \n",
            "  inflating: __MACOSX/train/._ISIC_4547675.jpg  \n",
            "  inflating: train/ISIC_3262153.jpg  \n",
            "  inflating: __MACOSX/train/._ISIC_3262153.jpg  \n",
            "  inflating: train/ISIC_9454839.jpg  \n",
            "  inflating: __MACOSX/train/._ISIC_9454839.jpg  \n",
            "  inflating: train/ISIC_9363564.jpg  \n",
            "  inflating: __MACOSX/train/._ISIC_9363564.jpg  \n",
            "  inflating: train/ISIC_6661073.jpg  \n",
            "  inflating: __MACOSX/train/._ISIC_6661073.jpg  \n",
            "  inflating: train/ISIC_1944659.jpg  \n",
            "  inflating: __MACOSX/train/._ISIC_1944659.jpg  \n",
            "  inflating: train/ISIC_8426638.jpg  \n",
            "  inflating: __MACOSX/train/._ISIC_8426638.jpg  \n",
            "  inflating: train/ISIC_4580458.jpg  \n",
            "  inflating: __MACOSX/train/._ISIC_4580458.jpg  \n",
            "  inflating: train/ISIC_7825897.jpg  \n",
            "  inflating: __MACOSX/train/._ISIC_7825897.jpg  \n",
            "  inflating: train/ISIC_6610852.jpg  \n",
            "  inflating: __MACOSX/train/._ISIC_6610852.jpg  \n",
            "  inflating: train/ISIC_5723062.jpg  \n",
            "  inflating: __MACOSX/train/._ISIC_5723062.jpg  \n",
            "  inflating: train/ISIC_7015694.jpg  \n",
            "  inflating: __MACOSX/train/._ISIC_7015694.jpg  \n",
            "  inflating: train/ISIC_6967033.jpg  \n",
            "  inflating: __MACOSX/train/._ISIC_6967033.jpg  \n",
            "  inflating: train/ISIC_3475660.jpg  \n",
            "  inflating: __MACOSX/train/._ISIC_3475660.jpg  \n",
            "  inflating: train/ISIC_9573538.jpg  \n",
            "  inflating: __MACOSX/train/._ISIC_9573538.jpg  \n",
            "  inflating: train/ISIC_5318217.jpg  \n",
            "  inflating: __MACOSX/train/._ISIC_5318217.jpg  \n",
            "  inflating: train/ISIC_8657079.jpg  \n",
            "  inflating: __MACOSX/train/._ISIC_8657079.jpg  \n",
            "  inflating: train/ISIC_8917078.jpg  \n",
            "  inflating: __MACOSX/train/._ISIC_8917078.jpg  \n",
            "  inflating: train/ISIC_8966681.jpg  \n",
            "  inflating: __MACOSX/train/._ISIC_8966681.jpg  \n",
            "  inflating: train/ISIC_9553830.jpg  \n",
            "  inflating: __MACOSX/train/._ISIC_9553830.jpg  \n",
            "  inflating: train/ISIC_8022865.jpg  \n",
            "  inflating: __MACOSX/train/._ISIC_8022865.jpg  \n",
            "  inflating: train/ISIC_4406629.jpg  \n",
            "  inflating: __MACOSX/train/._ISIC_4406629.jpg  \n",
            "  inflating: train/ISIC_1798471.jpg  \n",
            "  inflating: __MACOSX/train/._ISIC_1798471.jpg  \n",
            "  inflating: train/ISIC_4007918.jpg  \n",
            "  inflating: __MACOSX/train/._ISIC_4007918.jpg  \n",
            "  inflating: train/ISIC_7387428.jpg  \n",
            "  inflating: __MACOSX/train/._ISIC_7387428.jpg  \n",
            "  inflating: train/ISIC_1109641.jpg  \n",
            "  inflating: __MACOSX/train/._ISIC_1109641.jpg  \n",
            "  inflating: train/ISIC_2611077.jpg  \n",
            "  inflating: __MACOSX/train/._ISIC_2611077.jpg  \n",
            "  inflating: train/ISIC_4206472.jpg  \n",
            "  inflating: __MACOSX/train/._ISIC_4206472.jpg  \n",
            "  inflating: train/ISIC_0109568.jpg  \n",
            "  inflating: __MACOSX/train/._ISIC_0109568.jpg  \n",
            "  inflating: train/ISIC_0193456.jpg  \n",
            "  inflating: __MACOSX/train/._ISIC_0193456.jpg  \n",
            "  inflating: train/ISIC_8759726.jpg  \n",
            "  inflating: __MACOSX/train/._ISIC_8759726.jpg  \n",
            "  inflating: train/ISIC_5549565.jpg  \n",
            "  inflating: __MACOSX/train/._ISIC_5549565.jpg  \n",
            "  inflating: train/ISIC_4499109.jpg  \n",
            "  inflating: __MACOSX/train/._ISIC_4499109.jpg  \n",
            "  inflating: train/ISIC_2587913.jpg  \n",
            "  inflating: __MACOSX/train/._ISIC_2587913.jpg  \n",
            "  inflating: train/ISIC_9112443.jpg  \n",
            "  inflating: __MACOSX/train/._ISIC_9112443.jpg  \n",
            "  inflating: train/ISIC_3222205.jpg  \n",
            "  inflating: __MACOSX/train/._ISIC_3222205.jpg  \n",
            "  inflating: train/ISIC_1641476.jpg  \n",
            "  inflating: __MACOSX/train/._ISIC_1641476.jpg  \n",
            "  inflating: train/ISIC_1805163.jpg  \n",
            "  inflating: __MACOSX/train/._ISIC_1805163.jpg  \n",
            "  inflating: train/ISIC_1100665.jpg  \n",
            "  inflating: __MACOSX/train/._ISIC_1100665.jpg  \n",
            "  inflating: train/ISIC_5068748.jpg  \n",
            "  inflating: __MACOSX/train/._ISIC_5068748.jpg  \n",
            "  inflating: train/ISIC_0229600.jpg  \n",
            "  inflating: __MACOSX/train/._ISIC_0229600.jpg  \n",
            "  inflating: train/ISIC_9273777.jpg  \n",
            "  inflating: __MACOSX/train/._ISIC_9273777.jpg  \n",
            "  inflating: train/ISIC_1952749.jpg  \n",
            "  inflating: __MACOSX/train/._ISIC_1952749.jpg  \n",
            "  inflating: train/ISIC_1474461.jpg  \n",
            "  inflating: __MACOSX/train/._ISIC_1474461.jpg  \n",
            "  inflating: train/ISIC_9825491.jpg  \n",
            "  inflating: __MACOSX/train/._ISIC_9825491.jpg  \n",
            "  inflating: train/ISIC_9012331.jpg  \n",
            "  inflating: __MACOSX/train/._ISIC_9012331.jpg  \n",
            "  inflating: train/ISIC_7289411.jpg  \n",
            "  inflating: __MACOSX/train/._ISIC_7289411.jpg  \n",
            "  inflating: train/ISIC_0519765.jpg  \n",
            "  inflating: __MACOSX/train/._ISIC_0519765.jpg  \n",
            "  inflating: train/ISIC_8608794.jpg  \n",
            "  inflating: __MACOSX/train/._ISIC_8608794.jpg  \n",
            "  inflating: train/ISIC_4263017.jpg  \n",
            "  inflating: __MACOSX/train/._ISIC_4263017.jpg  \n",
            "  inflating: train/ISIC_9588205.jpg  \n",
            "  inflating: __MACOSX/train/._ISIC_9588205.jpg  \n",
            "  inflating: train/ISIC_5638873.jpg  \n",
            "  inflating: __MACOSX/train/._ISIC_5638873.jpg  \n",
            "  inflating: train/ISIC_6400810.jpg  \n",
            "  inflating: __MACOSX/train/._ISIC_6400810.jpg  \n",
            "  inflating: train/ISIC_4126295.jpg  \n",
            "  inflating: __MACOSX/train/._ISIC_4126295.jpg  \n",
            "  inflating: train/ISIC_0187812.jpg  \n",
            "  inflating: __MACOSX/train/._ISIC_0187812.jpg  \n",
            "  inflating: train/ISIC_0534191.jpg  \n",
            "  inflating: __MACOSX/train/._ISIC_0534191.jpg  \n",
            "  inflating: train/ISIC_2074649.jpg  \n",
            "  inflating: __MACOSX/train/._ISIC_2074649.jpg  \n",
            "  inflating: train/ISIC_2167621.jpg  \n",
            "  inflating: __MACOSX/train/._ISIC_2167621.jpg  \n",
            "  inflating: train/ISIC_4711662.jpg  \n",
            "  inflating: __MACOSX/train/._ISIC_4711662.jpg  \n",
            "  inflating: train/ISIC_8655487.jpg  \n",
            "  inflating: __MACOSX/train/._ISIC_8655487.jpg  \n",
            "  inflating: train/ISIC_7422026.jpg  \n",
            "  inflating: __MACOSX/train/._ISIC_7422026.jpg  \n",
            "  inflating: train/ISIC_7784881.jpg  \n",
            "  inflating: __MACOSX/train/._ISIC_7784881.jpg  \n",
            "  inflating: train/ISIC_2350747.jpg  \n",
            "  inflating: __MACOSX/train/._ISIC_2350747.jpg  \n",
            "  inflating: train/ISIC_6894346.jpg  \n",
            "  inflating: __MACOSX/train/._ISIC_6894346.jpg  \n",
            "  inflating: train/ISIC_1639724.jpg  \n",
            "  inflating: __MACOSX/train/._ISIC_1639724.jpg  \n",
            "  inflating: train/ISIC_9741917.jpg  \n",
            "  inflating: __MACOSX/train/._ISIC_9741917.jpg  \n",
            "  inflating: train/ISIC_9018393.jpg  \n",
            "  inflating: __MACOSX/train/._ISIC_9018393.jpg  \n",
            "  inflating: train/ISIC_6852275.jpg  \n",
            "  inflating: __MACOSX/train/._ISIC_6852275.jpg  \n",
            "  inflating: train/ISIC_0247330.jpg  \n",
            "  inflating: __MACOSX/train/._ISIC_0247330.jpg  \n",
            "  inflating: train/ISIC_0293607.jpg  \n",
            "  inflating: __MACOSX/train/._ISIC_0293607.jpg  \n",
            "  inflating: train/ISIC_7350199.jpg  \n",
            "  inflating: __MACOSX/train/._ISIC_7350199.jpg  \n",
            "  inflating: train/ISIC_9308886.jpg  \n",
            "  inflating: __MACOSX/train/._ISIC_9308886.jpg  \n",
            "  inflating: train/ISIC_8596474.jpg  \n",
            "  inflating: __MACOSX/train/._ISIC_8596474.jpg  \n",
            "  inflating: train/ISIC_9732721.jpg  \n",
            "  inflating: __MACOSX/train/._ISIC_9732721.jpg  \n",
            "  inflating: train/ISIC_5360623.jpg  \n",
            "  inflating: __MACOSX/train/._ISIC_5360623.jpg  \n",
            "  inflating: train/ISIC_1912184.jpg  \n",
            "  inflating: __MACOSX/train/._ISIC_1912184.jpg  \n",
            "  inflating: train/ISIC_4565629.jpg  \n",
            "  inflating: __MACOSX/train/._ISIC_4565629.jpg  \n",
            "  inflating: train/ISIC_8458669.jpg  \n",
            "  inflating: __MACOSX/train/._ISIC_8458669.jpg  \n",
            "  inflating: train/ISIC_2284502.jpg  \n",
            "  inflating: __MACOSX/train/._ISIC_2284502.jpg  \n",
            "  inflating: train/ISIC_7337102.jpg  \n",
            "  inflating: __MACOSX/train/._ISIC_7337102.jpg  \n",
            "  inflating: train/ISIC_1738348.jpg  \n",
            "  inflating: __MACOSX/train/._ISIC_1738348.jpg  \n",
            "  inflating: train/ISIC_1172768.jpg  \n",
            "  inflating: __MACOSX/train/._ISIC_1172768.jpg  \n",
            "  inflating: train/ISIC_9555702.jpg  \n",
            "  inflating: __MACOSX/train/._ISIC_9555702.jpg  \n",
            "  inflating: train/ISIC_4648717.jpg  \n",
            "  inflating: __MACOSX/train/._ISIC_4648717.jpg  \n",
            "  inflating: train/ISIC_0232963.jpg  \n",
            "  inflating: __MACOSX/train/._ISIC_0232963.jpg  \n",
            "  inflating: train/ISIC_9777269.jpg  \n",
            "  inflating: __MACOSX/train/._ISIC_9777269.jpg  \n",
            "  inflating: train/ISIC_5990316.jpg  \n",
            "  inflating: __MACOSX/train/._ISIC_5990316.jpg  \n",
            "  inflating: train/ISIC_5415781.jpg  \n",
            "  inflating: __MACOSX/train/._ISIC_5415781.jpg  \n",
            "  inflating: train/ISIC_5980105.jpg  \n",
            "  inflating: __MACOSX/train/._ISIC_5980105.jpg  \n",
            "  inflating: train/ISIC_4455932.jpg  \n",
            "  inflating: __MACOSX/train/._ISIC_4455932.jpg  \n",
            "  inflating: train/ISIC_3587179.jpg  \n",
            "  inflating: __MACOSX/train/._ISIC_3587179.jpg  \n",
            "  inflating: train/ISIC_1755832.jpg  \n",
            "  inflating: __MACOSX/train/._ISIC_1755832.jpg  \n",
            "  inflating: train/ISIC_7701135.jpg  \n",
            "  inflating: __MACOSX/train/._ISIC_7701135.jpg  \n",
            "  inflating: train/ISIC_0596524.jpg  \n",
            "  inflating: __MACOSX/train/._ISIC_0596524.jpg  \n",
            "  inflating: train/ISIC_2513343.jpg  \n",
            "  inflating: __MACOSX/train/._ISIC_2513343.jpg  \n",
            "  inflating: train/ISIC_4856118.jpg  \n",
            "  inflating: __MACOSX/train/._ISIC_4856118.jpg  \n",
            "  inflating: train/ISIC_1399765.jpg  \n",
            "  inflating: __MACOSX/train/._ISIC_1399765.jpg  \n",
            "  inflating: train/ISIC_3221297.jpg  \n",
            "  inflating: __MACOSX/train/._ISIC_3221297.jpg  \n",
            "  inflating: train/ISIC_5946750.jpg  \n",
            "  inflating: __MACOSX/train/._ISIC_5946750.jpg  \n",
            "  inflating: train/ISIC_1664345.jpg  \n",
            "  inflating: __MACOSX/train/._ISIC_1664345.jpg  \n",
            "  inflating: train/ISIC_8743583.jpg  \n",
            "  inflating: __MACOSX/train/._ISIC_8743583.jpg  \n",
            "  inflating: train/ISIC_1801846.jpg  \n",
            "  inflating: __MACOSX/train/._ISIC_1801846.jpg  \n",
            "  inflating: train/ISIC_0394140.jpg  \n",
            "  inflating: __MACOSX/train/._ISIC_0394140.jpg  \n",
            "  inflating: train/ISIC_1316518.jpg  \n",
            "  inflating: __MACOSX/train/._ISIC_1316518.jpg  \n",
            "  inflating: train/ISIC_7037186.jpg  \n",
            "  inflating: __MACOSX/train/._ISIC_7037186.jpg  \n",
            "  inflating: train/ISIC_0447631.jpg  \n",
            "  inflating: __MACOSX/train/._ISIC_0447631.jpg  \n",
            "  inflating: train/ISIC_7759376.jpg  \n",
            "  inflating: __MACOSX/train/._ISIC_7759376.jpg  \n",
            "  inflating: train/ISIC_5743557.jpg  \n",
            "  inflating: __MACOSX/train/._ISIC_5743557.jpg  \n",
            "  inflating: train/ISIC_4254687.jpg  \n",
            "  inflating: __MACOSX/train/._ISIC_4254687.jpg  \n",
            "  inflating: train/ISIC_3866054.jpg  \n",
            "  inflating: __MACOSX/train/._ISIC_3866054.jpg  \n",
            "  inflating: train/ISIC_0481702.jpg  \n",
            "  inflating: __MACOSX/train/._ISIC_0481702.jpg  \n",
            "  inflating: train/ISIC_9182285.jpg  \n",
            "  inflating: __MACOSX/train/._ISIC_9182285.jpg  \n",
            "  inflating: train/ISIC_0442749.jpg  \n",
            "  inflating: __MACOSX/train/._ISIC_0442749.jpg  \n",
            "  inflating: train/ISIC_3922602.jpg  \n",
            "  inflating: __MACOSX/train/._ISIC_3922602.jpg  \n",
            "  inflating: train/ISIC_7169788.jpg  \n",
            "  inflating: __MACOSX/train/._ISIC_7169788.jpg  \n",
            "  inflating: train/ISIC_5137933.jpg  \n",
            "  inflating: __MACOSX/train/._ISIC_5137933.jpg  \n",
            "  inflating: train/ISIC_1696845.jpg  \n",
            "  inflating: __MACOSX/train/._ISIC_1696845.jpg  \n",
            "  inflating: train/ISIC_6109355.jpg  \n",
            "  inflating: __MACOSX/train/._ISIC_6109355.jpg  \n",
            "  inflating: train/ISIC_0912291.jpg  \n",
            "  inflating: __MACOSX/train/._ISIC_0912291.jpg  \n",
            "  inflating: train/ISIC_9755786.jpg  \n",
            "  inflating: __MACOSX/train/._ISIC_9755786.jpg  \n",
            "  inflating: train/ISIC_2343061.jpg  \n",
            "  inflating: __MACOSX/train/._ISIC_2343061.jpg  \n",
            "  inflating: train/ISIC_1409677.jpg  \n",
            "  inflating: __MACOSX/train/._ISIC_1409677.jpg  \n",
            "  inflating: train/ISIC_6681346.jpg  \n",
            "  inflating: __MACOSX/train/._ISIC_6681346.jpg  \n",
            "  inflating: train/ISIC_2982945.jpg  \n",
            "  inflating: __MACOSX/train/._ISIC_2982945.jpg  \n",
            "  inflating: train/ISIC_8175524.jpg  \n",
            "  inflating: __MACOSX/train/._ISIC_8175524.jpg  \n",
            "  inflating: train/ISIC_3495555.jpg  \n",
            "  inflating: __MACOSX/train/._ISIC_3495555.jpg  \n",
            "  inflating: train/ISIC_8278912.jpg  \n",
            "  inflating: __MACOSX/train/._ISIC_8278912.jpg  \n",
            "  inflating: train/ISIC_0880095.jpg  \n",
            "  inflating: __MACOSX/train/._ISIC_0880095.jpg  \n",
            "  inflating: train/ISIC_6422441.jpg  \n",
            "  inflating: __MACOSX/train/._ISIC_6422441.jpg  \n",
            "  inflating: train/ISIC_4188998.jpg  \n",
            "  inflating: __MACOSX/train/._ISIC_4188998.jpg  \n",
            "  inflating: train/ISIC_9963177.jpg  \n",
            "  inflating: __MACOSX/train/._ISIC_9963177.jpg  \n",
            "  inflating: train/ISIC_6048309.jpg  \n",
            "  inflating: __MACOSX/train/._ISIC_6048309.jpg  \n",
            "  inflating: train/ISIC_0401116.jpg  \n",
            "  inflating: __MACOSX/train/._ISIC_0401116.jpg  \n",
            "  inflating: train/ISIC_5036393.jpg  \n",
            "  inflating: __MACOSX/train/._ISIC_5036393.jpg  \n",
            "  inflating: train/ISIC_5536616.jpg  \n",
            "  inflating: __MACOSX/train/._ISIC_5536616.jpg  \n",
            "  inflating: train/ISIC_3157385.jpg  \n",
            "  inflating: __MACOSX/train/._ISIC_3157385.jpg  \n",
            "  inflating: train/ISIC_0413512.jpg  \n",
            "  inflating: __MACOSX/train/._ISIC_0413512.jpg  \n",
            "  inflating: train/ISIC_2738630.jpg  \n",
            "  inflating: __MACOSX/train/._ISIC_2738630.jpg  \n",
            "  inflating: train/ISIC_1975137.jpg  \n",
            "  inflating: __MACOSX/train/._ISIC_1975137.jpg  \n",
            "  inflating: train/ISIC_6141339.jpg  \n",
            "  inflating: __MACOSX/train/._ISIC_6141339.jpg  \n",
            "  inflating: train/ISIC_3487151.jpg  \n",
            "  inflating: __MACOSX/train/._ISIC_3487151.jpg  \n",
            "  inflating: train/ISIC_8762217.jpg  \n",
            "  inflating: __MACOSX/train/._ISIC_8762217.jpg  \n",
            "  inflating: train/ISIC_6901611.jpg  \n",
            "  inflating: __MACOSX/train/._ISIC_6901611.jpg  \n",
            "  inflating: train/ISIC_6265551.jpg  \n",
            "  inflating: __MACOSX/train/._ISIC_6265551.jpg  \n",
            "  inflating: train/ISIC_8478591.jpg  \n",
            "  inflating: __MACOSX/train/._ISIC_8478591.jpg  \n",
            "  inflating: train/ISIC_5073817.jpg  \n",
            "  inflating: __MACOSX/train/._ISIC_5073817.jpg  \n",
            "  inflating: train/ISIC_1070631.jpg  \n",
            "  inflating: __MACOSX/train/._ISIC_1070631.jpg  \n",
            "  inflating: train/ISIC_5608998.jpg  \n",
            "  inflating: __MACOSX/train/._ISIC_5608998.jpg  \n",
            "  inflating: train/ISIC_3227802.jpg  \n",
            "  inflating: __MACOSX/train/._ISIC_3227802.jpg  \n",
            "  inflating: train/ISIC_5213829.jpg  \n",
            "  inflating: __MACOSX/train/._ISIC_5213829.jpg  \n",
            "  inflating: train/ISIC_2882945.jpg  \n",
            "  inflating: __MACOSX/train/._ISIC_2882945.jpg  \n",
            "  inflating: train/ISIC_9280358.jpg  \n",
            "  inflating: __MACOSX/train/._ISIC_9280358.jpg  \n",
            "  inflating: train/ISIC_5608740.jpg  \n",
            "  inflating: __MACOSX/train/._ISIC_5608740.jpg  \n",
            "  inflating: train/ISIC_6052437.jpg  \n",
            "  inflating: __MACOSX/train/._ISIC_6052437.jpg  \n",
            "  inflating: train/ISIC_9886689.jpg  \n",
            "  inflating: __MACOSX/train/._ISIC_9886689.jpg  \n",
            "  inflating: train/ISIC_7745993.jpg  \n",
            "  inflating: __MACOSX/train/._ISIC_7745993.jpg  \n",
            "  inflating: train/ISIC_6272993.jpg  \n",
            "  inflating: __MACOSX/train/._ISIC_6272993.jpg  \n",
            "  inflating: train/ISIC_5365015.jpg  \n",
            "  inflating: __MACOSX/train/._ISIC_5365015.jpg  \n",
            "  inflating: train/ISIC_6046442.jpg  \n",
            "  inflating: __MACOSX/train/._ISIC_6046442.jpg  \n",
            "  inflating: train/ISIC_9387345.jpg  \n",
            "  inflating: __MACOSX/train/._ISIC_9387345.jpg  \n",
            "  inflating: train/ISIC_4592289.jpg  \n",
            "  inflating: __MACOSX/train/._ISIC_4592289.jpg  \n",
            "  inflating: train/ISIC_2004386.jpg  \n",
            "  inflating: __MACOSX/train/._ISIC_2004386.jpg  \n",
            "  inflating: train/ISIC_2563840.jpg  \n",
            "  inflating: __MACOSX/train/._ISIC_2563840.jpg  \n",
            "  inflating: train/ISIC_5579667.jpg  \n",
            "  inflating: __MACOSX/train/._ISIC_5579667.jpg  \n",
            "  inflating: train/ISIC_7584150.jpg  \n",
            "  inflating: __MACOSX/train/._ISIC_7584150.jpg  \n",
            "  inflating: train/ISIC_8536167.jpg  \n",
            "  inflating: __MACOSX/train/._ISIC_8536167.jpg  \n",
            "  inflating: train/ISIC_4164065.jpg  \n",
            "  inflating: __MACOSX/train/._ISIC_4164065.jpg  \n",
            "  inflating: train/ISIC_5964240.jpg  \n",
            "  inflating: __MACOSX/train/._ISIC_5964240.jpg  \n",
            "  inflating: train/ISIC_7293105.jpg  \n",
            "  inflating: __MACOSX/train/._ISIC_7293105.jpg  \n",
            "  inflating: train/ISIC_5373844.jpg  \n",
            "  inflating: __MACOSX/train/._ISIC_5373844.jpg  \n",
            "  inflating: train/ISIC_5251429.jpg  \n",
            "  inflating: __MACOSX/train/._ISIC_5251429.jpg  \n",
            "  inflating: train/ISIC_4341261.jpg  \n",
            "  inflating: __MACOSX/train/._ISIC_4341261.jpg  \n",
            "  inflating: train/ISIC_5874721.jpg  \n",
            "  inflating: __MACOSX/train/._ISIC_5874721.jpg  \n",
            "  inflating: train/ISIC_7169011.jpg  \n",
            "  inflating: __MACOSX/train/._ISIC_7169011.jpg  \n",
            "  inflating: train/ISIC_2093777.jpg  \n",
            "  inflating: __MACOSX/train/._ISIC_2093777.jpg  \n",
            "  inflating: train/ISIC_1303854.jpg  \n",
            "  inflating: __MACOSX/train/._ISIC_1303854.jpg  \n",
            "  inflating: train/ISIC_0363251.jpg  \n",
            "  inflating: __MACOSX/train/._ISIC_0363251.jpg  \n",
            "  inflating: train/ISIC_7400522.jpg  \n",
            "  inflating: __MACOSX/train/._ISIC_7400522.jpg  \n",
            "  inflating: train/ISIC_1425404.jpg  \n",
            "  inflating: __MACOSX/train/._ISIC_1425404.jpg  \n",
            "  inflating: train/ISIC_7107910.jpg  \n",
            "  inflating: __MACOSX/train/._ISIC_7107910.jpg  \n",
            "  inflating: train/ISIC_4024333.jpg  \n",
            "  inflating: __MACOSX/train/._ISIC_4024333.jpg  \n",
            "  inflating: train/ISIC_3851607.jpg  \n",
            "  inflating: __MACOSX/train/._ISIC_3851607.jpg  \n",
            "  inflating: train/ISIC_3740449.jpg  \n",
            "  inflating: __MACOSX/train/._ISIC_3740449.jpg  \n",
            "  inflating: train/ISIC_2942220.jpg  \n",
            "  inflating: __MACOSX/train/._ISIC_2942220.jpg  \n",
            "  inflating: train/ISIC_1728198.jpg  \n",
            "  inflating: __MACOSX/train/._ISIC_1728198.jpg  \n",
            "  inflating: train/ISIC_1922084.jpg  \n",
            "  inflating: __MACOSX/train/._ISIC_1922084.jpg  \n",
            "  inflating: train/ISIC_9752016.jpg  \n",
            "  inflating: __MACOSX/train/._ISIC_9752016.jpg  \n",
            "  inflating: train/ISIC_1991528.jpg  \n",
            "  inflating: __MACOSX/train/._ISIC_1991528.jpg  \n",
            "  inflating: train/ISIC_4657838.jpg  \n",
            "  inflating: __MACOSX/train/._ISIC_4657838.jpg  \n",
            "  inflating: train/ISIC_8082147.jpg  \n",
            "  inflating: __MACOSX/train/._ISIC_8082147.jpg  \n",
            "  inflating: train/ISIC_1684266.jpg  \n",
            "  inflating: __MACOSX/train/._ISIC_1684266.jpg  \n",
            "  inflating: train/ISIC_9877843.jpg  \n",
            "  inflating: __MACOSX/train/._ISIC_9877843.jpg  \n",
            "  inflating: train/ISIC_1588382.jpg  \n",
            "  inflating: __MACOSX/train/._ISIC_1588382.jpg  \n",
            "  inflating: train/ISIC_4778171.jpg  \n",
            "  inflating: __MACOSX/train/._ISIC_4778171.jpg  \n",
            "  inflating: train/ISIC_5390261.jpg  \n",
            "  inflating: __MACOSX/train/._ISIC_5390261.jpg  \n",
            "  inflating: train/ISIC_0608613.jpg  \n",
            "  inflating: __MACOSX/train/._ISIC_0608613.jpg  \n",
            "  inflating: train/ISIC_7480322.jpg  \n",
            "  inflating: __MACOSX/train/._ISIC_7480322.jpg  \n",
            "  inflating: train/ISIC_8144706.jpg  \n",
            "  inflating: __MACOSX/train/._ISIC_8144706.jpg  \n",
            "  inflating: train/ISIC_4737672.jpg  \n",
            "  inflating: __MACOSX/train/._ISIC_4737672.jpg  \n",
            "  inflating: train/ISIC_4352209.jpg  \n",
            "  inflating: __MACOSX/train/._ISIC_4352209.jpg  \n",
            "  inflating: train/ISIC_3891437.jpg  \n",
            "  inflating: __MACOSX/train/._ISIC_3891437.jpg  \n",
            "  inflating: train/ISIC_3225754.jpg  \n",
            "  inflating: __MACOSX/train/._ISIC_3225754.jpg  \n",
            "  inflating: train/ISIC_7185913.jpg  \n",
            "  inflating: __MACOSX/train/._ISIC_7185913.jpg  \n",
            "  inflating: train/ISIC_8921092.jpg  \n",
            "  inflating: __MACOSX/train/._ISIC_8921092.jpg  \n",
            "  inflating: train/ISIC_9015660.jpg  \n",
            "  inflating: __MACOSX/train/._ISIC_9015660.jpg  \n",
            "  inflating: train/ISIC_6168754.jpg  \n",
            "  inflating: __MACOSX/train/._ISIC_6168754.jpg  \n",
            "  inflating: train/ISIC_5477879.jpg  \n",
            "  inflating: __MACOSX/train/._ISIC_5477879.jpg  \n",
            "  inflating: train/ISIC_8034587.jpg  \n",
            "  inflating: __MACOSX/train/._ISIC_8034587.jpg  \n",
            "  inflating: train/ISIC_0501843.jpg  \n",
            "  inflating: __MACOSX/train/._ISIC_0501843.jpg  \n",
            "  inflating: train/ISIC_7264599.jpg  \n",
            "  inflating: __MACOSX/train/._ISIC_7264599.jpg  \n",
            "  inflating: train/ISIC_1883892.jpg  \n",
            "  inflating: __MACOSX/train/._ISIC_1883892.jpg  \n",
            "  inflating: train/ISIC_9852341.jpg  \n",
            "  inflating: __MACOSX/train/._ISIC_9852341.jpg  \n",
            "  inflating: train/ISIC_2847358.jpg  \n",
            "  inflating: __MACOSX/train/._ISIC_2847358.jpg  \n",
            "  inflating: train/ISIC_9176489.jpg  \n",
            "  inflating: __MACOSX/train/._ISIC_9176489.jpg  \n",
            "  inflating: train/ISIC_2038480.jpg  \n",
            "  inflating: __MACOSX/train/._ISIC_2038480.jpg  \n",
            "  inflating: train/ISIC_7907808.jpg  \n",
            "  inflating: __MACOSX/train/._ISIC_7907808.jpg  \n",
            "  inflating: train/ISIC_9288923.jpg  \n",
            "  inflating: __MACOSX/train/._ISIC_9288923.jpg  \n",
            "  inflating: train/ISIC_1940615.jpg  \n",
            "  inflating: __MACOSX/train/._ISIC_1940615.jpg  \n",
            "  inflating: train/ISIC_8819519.jpg  \n",
            "  inflating: __MACOSX/train/._ISIC_8819519.jpg  \n",
            "  inflating: train/ISIC_8905642.jpg  \n",
            "  inflating: __MACOSX/train/._ISIC_8905642.jpg  \n",
            "  inflating: train/ISIC_6893398.jpg  \n",
            "  inflating: __MACOSX/train/._ISIC_6893398.jpg  \n",
            "  inflating: train/ISIC_1656452.jpg  \n",
            "  inflating: __MACOSX/train/._ISIC_1656452.jpg  \n",
            "  inflating: train/ISIC_6133988.jpg  \n",
            "  inflating: __MACOSX/train/._ISIC_6133988.jpg  \n",
            "  inflating: train/ISIC_2360135.jpg  \n",
            "  inflating: __MACOSX/train/._ISIC_2360135.jpg  \n",
            "  inflating: train/ISIC_8474432.jpg  \n",
            "  inflating: __MACOSX/train/._ISIC_8474432.jpg  \n",
            "  inflating: train/ISIC_3657135.jpg  \n",
            "  inflating: __MACOSX/train/._ISIC_3657135.jpg  \n",
            "  inflating: train/ISIC_3683402.jpg  \n",
            "  inflating: __MACOSX/train/._ISIC_3683402.jpg  \n",
            "  inflating: train/ISIC_3816570.jpg  \n",
            "  inflating: __MACOSX/train/._ISIC_3816570.jpg  \n",
            "  inflating: train/ISIC_2536100.jpg  \n",
            "  inflating: __MACOSX/train/._ISIC_2536100.jpg  \n",
            "  inflating: train/ISIC_1496194.jpg  \n",
            "  inflating: __MACOSX/train/._ISIC_1496194.jpg  \n",
            "  inflating: train/ISIC_8003465.jpg  \n",
            "  inflating: __MACOSX/train/._ISIC_8003465.jpg  \n",
            "  inflating: train/ISIC_2655423.jpg  \n",
            "  inflating: __MACOSX/train/._ISIC_2655423.jpg  \n",
            "  inflating: train/ISIC_5157962.jpg  \n",
            "  inflating: __MACOSX/train/._ISIC_5157962.jpg  \n",
            "  inflating: train/ISIC_9478109.jpg  \n",
            "  inflating: __MACOSX/train/._ISIC_9478109.jpg  \n",
            "  inflating: train/ISIC_2908315.jpg  \n",
            "  inflating: __MACOSX/train/._ISIC_2908315.jpg  \n",
            "  inflating: train/ISIC_7472836.jpg  \n",
            "  inflating: __MACOSX/train/._ISIC_7472836.jpg  \n",
            "  inflating: train/ISIC_0468611.jpg  \n",
            "  inflating: __MACOSX/train/._ISIC_0468611.jpg  \n",
            "  inflating: train/ISIC_3161186.jpg  \n",
            "  inflating: __MACOSX/train/._ISIC_3161186.jpg  \n",
            "  inflating: train/ISIC_6029052.jpg  \n",
            "  inflating: __MACOSX/train/._ISIC_6029052.jpg  \n",
            "  inflating: train/ISIC_9268141.jpg  \n",
            "  inflating: __MACOSX/train/._ISIC_9268141.jpg  \n",
            "  inflating: train/ISIC_3299685.jpg  \n",
            "  inflating: __MACOSX/train/._ISIC_3299685.jpg  \n",
            "  inflating: train/ISIC_5218773.jpg  \n",
            "  inflating: __MACOSX/train/._ISIC_5218773.jpg  \n",
            "  inflating: train/ISIC_8653009.jpg  \n",
            "  inflating: __MACOSX/train/._ISIC_8653009.jpg  \n",
            "  inflating: train/ISIC_8132874.jpg  \n",
            "  inflating: __MACOSX/train/._ISIC_8132874.jpg  \n",
            "  inflating: train/ISIC_1601244.jpg  \n",
            "  inflating: __MACOSX/train/._ISIC_1601244.jpg  \n",
            "  inflating: train/ISIC_5164416.jpg  \n",
            "  inflating: __MACOSX/train/._ISIC_5164416.jpg  \n",
            "  inflating: train/ISIC_3087371.jpg  \n",
            "  inflating: __MACOSX/train/._ISIC_3087371.jpg  \n",
            "  inflating: train/ISIC_2022396.jpg  \n",
            "  inflating: __MACOSX/train/._ISIC_2022396.jpg  \n",
            "  inflating: train/ISIC_9685766.jpg  \n",
            "  inflating: __MACOSX/train/._ISIC_9685766.jpg  \n",
            "  inflating: train/ISIC_7543427.jpg  \n",
            "  inflating: __MACOSX/train/._ISIC_7543427.jpg  \n",
            "  inflating: train/ISIC_7638993.jpg  \n",
            "  inflating: __MACOSX/train/._ISIC_7638993.jpg  \n",
            "  inflating: train/ISIC_7023656.jpg  \n",
            "  inflating: __MACOSX/train/._ISIC_7023656.jpg  \n",
            "  inflating: train/ISIC_0305842.jpg  \n",
            "  inflating: __MACOSX/train/._ISIC_0305842.jpg  \n",
            "  inflating: train/ISIC_1942980.jpg  \n",
            "  inflating: __MACOSX/train/._ISIC_1942980.jpg  \n",
            "  inflating: train/ISIC_3374533.jpg  \n",
            "  inflating: __MACOSX/train/._ISIC_3374533.jpg  \n",
            "  inflating: train/ISIC_1836973.jpg  \n",
            "  inflating: __MACOSX/train/._ISIC_1836973.jpg  \n",
            "  inflating: train/ISIC_2238376.jpg  \n",
            "  inflating: __MACOSX/train/._ISIC_2238376.jpg  \n",
            "  inflating: train/ISIC_0654636.jpg  \n",
            "  inflating: __MACOSX/train/._ISIC_0654636.jpg  \n",
            "  inflating: train/ISIC_5341606.jpg  \n",
            "  inflating: __MACOSX/train/._ISIC_5341606.jpg  \n",
            "  inflating: train/ISIC_0849256.jpg  \n",
            "  inflating: __MACOSX/train/._ISIC_0849256.jpg  \n",
            "  inflating: train/ISIC_4252547.jpg  \n",
            "  inflating: __MACOSX/train/._ISIC_4252547.jpg  \n",
            "  inflating: train/ISIC_7065617.jpg  \n",
            "  inflating: __MACOSX/train/._ISIC_7065617.jpg  \n",
            "  inflating: train/ISIC_9913453.jpg  \n",
            "  inflating: __MACOSX/train/._ISIC_9913453.jpg  \n",
            "  inflating: train/ISIC_7175376.jpg  \n",
            "  inflating: __MACOSX/train/._ISIC_7175376.jpg  \n",
            "  inflating: train/ISIC_8008242.jpg  \n",
            "  inflating: __MACOSX/train/._ISIC_8008242.jpg  \n",
            "  inflating: train/ISIC_3072844.jpg  \n",
            "  inflating: __MACOSX/train/._ISIC_3072844.jpg  \n",
            "  inflating: train/ISIC_1378570.jpg  \n",
            "  inflating: __MACOSX/train/._ISIC_1378570.jpg  \n",
            "  inflating: train/ISIC_8236300.jpg  \n",
            "  inflating: __MACOSX/train/._ISIC_8236300.jpg  \n",
            "  inflating: train/ISIC_1790549.jpg  \n",
            "  inflating: __MACOSX/train/._ISIC_1790549.jpg  \n",
            "  inflating: train/ISIC_6527288.jpg  \n",
            "  inflating: __MACOSX/train/._ISIC_6527288.jpg  \n",
            "  inflating: train/ISIC_7027424.jpg  \n",
            "  inflating: __MACOSX/train/._ISIC_7027424.jpg  \n",
            "  inflating: train/ISIC_7801289.jpg  \n",
            "  inflating: __MACOSX/train/._ISIC_7801289.jpg  \n",
            "  inflating: train/ISIC_8785329.jpg  \n",
            "  inflating: __MACOSX/train/._ISIC_8785329.jpg  \n",
            "  inflating: train/ISIC_0349484.jpg  \n",
            "  inflating: __MACOSX/train/._ISIC_0349484.jpg  \n",
            "  inflating: train/ISIC_0543494.jpg  \n",
            "  inflating: __MACOSX/train/._ISIC_0543494.jpg  \n",
            "  inflating: train/ISIC_9578109.jpg  \n",
            "  inflating: __MACOSX/train/._ISIC_9578109.jpg  \n",
            "  inflating: train/ISIC_8057020.jpg  \n",
            "  inflating: __MACOSX/train/._ISIC_8057020.jpg  \n",
            "  inflating: train/ISIC_6103877.jpg  \n",
            "  inflating: __MACOSX/train/._ISIC_6103877.jpg  \n",
            "  inflating: train/ISIC_6867543.jpg  \n",
            "  inflating: __MACOSX/train/._ISIC_6867543.jpg  \n",
            "  inflating: train/ISIC_2232883.jpg  \n",
            "  inflating: __MACOSX/train/._ISIC_2232883.jpg  \n",
            "  inflating: train/ISIC_6056692.jpg  \n",
            "  inflating: __MACOSX/train/._ISIC_6056692.jpg  \n",
            "  inflating: train/ISIC_1182470.jpg  \n",
            "  inflating: __MACOSX/train/._ISIC_1182470.jpg  \n",
            "  inflating: train/ISIC_5921734.jpg  \n",
            "  inflating: __MACOSX/train/._ISIC_5921734.jpg  \n",
            "  inflating: train/ISIC_7495707.jpg  \n",
            "  inflating: __MACOSX/train/._ISIC_7495707.jpg  \n",
            "  inflating: train/ISIC_8957886.jpg  \n",
            "  inflating: __MACOSX/train/._ISIC_8957886.jpg  \n",
            "  inflating: train/ISIC_7978038.jpg  \n",
            "  inflating: __MACOSX/train/._ISIC_7978038.jpg  \n",
            "  inflating: train/ISIC_8823875.jpg  \n",
            "  inflating: __MACOSX/train/._ISIC_8823875.jpg  \n",
            "  inflating: train/ISIC_1605988.jpg  \n",
            "  inflating: __MACOSX/train/._ISIC_1605988.jpg  \n"
          ]
        }
      ]
    },
    {
      "cell_type": "markdown",
      "source": [
        "# Funciones para ejecutar el código"
      ],
      "metadata": {
        "id": "csJWUf4Oa20J"
      }
    },
    {
      "cell_type": "code",
      "source": [
        "# Ignore  the warnings\n",
        "import warnings\n",
        "warnings.filterwarnings('always')\n",
        "warnings.filterwarnings('ignore')"
      ],
      "metadata": {
        "id": "H19172VFayzV"
      },
      "execution_count": null,
      "outputs": []
    },
    {
      "cell_type": "code",
      "source": [
        "import numpy as np # linear algebra\n",
        "import pandas as pd # data processing, CSV file I/O (e.g. pd.read_csv)\n",
        "\n",
        "import os\n",
        "from skimage import io\n",
        "\n",
        "#!pip install efficientnet_pytorch torchtoolbox\n",
        "import copy\n",
        "\n",
        "import torch\n",
        "import torch.nn as nn\n",
        "import torch.nn.functional as F\n",
        "import torch.optim as optim\n",
        "from torch.utils.data import Dataset, DataLoader, random_split\n",
        "#import torchtoolbox.transform as transforms\n",
        "\n",
        "import torchvision\n",
        "from torchvision import datasets, models, transforms\n",
        "\n",
        "from sklearn.metrics import accuracy_score, roc_auc_score\n",
        "from sklearn.model_selection import StratifiedKFold, GroupKFold\n",
        "import gc\n",
        "import cv2\n",
        "import time\n",
        "import datetime\n",
        "import warnings\n",
        "import random\n",
        "import matplotlib.pyplot as plt\n",
        "import seaborn as sns\n",
        "from tqdm import tqdm\n",
        "%matplotlib inline\n",
        "\n",
        "from PIL import Image\n",
        "from IPython.display import FileLink \n",
        "\n",
        "from sklearn.metrics import accuracy_score\n",
        "from sklearn.metrics import precision_score\n",
        "from sklearn.metrics import recall_score\n",
        "from sklearn.metrics import confusion_matrix\n",
        "from sklearn.metrics import f1_score\n",
        "\n",
        "import seaborn as sns\n",
        "import matplotlib.pyplot as pl\n",
        "\n",
        "device = torch.device(\"cuda:0\" if torch.cuda.is_available() else \"cpu\")"
      ],
      "metadata": {
        "id": "ZDwTr0Awa7PF"
      },
      "execution_count": null,
      "outputs": []
    },
    {
      "cell_type": "code",
      "source": [
        "def make_CNN(model_name, num_classes):\n",
        "    # Initialize these variables which will be set in this if statement. Each of these\n",
        "    # variables is model specific.\n",
        "    # The model (nn.Module) to return\n",
        "    model_ft = None\n",
        "    # The input image is expected to be (input_size, input_size)\n",
        "    input_size = 0\n",
        "    \n",
        "    # You may NOT use pretrained models!! \n",
        "    use_pretrained = False\n",
        "    \n",
        "    # By default, all parameters will be trained (useful when you're starting from scratch)\n",
        "    # Within this function you can set .requires_grad = False for various parameters, if you don't want to learn them\n",
        "\n",
        "    if model_name == \"resnet\":\n",
        "        \"\"\" Resnet18\n",
        "        \"\"\"\n",
        "        model_ft = models.resnet18(pretrained=use_pretrained)\n",
        "        num_ftrs = model_ft.fc.in_features\n",
        "        model_ft.fc = nn.Linear(num_ftrs, 1)\n",
        "        input_size = 224\n",
        "        \n",
        "    elif model_name == \"vgg16\":\n",
        "        \"\"\" VGG16_bn\n",
        "        \"\"\"\n",
        "        model_ft = models.vgg16_bn(pretrained=use_pretrained)\n",
        "        num_ftrs = model_ft.classifier[6].in_features\n",
        "        model_ft.classifier[6] = nn.Linear(num_ftrs, 1)\n",
        "        input_size = 224       \n",
        "\n",
        "    elif model_name == \"squeezenet\":\n",
        "        \"\"\" Squeezenet\n",
        "        \"\"\"\n",
        "        model_ft = models.squeezenet1_0(pretrained=use_pretrained)\n",
        "        model_ft.classifier[1] = nn.Conv2d(512, 1, kernel_size=(1,1), stride=(1,1))\n",
        "        model_ft.num_classes = num_classes\n",
        "        input_size = 224\n",
        "\n",
        "    elif model_name == \"densenet\":\n",
        "        \"\"\" Densenet\n",
        "        \"\"\"\n",
        "        model_ft = models.densenet121(pretrained=use_pretrained)\n",
        "        num_ftrs = model_ft.classifier.in_features\n",
        "        model_ft.classifier = nn.Linear(num_ftrs, 1)\n",
        "        input_size = 224\n",
        "        \n",
        "    else:\n",
        "        raise Exception(\"Invalid model name!\")\n",
        "    \n",
        "    return model_ft, input_size"
      ],
      "metadata": {
        "id": "28WigFdja8Z8"
      },
      "execution_count": null,
      "outputs": []
    },
    {
      "cell_type": "code",
      "source": [
        "class Melanoma_Net(nn.Module):\n",
        "    \"\"\"\n",
        "    fc1: number of neurons in the hidden fully connected layer\n",
        "    \"\"\"\n",
        "    def __init__(self, cnn_model_name, num_classes, num_multimodal_features=9, fc1_out=32):\n",
        "        #num_classes = 1\n",
        "        #num_multimodal_features= 9\n",
        "        super(Melanoma_Net, self).__init__()\n",
        "        self.cnn, self.input_size = make_CNN(cnn_model_name, num_classes)#models.vgg11(pretrained=False, progress = True)\n",
        "        #define output layers\n",
        "        self.fc1 = nn.Linear(num_classes + num_multimodal_features, fc1_out) #takes in input of CNN and multimodal input\n",
        "        self.fc2 = nn.Linear(fc1_out, num_classes)\n",
        "        \n",
        "    def forward(self, image, data):\n",
        "        x1 = self.cnn(image)\n",
        "        #print(\"x1\", x1.shape)\n",
        "        x2 = data\n",
        "        #print(\"x2\", x2.shape)\n",
        "        #print(\"x1: \", x1, type(x1))\n",
        "        #print(\"x2: \", x2, type(x2))\n",
        "        #x = torch.cat((x1, x2), dim=1)  \n",
        "        x = torch.cat((x1.float(), x2.float()), dim=1) ### ???\n",
        "\n",
        "        #print(\"concat\", x.shape)\n",
        "        x = F.relu(self.fc1(x))\n",
        "        #print(\"relu\", x.shape)\n",
        "        x = self.fc2(x)\n",
        "        #print('forward output: ', x)\n",
        "        #print(\"fc2\", x.shape)\n",
        "        return x.double() ### ???"
      ],
      "metadata": {
        "id": "JX6QtPW4a98T"
      },
      "execution_count": null,
      "outputs": []
    },
    {
      "cell_type": "code",
      "source": [
        "class AdvancedHairAugmentation:\n",
        "    \"\"\"\n",
        "    Impose an image of a hair to the target image\n",
        "\n",
        "    Args:\n",
        "        hairs (int): maximum number of hairs to impose\n",
        "        hairs_folder (str): path to the folder with hairs images\n",
        "    \"\"\"\n",
        "\n",
        "    def __init__(self, hairs: int = 5, hairs_folder: str = \"\"):\n",
        "        self.hairs = hairs\n",
        "        self.hairs_folder = hairs_folder\n",
        "\n",
        "    def __call__(self, img_path):\n",
        "        \"\"\"\n",
        "        Args:\n",
        "            img (PIL Image): Image to draw hairs on.\n",
        "\n",
        "        Returns:\n",
        "            PIL Image: Image with drawn hairs.\n",
        "        \"\"\"\n",
        "        img = cv2.imread(img_path)\n",
        "        n_hairs = random.randint(1, self.hairs)\n",
        "        \n",
        "        if not n_hairs:\n",
        "            return img\n",
        "        \n",
        "        height, width, _ = img.shape  # target image width and height\n",
        "        hair_images = [im for im in os.listdir(self.hairs_folder) if 'png' in im]\n",
        "        \n",
        "        for _ in range(n_hairs):\n",
        "            hair = cv2.imread(os.path.join(self.hairs_folder, random.choice(hair_images)))\n",
        "            hair = cv2.flip(hair, random.choice([-1, 0, 1]))\n",
        "            hair = cv2.rotate(hair, random.choice([0, 1, 2]))\n",
        "\n",
        "            h_height, h_width, _ = hair.shape  # hair image width and height\n",
        "            roi_ho = random.randint(0, img.shape[0] - hair.shape[0])\n",
        "            roi_wo = random.randint(0, img.shape[1] - hair.shape[1])\n",
        "            roi = img[roi_ho:roi_ho + h_height, roi_wo:roi_wo + h_width]\n",
        "\n",
        "            # Creating a mask and inverse mask\n",
        "            img2gray = cv2.cvtColor(hair, cv2.COLOR_BGR2GRAY)\n",
        "            ret, mask = cv2.threshold(img2gray, 10, 255, cv2.THRESH_BINARY)\n",
        "            mask_inv = cv2.bitwise_not(mask)\n",
        "\n",
        "            # Now black-out the area of hair in ROI\n",
        "            img_bg = cv2.bitwise_and(roi, roi, mask=mask_inv)\n",
        "\n",
        "            # Take only region of hair from hair image.\n",
        "            hair_fg = cv2.bitwise_and(hair, hair, mask=mask)\n",
        "\n",
        "            # Put hair in ROI and modify the target image\n",
        "            dst = cv2.add(img_bg, hair_fg)\n",
        "\n",
        "            img[roi_ho:roi_ho + h_height, roi_wo:roi_wo + h_width] = dst\n",
        "        img = cv2.cvtColor(img, cv2.COLOR_BGR2RGB) #converts image color back to regular color (instead of producing blue tinted image)        \n",
        "        return img\n",
        "\n",
        "    def __repr__(self):\n",
        "        return f'{self.__class__.__name__}(hairs={self.hairs}, hairs_folder=\"{self.hairs_folder}\")'"
      ],
      "metadata": {
        "id": "W7N_X_Qva_VF"
      },
      "execution_count": null,
      "outputs": []
    },
    {
      "cell_type": "code",
      "source": [
        "class MultimodalDataset(Dataset):\n",
        "    \"\"\"\n",
        "    Custom dataset definition\n",
        "    \"\"\"\n",
        "    def __init__(self, csv_path, img_path, mode='train', transform=None):\n",
        "        \"\"\"\n",
        "        \"\"\"\n",
        "        self.df = pd.read_csv(csv_path)\n",
        "        self.img_path = img_path\n",
        "        self.mode= mode\n",
        "        self.transform = transform\n",
        "        \n",
        "            \n",
        "    def __getitem__(self, index):\n",
        "        \"\"\"\n",
        "        \"\"\"\n",
        "        img_name = self.df.iloc[index][\"image_name\"] + \".jpg\"\n",
        "        img_path = os.path.join(self.img_path, img_name)\n",
        "        image = Image.open(img_path)\n",
        "\n",
        "        dtype = torch.cuda.FloatTensor if torch.cuda.is_available() else torch.FloatTensor # ???\n",
        "        \n",
        "        if self.mode == 'train':\n",
        "            #augments malignant images with hair twice\n",
        "            if self.df.iloc[index][\"augmented\"]==1:\n",
        "                image = AdvancedHairAugmentation(hairs_folder=\"melanoma_hairs\")(img_path)\n",
        "                image = Image.fromarray(image, 'RGB')\n",
        "            elif self.df.iloc[index][\"augmented\"]==2:\n",
        "                image = AdvancedHairAugmentation(hairs_folder=\"melanoma_hairs\")(img_path)\n",
        "                image = Image.fromarray(image, 'RGB')\n",
        "            else:  \n",
        "                image = image.convert(\"RGB\")\n",
        "                \n",
        "            image = np.asarray(image)\n",
        "            if self.transform is not None:\n",
        "                image = self.transform(image)\n",
        "            labels = torch.tensor(self.df.iloc[index][\"target\"], dtype = torch.float64)\n",
        "            \n",
        "            features = np.fromstring(self.df.iloc[index][\"features\"][1:-1], sep=\",\") #turns features into an array            \n",
        "            features = torch.from_numpy(features.astype(\"float\")) #turns the features array into a vector\n",
        "            return image, features, labels\n",
        "            \n",
        "        elif self.mode == 'val':\n",
        "            image = np.asarray(image)\n",
        "            if self.transform is not None:\n",
        "                image = self.transform(image)\n",
        "            labels = torch.tensor(self.df.iloc[index][\"target\"], dtype = torch.float64)\n",
        "            \n",
        "            features = np.fromstring(self.df.iloc[index][\"features\"][1:-1], sep=\",\") #turns features into an array\n",
        "            features = torch.from_numpy(features.astype(\"float\")) #turns the features array into a vector\n",
        "            return image, features, labels\n",
        "        \n",
        "        else: #when self.mode=='test'\n",
        "            image = np.asarray(image)\n",
        "            if self.transform is not None:\n",
        "                image = self.transform(image)\n",
        "            features = np.fromstring(self.df.iloc[index][\"features\"][1:-1], sep=\",\") #turns features into an array\n",
        "            features = torch.from_numpy(features.astype(\"float\")) #turns the features array into a vector\n",
        "            return image, features, self.df.iloc[index][\"image_name\"]\n",
        "\n",
        "    def __len__(self):\n",
        "        return len(self.df)"
      ],
      "metadata": {
        "id": "16KSf8dmbA01"
      },
      "execution_count": null,
      "outputs": []
    },
    {
      "cell_type": "code",
      "source": [
        "image_path_dict = {'train': \"train\",\n",
        "                  'val': \"train\" ,\n",
        "                  'test': \"train\"}\n",
        "\n",
        "dataframes_path = 'melanoma_without_duplicates_separated/'"
      ],
      "metadata": {
        "id": "0SR0BH_pbCFd"
      },
      "execution_count": null,
      "outputs": []
    },
    {
      "cell_type": "code",
      "source": [
        "class FocalLoss(nn.Module):\n",
        "    def __init__(self, alpha=0.25, gamma=2.0, logits=False, reduce=True):\n",
        "        super(FocalLoss, self).__init__()\n",
        "        self.alpha = alpha\n",
        "        self.gamma = gamma\n",
        "        self.logits = logits\n",
        "        self.reduce = reduce\n",
        "\n",
        "    def forward(self, inputs, targets):\n",
        "        if self.logits:\n",
        "            BCE_loss = F.binary_cross_entropy_with_logits(inputs, targets, reduce=False)\n",
        "        else:\n",
        "            BCE_loss = F.binary_cross_entropy(inputs, targets, reduce=False)\n",
        "        pt = torch.exp(-BCE_loss)\n",
        "        F_loss = self.alpha * (1-pt)**self.gamma * BCE_loss\n",
        "\n",
        "        if self.reduce:\n",
        "            return torch.mean(F_loss)\n",
        "        else:\n",
        "            return F_loss"
      ],
      "metadata": {
        "id": "Az-ob_71bEfL"
      },
      "execution_count": null,
      "outputs": []
    },
    {
      "cell_type": "code",
      "source": [
        "def make_optimizer(model):\n",
        "    #Get all the parameters\n",
        "    params_to_update = model.parameters()\n",
        "    print(\"Params to learn:\")\n",
        "    for name, param in model.named_parameters():\n",
        "        if param.requires_grad == True:\n",
        "            print(\"\\t\",name)\n",
        "\n",
        "    #Use SGD\n",
        "    optimizer = optim.SGD(params_to_update, lr=0.01, momentum=0.9)\n",
        "    return optimizer\n",
        "\n",
        " \n",
        "def get_loss(num_classes,device):\n",
        "    # Create an instance of the loss function\n",
        "    # We could set weights to account for unbalanced data but we have augmented the data to be even in benign count and malignant count\n",
        "    \n",
        "    #pos_weight = torch.tensor(np.ones(num_classes))\n",
        "    #pos_weight = pos_weight.to(device)\n",
        "    criterion = nn.BCEWithLogitsLoss()\n",
        "    \n",
        "    #criterion = FocalLoss()\n",
        "    return criterion"
      ],
      "metadata": {
        "id": "VHoV7EE8bGSt"
      },
      "execution_count": null,
      "outputs": []
    },
    {
      "cell_type": "code",
      "source": [
        "def get_dataloaders(input_size, batch_size, augment=False, shuffle = True):\n",
        "    # How to transform the image when you are loading them.\n",
        "    # you'll likely want to mess with the transforms on the training set.\n",
        "    \n",
        "    # For now, we resize/crop the image to the correct input size for our network,\n",
        "    # then convert it to a [C,H,W] tensor, then normalize it to values with a given mean/stdev. These normalization constants\n",
        "    # are derived from aggregating lots of data and happen to produce better results.\n",
        "    data_transforms = {\n",
        "        'train': transforms.Compose([\n",
        "            transforms.ToPILImage(),\n",
        "            transforms.Resize(input_size),\n",
        "            transforms.CenterCrop(input_size),\n",
        "            transforms.ToTensor(),\n",
        "            transforms.Normalize([0.5], [0.225])\n",
        "        ]),\n",
        "        'val': transforms.Compose([\n",
        "            transforms.ToPILImage(),\n",
        "            transforms.Resize(input_size),\n",
        "            transforms.CenterCrop(input_size),\n",
        "            transforms.ToTensor(),\n",
        "            transforms.Normalize([0.5], [0.225])\n",
        "        ]),\n",
        "        'test': transforms.Compose([\n",
        "            transforms.ToPILImage(),\n",
        "            transforms.Resize(input_size),\n",
        "            transforms.CenterCrop(input_size),\n",
        "            transforms.ToTensor(),\n",
        "            transforms.Normalize([0.5], [0.225])\n",
        "        ])\n",
        "    }\n",
        "    # Create training and validation datasets\n",
        "    data_subsets = {x: MultimodalDataset(csv_path=dataframes_path + x + \".csv\", \n",
        "                                         img_path = image_path_dict[x],\n",
        "                                         mode = x,\n",
        "                                         transform=data_transforms[x]) for x in data_transforms.keys()}\n",
        "    \n",
        "    # Create training and validation dataloaders\n",
        "    # Never shuffle the test set\n",
        "    dataloaders_dict = {x: DataLoader(data_subsets[x], batch_size=batch_size, shuffle=False if x != 'train' else shuffle, num_workers=4) for x in data_transforms.keys()}\n",
        "    return dataloaders_dict"
      ],
      "metadata": {
        "id": "np9o_mdXbHqO"
      },
      "execution_count": null,
      "outputs": []
    },
    {
      "cell_type": "code",
      "source": [
        "val_df = pd.read_csv(dataframes_path + \"val.csv\")\n",
        "val_real = []\n",
        "for i in range(val_df.shape[0]):\n",
        "    val_real.append(val_df['target'].iloc[i])"
      ],
      "metadata": {
        "id": "_L2F8kI_bJyj"
      },
      "execution_count": null,
      "outputs": []
    },
    {
      "cell_type": "code",
      "source": [
        "def train_model(model, dataloaders, criterion, optimizer, \n",
        "                scheduler, model_name=str(datetime.datetime.now()), \n",
        "                save_dir = None, num_epochs=25):\n",
        "    import time\n",
        "    start_time = time.time()\n",
        "    \n",
        "    #take out if just starting to train\n",
        "    #checkpoint = torch.load(\"../input/shuffle-meta-conf-matrix/resnet_weights_12.pt\")\n",
        "    #model.load_state_dict(checkpoint['state_dict'])\n",
        "    #optimizer.load_state_dict(checkpoint['optimizer'])\n",
        "    #epoch_before = checkpoint['epoch']\n",
        "\n",
        "    train_losses = []\n",
        "    test_losses = []\n",
        "    train_auc=[]\n",
        "    val_auc=[]\n",
        "    train_pred = []\n",
        "    train_real = []\n",
        "    val_pred = []\n",
        "    val_real = []\n",
        "    for epoch in range(num_epochs):\n",
        "\n",
        "        train_preds=[]\n",
        "        train_targets=[]\n",
        "        auc_train=[]\n",
        "        loss_epoch_train=[]\n",
        "        loss_epoch_test=[]\n",
        "        # Run the training batches\n",
        "        for inputs, features, labels in tqdm(dataloaders['train']):\n",
        "            inputs = inputs.to(device)\n",
        "            features = features.to(device)\n",
        "            labels = labels.to(device)\n",
        "            \n",
        "            outputs = model(inputs, features)\n",
        "            outputs = torch.squeeze(outputs)\n",
        "            #outputs = torch.as_tensor(outputs.tolist())\n",
        "            preds = (outputs > 0).type(torch.float64)\n",
        "            train_real.extend(labels.tolist())\n",
        "            train_pred.extend(preds.tolist())\n",
        "            \n",
        "            labels = torch.squeeze(labels)\n",
        "            loss = criterion(torch.sigmoid(outputs.type(torch.FloatTensor)), labels.type(torch.FloatTensor))\n",
        "            loss_epoch_train.append(loss.item())\n",
        "                \n",
        "            optimizer.zero_grad()\n",
        "            loss.backward()\n",
        "            optimizer.step()\n",
        "\n",
        "        auc_train=roc_auc_score(labels.detach().cpu().numpy(),torch.sigmoid(outputs).detach().cpu().numpy())\n",
        "        #auc_train=roc_auc_score(y_train.detach().to(device).numpy(),torch.sigmoid(y_pred).detach().to(device).numpy())\n",
        "        \n",
        "        train_losses.append(np.mean(loss_epoch_train))\n",
        "        train_auc.append(auc_train)\n",
        "        \n",
        "        print(f'Epoch: {epoch:2} Train Loss: {np.mean(loss_epoch_train):10.8f} AUC: {auc_train:10.8f} ')\n",
        "        df_confusion = confusion_matrix(train_real, train_pred)\n",
        "        df_conf_norm = df_confusion / df_confusion.sum(axis=1, keepdims = True)\n",
        "        print(df_conf_norm)\n",
        "        \n",
        "        # Run the testing batches\n",
        "        with torch.no_grad():\n",
        "            for inputs, features, labels in tqdm(dataloaders['val']):\n",
        "                inputs = inputs.to(device)\n",
        "                features = features.to(device)\n",
        "                labels = labels.to(device)\n",
        "                \n",
        "                outputs = model(inputs, features)\n",
        "                #print('outputs1 ' + str(outputs))\n",
        "\n",
        "                outputs = torch.squeeze(outputs)\n",
        "                #print('outputs2 ' + str(outputs))\n",
        "                preds = (outputs > 0).type(torch.float64)\n",
        "                #print('labels ' + (str(labels)))\n",
        "                #print('pred ' + str(preds))\n",
        "                val_real.extend(labels.tolist())\n",
        "                val_pred.extend(preds.tolist())\n",
        "                \n",
        "                #outputs = torch.as_tensor(outputs.tolist())\n",
        "                #print('new outs', outputs)\n",
        "                labels = torch.squeeze(labels)\n",
        "                loss = criterion(torch.sigmoid(outputs.type(torch.FloatTensor)), labels.type(torch.FloatTensor))\n",
        "                loss_epoch_test.append(loss.item())\n",
        "                                          \n",
        "        auc_val=roc_auc_score(labels.detach().cpu().numpy(),torch.sigmoid(outputs).detach().cpu().numpy())\n",
        "        \n",
        "        test_losses.append(np.mean(loss_epoch_test))\n",
        "        val_auc.append(auc_val)\n",
        "        \n",
        "        print(f'Epoch: {epoch} Val Loss: {np.mean(loss_epoch_test):10.8f} AUC: {auc_val:10.8f} ')\n",
        "        df_confusion = confusion_matrix(val_real, val_pred)\n",
        "        df_conf_norm = df_confusion / df_confusion.sum(axis=1, keepdims = True)\n",
        "        print(df_conf_norm)\n",
        "        \n",
        "        if epoch % 5==0:\n",
        "        #if epoch % 5==0:\n",
        "            model_file = { 'epoch': epoch,\n",
        "                      'state_dict': model.state_dict(),\n",
        "                      'optimizer' : optimizer.state_dict()}\n",
        "            torch.save(model_file, dataframes_path + \"Pesos Vgg16/{}_weights_{}.pt\".format(model_name, epoch))\n",
        "        #epoch if just started training\n",
        "        #epoch + epoch_before + 1 afterwards\n",
        "    print(f'\\nDuration: {time.time() - start_time:.0f} seconds') # print the time elapsed\n",
        "    return train_auc, val_auc, train_losses,test_losses"
      ],
      "metadata": {
        "id": "hVCQgvpmbL-E"
      },
      "execution_count": null,
      "outputs": []
    },
    {
      "cell_type": "code",
      "source": [
        "# Models to choose from [resnet, vgg16, squeezenet, densenet]\n",
        "# You can add your own, or modify these however you wish!\n",
        "model_name = 'vgg16'\n",
        "\n",
        "# Number of classes in the dataset\n",
        "num_classes = 1\n",
        "\n",
        "# Batch size for training (change depending on how much memory you have)\n",
        "# You should use a power of 2.\n",
        "batch_size = 64\n",
        "\n",
        "# Shuffle the input data?\n",
        "shuffle_datasets = True\n",
        "\n",
        "# Number of epochs to train for \n",
        "num_epochs = 200\n",
        "\n",
        "# Directory to save weights to\n",
        "#save_dir = \"weights\"\n",
        "#os.makedirs(save_dir, exist_ok=True)"
      ],
      "metadata": {
        "id": "B9-v3s8KbkKt"
      },
      "execution_count": null,
      "outputs": []
    },
    {
      "cell_type": "code",
      "source": [
        "# Initialize the model for this run\n",
        "model = Melanoma_Net(cnn_model_name = model_name, num_classes = num_classes)\n",
        "input_size = model.input_size\n",
        "    \n",
        "dataloaders = get_dataloaders(input_size, batch_size, shuffle = shuffle_datasets)\n",
        "criterion = get_loss(num_classes=num_classes,device=device)\n",
        "\n",
        "# Move the model to the gpu if needed\n",
        "model = model.to(device)\n",
        "\n",
        "optimizer = make_optimizer(model)\n",
        "scheduler = torch.optim.lr_scheduler.StepLR(optimizer, step_size=30, gamma=0.1)\n",
        "#scheduler = torch.optim.lr_scheduler.MultiStepLR(optimizer, milestones=[5,10],gamma=0.1)\n",
        "\n",
        "# Train the model!\n",
        "train_auc, val_auc,train_losses,test_losses  = train_model(model=model,\n",
        "            dataloaders=dataloaders, criterion=criterion, optimizer=optimizer,\n",
        "            scheduler=scheduler, model_name=model_name, num_epochs=num_epochs)"
      ],
      "metadata": {
        "colab": {
          "base_uri": "https://localhost:8080/"
        },
        "id": "Nb-H9oFycFRx",
        "outputId": "edb17e8a-22f1-4f7d-a44f-dac5b77130a0"
      },
      "execution_count": null,
      "outputs": [
        {
          "output_type": "stream",
          "name": "stdout",
          "text": [
            "Params to learn:\n",
            "\t cnn.features.0.weight\n",
            "\t cnn.features.0.bias\n",
            "\t cnn.features.1.weight\n",
            "\t cnn.features.1.bias\n",
            "\t cnn.features.3.weight\n",
            "\t cnn.features.3.bias\n",
            "\t cnn.features.4.weight\n",
            "\t cnn.features.4.bias\n",
            "\t cnn.features.7.weight\n",
            "\t cnn.features.7.bias\n",
            "\t cnn.features.8.weight\n",
            "\t cnn.features.8.bias\n",
            "\t cnn.features.10.weight\n",
            "\t cnn.features.10.bias\n",
            "\t cnn.features.11.weight\n",
            "\t cnn.features.11.bias\n",
            "\t cnn.features.14.weight\n",
            "\t cnn.features.14.bias\n",
            "\t cnn.features.15.weight\n",
            "\t cnn.features.15.bias\n",
            "\t cnn.features.17.weight\n",
            "\t cnn.features.17.bias\n",
            "\t cnn.features.18.weight\n",
            "\t cnn.features.18.bias\n",
            "\t cnn.features.20.weight\n",
            "\t cnn.features.20.bias\n",
            "\t cnn.features.21.weight\n",
            "\t cnn.features.21.bias\n",
            "\t cnn.features.24.weight\n",
            "\t cnn.features.24.bias\n",
            "\t cnn.features.25.weight\n",
            "\t cnn.features.25.bias\n",
            "\t cnn.features.27.weight\n",
            "\t cnn.features.27.bias\n",
            "\t cnn.features.28.weight\n",
            "\t cnn.features.28.bias\n",
            "\t cnn.features.30.weight\n",
            "\t cnn.features.30.bias\n",
            "\t cnn.features.31.weight\n",
            "\t cnn.features.31.bias\n",
            "\t cnn.features.34.weight\n",
            "\t cnn.features.34.bias\n",
            "\t cnn.features.35.weight\n",
            "\t cnn.features.35.bias\n",
            "\t cnn.features.37.weight\n",
            "\t cnn.features.37.bias\n",
            "\t cnn.features.38.weight\n",
            "\t cnn.features.38.bias\n",
            "\t cnn.features.40.weight\n",
            "\t cnn.features.40.bias\n",
            "\t cnn.features.41.weight\n",
            "\t cnn.features.41.bias\n",
            "\t cnn.classifier.0.weight\n",
            "\t cnn.classifier.0.bias\n",
            "\t cnn.classifier.3.weight\n",
            "\t cnn.classifier.3.bias\n",
            "\t cnn.classifier.6.weight\n",
            "\t cnn.classifier.6.bias\n",
            "\t fc1.weight\n",
            "\t fc1.bias\n",
            "\t fc2.weight\n",
            "\t fc2.bias\n"
          ]
        },
        {
          "output_type": "stream",
          "name": "stderr",
          "text": [
            "100%|██████████| 27/27 [00:30<00:00,  1.11s/it]\n"
          ]
        },
        {
          "output_type": "stream",
          "name": "stdout",
          "text": [
            "Epoch:  0 Train Loss: 0.72477208 AUC: 0.70686275 \n",
            "[[0.99098083 0.00901917]\n",
            " [0.95362663 0.04637337]]\n"
          ]
        },
        {
          "output_type": "stream",
          "name": "stderr",
          "text": [
            "100%|██████████| 7/7 [00:03<00:00,  1.93it/s]\n"
          ]
        },
        {
          "output_type": "stream",
          "name": "stdout",
          "text": [
            "Epoch: 0 Val Loss: 0.72539341 AUC: 0.52941176 \n",
            "[[0.95495495 0.04504505]\n",
            " [0.96190476 0.03809524]]\n"
          ]
        },
        {
          "output_type": "stream",
          "name": "stderr",
          "text": [
            "100%|██████████| 27/27 [00:30<00:00,  1.11s/it]\n"
          ]
        },
        {
          "output_type": "stream",
          "name": "stdout",
          "text": [
            "Epoch:  1 Train Loss: 0.70763964 AUC: 0.90196078 \n",
            "[[0.95828636 0.04171364]\n",
            " [0.76575505 0.23424495]]\n"
          ]
        },
        {
          "output_type": "stream",
          "name": "stderr",
          "text": [
            "100%|██████████| 7/7 [00:03<00:00,  1.84it/s]\n"
          ]
        },
        {
          "output_type": "stream",
          "name": "stdout",
          "text": [
            "Epoch: 1 Val Loss: 0.71773412 AUC: 0.68311195 \n",
            "[[0.88963964 0.11036036]\n",
            " [0.79047619 0.20952381]]\n"
          ]
        },
        {
          "output_type": "stream",
          "name": "stderr",
          "text": [
            "100%|██████████| 27/27 [00:29<00:00,  1.08s/it]\n"
          ]
        },
        {
          "output_type": "stream",
          "name": "stdout",
          "text": [
            "Epoch:  2 Train Loss: 0.66030575 AUC: 0.87389163 \n",
            "[[0.92972567 0.07027433]\n",
            " [0.61395164 0.38604836]]\n"
          ]
        },
        {
          "output_type": "stream",
          "name": "stderr",
          "text": [
            "100%|██████████| 7/7 [00:03<00:00,  1.79it/s]\n"
          ]
        },
        {
          "output_type": "stream",
          "name": "stdout",
          "text": [
            "Epoch: 2 Val Loss: 0.67337894 AUC: 0.76660342 \n",
            "[[0.87537538 0.12462462]\n",
            " [0.72063492 0.27936508]]\n"
          ]
        },
        {
          "output_type": "stream",
          "name": "stderr",
          "text": [
            "100%|██████████| 27/27 [00:29<00:00,  1.09s/it]\n"
          ]
        },
        {
          "output_type": "stream",
          "name": "stdout",
          "text": [
            "Epoch:  3 Train Loss: 0.60773175 AUC: 0.81329423 \n",
            "[[0.91967306 0.08032694]\n",
            " [0.54161712 0.45838288]]\n"
          ]
        },
        {
          "output_type": "stream",
          "name": "stderr",
          "text": [
            "100%|██████████| 7/7 [00:03<00:00,  1.89it/s]\n"
          ]
        },
        {
          "output_type": "stream",
          "name": "stdout",
          "text": [
            "Epoch: 3 Val Loss: 0.64780233 AUC: 0.77419355 \n",
            "[[0.84797297 0.15202703]\n",
            " [0.62380952 0.37619048]]\n"
          ]
        },
        {
          "output_type": "stream",
          "name": "stderr",
          "text": [
            "100%|██████████| 27/27 [00:29<00:00,  1.10s/it]\n"
          ]
        },
        {
          "output_type": "stream",
          "name": "stdout",
          "text": [
            "Epoch:  4 Train Loss: 0.59853779 AUC: 0.86314761 \n",
            "[[0.91431793 0.08568207]\n",
            " [0.4941736  0.5058264 ]]\n"
          ]
        },
        {
          "output_type": "stream",
          "name": "stderr",
          "text": [
            "100%|██████████| 7/7 [00:03<00:00,  1.87it/s]\n"
          ]
        },
        {
          "output_type": "stream",
          "name": "stdout",
          "text": [
            "Epoch: 4 Val Loss: 0.64960494 AUC: 0.78178368 \n",
            "[[0.84144144 0.15855856]\n",
            " [0.58666667 0.41333333]]\n"
          ]
        },
        {
          "output_type": "stream",
          "name": "stderr",
          "text": [
            "100%|██████████| 27/27 [00:29<00:00,  1.09s/it]\n"
          ]
        },
        {
          "output_type": "stream",
          "name": "stdout",
          "text": [
            "Epoch:  5 Train Loss: 0.59850199 AUC: 0.86568627 \n",
            "[[0.90736565 0.09263435]\n",
            " [0.45798652 0.54201348]]\n"
          ]
        },
        {
          "output_type": "stream",
          "name": "stderr",
          "text": [
            "100%|██████████| 7/7 [00:03<00:00,  1.88it/s]\n"
          ]
        },
        {
          "output_type": "stream",
          "name": "stdout",
          "text": [
            "Epoch: 5 Val Loss: 0.66145364 AUC: 0.70208729 \n",
            "[[0.83183183 0.16816817]\n",
            " [0.56904762 0.43095238]]\n"
          ]
        },
        {
          "output_type": "stream",
          "name": "stderr",
          "text": [
            "100%|██████████| 27/27 [00:29<00:00,  1.09s/it]\n"
          ]
        },
        {
          "output_type": "stream",
          "name": "stdout",
          "text": [
            "Epoch:  6 Train Loss: 0.59235561 AUC: 0.95196078 \n",
            "[[0.90819778 0.09180222]\n",
            " [0.43485646 0.56514354]]\n"
          ]
        },
        {
          "output_type": "stream",
          "name": "stderr",
          "text": [
            "100%|██████████| 7/7 [00:03<00:00,  1.89it/s]\n"
          ]
        },
        {
          "output_type": "stream",
          "name": "stdout",
          "text": [
            "Epoch: 6 Val Loss: 0.64399863 AUC: 0.79316888 \n",
            "[[0.82561133 0.17438867]\n",
            " [0.54217687 0.45782313]]\n"
          ]
        },
        {
          "output_type": "stream",
          "name": "stderr",
          "text": [
            "100%|██████████| 27/27 [00:29<00:00,  1.09s/it]\n"
          ]
        },
        {
          "output_type": "stream",
          "name": "stdout",
          "text": [
            "Epoch:  7 Train Loss: 0.59372758 AUC: 0.86408730 \n",
            "[[0.90684893 0.09315107]\n",
            " [0.41587396 0.58412604]]\n"
          ]
        },
        {
          "output_type": "stream",
          "name": "stderr",
          "text": [
            "100%|██████████| 7/7 [00:03<00:00,  1.84it/s]\n"
          ]
        },
        {
          "output_type": "stream",
          "name": "stdout",
          "text": [
            "Epoch: 7 Val Loss: 0.66620456 AUC: 0.76660342 \n",
            "[[0.82038288 0.17961712]\n",
            " [0.53869048 0.46130952]]\n"
          ]
        },
        {
          "output_type": "stream",
          "name": "stderr",
          "text": [
            "100%|██████████| 27/27 [00:29<00:00,  1.09s/it]\n"
          ]
        },
        {
          "output_type": "stream",
          "name": "stdout",
          "text": [
            "Epoch:  8 Train Loss: 0.59012001 AUC: 0.91593353 \n",
            "[[0.90692722 0.09307278]\n",
            " [0.40137403 0.59862597]]\n"
          ]
        },
        {
          "output_type": "stream",
          "name": "stderr",
          "text": [
            "100%|██████████| 7/7 [00:03<00:00,  1.93it/s]\n"
          ]
        },
        {
          "output_type": "stream",
          "name": "stdout",
          "text": [
            "Epoch: 8 Val Loss: 0.65289877 AUC: 0.81024668 \n",
            "[[0.81781782 0.18218218]\n",
            " [0.52592593 0.47407407]]\n"
          ]
        },
        {
          "output_type": "stream",
          "name": "stderr",
          "text": [
            "100%|██████████| 27/27 [00:29<00:00,  1.09s/it]\n"
          ]
        },
        {
          "output_type": "stream",
          "name": "stdout",
          "text": [
            "Epoch:  9 Train Loss: 0.59106334 AUC: 0.95589744 \n",
            "[[0.90676437 0.09323563]\n",
            " [0.3901308  0.6098692 ]]\n"
          ]
        },
        {
          "output_type": "stream",
          "name": "stderr",
          "text": [
            "100%|██████████| 7/7 [00:03<00:00,  1.89it/s]\n"
          ]
        },
        {
          "output_type": "stream",
          "name": "stdout",
          "text": [
            "Epoch: 9 Val Loss: 0.65359142 AUC: 0.79506641 \n",
            "[[0.81711712 0.18288288]\n",
            " [0.52047619 0.47952381]]\n"
          ]
        },
        {
          "output_type": "stream",
          "name": "stderr",
          "text": [
            "100%|██████████| 27/27 [00:29<00:00,  1.09s/it]\n"
          ]
        },
        {
          "output_type": "stream",
          "name": "stdout",
          "text": [
            "Epoch: 10 Train Loss: 0.58691511 AUC: 0.95210166 \n",
            "[[0.9091934  0.0908066 ]\n",
            " [0.38287753 0.61712247]]\n"
          ]
        },
        {
          "output_type": "stream",
          "name": "stderr",
          "text": [
            "100%|██████████| 7/7 [00:03<00:00,  1.88it/s]\n"
          ]
        },
        {
          "output_type": "stream",
          "name": "stdout",
          "text": [
            "Epoch: 10 Val Loss: 0.65998404 AUC: 0.77039848 \n",
            "[[0.82268632 0.17731368]\n",
            " [0.52857143 0.47142857]]\n"
          ]
        },
        {
          "output_type": "stream",
          "name": "stderr",
          "text": [
            "100%|██████████| 27/27 [00:29<00:00,  1.10s/it]\n"
          ]
        },
        {
          "output_type": "stream",
          "name": "stdout",
          "text": [
            "Epoch: 11 Train Loss: 0.59245314 AUC: 0.93750000 \n",
            "[[0.91018414 0.08981586]\n",
            " [0.3780222  0.6219778 ]]\n"
          ]
        },
        {
          "output_type": "stream",
          "name": "stderr",
          "text": [
            "100%|██████████| 7/7 [00:03<00:00,  1.83it/s]\n"
          ]
        },
        {
          "output_type": "stream",
          "name": "stdout",
          "text": [
            "Epoch: 11 Val Loss: 0.66801545 AUC: 0.77609108 \n",
            "[[0.81681682 0.18318318]\n",
            " [0.52460317 0.47539683]]\n"
          ]
        },
        {
          "output_type": "stream",
          "name": "stderr",
          "text": [
            "100%|██████████| 27/27 [00:29<00:00,  1.09s/it]\n"
          ]
        },
        {
          "output_type": "stream",
          "name": "stdout",
          "text": [
            "Epoch: 12 Train Loss: 0.58463711 AUC: 0.85813492 \n",
            "[[0.91258347 0.08741653]\n",
            " [0.37336504 0.62663496]]\n"
          ]
        },
        {
          "output_type": "stream",
          "name": "stderr",
          "text": [
            "100%|██████████| 7/7 [00:03<00:00,  1.83it/s]\n"
          ]
        },
        {
          "output_type": "stream",
          "name": "stdout",
          "text": [
            "Epoch: 12 Val Loss: 0.65025004 AUC: 0.79127135 \n",
            "[[0.81150381 0.18849619]\n",
            " [0.50879121 0.49120879]]\n"
          ]
        },
        {
          "output_type": "stream",
          "name": "stderr",
          "text": [
            "100%|██████████| 27/27 [00:29<00:00,  1.09s/it]\n"
          ]
        },
        {
          "output_type": "stream",
          "name": "stdout",
          "text": [
            "Epoch: 13 Train Loss: 0.58109385 AUC: 0.92019704 \n",
            "[[0.91351264 0.08648736]\n",
            " [0.36606081 0.63393919]]\n"
          ]
        },
        {
          "output_type": "stream",
          "name": "stderr",
          "text": [
            "100%|██████████| 7/7 [00:03<00:00,  1.86it/s]\n"
          ]
        },
        {
          "output_type": "stream",
          "name": "stdout",
          "text": [
            "Epoch: 13 Val Loss: 0.65802876 AUC: 0.81024668 \n",
            "[[0.8018018 0.1981982]\n",
            " [0.4914966 0.5085034]]\n"
          ]
        },
        {
          "output_type": "stream",
          "name": "stderr",
          "text": [
            "100%|██████████| 27/27 [00:29<00:00,  1.10s/it]\n"
          ]
        },
        {
          "output_type": "stream",
          "name": "stdout",
          "text": [
            "Epoch: 14 Train Loss: 0.58781478 AUC: 0.91428571 \n",
            "[[0.91311537 0.08688463]\n",
            " [0.36044392 0.63955608]]\n"
          ]
        },
        {
          "output_type": "stream",
          "name": "stderr",
          "text": [
            "100%|██████████| 7/7 [00:03<00:00,  1.89it/s]\n"
          ]
        },
        {
          "output_type": "stream",
          "name": "stdout",
          "text": [
            "Epoch: 14 Val Loss: 0.64855791 AUC: 0.79506641 \n",
            "[[0.8009009  0.1990991 ]\n",
            " [0.48634921 0.51365079]]\n"
          ]
        },
        {
          "output_type": "stream",
          "name": "stderr",
          "text": [
            "100%|██████████| 27/27 [00:29<00:00,  1.09s/it]\n"
          ]
        },
        {
          "output_type": "stream",
          "name": "stdout",
          "text": [
            "Epoch: 15 Train Loss: 0.58205509 AUC: 0.92179863 \n",
            "[[0.91382469 0.08617531]\n",
            " [0.35471165 0.64528835]]\n"
          ]
        },
        {
          "output_type": "stream",
          "name": "stderr",
          "text": [
            "100%|██████████| 7/7 [00:03<00:00,  1.84it/s]\n"
          ]
        },
        {
          "output_type": "stream",
          "name": "stdout",
          "text": [
            "Epoch: 15 Val Loss: 0.65811365 AUC: 0.77988615 \n",
            "[[0.80152027 0.19847973]\n",
            " [0.4875     0.5125    ]]\n"
          ]
        },
        {
          "output_type": "stream",
          "name": "stderr",
          "text": [
            "100%|██████████| 27/27 [00:29<00:00,  1.09s/it]\n"
          ]
        },
        {
          "output_type": "stream",
          "name": "stdout",
          "text": [
            "Epoch: 16 Train Loss: 0.58550016 AUC: 0.93750000 \n",
            "[[0.91670535 0.08329465]\n",
            " [0.35475974 0.64524026]]\n"
          ]
        },
        {
          "output_type": "stream",
          "name": "stderr",
          "text": [
            "100%|██████████| 7/7 [00:03<00:00,  1.81it/s]\n"
          ]
        },
        {
          "output_type": "stream",
          "name": "stdout",
          "text": [
            "Epoch: 16 Val Loss: 0.66675044 AUC: 0.74383302 \n",
            "[[0.80074192 0.19925808]\n",
            " [0.48795518 0.51204482]]\n"
          ]
        },
        {
          "output_type": "stream",
          "name": "stderr",
          "text": [
            "100%|██████████| 27/27 [00:29<00:00,  1.09s/it]\n"
          ]
        },
        {
          "output_type": "stream",
          "name": "stdout",
          "text": [
            "Epoch: 17 Train Loss: 0.58039518 AUC: 0.90713587 \n",
            "[[0.91838908 0.08161092]\n",
            " [0.35182983 0.64817017]]\n"
          ]
        },
        {
          "output_type": "stream",
          "name": "stderr",
          "text": [
            "100%|██████████| 7/7 [00:03<00:00,  1.89it/s]\n"
          ]
        },
        {
          "output_type": "stream",
          "name": "stdout",
          "text": [
            "Epoch: 17 Val Loss: 0.66520177 AUC: 0.73434535 \n",
            "[[0.7967968  0.2032032 ]\n",
            " [0.48201058 0.51798942]]\n"
          ]
        },
        {
          "output_type": "stream",
          "name": "stderr",
          "text": [
            "100%|██████████| 27/27 [00:29<00:00,  1.10s/it]\n"
          ]
        },
        {
          "output_type": "stream",
          "name": "stdout",
          "text": [
            "Epoch: 18 Train Loss: 0.57717896 AUC: 0.90376984 \n",
            "[[0.91936154 0.08063846]\n",
            " [0.34720571 0.65279429]]\n"
          ]
        },
        {
          "output_type": "stream",
          "name": "stderr",
          "text": [
            "100%|██████████| 7/7 [00:03<00:00,  1.88it/s]\n"
          ]
        },
        {
          "output_type": "stream",
          "name": "stdout",
          "text": [
            "Epoch: 18 Val Loss: 0.64425077 AUC: 0.84060721 \n",
            "[[0.79753438 0.20246562]\n",
            " [0.47869674 0.52130326]]\n"
          ]
        },
        {
          "output_type": "stream",
          "name": "stderr",
          "text": [
            "100%|██████████| 27/27 [00:29<00:00,  1.09s/it]\n"
          ]
        },
        {
          "output_type": "stream",
          "name": "stdout",
          "text": [
            "Epoch: 19 Train Loss: 0.57842186 AUC: 0.98533724 \n",
            "[[0.92136415 0.07863585]\n",
            " [0.34512485 0.65487515]]\n"
          ]
        },
        {
          "output_type": "stream",
          "name": "stderr",
          "text": [
            "100%|██████████| 7/7 [00:03<00:00,  1.86it/s]\n"
          ]
        },
        {
          "output_type": "stream",
          "name": "stdout",
          "text": [
            "Epoch: 19 Val Loss: 0.65260071 AUC: 0.88425047 \n",
            "[[0.79121622 0.20878378]\n",
            " [0.46666667 0.53333333]]\n"
          ]
        },
        {
          "output_type": "stream",
          "name": "stderr",
          "text": [
            "100%|██████████| 27/27 [00:29<00:00,  1.10s/it]\n"
          ]
        },
        {
          "output_type": "stream",
          "name": "stdout",
          "text": [
            "Epoch: 20 Train Loss: 0.57996627 AUC: 0.91300098 \n",
            "[[0.92188758 0.07811242]\n",
            " [0.34199649 0.65800351]]\n"
          ]
        },
        {
          "output_type": "stream",
          "name": "stderr",
          "text": [
            "100%|██████████| 7/7 [00:03<00:00,  1.86it/s]\n"
          ]
        },
        {
          "output_type": "stream",
          "name": "stdout",
          "text": [
            "Epoch: 20 Val Loss: 0.66523410 AUC: 0.74952562 \n",
            "[[0.7953668  0.2046332 ]\n",
            " [0.47505669 0.52494331]]\n"
          ]
        },
        {
          "output_type": "stream",
          "name": "stderr",
          "text": [
            "100%|██████████| 27/27 [00:29<00:00,  1.10s/it]\n"
          ]
        },
        {
          "output_type": "stream",
          "name": "stdout",
          "text": [
            "Epoch: 21 Train Loss: 0.57457728 AUC: 0.94778325 \n",
            "[[0.9232346  0.0767654 ]\n",
            " [0.33915252 0.66084748]]\n"
          ]
        },
        {
          "output_type": "stream",
          "name": "stderr",
          "text": [
            "100%|██████████| 7/7 [00:03<00:00,  1.88it/s]\n"
          ]
        },
        {
          "output_type": "stream",
          "name": "stdout",
          "text": [
            "Epoch: 21 Val Loss: 0.65492449 AUC: 0.75711575 \n",
            "[[0.7964783  0.2035217 ]\n",
            " [0.47467532 0.52532468]]\n"
          ]
        },
        {
          "output_type": "stream",
          "name": "stderr",
          "text": [
            "100%|██████████| 27/27 [00:29<00:00,  1.09s/it]\n"
          ]
        },
        {
          "output_type": "stream",
          "name": "stdout",
          "text": [
            "Epoch: 22 Train Loss: 0.57381567 AUC: 0.84946237 \n",
            "[[0.92529778 0.07470222]\n",
            " [0.33779662 0.66220338]]\n"
          ]
        },
        {
          "output_type": "stream",
          "name": "stderr",
          "text": [
            "100%|██████████| 7/7 [00:03<00:00,  1.82it/s]\n"
          ]
        },
        {
          "output_type": "stream",
          "name": "stdout",
          "text": [
            "Epoch: 22 Val Loss: 0.66208776 AUC: 0.70018975 \n",
            "[[0.79455542 0.20544458]\n",
            " [0.47142857 0.52857143]]\n"
          ]
        },
        {
          "output_type": "stream",
          "name": "stderr",
          "text": [
            "100%|██████████| 27/27 [00:29<00:00,  1.08s/it]\n"
          ]
        },
        {
          "output_type": "stream",
          "name": "stdout",
          "text": [
            "Epoch: 23 Train Loss: 0.57179373 AUC: 0.92941176 \n",
            "[[0.92709508 0.07290492]\n",
            " [0.33586009 0.66413991]]\n"
          ]
        },
        {
          "output_type": "stream",
          "name": "stderr",
          "text": [
            "100%|██████████| 7/7 [00:03<00:00,  1.85it/s]\n"
          ]
        },
        {
          "output_type": "stream",
          "name": "stdout",
          "text": [
            "Epoch: 23 Val Loss: 0.65579440 AUC: 0.76280835 \n",
            "[[0.79485736 0.20514264]\n",
            " [0.47202381 0.52797619]]\n"
          ]
        },
        {
          "output_type": "stream",
          "name": "stderr",
          "text": [
            "100%|██████████| 27/27 [00:29<00:00,  1.10s/it]\n"
          ]
        },
        {
          "output_type": "stream",
          "name": "stdout",
          "text": [
            "Epoch: 24 Train Loss: 0.57558151 AUC: 0.86011905 \n",
            "[[0.92744081 0.07255919]\n",
            " [0.33269917 0.66730083]]\n"
          ]
        },
        {
          "output_type": "stream",
          "name": "stderr",
          "text": [
            "100%|██████████| 7/7 [00:03<00:00,  1.91it/s]\n"
          ]
        },
        {
          "output_type": "stream",
          "name": "stdout",
          "text": [
            "Epoch: 24 Val Loss: 0.66411552 AUC: 0.77039848 \n",
            "[[0.79225225 0.20774775]\n",
            " [0.46990476 0.53009524]]\n"
          ]
        },
        {
          "output_type": "stream",
          "name": "stderr",
          "text": [
            "100%|██████████| 27/27 [00:29<00:00,  1.10s/it]\n"
          ]
        },
        {
          "output_type": "stream",
          "name": "stdout",
          "text": [
            "Epoch: 25 Train Loss: 0.57050271 AUC: 0.94232649 \n",
            "[[0.92802012 0.07197988]\n",
            " [0.32900393 0.67099607]]\n"
          ]
        },
        {
          "output_type": "stream",
          "name": "stderr",
          "text": [
            "100%|██████████| 7/7 [00:03<00:00,  1.85it/s]\n"
          ]
        },
        {
          "output_type": "stream",
          "name": "stdout",
          "text": [
            "Epoch: 25 Val Loss: 0.65350331 AUC: 0.72675522 \n",
            "[[0.79400554 0.20599446]\n",
            " [0.47087912 0.52912088]]\n"
          ]
        },
        {
          "output_type": "stream",
          "name": "stderr",
          "text": [
            "100%|██████████| 27/27 [00:30<00:00,  1.13s/it]\n"
          ]
        },
        {
          "output_type": "stream",
          "name": "stdout",
          "text": [
            "Epoch: 26 Train Loss: 0.56857382 AUC: 0.98144531 \n",
            "[[0.92980918 0.07019082]\n",
            " [0.32743207 0.67256793]]\n"
          ]
        },
        {
          "output_type": "stream",
          "name": "stderr",
          "text": [
            "100%|██████████| 7/7 [00:03<00:00,  1.86it/s]\n"
          ]
        },
        {
          "output_type": "stream",
          "name": "stdout",
          "text": [
            "Epoch: 26 Val Loss: 0.65321988 AUC: 0.74952562 \n",
            "[[0.79279279 0.20720721]\n",
            " [0.46666667 0.53333333]]\n"
          ]
        },
        {
          "output_type": "stream",
          "name": "stderr",
          "text": [
            "100%|██████████| 27/27 [00:29<00:00,  1.09s/it]\n"
          ]
        },
        {
          "output_type": "stream",
          "name": "stdout",
          "text": [
            "Epoch: 27 Train Loss: 0.57156731 AUC: 0.91791792 \n",
            "[[0.93054437 0.06945563]\n",
            " [0.32520809 0.67479191]]\n"
          ]
        },
        {
          "output_type": "stream",
          "name": "stderr",
          "text": [
            "100%|██████████| 7/7 [00:03<00:00,  1.84it/s]\n"
          ]
        },
        {
          "output_type": "stream",
          "name": "stdout",
          "text": [
            "Epoch: 27 Val Loss: 0.66005050 AUC: 0.68690702 \n",
            "[[0.79198842 0.20801158]\n",
            " [0.46462585 0.53537415]]\n"
          ]
        },
        {
          "output_type": "stream",
          "name": "stderr",
          "text": [
            "100%|██████████| 27/27 [00:29<00:00,  1.10s/it]\n"
          ]
        },
        {
          "output_type": "stream",
          "name": "stdout",
          "text": [
            "Epoch: 28 Train Loss: 0.56690982 AUC: 0.91191191 \n",
            "[[0.93192862 0.06807138]\n",
            " [0.32326049 0.67673951]]\n"
          ]
        },
        {
          "output_type": "stream",
          "name": "stderr",
          "text": [
            "100%|██████████| 7/7 [00:03<00:00,  1.83it/s]\n"
          ]
        },
        {
          "output_type": "stream",
          "name": "stdout",
          "text": [
            "Epoch: 28 Val Loss: 0.64369445 AUC: 0.79886148 \n",
            "[[0.79419074 0.20580926]\n",
            " [0.46518883 0.53481117]]\n"
          ]
        },
        {
          "output_type": "stream",
          "name": "stderr",
          "text": [
            "100%|██████████| 27/27 [00:29<00:00,  1.08s/it]\n"
          ]
        },
        {
          "output_type": "stream",
          "name": "stdout",
          "text": [
            "Epoch: 29 Train Loss: 0.56485657 AUC: 0.90518084 \n",
            "[[0.93337091 0.06662909]\n",
            " [0.32088783 0.67911217]]\n"
          ]
        },
        {
          "output_type": "stream",
          "name": "stderr",
          "text": [
            "100%|██████████| 7/7 [00:03<00:00,  1.89it/s]\n"
          ]
        },
        {
          "output_type": "stream",
          "name": "stdout",
          "text": [
            "Epoch: 29 Val Loss: 0.65433898 AUC: 0.67172676 \n",
            "[[0.79384384 0.20615616]\n",
            " [0.46333333 0.53666667]]\n"
          ]
        },
        {
          "output_type": "stream",
          "name": "stderr",
          "text": [
            "100%|██████████| 27/27 [00:29<00:00,  1.09s/it]\n"
          ]
        },
        {
          "output_type": "stream",
          "name": "stdout",
          "text": [
            "Epoch: 30 Train Loss: 0.56867119 AUC: 0.92615385 \n",
            "[[0.93395643 0.06604357]\n",
            " [0.31847647 0.68152353]]\n"
          ]
        },
        {
          "output_type": "stream",
          "name": "stderr",
          "text": [
            "100%|██████████| 7/7 [00:03<00:00,  1.84it/s]\n"
          ]
        },
        {
          "output_type": "stream",
          "name": "stdout",
          "text": [
            "Epoch: 30 Val Loss: 0.65058523 AUC: 0.66603416 \n",
            "[[0.79569892 0.20430108]\n",
            " [0.46466974 0.53533026]]\n"
          ]
        },
        {
          "output_type": "stream",
          "name": "stderr",
          "text": [
            "100%|██████████| 27/27 [00:29<00:00,  1.10s/it]\n"
          ]
        },
        {
          "output_type": "stream",
          "name": "stdout",
          "text": [
            "Epoch: 31 Train Loss: 0.56891075 AUC: 0.97832512 \n",
            "[[0.93513952 0.06486048]\n",
            " [0.31751635 0.68248365]]\n"
          ]
        },
        {
          "output_type": "stream",
          "name": "stderr",
          "text": [
            "100%|██████████| 7/7 [00:03<00:00,  1.86it/s]\n"
          ]
        },
        {
          "output_type": "stream",
          "name": "stdout",
          "text": [
            "Epoch: 31 Val Loss: 0.64267971 AUC: 0.75711575 \n",
            "[[0.79546734 0.20453266]\n",
            " [0.4610119  0.5389881 ]]\n"
          ]
        },
        {
          "output_type": "stream",
          "name": "stderr",
          "text": [
            "100%|██████████| 27/27 [00:29<00:00,  1.09s/it]\n"
          ]
        },
        {
          "output_type": "stream",
          "name": "stdout",
          "text": [
            "Epoch: 32 Train Loss: 0.56256552 AUC: 0.90871795 \n",
            "[[0.93611424 0.06388576]\n",
            " [0.3152452  0.6847548 ]]\n"
          ]
        },
        {
          "output_type": "stream",
          "name": "stderr",
          "text": [
            "100%|██████████| 7/7 [00:03<00:00,  1.82it/s]\n"
          ]
        },
        {
          "output_type": "stream",
          "name": "stdout",
          "text": [
            "Epoch: 32 Val Loss: 0.65030410 AUC: 0.62618596 \n",
            "[[0.7952498  0.2047502 ]\n",
            " [0.45887446 0.54112554]]\n"
          ]
        },
        {
          "output_type": "stream",
          "name": "stderr",
          "text": [
            "100%|██████████| 27/27 [00:29<00:00,  1.09s/it]\n"
          ]
        },
        {
          "output_type": "stream",
          "name": "stdout",
          "text": [
            "Epoch: 33 Train Loss: 0.55980831 AUC: 0.95294118 \n",
            "[[0.93713111 0.06286889]\n",
            " [0.31279289 0.68720711]]\n"
          ]
        },
        {
          "output_type": "stream",
          "name": "stderr",
          "text": [
            "100%|██████████| 7/7 [00:03<00:00,  1.85it/s]\n"
          ]
        },
        {
          "output_type": "stream",
          "name": "stdout",
          "text": [
            "Epoch: 33 Val Loss: 0.64832763 AUC: 0.78368121 \n",
            "[[0.79425013 0.20574987]\n",
            " [0.45602241 0.54397759]]\n"
          ]
        },
        {
          "output_type": "stream",
          "name": "stderr",
          "text": [
            "100%|██████████| 27/27 [00:29<00:00,  1.09s/it]\n"
          ]
        },
        {
          "output_type": "stream",
          "name": "stdout",
          "text": [
            "Epoch: 34 Train Loss: 0.55722453 AUC: 0.97536946 \n",
            "[[0.93754228 0.06245772]\n",
            " [0.30912179 0.69087821]]\n"
          ]
        },
        {
          "output_type": "stream",
          "name": "stderr",
          "text": [
            "100%|██████████| 7/7 [00:03<00:00,  1.88it/s]\n"
          ]
        },
        {
          "output_type": "stream",
          "name": "stdout",
          "text": [
            "Epoch: 34 Val Loss: 0.65027618 AUC: 0.72106262 \n",
            "[[0.79472329 0.20527671]\n",
            " [0.45578231 0.54421769]]\n"
          ]
        },
        {
          "output_type": "stream",
          "name": "stderr",
          "text": [
            "100%|██████████| 27/27 [00:29<00:00,  1.09s/it]\n"
          ]
        },
        {
          "output_type": "stream",
          "name": "stdout",
          "text": [
            "Epoch: 35 Train Loss: 0.56626429 AUC: 0.96899225 \n",
            "[[0.93824377 0.06175623]\n",
            " [0.30733915 0.69266085]]\n"
          ]
        },
        {
          "output_type": "stream",
          "name": "stderr",
          "text": [
            "100%|██████████| 7/7 [00:03<00:00,  1.86it/s]\n"
          ]
        },
        {
          "output_type": "stream",
          "name": "stdout",
          "text": [
            "Epoch: 35 Val Loss: 0.64291554 AUC: 0.74383302 \n",
            "[[0.79654655 0.20345345]\n",
            " [0.45687831 0.54312169]]\n"
          ]
        },
        {
          "output_type": "stream",
          "name": "stderr",
          "text": [
            "100%|██████████| 27/27 [00:29<00:00,  1.09s/it]\n"
          ]
        },
        {
          "output_type": "stream",
          "name": "stdout",
          "text": [
            "Epoch: 36 Train Loss: 0.55929327 AUC: 0.96650246 \n",
            "[[0.93918157 0.06081843]\n",
            " [0.30526722 0.69473278]]\n"
          ]
        },
        {
          "output_type": "stream",
          "name": "stderr",
          "text": [
            "100%|██████████| 7/7 [00:03<00:00,  1.82it/s]\n"
          ]
        },
        {
          "output_type": "stream",
          "name": "stdout",
          "text": [
            "Epoch: 36 Val Loss: 0.63936352 AUC: 0.82732448 \n",
            "[[0.79522766 0.20477234]\n",
            " [0.45173745 0.54826255]]\n"
          ]
        },
        {
          "output_type": "stream",
          "name": "stderr",
          "text": [
            "100%|██████████| 27/27 [00:29<00:00,  1.09s/it]\n"
          ]
        },
        {
          "output_type": "stream",
          "name": "stdout",
          "text": [
            "Epoch: 37 Train Loss: 0.55508262 AUC: 0.92843137 \n",
            "[[0.94015902 0.05984098]\n",
            " [0.30258464 0.69741536]]\n"
          ]
        },
        {
          "output_type": "stream",
          "name": "stderr",
          "text": [
            "100%|██████████| 7/7 [00:03<00:00,  1.81it/s]\n"
          ]
        },
        {
          "output_type": "stream",
          "name": "stdout",
          "text": [
            "Epoch: 37 Val Loss: 0.66738140 AUC: 0.75711575 \n",
            "[[0.79125178 0.20874822]\n",
            " [0.44611529 0.55388471]]\n"
          ]
        },
        {
          "output_type": "stream",
          "name": "stderr",
          "text": [
            "100%|██████████| 27/27 [00:29<00:00,  1.09s/it]\n"
          ]
        },
        {
          "output_type": "stream",
          "name": "stdout",
          "text": [
            "Epoch: 38 Train Loss: 0.55837875 AUC: 0.97395833 \n",
            "[[0.94102853 0.05897147]\n",
            " [0.3006799  0.6993201 ]]\n"
          ]
        },
        {
          "output_type": "stream",
          "name": "stderr",
          "text": [
            "100%|██████████| 7/7 [00:03<00:00,  1.85it/s]\n"
          ]
        },
        {
          "output_type": "stream",
          "name": "stdout",
          "text": [
            "Epoch: 38 Val Loss: 0.65317641 AUC: 0.80360531 \n",
            "[[0.78886579 0.21113421]\n",
            " [0.44139194 0.55860806]]\n"
          ]
        },
        {
          "output_type": "stream",
          "name": "stderr",
          "text": [
            "100%|██████████| 27/27 [00:29<00:00,  1.10s/it]\n"
          ]
        },
        {
          "output_type": "stream",
          "name": "stdout",
          "text": [
            "Epoch: 39 Train Loss: 0.55572568 AUC: 0.94433594 \n",
            "[[0.9416009  0.0583991 ]\n",
            " [0.29806778 0.70193222]]\n"
          ]
        },
        {
          "output_type": "stream",
          "name": "stderr",
          "text": [
            "100%|██████████| 7/7 [00:03<00:00,  1.80it/s]\n"
          ]
        },
        {
          "output_type": "stream",
          "name": "stdout",
          "text": [
            "Epoch: 39 Val Loss: 0.63844832 AUC: 0.79316888 \n",
            "[[0.78963964 0.21036036]\n",
            " [0.43952381 0.56047619]]\n"
          ]
        },
        {
          "output_type": "stream",
          "name": "stderr",
          "text": [
            "100%|██████████| 27/27 [00:29<00:00,  1.08s/it]\n"
          ]
        },
        {
          "output_type": "stream",
          "name": "stdout",
          "text": [
            "Epoch: 40 Train Loss: 0.55068795 AUC: 0.96386719 \n",
            "[[0.94244782 0.05755218]\n",
            " [0.29526406 0.70473594]]\n"
          ]
        },
        {
          "output_type": "stream",
          "name": "stderr",
          "text": [
            "100%|██████████| 7/7 [00:03<00:00,  1.90it/s]\n"
          ]
        },
        {
          "output_type": "stream",
          "name": "stdout",
          "text": [
            "Epoch: 40 Val Loss: 0.66816877 AUC: 0.79886148 \n",
            "[[0.78576137 0.21423863]\n",
            " [0.43437863 0.56562137]]\n"
          ]
        },
        {
          "output_type": "stream",
          "name": "stderr",
          "text": [
            "100%|██████████| 27/27 [00:29<00:00,  1.10s/it]\n"
          ]
        },
        {
          "output_type": "stream",
          "name": "stdout",
          "text": [
            "Epoch: 41 Train Loss: 0.55516666 AUC: 0.95898438 \n",
            "[[0.94277125 0.05722875]\n",
            " [0.29262216 0.70737784]]\n"
          ]
        },
        {
          "output_type": "stream",
          "name": "stderr",
          "text": [
            "100%|██████████| 7/7 [00:03<00:00,  1.82it/s]\n"
          ]
        },
        {
          "output_type": "stream",
          "name": "stdout",
          "text": [
            "Epoch: 41 Val Loss: 0.64235068 AUC: 0.77039848 \n",
            "[[0.78399828 0.21600172]\n",
            " [0.42959184 0.57040816]]\n"
          ]
        },
        {
          "output_type": "stream",
          "name": "stderr",
          "text": [
            "100%|██████████| 27/27 [00:29<00:00,  1.10s/it]\n"
          ]
        },
        {
          "output_type": "stream",
          "name": "stdout",
          "text": [
            "Epoch: 42 Train Loss: 0.55456240 AUC: 0.97297297 \n",
            "[[0.94307963 0.05692037]\n",
            " [0.28990958 0.71009042]]\n"
          ]
        },
        {
          "output_type": "stream",
          "name": "stderr",
          "text": [
            "100%|██████████| 7/7 [00:03<00:00,  1.84it/s]\n"
          ]
        },
        {
          "output_type": "stream",
          "name": "stdout",
          "text": [
            "Epoch: 42 Val Loss: 0.63727096 AUC: 0.87286528 \n",
            "[[0.78378378 0.21621622]\n",
            " [0.42657807 0.57342193]]\n"
          ]
        },
        {
          "output_type": "stream",
          "name": "stderr",
          "text": [
            "100%|██████████| 27/27 [00:29<00:00,  1.09s/it]\n"
          ]
        },
        {
          "output_type": "stream",
          "name": "stdout",
          "text": [
            "Epoch: 43 Train Loss: 0.55353558 AUC: 0.96176471 \n",
            "[[0.94345086 0.05654914]\n",
            " [0.28740136 0.71259864]]\n"
          ]
        },
        {
          "output_type": "stream",
          "name": "stderr",
          "text": [
            "100%|██████████| 7/7 [00:03<00:00,  1.82it/s]\n"
          ]
        },
        {
          "output_type": "stream",
          "name": "stdout",
          "text": [
            "Epoch: 43 Val Loss: 0.64929976 AUC: 0.82922201 \n",
            "[[0.78122441 0.21877559]\n",
            " [0.42132035 0.57867965]]\n"
          ]
        },
        {
          "output_type": "stream",
          "name": "stderr",
          "text": [
            "100%|██████████| 27/27 [00:29<00:00,  1.10s/it]\n"
          ]
        },
        {
          "output_type": "stream",
          "name": "stdout",
          "text": [
            "Epoch: 44 Train Loss: 0.55358410 AUC: 0.94901961 \n",
            "[[0.94383064 0.05616936]\n",
            " [0.28492535 0.71507465]]\n"
          ]
        },
        {
          "output_type": "stream",
          "name": "stderr",
          "text": [
            "100%|██████████| 7/7 [00:03<00:00,  1.83it/s]\n"
          ]
        },
        {
          "output_type": "stream",
          "name": "stdout",
          "text": [
            "Epoch: 44 Val Loss: 0.65060375 AUC: 0.75332068 \n",
            "[[0.78068068 0.21931932]\n",
            " [0.41989418 0.58010582]]\n"
          ]
        },
        {
          "output_type": "stream",
          "name": "stderr",
          "text": [
            "100%|██████████| 27/27 [00:29<00:00,  1.10s/it]\n"
          ]
        },
        {
          "output_type": "stream",
          "name": "stdout",
          "text": [
            "Epoch: 45 Train Loss: 0.55602857 AUC: 0.93849206 \n",
            "[[0.94434096 0.05565904]\n",
            " [0.28307398 0.71692602]]\n"
          ]
        },
        {
          "output_type": "stream",
          "name": "stderr",
          "text": [
            "100%|██████████| 7/7 [00:03<00:00,  1.79it/s]\n"
          ]
        },
        {
          "output_type": "stream",
          "name": "stdout",
          "text": [
            "Epoch: 45 Val Loss: 0.69684581 AUC: 0.67172676 \n",
            "[[0.7773208  0.2226792 ]\n",
            " [0.41873706 0.58126294]]\n"
          ]
        },
        {
          "output_type": "stream",
          "name": "stderr",
          "text": [
            "100%|██████████| 27/27 [00:29<00:00,  1.10s/it]\n"
          ]
        },
        {
          "output_type": "stream",
          "name": "stdout",
          "text": [
            "Epoch: 46 Train Loss: 0.54886171 AUC: 1.00000000 \n",
            "[[0.94509343 0.05490657]\n",
            " [0.2809472  0.7190528 ]]\n"
          ]
        },
        {
          "output_type": "stream",
          "name": "stderr",
          "text": [
            "100%|██████████| 7/7 [00:03<00:00,  1.87it/s]\n"
          ]
        },
        {
          "output_type": "stream",
          "name": "stdout",
          "text": [
            "Epoch: 46 Val Loss: 0.64010058 AUC: 0.86527514 \n",
            "[[0.77630822 0.22369178]\n",
            " [0.41499493 0.58500507]]\n"
          ]
        },
        {
          "output_type": "stream",
          "name": "stderr",
          "text": [
            "100%|██████████| 27/27 [00:29<00:00,  1.10s/it]\n"
          ]
        },
        {
          "output_type": "stream",
          "name": "stdout",
          "text": [
            "Epoch: 47 Train Loss: 0.54894704 AUC: 0.98921569 \n",
            "[[0.94553269 0.05446731]\n",
            " [0.27848791 0.72151209]]\n"
          ]
        },
        {
          "output_type": "stream",
          "name": "stderr",
          "text": [
            "100%|██████████| 7/7 [00:03<00:00,  1.84it/s]\n"
          ]
        },
        {
          "output_type": "stream",
          "name": "stdout",
          "text": [
            "Epoch: 47 Val Loss: 0.63949627 AUC: 0.81309298 \n",
            "[[0.77543168 0.22456832]\n",
            " [0.41220238 0.58779762]]\n"
          ]
        },
        {
          "output_type": "stream",
          "name": "stderr",
          "text": [
            "100%|██████████| 27/27 [00:29<00:00,  1.08s/it]\n"
          ]
        },
        {
          "output_type": "stream",
          "name": "stdout",
          "text": [
            "Epoch: 48 Train Loss: 0.54793632 AUC: 0.99120235 \n",
            "[[0.94604606 0.05395394]\n",
            " [0.27622607 0.72377393]]\n"
          ]
        },
        {
          "output_type": "stream",
          "name": "stderr",
          "text": [
            "100%|██████████| 7/7 [00:03<00:00,  1.86it/s]\n"
          ]
        },
        {
          "output_type": "stream",
          "name": "stdout",
          "text": [
            "Epoch: 48 Val Loss: 0.65611526 AUC: 0.85199241 \n",
            "[[0.77348777 0.22651223]\n",
            " [0.4090379  0.5909621 ]]\n"
          ]
        },
        {
          "output_type": "stream",
          "name": "stderr",
          "text": [
            "100%|██████████| 27/27 [00:29<00:00,  1.10s/it]\n"
          ]
        },
        {
          "output_type": "stream",
          "name": "stdout",
          "text": [
            "Epoch: 49 Train Loss: 0.54710274 AUC: 0.98631476 \n",
            "[[0.94669673 0.05330327]\n",
            " [0.27414982 0.72585018]]\n"
          ]
        },
        {
          "output_type": "stream",
          "name": "stderr",
          "text": [
            "100%|██████████| 7/7 [00:03<00:00,  1.89it/s]\n"
          ]
        },
        {
          "output_type": "stream",
          "name": "stdout",
          "text": [
            "Epoch: 49 Val Loss: 0.64302404 AUC: 0.83681214 \n",
            "[[0.77243243 0.22756757]\n",
            " [0.40590476 0.59409524]]\n"
          ]
        },
        {
          "output_type": "stream",
          "name": "stderr",
          "text": [
            "100%|██████████| 27/27 [00:29<00:00,  1.10s/it]\n"
          ]
        },
        {
          "output_type": "stream",
          "name": "stdout",
          "text": [
            "Epoch: 50 Train Loss: 0.54585319 AUC: 0.99595142 \n",
            "[[0.94712293 0.05287707]\n",
            " [0.27187522 0.72812478]]\n"
          ]
        },
        {
          "output_type": "stream",
          "name": "stderr",
          "text": [
            "100%|██████████| 7/7 [00:03<00:00,  1.79it/s]\n"
          ]
        },
        {
          "output_type": "stream",
          "name": "stdout",
          "text": [
            "Epoch: 50 Val Loss: 0.64026291 AUC: 0.86527514 \n",
            "[[0.77159512 0.22840488]\n",
            " [0.40261438 0.59738562]]\n"
          ]
        },
        {
          "output_type": "stream",
          "name": "stderr",
          "text": [
            "100%|██████████| 27/27 [00:29<00:00,  1.10s/it]\n"
          ]
        },
        {
          "output_type": "stream",
          "name": "stdout",
          "text": [
            "Epoch: 51 Train Loss: 0.54466982 AUC: 0.97156863 \n",
            "[[0.94772786 0.05227214]\n",
            " [0.26964237 0.73035763]]\n"
          ]
        },
        {
          "output_type": "stream",
          "name": "stderr",
          "text": [
            "100%|██████████| 7/7 [00:03<00:00,  1.81it/s]\n"
          ]
        },
        {
          "output_type": "stream",
          "name": "stdout",
          "text": [
            "Epoch: 51 Val Loss: 0.63745740 AUC: 0.74573055 \n",
            "[[0.7731289  0.2268711 ]\n",
            " [0.40311355 0.59688645]]\n"
          ]
        },
        {
          "output_type": "stream",
          "name": "stderr",
          "text": [
            "100%|██████████| 27/27 [00:29<00:00,  1.10s/it]\n"
          ]
        },
        {
          "output_type": "stream",
          "name": "stdout",
          "text": [
            "Epoch: 52 Train Loss: 0.54984050 AUC: 0.97230769 \n",
            "[[0.94811853 0.05188147]\n",
            " [0.26771813 0.73228187]]\n"
          ]
        },
        {
          "output_type": "stream",
          "name": "stderr",
          "text": [
            "100%|██████████| 7/7 [00:03<00:00,  1.88it/s]\n"
          ]
        },
        {
          "output_type": "stream",
          "name": "stdout",
          "text": [
            "Epoch: 52 Val Loss: 0.64094137 AUC: 0.82068311 \n",
            "[[0.77265001 0.22734999]\n",
            " [0.40071878 0.59928122]]\n"
          ]
        },
        {
          "output_type": "stream",
          "name": "stderr",
          "text": [
            "100%|██████████| 27/27 [00:29<00:00,  1.10s/it]\n"
          ]
        },
        {
          "output_type": "stream",
          "name": "stdout",
          "text": [
            "Epoch: 53 Train Loss: 0.54732453 AUC: 0.96679688 \n",
            "[[0.94853647 0.05146353]\n",
            " [0.26582111 0.73417889]]\n"
          ]
        },
        {
          "output_type": "stream",
          "name": "stderr",
          "text": [
            "100%|██████████| 7/7 [00:03<00:00,  1.92it/s]\n"
          ]
        },
        {
          "output_type": "stream",
          "name": "stdout",
          "text": [
            "Epoch: 53 Val Loss: 0.63231679 AUC: 0.81973435 \n",
            "[[0.77218886 0.22781114]\n",
            " [0.39744268 0.60255732]]\n"
          ]
        },
        {
          "output_type": "stream",
          "name": "stderr",
          "text": [
            "100%|██████████| 27/27 [00:29<00:00,  1.10s/it]\n"
          ]
        },
        {
          "output_type": "stream",
          "name": "stdout",
          "text": [
            "Epoch: 54 Train Loss: 0.54804828 AUC: 0.96383187 \n",
            "[[0.94873424 0.05126576]\n",
            " [0.26366879 0.73633121]]\n"
          ]
        },
        {
          "output_type": "stream",
          "name": "stderr",
          "text": [
            "100%|██████████| 7/7 [00:03<00:00,  1.81it/s]\n"
          ]
        },
        {
          "output_type": "stream",
          "name": "stdout",
          "text": [
            "Epoch: 54 Val Loss: 0.63650460 AUC: 0.77039848 \n",
            "[[0.77338247 0.22661753]\n",
            " [0.39748918 0.60251082]]\n"
          ]
        },
        {
          "output_type": "stream",
          "name": "stderr",
          "text": [
            "100%|██████████| 27/27 [00:29<00:00,  1.10s/it]\n"
          ]
        },
        {
          "output_type": "stream",
          "name": "stdout",
          "text": [
            "Epoch: 55 Train Loss: 0.54405545 AUC: 0.97947214 \n",
            "[[0.94912627 0.05087373]\n",
            " [0.26150841 0.73849159]]\n"
          ]
        },
        {
          "output_type": "stream",
          "name": "stderr",
          "text": [
            "100%|██████████| 7/7 [00:03<00:00,  1.85it/s]\n"
          ]
        },
        {
          "output_type": "stream",
          "name": "stdout",
          "text": [
            "Epoch: 55 Val Loss: 0.63859743 AUC: 0.77798861 \n",
            "[[0.77405084 0.22594916]\n",
            " [0.39727891 0.60272109]]\n"
          ]
        },
        {
          "output_type": "stream",
          "name": "stderr",
          "text": [
            "100%|██████████| 27/27 [00:29<00:00,  1.11s/it]\n"
          ]
        },
        {
          "output_type": "stream",
          "name": "stdout",
          "text": [
            "Epoch: 56 Train Loss: 0.54605794 AUC: 0.95294118 \n",
            "[[0.94968255 0.05031745]\n",
            " [0.25984104 0.74015896]]\n"
          ]
        },
        {
          "output_type": "stream",
          "name": "stderr",
          "text": [
            "100%|██████████| 7/7 [00:03<00:00,  1.89it/s]\n"
          ]
        },
        {
          "output_type": "stream",
          "name": "stdout",
          "text": [
            "Epoch: 56 Val Loss: 0.63876136 AUC: 0.83491461 \n",
            "[[0.77358938 0.22641062]\n",
            " [0.39540518 0.60459482]]\n"
          ]
        },
        {
          "output_type": "stream",
          "name": "stderr",
          "text": [
            "100%|██████████| 27/27 [00:29<00:00,  1.08s/it]\n"
          ]
        },
        {
          "output_type": "stream",
          "name": "stdout",
          "text": [
            "Epoch: 57 Train Loss: 0.54339083 AUC: 0.99199199 \n",
            "[[0.95004471 0.04995529]\n",
            " [0.25780065 0.74219935]]\n"
          ]
        },
        {
          "output_type": "stream",
          "name": "stderr",
          "text": [
            "100%|██████████| 7/7 [00:04<00:00,  1.75it/s]\n"
          ]
        },
        {
          "output_type": "stream",
          "name": "stdout",
          "text": [
            "Epoch: 57 Val Loss: 0.63870370 AUC: 0.82732448 \n",
            "[[0.77368748 0.22631252]\n",
            " [0.39425287 0.60574713]]\n"
          ]
        },
        {
          "output_type": "stream",
          "name": "stderr",
          "text": [
            "100%|██████████| 27/27 [00:29<00:00,  1.10s/it]\n"
          ]
        },
        {
          "output_type": "stream",
          "name": "stdout",
          "text": [
            "Epoch: 58 Train Loss: 0.54711938 AUC: 0.97339901 \n",
            "[[0.95035637 0.04964363]\n",
            " [0.25607126 0.74392874]]\n"
          ]
        },
        {
          "output_type": "stream",
          "name": "stderr",
          "text": [
            "100%|██████████| 7/7 [00:03<00:00,  1.79it/s]\n"
          ]
        },
        {
          "output_type": "stream",
          "name": "stdout",
          "text": [
            "Epoch: 58 Val Loss: 0.65956719 AUC: 0.81404175 \n",
            "[[0.77317148 0.22682852]\n",
            " [0.39443099 0.60556901]]\n"
          ]
        },
        {
          "output_type": "stream",
          "name": "stderr",
          "text": [
            "100%|██████████| 27/27 [00:29<00:00,  1.09s/it]\n"
          ]
        },
        {
          "output_type": "stream",
          "name": "stdout",
          "text": [
            "Epoch: 59 Train Loss: 0.54882325 AUC: 0.96470588 \n",
            "[[0.95058249 0.04941751]\n",
            " [0.25434007 0.74565993]]\n"
          ]
        },
        {
          "output_type": "stream",
          "name": "stderr",
          "text": [
            "100%|██████████| 7/7 [00:03<00:00,  1.82it/s]\n"
          ]
        },
        {
          "output_type": "stream",
          "name": "stdout",
          "text": [
            "Epoch: 59 Val Loss: 0.64091181 AUC: 0.85578748 \n",
            "[[0.77177177 0.22822823]\n",
            " [0.39166667 0.60833333]]\n"
          ]
        },
        {
          "output_type": "stream",
          "name": "stderr",
          "text": [
            "100%|██████████| 27/27 [00:29<00:00,  1.09s/it]\n"
          ]
        },
        {
          "output_type": "stream",
          "name": "stdout",
          "text": [
            "Epoch: 60 Train Loss: 0.54437290 AUC: 0.97843137 \n",
            "[[0.95102297 0.04897703]\n",
            " [0.25272412 0.74727588]]\n"
          ]
        },
        {
          "output_type": "stream",
          "name": "stderr",
          "text": [
            "100%|██████████| 7/7 [00:03<00:00,  1.85it/s]\n"
          ]
        },
        {
          "output_type": "stream",
          "name": "stdout",
          "text": [
            "Epoch: 60 Val Loss: 0.64239855 AUC: 0.81973435 \n",
            "[[0.77056565 0.22943435]\n",
            " [0.38813427 0.61186573]]\n"
          ]
        },
        {
          "output_type": "stream",
          "name": "stderr",
          "text": [
            "100%|██████████| 27/27 [00:29<00:00,  1.10s/it]\n"
          ]
        },
        {
          "output_type": "stream",
          "name": "stdout",
          "text": [
            "Epoch: 61 Train Loss: 0.54205061 AUC: 0.97339901 \n",
            "[[0.95121286 0.04878714]\n",
            " [0.25056576 0.74943424]]\n"
          ]
        },
        {
          "output_type": "stream",
          "name": "stderr",
          "text": [
            "100%|██████████| 7/7 [00:03<00:00,  1.78it/s]\n"
          ]
        },
        {
          "output_type": "stream",
          "name": "stdout",
          "text": [
            "Epoch: 61 Val Loss: 0.63754058 AUC: 0.81214421 \n",
            "[[0.77048823 0.22951177]\n",
            " [0.38678955 0.61321045]]\n"
          ]
        },
        {
          "output_type": "stream",
          "name": "stderr",
          "text": [
            "100%|██████████| 27/27 [00:29<00:00,  1.10s/it]\n"
          ]
        },
        {
          "output_type": "stream",
          "name": "stdout",
          "text": [
            "Epoch: 62 Train Loss: 0.54662395 AUC: 0.96484375 \n",
            "[[0.95136093 0.04863907]\n",
            " [0.24877791 0.75122209]]\n"
          ]
        },
        {
          "output_type": "stream",
          "name": "stderr",
          "text": [
            "100%|██████████| 7/7 [00:03<00:00,  1.80it/s]\n"
          ]
        },
        {
          "output_type": "stream",
          "name": "stdout",
          "text": [
            "Epoch: 62 Val Loss: 0.63808800 AUC: 0.84535104 \n",
            "[[0.77112827 0.22887173]\n",
            " [0.38662132 0.61337868]]\n"
          ]
        },
        {
          "output_type": "stream",
          "name": "stderr",
          "text": [
            "100%|██████████| 27/27 [00:29<00:00,  1.08s/it]\n"
          ]
        },
        {
          "output_type": "stream",
          "name": "stdout",
          "text": [
            "Epoch: 63 Train Loss: 0.54997551 AUC: 0.95897436 \n",
            "[[0.95138106 0.04861894]\n",
            " [0.24702735 0.75297265]]\n"
          ]
        },
        {
          "output_type": "stream",
          "name": "stderr",
          "text": [
            "100%|██████████| 7/7 [00:03<00:00,  1.76it/s]\n"
          ]
        },
        {
          "output_type": "stream",
          "name": "stdout",
          "text": [
            "Epoch: 63 Val Loss: 0.66428510 AUC: 0.81593928 \n",
            "[[0.76844032 0.23155968]\n",
            " [0.38311012 0.61688988]]\n"
          ]
        },
        {
          "output_type": "stream",
          "name": "stderr",
          "text": [
            "100%|██████████| 27/27 [00:29<00:00,  1.10s/it]\n"
          ]
        },
        {
          "output_type": "stream",
          "name": "stdout",
          "text": [
            "Epoch: 64 Train Loss: 0.54868908 AUC: 0.98998999 \n",
            "[[0.9514873  0.0485127 ]\n",
            " [0.24551358 0.75448642]]\n"
          ]
        },
        {
          "output_type": "stream",
          "name": "stderr",
          "text": [
            "100%|██████████| 7/7 [00:03<00:00,  1.87it/s]\n"
          ]
        },
        {
          "output_type": "stream",
          "name": "stdout",
          "text": [
            "Epoch: 64 Val Loss: 0.63050747 AUC: 0.84440228 \n",
            "[[0.76992377 0.23007623]\n",
            " [0.38351648 0.61648352]]\n"
          ]
        },
        {
          "output_type": "stream",
          "name": "stderr",
          "text": [
            "100%|██████████| 27/27 [00:29<00:00,  1.09s/it]\n"
          ]
        },
        {
          "output_type": "stream",
          "name": "stdout",
          "text": [
            "Epoch: 65 Train Loss: 0.54845933 AUC: 0.94525904 \n",
            "[[0.95162447 0.04837553]\n",
            " [0.24411775 0.75588225]]\n"
          ]
        },
        {
          "output_type": "stream",
          "name": "stderr",
          "text": [
            "100%|██████████| 7/7 [00:03<00:00,  1.83it/s]\n"
          ]
        },
        {
          "output_type": "stream",
          "name": "stdout",
          "text": [
            "Epoch: 65 Val Loss: 0.62416032 AUC: 0.81214421 \n",
            "[[0.77027027 0.22972973]\n",
            " [0.38167388 0.61832612]]\n"
          ]
        },
        {
          "output_type": "stream",
          "name": "stderr",
          "text": [
            "100%|██████████| 27/27 [00:29<00:00,  1.09s/it]\n"
          ]
        },
        {
          "output_type": "stream",
          "name": "stdout",
          "text": [
            "Epoch: 66 Train Loss: 0.53397954 AUC: 0.97297297 \n",
            "[[0.9520941 0.0479059]\n",
            " [0.2420892 0.7579108]]\n"
          ]
        },
        {
          "output_type": "stream",
          "name": "stderr",
          "text": [
            "100%|██████████| 7/7 [00:03<00:00,  1.82it/s]\n"
          ]
        },
        {
          "output_type": "stream",
          "name": "stdout",
          "text": [
            "Epoch: 66 Val Loss: 0.62730364 AUC: 0.91271347 \n",
            "[[0.7703375  0.2296625 ]\n",
            " [0.37981521 0.62018479]]\n"
          ]
        },
        {
          "output_type": "stream",
          "name": "stderr",
          "text": [
            "100%|██████████| 27/27 [00:29<00:00,  1.10s/it]\n"
          ]
        },
        {
          "output_type": "stream",
          "name": "stdout",
          "text": [
            "Epoch: 67 Train Loss: 0.53921868 AUC: 0.97947214 \n",
            "[[0.95250017 0.04749983]\n",
            " [0.24043506 0.75956494]]\n"
          ]
        },
        {
          "output_type": "stream",
          "name": "stderr",
          "text": [
            "100%|██████████| 7/7 [00:03<00:00,  1.82it/s]\n"
          ]
        },
        {
          "output_type": "stream",
          "name": "stdout",
          "text": [
            "Epoch: 67 Val Loss: 0.62950171 AUC: 0.85009488 \n",
            "[[0.77033651 0.22966349]\n",
            " [0.37808123 0.62191877]]\n"
          ]
        },
        {
          "output_type": "stream",
          "name": "stderr",
          "text": [
            "100%|██████████| 27/27 [00:29<00:00,  1.10s/it]\n"
          ]
        },
        {
          "output_type": "stream",
          "name": "stdout",
          "text": [
            "Epoch: 68 Train Loss: 0.54110617 AUC: 0.99608993 \n",
            "[[0.95295982 0.04704018]\n",
            " [0.23915628 0.76084372]]\n"
          ]
        },
        {
          "output_type": "stream",
          "name": "stderr",
          "text": [
            "100%|██████████| 7/7 [00:03<00:00,  1.81it/s]\n"
          ]
        },
        {
          "output_type": "stream",
          "name": "stdout",
          "text": [
            "Epoch: 68 Val Loss: 0.63587007 AUC: 0.87096774 \n",
            "[[0.77085781 0.22914219]\n",
            " [0.37763975 0.62236025]]\n"
          ]
        },
        {
          "output_type": "stream",
          "name": "stderr",
          "text": [
            "100%|██████████| 27/27 [00:29<00:00,  1.10s/it]\n"
          ]
        },
        {
          "output_type": "stream",
          "name": "stdout",
          "text": [
            "Epoch: 69 Train Loss: 0.54042716 AUC: 0.99803922 \n",
            "[[0.95318087 0.04681913]\n",
            " [0.23748938 0.76251062]]\n"
          ]
        },
        {
          "output_type": "stream",
          "name": "stderr",
          "text": [
            "100%|██████████| 7/7 [00:03<00:00,  1.79it/s]\n"
          ]
        },
        {
          "output_type": "stream",
          "name": "stdout",
          "text": [
            "Epoch: 69 Val Loss: 0.64750624 AUC: 0.86527514 \n",
            "[[0.76904762 0.23095238]\n",
            " [0.37421769 0.62578231]]\n"
          ]
        },
        {
          "output_type": "stream",
          "name": "stderr",
          "text": [
            "100%|██████████| 27/27 [00:29<00:00,  1.10s/it]\n"
          ]
        },
        {
          "output_type": "stream",
          "name": "stdout",
          "text": [
            "Epoch: 70 Train Loss: 0.53705067 AUC: 0.97360704 \n",
            "[[0.95350684 0.04649316]\n",
            " [0.23573546 0.76426454]]\n"
          ]
        },
        {
          "output_type": "stream",
          "name": "stderr",
          "text": [
            "100%|██████████| 7/7 [00:03<00:00,  1.79it/s]\n"
          ]
        },
        {
          "output_type": "stream",
          "name": "stdout",
          "text": [
            "Epoch: 70 Val Loss: 0.63068610 AUC: 0.81309298 \n",
            "[[0.76906484 0.23093516]\n",
            " [0.37243461 0.62756539]]\n"
          ]
        },
        {
          "output_type": "stream",
          "name": "stderr",
          "text": [
            "100%|██████████| 27/27 [00:29<00:00,  1.10s/it]\n"
          ]
        },
        {
          "output_type": "stream",
          "name": "stdout",
          "text": [
            "Epoch: 71 Train Loss: 0.53487112 AUC: 0.99120235 \n",
            "[[0.9539177  0.0460823 ]\n",
            " [0.23398071 0.76601929]]\n"
          ]
        },
        {
          "output_type": "stream",
          "name": "stderr",
          "text": [
            "100%|██████████| 7/7 [00:03<00:00,  1.84it/s]\n"
          ]
        },
        {
          "output_type": "stream",
          "name": "stdout",
          "text": [
            "Epoch: 71 Val Loss: 0.62903762 AUC: 0.83681214 \n",
            "[[0.76883133 0.23116867]\n",
            " [0.37030423 0.62969577]]\n"
          ]
        },
        {
          "output_type": "stream",
          "name": "stderr",
          "text": [
            "100%|██████████| 27/27 [00:29<00:00,  1.09s/it]\n"
          ]
        },
        {
          "output_type": "stream",
          "name": "stdout",
          "text": [
            "Epoch: 72 Train Loss: 0.53592268 AUC: 0.99699700 \n",
            "[[0.95419376 0.04580624]\n",
            " [0.23220888 0.76779112]]\n"
          ]
        },
        {
          "output_type": "stream",
          "name": "stderr",
          "text": [
            "100%|██████████| 7/7 [00:03<00:00,  1.78it/s]\n"
          ]
        },
        {
          "output_type": "stream",
          "name": "stdout",
          "text": [
            "Epoch: 72 Val Loss: 0.63723632 AUC: 0.85483871 \n",
            "[[0.76860422 0.23139578]\n",
            " [0.36888454 0.63111546]]\n"
          ]
        },
        {
          "output_type": "stream",
          "name": "stderr",
          "text": [
            "100%|██████████| 27/27 [00:29<00:00,  1.10s/it]\n"
          ]
        },
        {
          "output_type": "stream",
          "name": "stdout",
          "text": [
            "Epoch: 73 Train Loss: 0.53586462 AUC: 0.95686275 \n",
            "[[0.95450806 0.04549194]\n",
            " [0.23048494 0.76951506]]\n"
          ]
        },
        {
          "output_type": "stream",
          "name": "stderr",
          "text": [
            "100%|██████████| 7/7 [00:03<00:00,  1.81it/s]\n"
          ]
        },
        {
          "output_type": "stream",
          "name": "stdout",
          "text": [
            "Epoch: 73 Val Loss: 0.64070390 AUC: 0.85104364 \n",
            "[[0.7682615  0.2317385 ]\n",
            " [0.36743887 0.63256113]]\n"
          ]
        },
        {
          "output_type": "stream",
          "name": "stderr",
          "text": [
            "100%|██████████| 27/27 [00:29<00:00,  1.10s/it]\n"
          ]
        },
        {
          "output_type": "stream",
          "name": "stdout",
          "text": [
            "Epoch: 74 Train Loss: 0.53430473 AUC: 0.99804497 \n",
            "[[0.95478392 0.04521608]\n",
            " [0.22868014 0.77131986]]\n"
          ]
        },
        {
          "output_type": "stream",
          "name": "stderr",
          "text": [
            "100%|██████████| 7/7 [00:03<00:00,  1.80it/s]\n"
          ]
        },
        {
          "output_type": "stream",
          "name": "stdout",
          "text": [
            "Epoch: 74 Val Loss: 0.64190896 AUC: 0.87096774 \n",
            "[[0.76678679 0.23321321]\n",
            " [0.36444444 0.63555556]]\n"
          ]
        },
        {
          "output_type": "stream",
          "name": "stderr",
          "text": [
            "100%|██████████| 27/27 [00:29<00:00,  1.09s/it]\n"
          ]
        },
        {
          "output_type": "stream",
          "name": "stdout",
          "text": [
            "Epoch: 75 Train Loss: 0.53456744 AUC: 0.96924603 \n",
            "[[0.95500801 0.04499199]\n",
            " [0.22690719 0.77309281]]\n"
          ]
        },
        {
          "output_type": "stream",
          "name": "stderr",
          "text": [
            "100%|██████████| 7/7 [00:03<00:00,  1.80it/s]\n"
          ]
        },
        {
          "output_type": "stream",
          "name": "stdout",
          "text": [
            "Epoch: 75 Val Loss: 0.65183200 AUC: 0.86337761 \n",
            "[[0.76541015 0.23458985]\n",
            " [0.3622807  0.6377193 ]]\n"
          ]
        },
        {
          "output_type": "stream",
          "name": "stderr",
          "text": [
            "100%|██████████| 27/27 [00:30<00:00,  1.12s/it]\n"
          ]
        },
        {
          "output_type": "stream",
          "name": "stdout",
          "text": [
            "Epoch: 76 Train Loss: 0.53400812 AUC: 0.95850202 \n",
            "[[0.95534342 0.04465658]\n",
            " [0.22528839 0.77471161]]\n"
          ]
        },
        {
          "output_type": "stream",
          "name": "stderr",
          "text": [
            "100%|██████████| 7/7 [00:03<00:00,  1.80it/s]\n"
          ]
        },
        {
          "output_type": "stream",
          "name": "stdout",
          "text": [
            "Epoch: 76 Val Loss: 0.63315398 AUC: 0.84060721 \n",
            "[[0.76500527 0.23499473]\n",
            " [0.360235   0.639765  ]]\n"
          ]
        },
        {
          "output_type": "stream",
          "name": "stderr",
          "text": [
            "100%|██████████| 27/27 [00:29<00:00,  1.10s/it]\n"
          ]
        },
        {
          "output_type": "stream",
          "name": "stdout",
          "text": [
            "Epoch: 77 Train Loss: 0.53198602 AUC: 0.95214844 \n",
            "[[0.95561241 0.04438759]\n",
            " [0.2235434  0.7764566 ]]\n"
          ]
        },
        {
          "output_type": "stream",
          "name": "stderr",
          "text": [
            "100%|██████████| 7/7 [00:03<00:00,  1.79it/s]\n"
          ]
        },
        {
          "output_type": "stream",
          "name": "stdout",
          "text": [
            "Epoch: 77 Val Loss: 0.63019716 AUC: 0.87096774 \n",
            "[[0.76507277 0.23492723]\n",
            " [0.35891331 0.64108669]]\n"
          ]
        },
        {
          "output_type": "stream",
          "name": "stderr",
          "text": [
            "100%|██████████| 27/27 [00:29<00:00,  1.10s/it]\n"
          ]
        },
        {
          "output_type": "stream",
          "name": "stdout",
          "text": [
            "Epoch: 78 Train Loss: 0.53284161 AUC: 0.96582031 \n",
            "[[0.95598875 0.04401125]\n",
            " [0.22206836 0.77793164]]\n"
          ]
        },
        {
          "output_type": "stream",
          "name": "stderr",
          "text": [
            "100%|██████████| 7/7 [00:03<00:00,  1.78it/s]\n"
          ]
        },
        {
          "output_type": "stream",
          "name": "stdout",
          "text": [
            "Epoch: 78 Val Loss: 0.64563656 AUC: 0.78937381 \n",
            "[[0.76513856 0.23486144]\n",
            " [0.35871007 0.64128993]]\n"
          ]
        },
        {
          "output_type": "stream",
          "name": "stderr",
          "text": [
            "100%|██████████| 27/27 [00:29<00:00,  1.10s/it]\n"
          ]
        },
        {
          "output_type": "stream",
          "name": "stdout",
          "text": [
            "Epoch: 79 Train Loss: 0.53060008 AUC: 0.98115079 \n",
            "[[0.95632751 0.04367249]\n",
            " [0.22039239 0.77960761]]\n"
          ]
        },
        {
          "output_type": "stream",
          "name": "stderr",
          "text": [
            "100%|██████████| 7/7 [00:03<00:00,  1.79it/s]\n"
          ]
        },
        {
          "output_type": "stream",
          "name": "stdout",
          "text": [
            "Epoch: 79 Val Loss: 0.63722805 AUC: 0.84629981 \n",
            "[[0.76469595 0.23530405]\n",
            " [0.35708333 0.64291667]]\n"
          ]
        },
        {
          "output_type": "stream",
          "name": "stderr",
          "text": [
            "100%|██████████| 27/27 [00:29<00:00,  1.09s/it]\n"
          ]
        },
        {
          "output_type": "stream",
          "name": "stdout",
          "text": [
            "Epoch: 80 Train Loss: 0.52950615 AUC: 0.96676442 \n",
            "[[0.95664398 0.04335602]\n",
            " [0.21862568 0.78137432]]\n"
          ]
        },
        {
          "output_type": "stream",
          "name": "stderr",
          "text": [
            "100%|██████████| 7/7 [00:03<00:00,  1.83it/s]\n"
          ]
        },
        {
          "output_type": "stream",
          "name": "stdout",
          "text": [
            "Epoch: 80 Val Loss: 0.62851993 AUC: 0.80645161 \n",
            "[[0.76509843 0.23490157]\n",
            " [0.35655497 0.64344503]]\n"
          ]
        },
        {
          "output_type": "stream",
          "name": "stderr",
          "text": [
            "100%|██████████| 27/27 [00:29<00:00,  1.10s/it]\n"
          ]
        },
        {
          "output_type": "stream",
          "name": "stdout",
          "text": [
            "Epoch: 81 Train Loss: 0.53400388 AUC: 0.96568627 \n",
            "[[0.95700773 0.04299227]\n",
            " [0.21735158 0.78264842]]\n"
          ]
        },
        {
          "output_type": "stream",
          "name": "stderr",
          "text": [
            "100%|██████████| 7/7 [00:03<00:00,  1.81it/s]\n"
          ]
        },
        {
          "output_type": "stream",
          "name": "stdout",
          "text": [
            "Epoch: 81 Val Loss: 0.62911211 AUC: 0.83491461 \n",
            "[[0.76609536 0.23390464]\n",
            " [0.35691057 0.64308943]]\n"
          ]
        },
        {
          "output_type": "stream",
          "name": "stderr",
          "text": [
            "100%|██████████| 27/27 [00:29<00:00,  1.09s/it]\n"
          ]
        },
        {
          "output_type": "stream",
          "name": "stdout",
          "text": [
            "Epoch: 82 Train Loss: 0.53240151 AUC: 0.99704433 \n",
            "[[0.95730838 0.04269162]\n",
            " [0.21586465 0.78413535]]\n"
          ]
        },
        {
          "output_type": "stream",
          "name": "stderr",
          "text": [
            "100%|██████████| 7/7 [00:03<00:00,  1.80it/s]\n"
          ]
        },
        {
          "output_type": "stream",
          "name": "stdout",
          "text": [
            "Epoch: 82 Val Loss: 0.61770846 AUC: 0.83491461 \n",
            "[[0.76690546 0.23309454]\n",
            " [0.35605278 0.64394722]]\n"
          ]
        },
        {
          "output_type": "stream",
          "name": "stderr",
          "text": [
            "100%|██████████| 27/27 [00:29<00:00,  1.09s/it]\n"
          ]
        },
        {
          "output_type": "stream",
          "name": "stdout",
          "text": [
            "Epoch: 83 Train Loss: 0.52953615 AUC: 0.95937500 \n",
            "[[0.95761529 0.04238471]\n",
            " [0.21434234 0.78565766]]\n"
          ]
        },
        {
          "output_type": "stream",
          "name": "stderr",
          "text": [
            "100%|██████████| 7/7 [00:03<00:00,  1.82it/s]\n"
          ]
        },
        {
          "output_type": "stream",
          "name": "stdout",
          "text": [
            "Epoch: 83 Val Loss: 0.63078960 AUC: 0.83111954 \n",
            "[[0.76635564 0.23364436]\n",
            " [0.35368481 0.64631519]]\n"
          ]
        },
        {
          "output_type": "stream",
          "name": "stderr",
          "text": [
            "100%|██████████| 27/27 [00:29<00:00,  1.10s/it]\n"
          ]
        },
        {
          "output_type": "stream",
          "name": "stdout",
          "text": [
            "Epoch: 84 Train Loss: 0.53042309 AUC: 0.99696356 \n",
            "[[0.95796804 0.04203196]\n",
            " [0.21295377 0.78704623]]\n"
          ]
        },
        {
          "output_type": "stream",
          "name": "stderr",
          "text": [
            "100%|██████████| 7/7 [00:03<00:00,  1.87it/s]\n"
          ]
        },
        {
          "output_type": "stream",
          "name": "stdout",
          "text": [
            "Epoch: 84 Val Loss: 0.61666375 AUC: 0.84440228 \n",
            "[[0.76751457 0.23248543]\n",
            " [0.35383754 0.64616246]]\n"
          ]
        },
        {
          "output_type": "stream",
          "name": "stderr",
          "text": [
            "100%|██████████| 27/27 [00:29<00:00,  1.10s/it]\n"
          ]
        },
        {
          "output_type": "stream",
          "name": "stdout",
          "text": [
            "Epoch: 85 Train Loss: 0.52942139 AUC: 0.94134897 \n",
            "[[0.95826014 0.04173986]\n",
            " [0.21147305 0.78852695]]\n"
          ]
        },
        {
          "output_type": "stream",
          "name": "stderr",
          "text": [
            "100%|██████████| 7/7 [00:03<00:00,  1.80it/s]\n"
          ]
        },
        {
          "output_type": "stream",
          "name": "stdout",
          "text": [
            "Epoch: 85 Val Loss: 0.62598868 AUC: 0.84629981 \n",
            "[[0.76765137 0.23234863]\n",
            " [0.35271318 0.64728682]]\n"
          ]
        },
        {
          "output_type": "stream",
          "name": "stderr",
          "text": [
            "100%|██████████| 27/27 [00:29<00:00,  1.10s/it]\n"
          ]
        },
        {
          "output_type": "stream",
          "name": "stdout",
          "text": [
            "Epoch: 86 Train Loss: 0.52455267 AUC: 0.99479167 \n",
            "[[0.95862328 0.04137672]\n",
            " [0.20986237 0.79013763]]\n"
          ]
        },
        {
          "output_type": "stream",
          "name": "stderr",
          "text": [
            "100%|██████████| 7/7 [00:03<00:00,  1.84it/s]\n"
          ]
        },
        {
          "output_type": "stream",
          "name": "stdout",
          "text": [
            "Epoch: 86 Val Loss: 0.61426359 AUC: 0.84440228 \n",
            "[[0.76788858 0.23211142]\n",
            " [0.35073892 0.64926108]]\n"
          ]
        },
        {
          "output_type": "stream",
          "name": "stderr",
          "text": [
            "100%|██████████| 27/27 [00:29<00:00,  1.11s/it]\n"
          ]
        },
        {
          "output_type": "stream",
          "name": "stdout",
          "text": [
            "Epoch: 87 Train Loss: 0.52641616 AUC: 0.98823529 \n",
            "[[0.95895255 0.04104745]\n",
            " [0.20838288 0.79161712]]\n"
          ]
        },
        {
          "output_type": "stream",
          "name": "stderr",
          "text": [
            "100%|██████████| 7/7 [00:03<00:00,  1.80it/s]\n"
          ]
        },
        {
          "output_type": "stream",
          "name": "stdout",
          "text": [
            "Epoch: 87 Val Loss: 0.62213633 AUC: 0.85768501 \n",
            "[[0.76832514 0.23167486]\n",
            " [0.35005411 0.64994589]]\n"
          ]
        },
        {
          "output_type": "stream",
          "name": "stderr",
          "text": [
            "100%|██████████| 27/27 [00:29<00:00,  1.09s/it]\n"
          ]
        },
        {
          "output_type": "stream",
          "name": "stdout",
          "text": [
            "Epoch: 88 Train Loss: 0.52572257 AUC: 0.97262952 \n",
            "[[0.95929975 0.04070025]\n",
            " [0.20688319 0.79311681]]\n"
          ]
        },
        {
          "output_type": "stream",
          "name": "stderr",
          "text": [
            "100%|██████████| 7/7 [00:03<00:00,  1.76it/s]\n"
          ]
        },
        {
          "output_type": "stream",
          "name": "stdout",
          "text": [
            "Epoch: 88 Val Loss: 0.62516249 AUC: 0.82258065 \n",
            "[[0.76809394 0.23190606]\n",
            " [0.3482076  0.6517924 ]]\n"
          ]
        },
        {
          "output_type": "stream",
          "name": "stderr",
          "text": [
            "100%|██████████| 27/27 [00:29<00:00,  1.10s/it]\n"
          ]
        },
        {
          "output_type": "stream",
          "name": "stdout",
          "text": [
            "Epoch: 89 Train Loss: 0.52441930 AUC: 0.94721408 \n",
            "[[0.95958913 0.04041087]\n",
            " [0.20531114 0.79468886]]\n"
          ]
        },
        {
          "output_type": "stream",
          "name": "stderr",
          "text": [
            "100%|██████████| 7/7 [00:03<00:00,  1.77it/s]\n"
          ]
        },
        {
          "output_type": "stream",
          "name": "stdout",
          "text": [
            "Epoch: 89 Val Loss: 0.63068198 AUC: 0.85483871 \n",
            "[[0.76801802 0.23198198]\n",
            " [0.34703704 0.65296296]]\n"
          ]
        },
        {
          "output_type": "stream",
          "name": "stderr",
          "text": [
            "100%|██████████| 27/27 [00:29<00:00,  1.10s/it]\n"
          ]
        },
        {
          "output_type": "stream",
          "name": "stdout",
          "text": [
            "Epoch: 90 Train Loss: 0.52686161 AUC: 0.99605911 \n",
            "[[0.95989692 0.04010308]\n",
            " [0.20393043 0.79606957]]\n"
          ]
        },
        {
          "output_type": "stream",
          "name": "stderr",
          "text": [
            "100%|██████████| 7/7 [00:03<00:00,  1.79it/s]\n"
          ]
        },
        {
          "output_type": "stream",
          "name": "stdout",
          "text": [
            "Epoch: 90 Val Loss: 0.62950993 AUC: 0.76470588 \n",
            "[[0.76863677 0.23136323]\n",
            " [0.3469911  0.6530089 ]]\n"
          ]
        },
        {
          "output_type": "stream",
          "name": "stderr",
          "text": [
            "100%|██████████| 27/27 [00:29<00:00,  1.11s/it]\n"
          ]
        },
        {
          "output_type": "stream",
          "name": "stdout",
          "text": [
            "Epoch: 91 Train Loss: 0.52738918 AUC: 0.98511905 \n",
            "[[0.96018578 0.03981422]\n",
            " [0.20251512 0.79748488]]\n"
          ]
        },
        {
          "output_type": "stream",
          "name": "stderr",
          "text": [
            "100%|██████████| 7/7 [00:03<00:00,  1.80it/s]\n"
          ]
        },
        {
          "output_type": "stream",
          "name": "stdout",
          "text": [
            "Epoch: 91 Val Loss: 0.62322596 AUC: 0.83776091 \n",
            "[[0.76924207 0.23075793]\n",
            " [0.34663561 0.65336439]]\n"
          ]
        },
        {
          "output_type": "stream",
          "name": "stderr",
          "text": [
            "100%|██████████| 27/27 [00:29<00:00,  1.09s/it]\n"
          ]
        },
        {
          "output_type": "stream",
          "name": "stdout",
          "text": [
            "Epoch: 92 Train Loss: 0.52658816 AUC: 0.99121094 \n",
            "[[0.96046841 0.03953159]\n",
            " [0.20110468 0.79889532]]\n"
          ]
        },
        {
          "output_type": "stream",
          "name": "stderr",
          "text": [
            "100%|██████████| 7/7 [00:03<00:00,  1.79it/s]\n"
          ]
        },
        {
          "output_type": "stream",
          "name": "stdout",
          "text": [
            "Epoch: 92 Val Loss: 0.63761499 AUC: 0.82352941 \n",
            "[[0.76930156 0.23069844]\n",
            " [0.34618536 0.65381464]]\n"
          ]
        },
        {
          "output_type": "stream",
          "name": "stderr",
          "text": [
            "100%|██████████| 27/27 [00:29<00:00,  1.09s/it]\n"
          ]
        },
        {
          "output_type": "stream",
          "name": "stdout",
          "text": [
            "Epoch: 93 Train Loss: 0.52568712 AUC: 0.97165992 \n",
            "[[0.96075703 0.03924297]\n",
            " [0.19971159 0.80028841]]\n"
          ]
        },
        {
          "output_type": "stream",
          "name": "stderr",
          "text": [
            "100%|██████████| 7/7 [00:03<00:00,  1.84it/s]\n"
          ]
        },
        {
          "output_type": "stream",
          "name": "stdout",
          "text": [
            "Epoch: 93 Val Loss: 0.63069127 AUC: 0.83301708 \n",
            "[[0.76897642 0.23102358]\n",
            " [0.34463019 0.65536981]]\n"
          ]
        },
        {
          "output_type": "stream",
          "name": "stderr",
          "text": [
            "100%|██████████| 27/27 [00:29<00:00,  1.10s/it]\n"
          ]
        },
        {
          "output_type": "stream",
          "name": "stdout",
          "text": [
            "Epoch: 94 Train Loss: 0.53137285 AUC: 0.99007937 \n",
            "[[0.96089717 0.03910283]\n",
            " [0.198473   0.801527  ]]\n"
          ]
        },
        {
          "output_type": "stream",
          "name": "stderr",
          "text": [
            "100%|██████████| 7/7 [00:03<00:00,  1.78it/s]\n"
          ]
        },
        {
          "output_type": "stream",
          "name": "stdout",
          "text": [
            "Epoch: 94 Val Loss: 0.64186488 AUC: 0.76755218 \n",
            "[[0.76827881 0.23172119]\n",
            " [0.34320802 0.65679198]]\n"
          ]
        },
        {
          "output_type": "stream",
          "name": "stderr",
          "text": [
            "100%|██████████| 27/27 [00:29<00:00,  1.10s/it]\n"
          ]
        },
        {
          "output_type": "stream",
          "name": "stdout",
          "text": [
            "Epoch: 95 Train Loss: 0.53436868 AUC: 0.96396396 \n",
            "[[0.96098741 0.03901259]\n",
            " [0.19733452 0.80266548]]\n"
          ]
        },
        {
          "output_type": "stream",
          "name": "stderr",
          "text": [
            "100%|██████████| 7/7 [00:03<00:00,  1.79it/s]\n"
          ]
        },
        {
          "output_type": "stream",
          "name": "stdout",
          "text": [
            "Epoch: 95 Val Loss: 0.62824427 AUC: 0.81973435 \n",
            "[[0.76820571 0.23179429]\n",
            " [0.34206349 0.65793651]]\n"
          ]
        },
        {
          "output_type": "stream",
          "name": "stderr",
          "text": [
            "100%|██████████| 27/27 [00:29<00:00,  1.10s/it]\n"
          ]
        },
        {
          "output_type": "stream",
          "name": "stdout",
          "text": [
            "Epoch: 96 Train Loss: 0.52617354 AUC: 0.98529412 \n",
            "[[0.96120364 0.03879636]\n",
            " [0.1959621  0.8040379 ]]\n"
          ]
        },
        {
          "output_type": "stream",
          "name": "stderr",
          "text": [
            "100%|██████████| 7/7 [00:03<00:00,  1.82it/s]\n"
          ]
        },
        {
          "output_type": "stream",
          "name": "stdout",
          "text": [
            "Epoch: 96 Val Loss: 0.63219802 AUC: 0.79222011 \n",
            "[[0.76771617 0.23228383]\n",
            " [0.34040255 0.65959745]]\n"
          ]
        },
        {
          "output_type": "stream",
          "name": "stderr",
          "text": [
            "100%|██████████| 27/27 [00:29<00:00,  1.09s/it]\n"
          ]
        },
        {
          "output_type": "stream",
          "name": "stdout",
          "text": [
            "Epoch: 97 Train Loss: 0.52910043 AUC: 0.97718254 \n",
            "[[0.96142696 0.03857304]\n",
            " [0.19479968 0.80520032]]\n"
          ]
        },
        {
          "output_type": "stream",
          "name": "stderr",
          "text": [
            "100%|██████████| 7/7 [00:03<00:00,  1.83it/s]\n"
          ]
        },
        {
          "output_type": "stream",
          "name": "stdout",
          "text": [
            "Epoch: 97 Val Loss: 0.63139489 AUC: 0.82258065 \n",
            "[[0.76732855 0.23267145]\n",
            " [0.33896987 0.66103013]]\n"
          ]
        },
        {
          "output_type": "stream",
          "name": "stderr",
          "text": [
            "100%|██████████| 27/27 [00:29<00:00,  1.10s/it]\n"
          ]
        },
        {
          "output_type": "stream",
          "name": "stdout",
          "text": [
            "Epoch: 98 Train Loss: 0.52002753 AUC: 0.99315738 \n",
            "[[0.96174826 0.03825174]\n",
            " [0.19330042 0.80669958]]\n"
          ]
        },
        {
          "output_type": "stream",
          "name": "stderr",
          "text": [
            "100%|██████████| 7/7 [00:03<00:00,  1.83it/s]\n"
          ]
        },
        {
          "output_type": "stream",
          "name": "stdout",
          "text": [
            "Epoch: 98 Val Loss: 0.62297593 AUC: 0.82637571 \n",
            "[[0.76749477 0.23250523]\n",
            " [0.33809524 0.66190476]]\n"
          ]
        },
        {
          "output_type": "stream",
          "name": "stderr",
          "text": [
            "100%|██████████| 27/27 [00:29<00:00,  1.10s/it]\n"
          ]
        },
        {
          "output_type": "stream",
          "name": "stdout",
          "text": [
            "Epoch: 99 Train Loss: 0.52759457 AUC: 0.99022483 \n",
            "[[0.96193912 0.03806088]\n",
            " [0.19206897 0.80793103]]\n"
          ]
        },
        {
          "output_type": "stream",
          "name": "stderr",
          "text": [
            "100%|██████████| 7/7 [00:04<00:00,  1.75it/s]\n"
          ]
        },
        {
          "output_type": "stream",
          "name": "stdout",
          "text": [
            "Epoch: 99 Val Loss: 0.62619239 AUC: 0.86907021 \n",
            "[[0.76833333 0.23166667]\n",
            " [0.33842857 0.66157143]]\n"
          ]
        },
        {
          "output_type": "stream",
          "name": "stderr",
          "text": [
            "100%|██████████| 27/27 [00:29<00:00,  1.09s/it]\n"
          ]
        },
        {
          "output_type": "stream",
          "name": "stdout",
          "text": [
            "Epoch: 100 Train Loss: 0.52478683 AUC: 0.98916256 \n",
            "[[0.96223782 0.03776218]\n",
            " [0.19089721 0.80910279]]\n"
          ]
        },
        {
          "output_type": "stream",
          "name": "stderr",
          "text": [
            "100%|██████████| 7/7 [00:03<00:00,  1.78it/s]\n"
          ]
        },
        {
          "output_type": "stream",
          "name": "stdout",
          "text": [
            "Epoch: 100 Val Loss: 0.63423282 AUC: 0.85009488 \n",
            "[[0.76790652 0.23209348]\n",
            " [0.33719943 0.66280057]]\n"
          ]
        },
        {
          "output_type": "stream",
          "name": "stderr",
          "text": [
            "100%|██████████| 27/27 [00:29<00:00,  1.10s/it]\n"
          ]
        },
        {
          "output_type": "stream",
          "name": "stdout",
          "text": [
            "Epoch: 101 Train Loss: 0.52556358 AUC: 0.99487179 \n",
            "[[0.96244225 0.03755775]\n",
            " [0.1896202  0.8103798 ]]\n"
          ]
        },
        {
          "output_type": "stream",
          "name": "stderr",
          "text": [
            "100%|██████████| 7/7 [00:03<00:00,  1.77it/s]\n"
          ]
        },
        {
          "output_type": "stream",
          "name": "stdout",
          "text": [
            "Epoch: 101 Val Loss: 0.62461019 AUC: 0.87096774 \n",
            "[[0.76806218 0.23193782]\n",
            " [0.33646125 0.66353875]]\n"
          ]
        },
        {
          "output_type": "stream",
          "name": "stderr",
          "text": [
            "100%|██████████| 27/27 [00:29<00:00,  1.10s/it]\n"
          ]
        },
        {
          "output_type": "stream",
          "name": "stdout",
          "text": [
            "Epoch: 102 Train Loss: 0.52494442 AUC: 0.99313725 \n",
            "[[0.9626427  0.0373573 ]\n",
            " [0.18835644 0.81164356]]\n"
          ]
        },
        {
          "output_type": "stream",
          "name": "stderr",
          "text": [
            "100%|██████████| 7/7 [00:04<00:00,  1.72it/s]\n"
          ]
        },
        {
          "output_type": "stream",
          "name": "stdout",
          "text": [
            "Epoch: 102 Val Loss: 0.61906619 AUC: 0.86432638 \n",
            "[[0.76869588 0.23130412]\n",
            " [0.33615349 0.66384651]]\n"
          ]
        },
        {
          "output_type": "stream",
          "name": "stderr",
          "text": [
            "100%|██████████| 27/27 [00:29<00:00,  1.10s/it]\n"
          ]
        },
        {
          "output_type": "stream",
          "name": "stdout",
          "text": [
            "Epoch: 103 Train Loss: 0.52330060 AUC: 0.96182397 \n",
            "[[0.9628935  0.0371065 ]\n",
            " [0.18717415 0.81282585]]\n"
          ]
        },
        {
          "output_type": "stream",
          "name": "stderr",
          "text": [
            "100%|██████████| 7/7 [00:03<00:00,  1.78it/s]\n"
          ]
        },
        {
          "output_type": "stream",
          "name": "stdout",
          "text": [
            "Epoch: 103 Val Loss: 0.63606260 AUC: 0.84440228 \n",
            "[[0.76892758 0.23107242]\n",
            " [0.3360348  0.6639652 ]]\n"
          ]
        },
        {
          "output_type": "stream",
          "name": "stderr",
          "text": [
            "100%|██████████| 27/27 [00:29<00:00,  1.10s/it]\n"
          ]
        },
        {
          "output_type": "stream",
          "name": "stdout",
          "text": [
            "Epoch: 104 Train Loss: 0.52450748 AUC: 0.98898899 \n",
            "[[0.96310732 0.03689268]\n",
            " [0.18598041 0.81401959]]\n"
          ]
        },
        {
          "output_type": "stream",
          "name": "stderr",
          "text": [
            "100%|██████████| 7/7 [00:03<00:00,  1.79it/s]\n"
          ]
        },
        {
          "output_type": "stream",
          "name": "stdout",
          "text": [
            "Epoch: 104 Val Loss: 0.63733172 AUC: 0.84819734 \n",
            "[[0.76881167 0.23118833]\n",
            " [0.3354195  0.6645805 ]]\n"
          ]
        },
        {
          "output_type": "stream",
          "name": "stderr",
          "text": [
            "100%|██████████| 27/27 [00:29<00:00,  1.10s/it]\n"
          ]
        },
        {
          "output_type": "stream",
          "name": "stdout",
          "text": [
            "Epoch: 105 Train Loss: 0.52363192 AUC: 1.00000000 \n",
            "[[0.963349   0.036651  ]\n",
            " [0.18478675 0.81521325]]\n"
          ]
        },
        {
          "output_type": "stream",
          "name": "stderr",
          "text": [
            "100%|██████████| 7/7 [00:03<00:00,  1.77it/s]\n"
          ]
        },
        {
          "output_type": "stream",
          "name": "stdout",
          "text": [
            "Epoch: 105 Val Loss: 0.63766305 AUC: 0.81214421 \n",
            "[[0.76810301 0.23189699]\n",
            " [0.33378257 0.66621743]]\n"
          ]
        },
        {
          "output_type": "stream",
          "name": "stderr",
          "text": [
            " 70%|███████   | 19/27 [00:21<00:08,  1.05s/it]"
          ]
        }
      ]
    },
    {
      "cell_type": "code",
      "source": [
        "acc = train_auc\n",
        "val_acc = val_auc\n",
        "\n",
        "epochs   = range(1,len(acc)+1,1)\n",
        "\n",
        "plt.plot ( epochs,     acc, 'r--', label='Training acc'  )\n",
        "plt.plot ( epochs, val_acc,  'b', label='Validation acc')\n",
        "plt.title ('Training and validation accuracy')\n",
        "plt.ylabel('acc')\n",
        "plt.xlabel('epochs')\n",
        "\n",
        "plt.legend()\n",
        "plt.figure()"
      ],
      "metadata": {
        "id": "pSXKfHR7cSQV",
        "colab": {
          "base_uri": "https://localhost:8080/",
          "height": 330
        },
        "outputId": "cc7b2964-fc4c-4ab0-d223-0e45c81fb896"
      },
      "execution_count": null,
      "outputs": [
        {
          "output_type": "execute_result",
          "data": {
            "text/plain": [
              "<Figure size 432x288 with 0 Axes>"
            ]
          },
          "metadata": {},
          "execution_count": 19
        },
        {
          "output_type": "display_data",
          "data": {
            "text/plain": [
              "<Figure size 432x288 with 1 Axes>"
            ],
            "image/png": "[encoded data removed]"
          },
          "metadata": {
            "needs_background": "light"
          }
        },
        {
          "output_type": "display_data",
          "data": {
            "text/plain": [
              "<Figure size 432x288 with 0 Axes>"
            ]
          },
          "metadata": {}
        }
      ]
    },
    {
      "cell_type": "code",
      "source": [
        "acc = train_losses\n",
        "val_acc = test_losses\n",
        "\n",
        "epochs   = range(1,len(acc)+1,1)\n",
        "\n",
        "plt.plot ( epochs,     acc, 'r--', label='Training loss'  )\n",
        "plt.plot ( epochs, val_acc,  'b', label='Validation loss')\n",
        "plt.title ('Training and validation losses')\n",
        "plt.ylabel('loss')\n",
        "plt.xlabel('epochs')\n",
        "\n",
        "plt.legend()\n",
        "plt.figure()"
      ],
      "metadata": {
        "id": "O2TRhRtr3ILS",
        "colab": {
          "base_uri": "https://localhost:8080/",
          "height": 330
        },
        "outputId": "b97e88e7-3346-47c7-d053-b1267da7d470"
      },
      "execution_count": null,
      "outputs": [
        {
          "output_type": "execute_result",
          "data": {
            "text/plain": [
              "<Figure size 432x288 with 0 Axes>"
            ]
          },
          "metadata": {},
          "execution_count": 20
        },
        {
          "output_type": "display_data",
          "data": {
            "text/plain": [
              "<Figure size 432x288 with 1 Axes>"
            ],
            "image/png": "[encoded data removed]"
          },
          "metadata": {
            "needs_background": "light"
          }
        },
        {
          "output_type": "display_data",
          "data": {
            "text/plain": [
              "<Figure size 432x288 with 0 Axes>"
            ]
          },
          "metadata": {}
        }
      ]
    },
    {
      "cell_type": "code",
      "source": [
        "accuracy_dataframe = pd.DataFrame({\"train_auc\":train_auc, \"val_auc\":val_auc})\n",
        "accuracy_dataframe.to_csv(dataframes_path + \"Pesos Vgg16/AccuracyDataframe.csv\", index=False)\n",
        "losses_dataframe = pd.DataFrame({\"train_auc\":train_losses, \"val_auc\":test_losses})\n",
        "losses_dataframe.to_csv(dataframes_path +\"Pesos Vgg16/LossesDataFrame.csv\", index=False)"
      ],
      "metadata": {
        "id": "wa4dxNS23Ixn"
      },
      "execution_count": null,
      "outputs": []
    },
    {
      "cell_type": "code",
      "source": [
        "accuracy_dataframe.sort_values(by=['val_auc'], ascending=False)"
      ],
      "metadata": {
        "colab": {
          "base_uri": "https://localhost:8080/",
          "height": 424
        },
        "id": "SKP8lbPtnapc",
        "outputId": "c0093085-4f6b-4e23-b59d-e9dbeb4dda98"
      },
      "execution_count": null,
      "outputs": [
        {
          "output_type": "execute_result",
          "data": {
            "text/plain": [
              "     train_auc   val_auc\n",
              "102   0.947214  0.927894\n",
              "173   1.000000  0.918406\n",
              "175   0.975369  0.912713\n",
              "125   0.944118  0.909867\n",
              "157   0.985986  0.908918\n",
              "..         ...       ...\n",
              "22    0.850440  0.679317\n",
              "12    0.944444  0.677419\n",
              "4     0.878543  0.667932\n",
              "14    0.912109  0.652751\n",
              "0     0.693596  0.626186\n",
              "\n",
              "[200 rows x 2 columns]"
            ],
            "text/html": [
              "\n",
              "  <div id=\"df-a0579c7f-9c49-4af8-9807-163682d9fe9a\">\n",
              "    <div class=\"colab-df-container\">\n",
              "      <div>\n",
              "<style scoped>\n",
              "    .dataframe tbody tr th:only-of-type {\n",
              "        vertical-align: middle;\n",
              "    }\n",
              "\n",
              "    .dataframe tbody tr th {\n",
              "        vertical-align: top;\n",
              "    }\n",
              "\n",
              "    .dataframe thead th {\n",
              "        text-align: right;\n",
              "    }\n",
              "</style>\n",
              "<table border=\"1\" class=\"dataframe\">\n",
              "  <thead>\n",
              "    <tr style=\"text-align: right;\">\n",
              "      <th></th>\n",
              "      <th>train_auc</th>\n",
              "      <th>val_auc</th>\n",
              "    </tr>\n",
              "  </thead>\n",
              "  <tbody>\n",
              "    <tr>\n",
              "      <th>102</th>\n",
              "      <td>0.947214</td>\n",
              "      <td>0.927894</td>\n",
              "    </tr>\n",
              "    <tr>\n",
              "      <th>173</th>\n",
              "      <td>1.000000</td>\n",
              "      <td>0.918406</td>\n",
              "    </tr>\n",
              "    <tr>\n",
              "      <th>175</th>\n",
              "      <td>0.975369</td>\n",
              "      <td>0.912713</td>\n",
              "    </tr>\n",
              "    <tr>\n",
              "      <th>125</th>\n",
              "      <td>0.944118</td>\n",
              "      <td>0.909867</td>\n",
              "    </tr>\n",
              "    <tr>\n",
              "      <th>157</th>\n",
              "      <td>0.985986</td>\n",
              "      <td>0.908918</td>\n",
              "    </tr>\n",
              "    <tr>\n",
              "      <th>...</th>\n",
              "      <td>...</td>\n",
              "      <td>...</td>\n",
              "    </tr>\n",
              "    <tr>\n",
              "      <th>22</th>\n",
              "      <td>0.850440</td>\n",
              "      <td>0.679317</td>\n",
              "    </tr>\n",
              "    <tr>\n",
              "      <th>12</th>\n",
              "      <td>0.944444</td>\n",
              "      <td>0.677419</td>\n",
              "    </tr>\n",
              "    <tr>\n",
              "      <th>4</th>\n",
              "      <td>0.878543</td>\n",
              "      <td>0.667932</td>\n",
              "    </tr>\n",
              "    <tr>\n",
              "      <th>14</th>\n",
              "      <td>0.912109</td>\n",
              "      <td>0.652751</td>\n",
              "    </tr>\n",
              "    <tr>\n",
              "      <th>0</th>\n",
              "      <td>0.693596</td>\n",
              "      <td>0.626186</td>\n",
              "    </tr>\n",
              "  </tbody>\n",
              "</table>\n",
              "<p>200 rows × 2 columns</p>\n",
              "</div>\n",
              "      <button class=\"colab-df-convert\" onclick=\"convertToInteractive('df-a0579c7f-9c49-4af8-9807-163682d9fe9a')\"\n",
              "              title=\"Convert this dataframe to an interactive table.\"\n",
              "              style=\"display:none;\">\n",
              "        \n",
              "  <svg xmlns=\"http://www.w3.org/2000/svg\" height=\"24px\"viewBox=\"0 0 24 24\"\n",
              "       width=\"24px\">\n",
              "    <path d=\"M0 0h24v24H0V0z\" fill=\"none\"/>\n",
              "    <path d=\"M18.56 5.44l.94 2.06.94-2.06 2.06-.94-2.06-.94-.94-2.06-.94 2.06-2.06.94zm-11 1L8.5 8.5l.94-2.06 2.06-.94-2.06-.94L8.5 2.5l-.94 2.06-2.06.94zm10 10l.94 2.06.94-2.06 2.06-.94-2.06-.94-.94-2.06-.94 2.06-2.06.94z\"/><path d=\"M17.41 7.96l-1.37-1.37c-.4-.4-.92-.59-1.43-.59-.52 0-1.04.2-1.43.59L10.3 9.45l-7.72 7.72c-.78.78-.78 2.05 0 2.83L4 21.41c.39.39.9.59 1.41.59.51 0 1.02-.2 1.41-.59l7.78-7.78 2.81-2.81c.8-.78.8-2.07 0-2.86zM5.41 20L4 18.59l7.72-7.72 1.47 1.35L5.41 20z\"/>\n",
              "  </svg>\n",
              "      </button>\n",
              "      \n",
              "  <style>\n",
              "    .colab-df-container {\n",
              "      display:flex;\n",
              "      flex-wrap:wrap;\n",
              "      gap: 12px;\n",
              "    }\n",
              "\n",
              "    .colab-df-convert {\n",
              "      background-color: #E8F0FE;\n",
              "      border: none;\n",
              "      border-radius: 50%;\n",
              "      cursor: pointer;\n",
              "      display: none;\n",
              "      fill: #1967D2;\n",
              "      height: 32px;\n",
              "      padding: 0 0 0 0;\n",
              "      width: 32px;\n",
              "    }\n",
              "\n",
              "    .colab-df-convert:hover {\n",
              "      background-color: #E2EBFA;\n",
              "      box-shadow: 0px 1px 2px rgba(60, 64, 67, 0.3), 0px 1px 3px 1px rgba(60, 64, 67, 0.15);\n",
              "      fill: #174EA6;\n",
              "    }\n",
              "\n",
              "    [theme=dark] .colab-df-convert {\n",
              "      background-color: #3B4455;\n",
              "      fill: #D2E3FC;\n",
              "    }\n",
              "\n",
              "    [theme=dark] .colab-df-convert:hover {\n",
              "      background-color: #434B5C;\n",
              "      box-shadow: 0px 1px 3px 1px rgba(0, 0, 0, 0.15);\n",
              "      filter: drop-shadow(0px 1px 2px rgba(0, 0, 0, 0.3));\n",
              "      fill: #FFFFFF;\n",
              "    }\n",
              "  </style>\n",
              "\n",
              "      <script>\n",
              "        const buttonEl =\n",
              "          document.querySelector('#df-a0579c7f-9c49-4af8-9807-163682d9fe9a button.colab-df-convert');\n",
              "        buttonEl.style.display =\n",
              "          google.colab.kernel.accessAllowed ? 'block' : 'none';\n",
              "\n",
              "        async function convertToInteractive(key) {\n",
              "          const element = document.querySelector('#df-a0579c7f-9c49-4af8-9807-163682d9fe9a');\n",
              "          const dataTable =\n",
              "            await google.colab.kernel.invokeFunction('convertToInteractive',\n",
              "                                                     [key], {});\n",
              "          if (!dataTable) return;\n",
              "\n",
              "          const docLinkHtml = 'Like what you see? Visit the ' +\n",
              "            '<a target=\"_blank\" href=https://colab.research.google.com/notebooks/data_table.ipynb>data table notebook</a>'\n",
              "            + ' to learn more about interactive tables.';\n",
              "          element.innerHTML = '';\n",
              "          dataTable['output_type'] = 'display_data';\n",
              "          await google.colab.output.renderOutput(dataTable, element);\n",
              "          const docLink = document.createElement('div');\n",
              "          docLink.innerHTML = docLinkHtml;\n",
              "          element.appendChild(docLink);\n",
              "        }\n",
              "      </script>\n",
              "    </div>\n",
              "  </div>\n",
              "  "
            ]
          },
          "metadata": {},
          "execution_count": 23
        }
      ]
    },
    {
      "cell_type": "code",
      "source": [
        "# Batch size for training (change depending on how much memory you have)\n",
        "# You should use a power of 2.\n",
        "batch_size = 16"
      ],
      "metadata": {
        "id": "KL7-rhUdts9d"
      },
      "execution_count": null,
      "outputs": []
    },
    {
      "cell_type": "code",
      "source": [
        "model = Melanoma_Net(cnn_model_name = model_name, num_classes = num_classes) \n",
        "checkpoint = torch.load(dataframes_path + 'Pesos Vgg16/vgg16_weights_195.pt')\n",
        "# checkpoint = torch.load(dataframes_path + 'Pesos Vgg16/vgg16_weights_195.pt',map_location ='cpu')\n",
        "\n",
        "model.load_state_dict(checkpoint['state_dict'])\n",
        "\n",
        "device = torch.device(\"cuda:0\" if torch.cuda.is_available() else \"cpu\")\n",
        "#device = (\"cpu\")\n",
        "\n",
        "input_size = model.input_size \n",
        "dataloaders = get_dataloaders(input_size, batch_size, shuffle = shuffle_datasets) \n",
        "test_loader = dataloaders['test']\n",
        "\n",
        "if torch.cuda.is_available(): model.cuda()\n",
        "    \n",
        "model.eval()\n",
        "\n",
        "fn_list = [] \n",
        "pred_list = []\n",
        "\n",
        "for inputs, features, fn in test_loader: \n",
        "    inputs = inputs.to(device) \n",
        "    features = features.to(device) \n",
        "    output = model(inputs, features) \n",
        "    pred = (output > 0).type(torch.float64) \n",
        "    #print(pred)\n",
        "    fn_list += fn \n",
        "    pred_list += [p.item() for p in pred]"
      ],
      "metadata": {
        "id": "bjwy3n4i3NN6"
      },
      "execution_count": null,
      "outputs": []
    },
    {
      "cell_type": "code",
      "source": [
        "submission = pd.DataFrame({\"image_name\":fn_list, \"target\":pred_list})\n",
        "submission.to_csv(dataframes_path + \"Submission.csv\", index=False)"
      ],
      "metadata": {
        "id": "uB5JqTw53PQL"
      },
      "execution_count": null,
      "outputs": []
    },
    {
      "cell_type": "code",
      "source": [
        "df_test = pd.read_csv(dataframes_path + \"test.csv\")\n",
        "df_merge = pd.merge(df_test, submission, left_index=True, right_index=True)\n",
        "\n",
        "print(\"------------Matriz de confusión-------------------\")\n",
        "print(confusion_matrix(df_merge['target_x'], df_merge['target_y']))\n",
        "\n",
        "print(\"------------Exactitud-------------------\")\n",
        "print(accuracy_score(df_merge['target_x'], df_merge['target_y']))\n",
        "\n",
        "print(\"------------Precision-------------------\")\n",
        "print(precision_score(df_merge['target_x'], df_merge['target_y'], average='weighted'))\n",
        "print(precision_score(df_merge['target_x'], df_merge['target_y'], average=None))\n",
        "\n",
        "print(\"------------Sensibilidad-------------------\")\n",
        "print(recall_score(df_merge['target_x'], df_merge['target_y'], average='weighted'))\n",
        "print(recall_score(df_merge['target_x'], df_merge['target_y'], average=None))\n",
        "\n",
        "print(\"------------F1 score-------------------\")\n",
        "print(f1_score(df_merge['target_x'], df_merge['target_y'], average='weighted'))\n",
        "print(f1_score(df_merge['target_x'], df_merge['target_y'], average=None))"
      ],
      "metadata": {
        "id": "8EVEdp-p3QgA",
        "colab": {
          "base_uri": "https://localhost:8080/"
        },
        "outputId": "ecc7a496-ed2c-47cb-e826-112deb79e3a0"
      },
      "execution_count": null,
      "outputs": [
        {
          "output_type": "stream",
          "name": "stdout",
          "text": [
            "------------Matriz de confusión-------------------\n",
            "[[230  48]\n",
            " [ 68 195]]\n",
            "------------Exactitud-------------------\n",
            "0.7855822550831792\n",
            "------------Precision-------------------\n",
            "0.7867156027824604\n",
            "[0.77181208 0.80246914]\n",
            "------------Sensibilidad-------------------\n",
            "0.7855822550831792\n",
            "[0.82733813 0.74144487]\n",
            "------------F1 score-------------------\n",
            "0.7850672805366208\n",
            "[0.79861111 0.77075099]\n"
          ]
        }
      ]
    },
    {
      "cell_type": "code",
      "source": [
        ""
      ],
      "metadata": {
        "id": "Om9CsybPurds"
      },
      "execution_count": null,
      "outputs": []
    }
  ]
}